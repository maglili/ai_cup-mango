{
  "nbformat": 4,
  "nbformat_minor": 0,
  "metadata": {
    "colab": {
      "name": "c0-nn-crop-imbalance-oversampling.ipynb",
      "provenance": [],
      "collapsed_sections": [
        "v3vVEaPtzo3a",
        "mPSt5yHGzsjj",
        "7g7mtvbPmm3m",
        "g0vAtfUrvViV",
        "fYYnLGZwvsca",
        "GrzoLupVv7zU",
        "ETPZjCd__dYT",
        "Yhol5qo11yTL",
        "4-XSqzbMbkx6",
        "R8f1biQ5bnmq",
        "p3v-P-sqBy7j"
      ]
    },
    "kernelspec": {
      "name": "python3",
      "display_name": "Python 3"
    },
    "accelerator": "GPU",
    "widgets": {
      "application/vnd.jupyter.widget-state+json": {
        "d349f003ae244243b47fe864db245441": {
          "model_module": "@jupyter-widgets/controls",
          "model_name": "HBoxModel",
          "state": {
            "_view_name": "HBoxView",
            "_dom_classes": [],
            "_model_name": "HBoxModel",
            "_view_module": "@jupyter-widgets/controls",
            "_model_module_version": "1.5.0",
            "_view_count": null,
            "_view_module_version": "1.5.0",
            "box_style": "",
            "layout": "IPY_MODEL_200ad72f83634eb9bf44413eb1d105ef",
            "_model_module": "@jupyter-widgets/controls",
            "children": [
              "IPY_MODEL_10988f9acc96408bad841a4286cb1309",
              "IPY_MODEL_085583a67996496788165122d87cd587"
            ]
          }
        },
        "200ad72f83634eb9bf44413eb1d105ef": {
          "model_module": "@jupyter-widgets/base",
          "model_name": "LayoutModel",
          "state": {
            "_view_name": "LayoutView",
            "grid_template_rows": null,
            "right": null,
            "justify_content": null,
            "_view_module": "@jupyter-widgets/base",
            "overflow": null,
            "_model_module_version": "1.2.0",
            "_view_count": null,
            "flex_flow": null,
            "width": null,
            "min_width": null,
            "border": null,
            "align_items": null,
            "bottom": null,
            "_model_module": "@jupyter-widgets/base",
            "top": null,
            "grid_column": null,
            "overflow_y": null,
            "overflow_x": null,
            "grid_auto_flow": null,
            "grid_area": null,
            "grid_template_columns": null,
            "flex": null,
            "_model_name": "LayoutModel",
            "justify_items": null,
            "grid_row": null,
            "max_height": null,
            "align_content": null,
            "visibility": null,
            "align_self": null,
            "height": null,
            "min_height": null,
            "padding": null,
            "grid_auto_rows": null,
            "grid_gap": null,
            "max_width": null,
            "order": null,
            "_view_module_version": "1.2.0",
            "grid_template_areas": null,
            "object_position": null,
            "object_fit": null,
            "grid_auto_columns": null,
            "margin": null,
            "display": null,
            "left": null
          }
        },
        "10988f9acc96408bad841a4286cb1309": {
          "model_module": "@jupyter-widgets/controls",
          "model_name": "FloatProgressModel",
          "state": {
            "_view_name": "ProgressView",
            "style": "IPY_MODEL_eabc1b63c2934c55ab09bb18e1142db6",
            "_dom_classes": [],
            "description": "100%",
            "_model_name": "FloatProgressModel",
            "bar_style": "success",
            "max": 50,
            "_view_module": "@jupyter-widgets/controls",
            "_model_module_version": "1.5.0",
            "value": 50,
            "_view_count": null,
            "_view_module_version": "1.5.0",
            "orientation": "horizontal",
            "min": 0,
            "description_tooltip": null,
            "_model_module": "@jupyter-widgets/controls",
            "layout": "IPY_MODEL_0120f1536b2b496d812306998586978c"
          }
        },
        "085583a67996496788165122d87cd587": {
          "model_module": "@jupyter-widgets/controls",
          "model_name": "HTMLModel",
          "state": {
            "_view_name": "HTMLView",
            "style": "IPY_MODEL_8ea98fd54bf242dba5b190fd03e130b0",
            "_dom_classes": [],
            "description": "",
            "_model_name": "HTMLModel",
            "placeholder": "​",
            "_view_module": "@jupyter-widgets/controls",
            "_model_module_version": "1.5.0",
            "value": " 50/50 [06:02&lt;00:00,  7.26s/it]",
            "_view_count": null,
            "_view_module_version": "1.5.0",
            "description_tooltip": null,
            "_model_module": "@jupyter-widgets/controls",
            "layout": "IPY_MODEL_6c6b5ab4cb054f558da800bd343adb4e"
          }
        },
        "eabc1b63c2934c55ab09bb18e1142db6": {
          "model_module": "@jupyter-widgets/controls",
          "model_name": "ProgressStyleModel",
          "state": {
            "_view_name": "StyleView",
            "_model_name": "ProgressStyleModel",
            "description_width": "initial",
            "_view_module": "@jupyter-widgets/base",
            "_model_module_version": "1.5.0",
            "_view_count": null,
            "_view_module_version": "1.2.0",
            "bar_color": null,
            "_model_module": "@jupyter-widgets/controls"
          }
        },
        "0120f1536b2b496d812306998586978c": {
          "model_module": "@jupyter-widgets/base",
          "model_name": "LayoutModel",
          "state": {
            "_view_name": "LayoutView",
            "grid_template_rows": null,
            "right": null,
            "justify_content": null,
            "_view_module": "@jupyter-widgets/base",
            "overflow": null,
            "_model_module_version": "1.2.0",
            "_view_count": null,
            "flex_flow": null,
            "width": null,
            "min_width": null,
            "border": null,
            "align_items": null,
            "bottom": null,
            "_model_module": "@jupyter-widgets/base",
            "top": null,
            "grid_column": null,
            "overflow_y": null,
            "overflow_x": null,
            "grid_auto_flow": null,
            "grid_area": null,
            "grid_template_columns": null,
            "flex": null,
            "_model_name": "LayoutModel",
            "justify_items": null,
            "grid_row": null,
            "max_height": null,
            "align_content": null,
            "visibility": null,
            "align_self": null,
            "height": null,
            "min_height": null,
            "padding": null,
            "grid_auto_rows": null,
            "grid_gap": null,
            "max_width": null,
            "order": null,
            "_view_module_version": "1.2.0",
            "grid_template_areas": null,
            "object_position": null,
            "object_fit": null,
            "grid_auto_columns": null,
            "margin": null,
            "display": null,
            "left": null
          }
        },
        "8ea98fd54bf242dba5b190fd03e130b0": {
          "model_module": "@jupyter-widgets/controls",
          "model_name": "DescriptionStyleModel",
          "state": {
            "_view_name": "StyleView",
            "_model_name": "DescriptionStyleModel",
            "description_width": "",
            "_view_module": "@jupyter-widgets/base",
            "_model_module_version": "1.5.0",
            "_view_count": null,
            "_view_module_version": "1.2.0",
            "_model_module": "@jupyter-widgets/controls"
          }
        },
        "6c6b5ab4cb054f558da800bd343adb4e": {
          "model_module": "@jupyter-widgets/base",
          "model_name": "LayoutModel",
          "state": {
            "_view_name": "LayoutView",
            "grid_template_rows": null,
            "right": null,
            "justify_content": null,
            "_view_module": "@jupyter-widgets/base",
            "overflow": null,
            "_model_module_version": "1.2.0",
            "_view_count": null,
            "flex_flow": null,
            "width": null,
            "min_width": null,
            "border": null,
            "align_items": null,
            "bottom": null,
            "_model_module": "@jupyter-widgets/base",
            "top": null,
            "grid_column": null,
            "overflow_y": null,
            "overflow_x": null,
            "grid_auto_flow": null,
            "grid_area": null,
            "grid_template_columns": null,
            "flex": null,
            "_model_name": "LayoutModel",
            "justify_items": null,
            "grid_row": null,
            "max_height": null,
            "align_content": null,
            "visibility": null,
            "align_self": null,
            "height": null,
            "min_height": null,
            "padding": null,
            "grid_auto_rows": null,
            "grid_gap": null,
            "max_width": null,
            "order": null,
            "_view_module_version": "1.2.0",
            "grid_template_areas": null,
            "object_position": null,
            "object_fit": null,
            "grid_auto_columns": null,
            "margin": null,
            "display": null,
            "left": null
          }
        }
      }
    }
  },
  "cells": [
    {
      "cell_type": "markdown",
      "metadata": {
        "id": "v3vVEaPtzo3a"
      },
      "source": [
        "# Colab\r\n",
        "\r\n",
        "- 將 baseline 的下游從 svm 轉換為 nn。\r\n",
        "- 訓練練資料的正負資料集不平衡。\r\n",
        "- cross entropy + weight\r\n",
        "- 圖片被裁切成數個小bbox"
      ]
    },
    {
      "cell_type": "code",
      "metadata": {
        "colab": {
          "base_uri": "https://localhost:8080/"
        },
        "id": "oGMVVcWJzbAi",
        "outputId": "06187b3f-8161-47a3-9a9c-207658552692"
      },
      "source": [
        "cd /content/drive/MyDrive/Projects/AI_CUP-Mango"
      ],
      "execution_count": null,
      "outputs": [
        {
          "output_type": "stream",
          "text": [
            "/content/drive/MyDrive/Projects/AI_CUP-Mango\n"
          ],
          "name": "stdout"
        }
      ]
    },
    {
      "cell_type": "code",
      "metadata": {
        "colab": {
          "base_uri": "https://localhost:8080/"
        },
        "id": "7PZhH4L_zgE6",
        "outputId": "9386d6cc-564a-40d8-9e1a-2bed975ee5b2"
      },
      "source": [
        "pwd"
      ],
      "execution_count": null,
      "outputs": [
        {
          "output_type": "execute_result",
          "data": {
            "application/vnd.google.colaboratory.intrinsic+json": {
              "type": "string"
            },
            "text/plain": [
              "'/content/drive/MyDrive/Projects/AI_CUP-Mango'"
            ]
          },
          "metadata": {
            "tags": []
          },
          "execution_count": 4
        }
      ]
    },
    {
      "cell_type": "markdown",
      "metadata": {
        "id": "mPSt5yHGzsjj"
      },
      "source": [
        "# Preparing data"
      ]
    },
    {
      "cell_type": "code",
      "metadata": {
        "id": "oYQWpqkZzKvX"
      },
      "source": [
        "import numpy as np\r\n",
        "from PIL import Image\r\n",
        "from tqdm.notebook import tqdm\r\n",
        "import pickle \r\n",
        "import matplotlib.pylab as plt # plot module\r\n",
        "\r\n",
        "from sklearn.utils import shuffle\r\n",
        "from sklearn.metrics import f1_score\r\n",
        "from sklearn import metrics\r\n",
        "\r\n",
        "import torch\r\n",
        "import torch.nn.functional as F\r\n",
        "from torch.utils.data import Dataset, DataLoader\r\n",
        "import torch.nn as nn\r\n",
        "from torchvision import transforms\r\n",
        "import torchvision.models as models"
      ],
      "execution_count": null,
      "outputs": []
    },
    {
      "cell_type": "code",
      "metadata": {
        "colab": {
          "base_uri": "https://localhost:8080/"
        },
        "id": "tmeilzOhzTaS",
        "outputId": "4159576c-94d3-4bed-aac2-791e3fc33516"
      },
      "source": [
        "if torch.cuda.is_available():\r\n",
        "  device = torch.device('cuda:0')\r\n",
        "  print('GPU is avalible.')\r\n",
        "  print('Working on:', torch.cuda.get_device_name())\r\n",
        "else:\r\n",
        "  device = torch.device('cpu')\r\n",
        "  print('GPU is not avalible.')\r\n",
        "  print('Working on CPU')"
      ],
      "execution_count": null,
      "outputs": [
        {
          "output_type": "stream",
          "text": [
            "GPU is avalible.\n",
            "Working on: Tesla T4\n"
          ],
          "name": "stdout"
        }
      ]
    },
    {
      "cell_type": "code",
      "metadata": {
        "id": "fmGwVE0blIwN"
      },
      "source": [
        "with open('/content/drive/MyDrive/Projects/AI_CUP-Mango/processed_data/train_feature.pkl', 'rb') as f:\r\n",
        "    train_feature = pickle.load(f)\r\n",
        "\r\n",
        "with open('/content/drive/MyDrive/Projects/AI_CUP-Mango/processed_data/dev_feature.pkl', 'rb') as f:\r\n",
        "    dev_feature = pickle.load(f)"
      ],
      "execution_count": null,
      "outputs": []
    },
    {
      "cell_type": "code",
      "metadata": {
        "colab": {
          "base_uri": "https://localhost:8080/"
        },
        "id": "7A2E6Fe_uzum",
        "outputId": "30f9cd20-527a-4622-acf1-0006c885c0cd"
      },
      "source": [
        "print('len of train_feature:',len(train_feature))\r\n",
        "print('len of dev_feature:',len(dev_feature))"
      ],
      "execution_count": null,
      "outputs": [
        {
          "output_type": "stream",
          "text": [
            "len of train_feature: 53686\n",
            "len of dev_feature: 6280\n"
          ],
          "name": "stdout"
        }
      ]
    },
    {
      "cell_type": "code",
      "metadata": {
        "colab": {
          "base_uri": "https://localhost:8080/"
        },
        "id": "oChNVxNG_dUl",
        "outputId": "00cdb8f0-a1ea-440c-9b3d-6a268b9d6d0b"
      },
      "source": [
        "train_feature[0]"
      ],
      "execution_count": null,
      "outputs": [
        {
          "output_type": "execute_result",
          "data": {
            "text/plain": [
              "(array([[-0.36619186,  3.855804  , -1.0808722 , ...,  2.697764  ,\n",
              "          0.8293335 ,  2.7811754 ]], dtype=float32), tensor([0]))"
            ]
          },
          "metadata": {
            "tags": []
          },
          "execution_count": 10
        }
      ]
    },
    {
      "cell_type": "markdown",
      "metadata": {
        "id": "7g7mtvbPmm3m"
      },
      "source": [
        "## Spliting 5 stacks"
      ]
    },
    {
      "cell_type": "markdown",
      "metadata": {
        "id": "ruyaf4OLmst7"
      },
      "source": [
        "train data set"
      ]
    },
    {
      "cell_type": "code",
      "metadata": {
        "id": "PGYw9mdHmqyg"
      },
      "source": [
        "c0_pos = []\r\n",
        "c0_neg = []"
      ],
      "execution_count": null,
      "outputs": []
    },
    {
      "cell_type": "code",
      "metadata": {
        "id": "jMDc_f3MvHii"
      },
      "source": [
        "for img, label in train_feature:\r\n",
        "    img = img[0]\r\n",
        "    label = label[0].item()\r\n",
        "    if label == 1:\r\n",
        "        c0_pos.append((img,torch.tensor(1)))\r\n",
        "    else:\r\n",
        "        c0_neg.append((img,torch.tensor(0)))"
      ],
      "execution_count": null,
      "outputs": []
    },
    {
      "cell_type": "code",
      "metadata": {
        "colab": {
          "base_uri": "https://localhost:8080/"
        },
        "id": "npGctACIAb5M",
        "outputId": "a695db27-0fbc-44f2-f65f-76c11f86dac9"
      },
      "source": [
        "len(c0_pos)"
      ],
      "execution_count": null,
      "outputs": [
        {
          "output_type": "execute_result",
          "data": {
            "text/plain": [
              "12895"
            ]
          },
          "metadata": {
            "tags": []
          },
          "execution_count": 49
        }
      ]
    },
    {
      "cell_type": "code",
      "metadata": {
        "colab": {
          "base_uri": "https://localhost:8080/"
        },
        "id": "dlpzf9EoAkQ3",
        "outputId": "7d8410d3-2236-4912-cc3f-69df28ee4ab7"
      },
      "source": [
        "len(c0_neg)"
      ],
      "execution_count": null,
      "outputs": [
        {
          "output_type": "execute_result",
          "data": {
            "text/plain": [
              "40791"
            ]
          },
          "metadata": {
            "tags": []
          },
          "execution_count": 50
        }
      ]
    },
    {
      "cell_type": "markdown",
      "metadata": {
        "id": "3JO-g_PvvMTm"
      },
      "source": [
        "Dev data set"
      ]
    },
    {
      "cell_type": "code",
      "metadata": {
        "id": "dlGzQKlZvLWq"
      },
      "source": [
        "c0_pos_dev = []\r\n",
        "c0_neg_dev = []"
      ],
      "execution_count": null,
      "outputs": []
    },
    {
      "cell_type": "code",
      "metadata": {
        "id": "w42D9y5gvPVJ"
      },
      "source": [
        "for img, label in dev_feature:\r\n",
        "    img = img[0]\r\n",
        "    label = label[0].item()\r\n",
        "    if label == 1:\r\n",
        "        c0_pos_dev.append((img,torch.tensor(1)))\r\n",
        "    else:\r\n",
        "        c0_neg_dev.append((img,torch.tensor(0)))"
      ],
      "execution_count": null,
      "outputs": []
    },
    {
      "cell_type": "code",
      "metadata": {
        "colab": {
          "base_uri": "https://localhost:8080/"
        },
        "id": "a6S89zoiAxbm",
        "outputId": "2879407f-0471-4c8e-8d15-85c2b848bace"
      },
      "source": [
        "len(c0_pos_dev)"
      ],
      "execution_count": null,
      "outputs": [
        {
          "output_type": "execute_result",
          "data": {
            "text/plain": [
              "391"
            ]
          },
          "metadata": {
            "tags": []
          },
          "execution_count": 54
        }
      ]
    },
    {
      "cell_type": "code",
      "metadata": {
        "colab": {
          "base_uri": "https://localhost:8080/"
        },
        "id": "wFp-FcrDAyyu",
        "outputId": "e23224a0-c11c-49b9-e111-8a7214a22523"
      },
      "source": [
        "len(c0_neg_dev)"
      ],
      "execution_count": null,
      "outputs": [
        {
          "output_type": "execute_result",
          "data": {
            "text/plain": [
              "5889"
            ]
          },
          "metadata": {
            "tags": []
          },
          "execution_count": 55
        }
      ]
    },
    {
      "cell_type": "code",
      "metadata": {
        "colab": {
          "base_uri": "https://localhost:8080/"
        },
        "id": "OtmK7E06vSJy",
        "outputId": "86666137-d9ed-4fc3-b8d1-fd3186273a8f"
      },
      "source": [
        "print('Train:')\r\n",
        "print('c0: pos= {:<5}  neg= {:<5}  sum= {:<5}'.format(len(c0_pos), len(c0_neg), len(c0_pos)+len(c0_neg)))\r\n",
        "print()\r\n",
        "\r\n",
        "print('Dev:')\r\n",
        "print('c0: pos= {:<5}  neg= {:<5}  sum= {:<5}'.format(len(c0_pos_dev), len(c0_neg_dev), len(c0_pos_dev)+len(c0_neg_dev)))\r\n"
      ],
      "execution_count": null,
      "outputs": [
        {
          "output_type": "stream",
          "text": [
            "Train:\n",
            "c0: pos= 12895  neg= 40791  sum= 53686\n",
            "\n",
            "Dev:\n",
            "c0: pos= 391    neg= 5889   sum= 6280 \n"
          ],
          "name": "stdout"
        }
      ]
    },
    {
      "cell_type": "markdown",
      "metadata": {
        "id": "g0vAtfUrvViV"
      },
      "source": [
        "## Combining pos and net data"
      ]
    },
    {
      "cell_type": "code",
      "metadata": {
        "id": "ge7Q20wVvUBI"
      },
      "source": [
        "def data_list(pos_list, neg_list):\r\n",
        "    \"\"\"\r\n",
        "    把正負資料合併並打散後，輸出資料\r\n",
        "    \"\"\"\r\n",
        "    pos = pos_list\r\n",
        "    neg = neg_list\r\n",
        "    output = pos + neg        \r\n",
        "    output = shuffle(output, random_state=0)\r\n",
        "    return output"
      ],
      "execution_count": null,
      "outputs": []
    },
    {
      "cell_type": "code",
      "metadata": {
        "id": "1efREcL3vkrf"
      },
      "source": [
        "c0 = data_list(c0_pos, c0_neg)\r\n",
        "c0_dev = data_list(c0_pos_dev, c0_neg_dev)"
      ],
      "execution_count": null,
      "outputs": []
    },
    {
      "cell_type": "code",
      "metadata": {
        "colab": {
          "base_uri": "https://localhost:8080/"
        },
        "id": "k5CeXc11ChCz",
        "outputId": "5c989901-9f3b-45aa-bf3a-b22c9d5ff938"
      },
      "source": [
        "c0[0]"
      ],
      "execution_count": null,
      "outputs": [
        {
          "output_type": "execute_result",
          "data": {
            "text/plain": [
              "(array([-1.0923395 ,  2.3388374 , -2.903381  , ..., -1.0144905 ,\n",
              "         0.97236896, -0.68495095], dtype=float32), tensor(0))"
            ]
          },
          "metadata": {
            "tags": []
          },
          "execution_count": 85
        }
      ]
    },
    {
      "cell_type": "markdown",
      "metadata": {
        "id": "fYYnLGZwvsca"
      },
      "source": [
        "## Check label balance"
      ]
    },
    {
      "cell_type": "code",
      "metadata": {
        "id": "Fgc7qAVXvsBJ"
      },
      "source": [
        "def check_balance(data):\r\n",
        "    \"\"\"\r\n",
        "    檢查資料數量是否一致\r\n",
        "    \"\"\"\r\n",
        "    pos=0\r\n",
        "    neg=0\r\n",
        "    for i,j in data:\r\n",
        "        if j == 1:\r\n",
        "            pos += 1\r\n",
        "        else:\r\n",
        "            neg += 1\r\n",
        "    print('pos:',pos)\r\n",
        "    print('neg:',neg)\r\n",
        "    print('sum:',pos+neg)"
      ],
      "execution_count": null,
      "outputs": []
    },
    {
      "cell_type": "code",
      "metadata": {
        "colab": {
          "base_uri": "https://localhost:8080/"
        },
        "id": "EwYu2YUDvxqO",
        "outputId": "d5ff4d6b-9be0-4663-f46a-4cf690b83052"
      },
      "source": [
        "print('Train:')\r\n",
        "print()\r\n",
        "for i in [c0]:\r\n",
        "    check_balance(i)\r\n",
        "    print('-'*10)"
      ],
      "execution_count": null,
      "outputs": [
        {
          "output_type": "stream",
          "text": [
            "Train:\n",
            "\n",
            "pos: 12895\n",
            "neg: 40791\n",
            "sum: 53686\n",
            "----------\n"
          ],
          "name": "stdout"
        }
      ]
    },
    {
      "cell_type": "code",
      "metadata": {
        "colab": {
          "base_uri": "https://localhost:8080/"
        },
        "id": "i5Z2Scohv0nH",
        "outputId": "18f2d07a-e60b-499b-b44e-3fd5d8fa8997"
      },
      "source": [
        "print('Dev:')\r\n",
        "print()\r\n",
        "for i in [c0_dev]:\r\n",
        "    check_balance(i)\r\n",
        "    print('-'*10)"
      ],
      "execution_count": null,
      "outputs": [
        {
          "output_type": "stream",
          "text": [
            "Dev:\n",
            "\n",
            "pos: 391\n",
            "neg: 5889\n",
            "sum: 6280\n",
            "----------\n"
          ],
          "name": "stdout"
        }
      ]
    },
    {
      "cell_type": "markdown",
      "metadata": {
        "id": "GrzoLupVv7zU"
      },
      "source": [
        "## Splitting features and labels"
      ]
    },
    {
      "cell_type": "code",
      "metadata": {
        "id": "xc1mlifAv7La"
      },
      "source": [
        "def split_x_y(data):\r\n",
        "    \"\"\"\r\n",
        "    把資料中的 feature 跟 label 分離\r\n",
        "    \"\"\"\r\n",
        "    X=[]\r\n",
        "    y=[]\r\n",
        "    for i,j in data:\r\n",
        "        X.append(i)\r\n",
        "        y.append(j)\r\n",
        "    return X,y"
      ],
      "execution_count": null,
      "outputs": []
    },
    {
      "cell_type": "code",
      "metadata": {
        "id": "0W6DEYPFv-tF"
      },
      "source": [
        "c0_X, c0_y = split_x_y(c0)"
      ],
      "execution_count": null,
      "outputs": []
    },
    {
      "cell_type": "code",
      "metadata": {
        "id": "a3oQ80nxwA6A"
      },
      "source": [
        "c0_X_dev, c0_y_dev = split_x_y(c0_dev)"
      ],
      "execution_count": null,
      "outputs": []
    },
    {
      "cell_type": "markdown",
      "metadata": {
        "id": "pep-PzNb_U-g"
      },
      "source": [
        "## Function for calc metrics"
      ]
    },
    {
      "cell_type": "code",
      "metadata": {
        "id": "Jl1AO8KIzT_T"
      },
      "source": [
        "def calc_metrics(train=True):\r\n",
        "    if train:\r\n",
        "        (TP, FP, TN, FN) = useful_stuff['train_metric'][-1]\r\n",
        "        print('[Train]Total sample: {}'.format(TP+FP+TN+FN))\r\n",
        "    else:\r\n",
        "        (TP, FP, TN, FN) = useful_stuff['valid_metric'][-1]\r\n",
        "        print('[Dev]Total sample: {}'.format(TP+FP+TN+FN))\r\n",
        "\r\n",
        "    acc = (TP + TN) / (TP + FP + TN + FN)\r\n",
        "\r\n",
        "    recall = TP / (TP + FN) #召回率是在所有正樣本當中，能夠預測多少正樣本的比例\r\n",
        "    specificity = TN / (TN + FP) #特異度是在所有負樣本當中，能夠預測多少負樣本的比例\r\n",
        "\r\n",
        "    precision = TP / (TP + FP) #準確率為在所有預測為正樣本中，有多少為正樣本\r\n",
        "\r\n",
        "    f1 = (2 * recall * precision ) / (recall + precision) #F1-score則是兩者的調和平均數\r\n",
        "    mcc = ( TP*TN - FP*FN ) / np.sqrt( ((TP+FP)*(TP+FN)*(TN+FP)*(TN+FN)) )\r\n",
        "\r\n",
        "    print('TP:',TP)\r\n",
        "    print('FP:',FP)\r\n",
        "    print('TN:',TN)\r\n",
        "    print('FN:',FN)\r\n",
        "    print()\r\n",
        "    print('acc:', acc)\r\n",
        "    print('recall:', recall)\r\n",
        "    print('specificity:', specificity)\r\n",
        "    print('precision:', precision)\r\n",
        "    print('f1:',f1)\r\n",
        "    print('mcc:',mcc)"
      ],
      "execution_count": null,
      "outputs": []
    },
    {
      "cell_type": "markdown",
      "metadata": {
        "id": "LQh1sMDaz_pK"
      },
      "source": [
        "# class 0"
      ]
    },
    {
      "cell_type": "markdown",
      "metadata": {
        "id": "ETPZjCd__dYT"
      },
      "source": [
        "## dataset"
      ]
    },
    {
      "cell_type": "code",
      "metadata": {
        "id": "byp8Vlrcz-li"
      },
      "source": [
        "class Data(Dataset):\r\n",
        "    def __init__(self, x_list, y_list):\r\n",
        "        self.x_list = x_list\r\n",
        "        self.y_list = y_list\r\n",
        "    \r\n",
        "    def __getitem__(self, idx):\r\n",
        "        x = torch.from_numpy(self.x_list[idx])\r\n",
        "        y = self.y_list[idx]\r\n",
        "\r\n",
        "        return x, y\r\n",
        "\r\n",
        "    def __len__(self):\r\n",
        "        return len(self.x_list)"
      ],
      "execution_count": null,
      "outputs": []
    },
    {
      "cell_type": "code",
      "metadata": {
        "id": "cig0RoXbivTI"
      },
      "source": [
        "train_set_c0 = Data(c0_X, c0_y)\r\n",
        "dev_set_c0 = Data(c0_X_dev, c0_y_dev)"
      ],
      "execution_count": null,
      "outputs": []
    },
    {
      "cell_type": "code",
      "metadata": {
        "colab": {
          "base_uri": "https://localhost:8080/"
        },
        "id": "o71HQa1ACC6I",
        "outputId": "3c8948f3-ea7e-45d9-f9c2-dc1784185132"
      },
      "source": [
        "train_set_c0[0]"
      ],
      "execution_count": null,
      "outputs": [
        {
          "output_type": "execute_result",
          "data": {
            "text/plain": [
              "(tensor([-1.0923,  2.3388, -2.9034,  ..., -1.0145,  0.9724, -0.6850]),\n",
              " tensor(0))"
            ]
          },
          "metadata": {
            "tags": []
          },
          "execution_count": 87
        }
      ]
    },
    {
      "cell_type": "code",
      "metadata": {
        "colab": {
          "base_uri": "https://localhost:8080/"
        },
        "id": "JHsm34zyCZnd",
        "outputId": "9da1e198-eef3-438c-9a24-ecd147c0d916"
      },
      "source": [
        "dev_set_c0[0]"
      ],
      "execution_count": null,
      "outputs": [
        {
          "output_type": "execute_result",
          "data": {
            "text/plain": [
              "(tensor([-2.1443,  2.3556, -2.9692,  ..., -1.2243,  0.3670, -0.9317]),\n",
              " tensor(0))"
            ]
          },
          "metadata": {
            "tags": []
          },
          "execution_count": 83
        }
      ]
    },
    {
      "cell_type": "markdown",
      "metadata": {
        "id": "Yhol5qo11yTL"
      },
      "source": [
        "## model"
      ]
    },
    {
      "cell_type": "markdown",
      "metadata": {
        "id": "2ORLqawP0whG"
      },
      "source": [
        "### Prepare"
      ]
    },
    {
      "cell_type": "code",
      "metadata": {
        "id": "Optk7jpJ3Lys"
      },
      "source": [
        " def train(model, train_loader, cv_loader, optimizer, N_train, N_test, epochs=20):\r\n",
        " \r\n",
        "    useful_stuff = {'train_cost':[], 'train_acc':[], 'valid_cost':[], 'valid_acc':[], 'train_metric':[], 'valid_metric':[]} \r\n",
        "\r\n",
        "    for epoch in tqdm(range(epochs)):\r\n",
        "        #training===========================================\r\n",
        "        model.train() # Switch to train mode\r\n",
        "        correct = 0\r\n",
        "        training_loss=[]\r\n",
        "        TP = FP = TN = FN = 0\r\n",
        "\r\n",
        "        for x, y in train_loader:\r\n",
        "            x, y = x.to(device), y.to(device)\r\n",
        "            optimizer.zero_grad()\r\n",
        "            z = model(x)\r\n",
        "            _, yhat = torch.max(z.data, 1)\r\n",
        "            correct += (yhat == y).sum().item()\r\n",
        "            loss = criterion(z, y)\r\n",
        "            loss.backward()\r\n",
        "            optimizer.step()\r\n",
        "            training_loss.append(loss.data.item())\r\n",
        "\r\n",
        "            # calu metric\r\n",
        "            TP += ((yhat == 1) & (y == 1)).sum().item()\r\n",
        "            FP += ((yhat == 1) & (y == 0)).sum().item()\r\n",
        "            TN += ((yhat == 0) & (y == 0)).sum().item()\r\n",
        "            FN += ((yhat == 0) & (y == 1)).sum().item()       \r\n",
        "\r\n",
        "        useful_stuff['train_cost'].append(np.mean(training_loss))\r\n",
        "        useful_stuff['train_acc'].append(correct / N_train)\r\n",
        "        useful_stuff['train_metric'].append((TP, FP, TN, FN))\r\n",
        "\r\n",
        "        #print('[epoch {}]'.format(epoch))\r\n",
        "        #print('train_acc:',correct / N_train)\r\n",
        "        #print('train_loss:',np.mean(training_loss))\r\n",
        "        #print()\r\n",
        "\r\n",
        "        #valid==================================================\r\n",
        "        model.eval() # Switch to train mode\r\n",
        "        correct = 0\r\n",
        "        cv_loss=[]\r\n",
        "        TP = FP = TN = FN = 0\r\n",
        "\r\n",
        "        with torch.no_grad():\r\n",
        "          for x_test, y_test in cv_loader:\r\n",
        "            x_test, y_test = x_test.to(device), y_test.to(device)\r\n",
        "            z = model(x_test)\r\n",
        "            _, yhat = torch.max(z.data, 1)\r\n",
        "            correct += (yhat == y_test).sum().item()\r\n",
        "            loss = criterion(z, y_test)         \r\n",
        "            cv_loss.append(loss.data.item())\r\n",
        "\r\n",
        "            # calu metric\r\n",
        "            TP += ((yhat == 1) & (y_test == 1)).sum().item()\r\n",
        "            FP += ((yhat == 1) & (y_test == 0)).sum().item()\r\n",
        "            TN += ((yhat == 0) & (y_test == 0)).sum().item()\r\n",
        "            FN += ((yhat == 0) & (y_test == 1)).sum().item() \r\n",
        "\r\n",
        "          useful_stuff['valid_cost'].append(np.mean(cv_loss))\r\n",
        "          useful_stuff['valid_acc'].append(correct / N_test)\r\n",
        "          useful_stuff['valid_metric'].append((TP, FP, TN, FN))\r\n",
        "\r\n",
        "        #print('train_acc:',correct / N_test)\r\n",
        "        #print('train_loss:',np.mean(np.mean(cv_loss)))\r\n",
        "        #print('='*10)\r\n",
        "\r\n",
        "        scheduler.step(np.mean(cv_loss)) # learning rate scheduler <---------------------------------------------------------\r\n",
        "\r\n",
        "    return useful_stuff"
      ],
      "execution_count": null,
      "outputs": []
    },
    {
      "cell_type": "code",
      "metadata": {
        "id": "b20utJOT1xo2"
      },
      "source": [
        "class Net(nn.Module):   \r\n",
        "    # Constructor\r\n",
        "    def __init__(self,neuron=100, p=0.1):\r\n",
        "        super(Net, self).__init__()\r\n",
        "        self.neuron=neuron\r\n",
        "        self.drop=p\r\n",
        "\r\n",
        "        self.step = nn.Sequential(\r\n",
        "            nn.Linear(2000, self.neuron),\r\n",
        "            nn.BatchNorm1d(self.neuron),\r\n",
        "            nn.ReLU(),\r\n",
        "            nn.Dropout(self.drop),\r\n",
        "\r\n",
        "            nn.Linear(self.neuron, self.neuron),\r\n",
        "            nn.BatchNorm1d(self.neuron),\r\n",
        "            nn.ReLU(),\r\n",
        "            nn.Dropout(self.drop),\r\n",
        "\r\n",
        "            nn.Linear(self.neuron, 2),           \r\n",
        "        )\r\n",
        "    def forward(self, x):\r\n",
        "        x = self.step(x)\r\n",
        "        return x"
      ],
      "execution_count": null,
      "outputs": []
    },
    {
      "cell_type": "markdown",
      "metadata": {
        "id": "AR-n7K58bfVq"
      },
      "source": [
        "### Hpyer parameters"
      ]
    },
    {
      "cell_type": "code",
      "metadata": {
        "id": "3yVcLn5b5BsC"
      },
      "source": [
        "model_c0 = Net(neuron=100, p=0.2)\r\n",
        "model_c0.to(device);\r\n",
        "\r\n",
        "N_train = len(train_set_c0)\r\n",
        "N_test = len(dev_set_c0)\r\n",
        "\r\n",
        "weights = [1.0, 3.16]\r\n",
        "class_weights = torch.FloatTensor(weights).to(device)\r\n",
        "criterion = nn.CrossEntropyLoss(weight=class_weights)\r\n",
        "\r\n",
        "learning_rate = 0.0005\r\n",
        "optimizer = torch.optim.AdamW(model_c0.parameters(), lr=learning_rate, amsgrad=True)\r\n",
        "\r\n",
        "train_loader = DataLoader(train_set_c0, batch_size=32, shuffle=True)\r\n",
        "dev_loader = DataLoader(dev_set_c0, batch_size=128)\r\n",
        "\r\n",
        "scheduler = torch.optim.lr_scheduler.ReduceLROnPlateau(optimizer, 'min', patience=5, factor=0.1) # learning rate decay"
      ],
      "execution_count": null,
      "outputs": []
    },
    {
      "cell_type": "code",
      "metadata": {
        "colab": {
          "base_uri": "https://localhost:8080/"
        },
        "id": "W1-EKmOWj6bv",
        "outputId": "89224708-cfec-4fd0-cb0c-849236c93858"
      },
      "source": [
        "from torchsummary import summary\r\n",
        "summary(model_c0, (0, 2000))"
      ],
      "execution_count": null,
      "outputs": [
        {
          "output_type": "stream",
          "text": [
            "----------------------------------------------------------------\n",
            "        Layer (type)               Output Shape         Param #\n",
            "================================================================\n",
            "            Linear-1               [-1, 0, 100]         200,100\n",
            "       BatchNorm1d-2               [-1, 0, 100]             200\n",
            "              ReLU-3               [-1, 0, 100]               0\n",
            "           Dropout-4               [-1, 0, 100]               0\n",
            "            Linear-5               [-1, 0, 100]          10,100\n",
            "       BatchNorm1d-6               [-1, 0, 100]             200\n",
            "              ReLU-7               [-1, 0, 100]               0\n",
            "           Dropout-8               [-1, 0, 100]               0\n",
            "            Linear-9                 [-1, 0, 2]             202\n",
            "================================================================\n",
            "Total params: 210,802\n",
            "Trainable params: 210,802\n",
            "Non-trainable params: 0\n",
            "----------------------------------------------------------------\n",
            "Input size (MB): 0.00\n",
            "Forward/backward pass size (MB): 0.00\n",
            "Params size (MB): 0.80\n",
            "Estimated Total Size (MB): 0.80\n",
            "----------------------------------------------------------------\n"
          ],
          "name": "stdout"
        }
      ]
    },
    {
      "cell_type": "markdown",
      "metadata": {
        "id": "4-XSqzbMbkx6"
      },
      "source": [
        "## training"
      ]
    },
    {
      "cell_type": "code",
      "metadata": {
        "colab": {
          "base_uri": "https://localhost:8080/",
          "height": 66,
          "referenced_widgets": [
            "d349f003ae244243b47fe864db245441",
            "200ad72f83634eb9bf44413eb1d105ef",
            "10988f9acc96408bad841a4286cb1309",
            "085583a67996496788165122d87cd587",
            "eabc1b63c2934c55ab09bb18e1142db6",
            "0120f1536b2b496d812306998586978c",
            "8ea98fd54bf242dba5b190fd03e130b0",
            "6c6b5ab4cb054f558da800bd343adb4e"
          ]
        },
        "id": "qRFmuV005ZQE",
        "outputId": "cd285127-3813-41ca-92cf-cf38dbab7d1a"
      },
      "source": [
        "useful_stuff = train(model=model_c0, train_loader=train_loader, cv_loader=dev_loader, N_train=N_train, N_test=N_test, optimizer=optimizer, epochs=50)"
      ],
      "execution_count": null,
      "outputs": [
        {
          "output_type": "display_data",
          "data": {
            "application/vnd.jupyter.widget-view+json": {
              "model_id": "d349f003ae244243b47fe864db245441",
              "version_minor": 0,
              "version_major": 2
            },
            "text/plain": [
              "HBox(children=(FloatProgress(value=0.0, max=50.0), HTML(value='')))"
            ]
          },
          "metadata": {
            "tags": []
          }
        },
        {
          "output_type": "stream",
          "text": [
            "\n"
          ],
          "name": "stdout"
        }
      ]
    },
    {
      "cell_type": "code",
      "metadata": {
        "id": "dIJCrsWz3WSj"
      },
      "source": [
        "torch.save(model_c0, './model/nn-crop-imbalance/model_c0.pt')"
      ],
      "execution_count": null,
      "outputs": []
    },
    {
      "cell_type": "markdown",
      "metadata": {
        "id": "R8f1biQ5bnmq"
      },
      "source": [
        "## Learning Curve"
      ]
    },
    {
      "cell_type": "code",
      "metadata": {
        "colab": {
          "base_uri": "https://localhost:8080/",
          "height": 573
        },
        "id": "748u3sRe-cUG",
        "outputId": "82f56f23-99b8-491d-d903-7d50970b57c7"
      },
      "source": [
        "plt.plot(useful_stuff['train_acc'], label='train_acc')\r\n",
        "plt.plot(useful_stuff['valid_acc'], label='cv_acc')\r\n",
        "plt.title('train / valid  accuracy')\r\n",
        "plt.xlabel('epochs')\r\n",
        "plt.ylabel('acc')\r\n",
        "#axes = plt.gca()\r\n",
        "#axes.set_ylim([0.4, 1])\r\n",
        "plt.legend()\r\n",
        "plt.grid()\r\n",
        "plt.show()\r\n",
        "\r\n",
        "plt.plot(useful_stuff['train_cost'], label='train_cost')\r\n",
        "plt.plot(useful_stuff['valid_cost'], label='cv_acc')\r\n",
        "plt.title('train / valid  loss')\r\n",
        "plt.xlabel('epochs')\r\n",
        "plt.ylabel('loss')\r\n",
        "#axes = plt.gca()\r\n",
        "#axes.set_ylim([0, 1])\r\n",
        "plt.legend()\r\n",
        "plt.grid()\r\n",
        "plt.show()"
      ],
      "execution_count": null,
      "outputs": [
        {
          "output_type": "display_data",
          "data": {
            "image/png": "[encoded data removed]",
            "text/plain": [
              "<Figure size 432x288 with 1 Axes>"
            ]
          },
          "metadata": {
            "tags": [],
            "needs_background": "light"
          }
        },
        {
          "output_type": "display_data",
          "data": {
            "image/png": "[encoded data removed]",
            "text/plain": [
              "<Figure size 432x288 with 1 Axes>"
            ]
          },
          "metadata": {
            "tags": [],
            "needs_background": "light"
          }
        }
      ]
    },
    {
      "cell_type": "code",
      "metadata": {
        "colab": {
          "base_uri": "https://localhost:8080/"
        },
        "id": "WQ-9lzbiY6fn",
        "outputId": "6ee09136-cc3f-451b-d36e-51c267bbdc7a"
      },
      "source": [
        "calc_metrics()\r\n",
        "print('-'*20)\r\n",
        "print()\r\n",
        "calc_metrics(False)"
      ],
      "execution_count": null,
      "outputs": [
        {
          "output_type": "stream",
          "text": [
            "[Train]Total sample: 53686\n",
            "TP: 12173\n",
            "FP: 1900\n",
            "TN: 38891\n",
            "FN: 722\n",
            "\n",
            "acc: 0.9511604515143612\n",
            "recall: 0.944009305932532\n",
            "specificity: 0.9534210977911795\n",
            "precision: 0.8649896965821076\n",
            "f1: 0.9027736576683476\n",
            "mcc: 0.8717288460876872\n",
            "--------------------\n",
            "\n",
            "[Dev]Total sample: 6280\n",
            "TP: 267\n",
            "FP: 314\n",
            "TN: 5575\n",
            "FN: 124\n",
            "\n",
            "acc: 0.9302547770700637\n",
            "recall: 0.6828644501278772\n",
            "specificity: 0.9466802513160129\n",
            "precision: 0.459552495697074\n",
            "f1: 0.5493827160493827\n",
            "mcc: 0.5249867399925209\n"
          ],
          "name": "stdout"
        }
      ]
    },
    {
      "cell_type": "markdown",
      "metadata": {
        "id": "p3v-P-sqBy7j"
      },
      "source": [
        "# Saving model"
      ]
    },
    {
      "cell_type": "code",
      "metadata": {
        "id": "SMgOcgYDB0tX"
      },
      "source": [
        "# torch.save(model_c0, './C2_TrainDev/model/nn-crop-imbalance/model_c0.pt')\r\n",
        "# torch.save(model_c1, './C2_TrainDev/model/nn-crop-imbalance/model_c1.pt')\r\n",
        "# torch.save(model_c2, './C2_TrainDev/model/nn-crop-imbalance/model_c2.pt')\r\n",
        "# torch.save(model_c3, './C2_TrainDev/model/nn-crop-imbalance/model_c3.pt')\r\n",
        "# torch.save(model_c4, './C2_TrainDev/model/nn-crop-imbalance/model_c4.pt')"
      ],
      "execution_count": null,
      "outputs": []
    }
  ]
}