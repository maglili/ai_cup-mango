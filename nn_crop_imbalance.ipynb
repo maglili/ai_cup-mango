{
  "nbformat": 4,
  "nbformat_minor": 0,
  "metadata": {
    "colab": {
      "name": "nn-crop-imbalance.ipynb",
      "provenance": [],
      "collapsed_sections": [
        "2ORLqawP0whG",
        "4-XSqzbMbkx6",
        "OZTyOAYLAWWB",
        "83f201BW04DZ",
        "D5VSVJLW04Da",
        "uTHODMdQ7kjx",
        "pHEVxCeK7kjy",
        "ztB921F7BFxk",
        "ObkoyfCr8tUJ",
        "Wr94FxHP8tUK",
        "-khot1HTBQ_F",
        "IFfDF4wT9n86",
        "k04_WmB99n87"
      ],
      "mount_file_id": "1xCLbWx93PCQx9p4KSS9guChAH8PyVj-f",
      "authorship_tag": "ABX9TyOpG6IqUkSXpcF05qaxnyqS",
      "include_colab_link": true
    },
    "kernelspec": {
      "name": "python3",
      "display_name": "Python 3"
    },
    "accelerator": "GPU",
    "widgets": {
      "application/vnd.jupyter.widget-state+json": {
        "74cb8690b15c42ff9092a10c026558e6": {
          "model_module": "@jupyter-widgets/controls",
          "model_name": "HBoxModel",
          "state": {
            "_view_name": "HBoxView",
            "_dom_classes": [],
            "_model_name": "HBoxModel",
            "_view_module": "@jupyter-widgets/controls",
            "_model_module_version": "1.5.0",
            "_view_count": null,
            "_view_module_version": "1.5.0",
            "box_style": "",
            "layout": "IPY_MODEL_e3196989903e4b24ba785886da91e796",
            "_model_module": "@jupyter-widgets/controls",
            "children": [
              "IPY_MODEL_a2df63a000e44d01ab811bb1abb2fdf0",
              "IPY_MODEL_9038908ca47046d481a09ecce4350881"
            ]
          }
        },
        "e3196989903e4b24ba785886da91e796": {
          "model_module": "@jupyter-widgets/base",
          "model_name": "LayoutModel",
          "state": {
            "_view_name": "LayoutView",
            "grid_template_rows": null,
            "right": null,
            "justify_content": null,
            "_view_module": "@jupyter-widgets/base",
            "overflow": null,
            "_model_module_version": "1.2.0",
            "_view_count": null,
            "flex_flow": null,
            "width": null,
            "min_width": null,
            "border": null,
            "align_items": null,
            "bottom": null,
            "_model_module": "@jupyter-widgets/base",
            "top": null,
            "grid_column": null,
            "overflow_y": null,
            "overflow_x": null,
            "grid_auto_flow": null,
            "grid_area": null,
            "grid_template_columns": null,
            "flex": null,
            "_model_name": "LayoutModel",
            "justify_items": null,
            "grid_row": null,
            "max_height": null,
            "align_content": null,
            "visibility": null,
            "align_self": null,
            "height": null,
            "min_height": null,
            "padding": null,
            "grid_auto_rows": null,
            "grid_gap": null,
            "max_width": null,
            "order": null,
            "_view_module_version": "1.2.0",
            "grid_template_areas": null,
            "object_position": null,
            "object_fit": null,
            "grid_auto_columns": null,
            "margin": null,
            "display": null,
            "left": null
          }
        },
        "a2df63a000e44d01ab811bb1abb2fdf0": {
          "model_module": "@jupyter-widgets/controls",
          "model_name": "FloatProgressModel",
          "state": {
            "_view_name": "ProgressView",
            "style": "IPY_MODEL_59f8e07834184d11a16b2793678f7abd",
            "_dom_classes": [],
            "description": "100%",
            "_model_name": "FloatProgressModel",
            "bar_style": "success",
            "max": 20,
            "_view_module": "@jupyter-widgets/controls",
            "_model_module_version": "1.5.0",
            "value": 20,
            "_view_count": null,
            "_view_module_version": "1.5.0",
            "orientation": "horizontal",
            "min": 0,
            "description_tooltip": null,
            "_model_module": "@jupyter-widgets/controls",
            "layout": "IPY_MODEL_cff81b8e6faa49f48c1a3cf83d563cc2"
          }
        },
        "9038908ca47046d481a09ecce4350881": {
          "model_module": "@jupyter-widgets/controls",
          "model_name": "HTMLModel",
          "state": {
            "_view_name": "HTMLView",
            "style": "IPY_MODEL_634ad0fad0bc43d39b2d64004e5535a7",
            "_dom_classes": [],
            "description": "",
            "_model_name": "HTMLModel",
            "placeholder": "​",
            "_view_module": "@jupyter-widgets/controls",
            "_model_module_version": "1.5.0",
            "value": " 20/20 [02:03&lt;00:00,  6.15s/it]",
            "_view_count": null,
            "_view_module_version": "1.5.0",
            "description_tooltip": null,
            "_model_module": "@jupyter-widgets/controls",
            "layout": "IPY_MODEL_aa26384415bf45c4bf15a59c41a62777"
          }
        },
        "59f8e07834184d11a16b2793678f7abd": {
          "model_module": "@jupyter-widgets/controls",
          "model_name": "ProgressStyleModel",
          "state": {
            "_view_name": "StyleView",
            "_model_name": "ProgressStyleModel",
            "description_width": "initial",
            "_view_module": "@jupyter-widgets/base",
            "_model_module_version": "1.5.0",
            "_view_count": null,
            "_view_module_version": "1.2.0",
            "bar_color": null,
            "_model_module": "@jupyter-widgets/controls"
          }
        },
        "cff81b8e6faa49f48c1a3cf83d563cc2": {
          "model_module": "@jupyter-widgets/base",
          "model_name": "LayoutModel",
          "state": {
            "_view_name": "LayoutView",
            "grid_template_rows": null,
            "right": null,
            "justify_content": null,
            "_view_module": "@jupyter-widgets/base",
            "overflow": null,
            "_model_module_version": "1.2.0",
            "_view_count": null,
            "flex_flow": null,
            "width": null,
            "min_width": null,
            "border": null,
            "align_items": null,
            "bottom": null,
            "_model_module": "@jupyter-widgets/base",
            "top": null,
            "grid_column": null,
            "overflow_y": null,
            "overflow_x": null,
            "grid_auto_flow": null,
            "grid_area": null,
            "grid_template_columns": null,
            "flex": null,
            "_model_name": "LayoutModel",
            "justify_items": null,
            "grid_row": null,
            "max_height": null,
            "align_content": null,
            "visibility": null,
            "align_self": null,
            "height": null,
            "min_height": null,
            "padding": null,
            "grid_auto_rows": null,
            "grid_gap": null,
            "max_width": null,
            "order": null,
            "_view_module_version": "1.2.0",
            "grid_template_areas": null,
            "object_position": null,
            "object_fit": null,
            "grid_auto_columns": null,
            "margin": null,
            "display": null,
            "left": null
          }
        },
        "634ad0fad0bc43d39b2d64004e5535a7": {
          "model_module": "@jupyter-widgets/controls",
          "model_name": "DescriptionStyleModel",
          "state": {
            "_view_name": "StyleView",
            "_model_name": "DescriptionStyleModel",
            "description_width": "",
            "_view_module": "@jupyter-widgets/base",
            "_model_module_version": "1.5.0",
            "_view_count": null,
            "_view_module_version": "1.2.0",
            "_model_module": "@jupyter-widgets/controls"
          }
        },
        "aa26384415bf45c4bf15a59c41a62777": {
          "model_module": "@jupyter-widgets/base",
          "model_name": "LayoutModel",
          "state": {
            "_view_name": "LayoutView",
            "grid_template_rows": null,
            "right": null,
            "justify_content": null,
            "_view_module": "@jupyter-widgets/base",
            "overflow": null,
            "_model_module_version": "1.2.0",
            "_view_count": null,
            "flex_flow": null,
            "width": null,
            "min_width": null,
            "border": null,
            "align_items": null,
            "bottom": null,
            "_model_module": "@jupyter-widgets/base",
            "top": null,
            "grid_column": null,
            "overflow_y": null,
            "overflow_x": null,
            "grid_auto_flow": null,
            "grid_area": null,
            "grid_template_columns": null,
            "flex": null,
            "_model_name": "LayoutModel",
            "justify_items": null,
            "grid_row": null,
            "max_height": null,
            "align_content": null,
            "visibility": null,
            "align_self": null,
            "height": null,
            "min_height": null,
            "padding": null,
            "grid_auto_rows": null,
            "grid_gap": null,
            "max_width": null,
            "order": null,
            "_view_module_version": "1.2.0",
            "grid_template_areas": null,
            "object_position": null,
            "object_fit": null,
            "grid_auto_columns": null,
            "margin": null,
            "display": null,
            "left": null
          }
        },
        "3e2756c7b714465185fe63c6376706aa": {
          "model_module": "@jupyter-widgets/controls",
          "model_name": "HBoxModel",
          "state": {
            "_view_name": "HBoxView",
            "_dom_classes": [],
            "_model_name": "HBoxModel",
            "_view_module": "@jupyter-widgets/controls",
            "_model_module_version": "1.5.0",
            "_view_count": null,
            "_view_module_version": "1.5.0",
            "box_style": "",
            "layout": "IPY_MODEL_69e4fa284e254c63b7ee65afe3967ead",
            "_model_module": "@jupyter-widgets/controls",
            "children": [
              "IPY_MODEL_a2680038708049798b280e333c888a62",
              "IPY_MODEL_7926da3dbbf84279978f473964388e5e"
            ]
          }
        },
        "69e4fa284e254c63b7ee65afe3967ead": {
          "model_module": "@jupyter-widgets/base",
          "model_name": "LayoutModel",
          "state": {
            "_view_name": "LayoutView",
            "grid_template_rows": null,
            "right": null,
            "justify_content": null,
            "_view_module": "@jupyter-widgets/base",
            "overflow": null,
            "_model_module_version": "1.2.0",
            "_view_count": null,
            "flex_flow": null,
            "width": null,
            "min_width": null,
            "border": null,
            "align_items": null,
            "bottom": null,
            "_model_module": "@jupyter-widgets/base",
            "top": null,
            "grid_column": null,
            "overflow_y": null,
            "overflow_x": null,
            "grid_auto_flow": null,
            "grid_area": null,
            "grid_template_columns": null,
            "flex": null,
            "_model_name": "LayoutModel",
            "justify_items": null,
            "grid_row": null,
            "max_height": null,
            "align_content": null,
            "visibility": null,
            "align_self": null,
            "height": null,
            "min_height": null,
            "padding": null,
            "grid_auto_rows": null,
            "grid_gap": null,
            "max_width": null,
            "order": null,
            "_view_module_version": "1.2.0",
            "grid_template_areas": null,
            "object_position": null,
            "object_fit": null,
            "grid_auto_columns": null,
            "margin": null,
            "display": null,
            "left": null
          }
        },
        "a2680038708049798b280e333c888a62": {
          "model_module": "@jupyter-widgets/controls",
          "model_name": "FloatProgressModel",
          "state": {
            "_view_name": "ProgressView",
            "style": "IPY_MODEL_ad20bddf8b8944e48769b289baa2c45d",
            "_dom_classes": [],
            "description": "100%",
            "_model_name": "FloatProgressModel",
            "bar_style": "success",
            "max": 20,
            "_view_module": "@jupyter-widgets/controls",
            "_model_module_version": "1.5.0",
            "value": 20,
            "_view_count": null,
            "_view_module_version": "1.5.0",
            "orientation": "horizontal",
            "min": 0,
            "description_tooltip": null,
            "_model_module": "@jupyter-widgets/controls",
            "layout": "IPY_MODEL_507ba6447efe4f1791718d224201fa1b"
          }
        },
        "7926da3dbbf84279978f473964388e5e": {
          "model_module": "@jupyter-widgets/controls",
          "model_name": "HTMLModel",
          "state": {
            "_view_name": "HTMLView",
            "style": "IPY_MODEL_97d6cefb07154748a5427c76388d2135",
            "_dom_classes": [],
            "description": "",
            "_model_name": "HTMLModel",
            "placeholder": "​",
            "_view_module": "@jupyter-widgets/controls",
            "_model_module_version": "1.5.0",
            "value": " 20/20 [01:55&lt;00:00,  5.80s/it]",
            "_view_count": null,
            "_view_module_version": "1.5.0",
            "description_tooltip": null,
            "_model_module": "@jupyter-widgets/controls",
            "layout": "IPY_MODEL_7c1d42e353be4ecca8d6fe2427ac0c96"
          }
        },
        "ad20bddf8b8944e48769b289baa2c45d": {
          "model_module": "@jupyter-widgets/controls",
          "model_name": "ProgressStyleModel",
          "state": {
            "_view_name": "StyleView",
            "_model_name": "ProgressStyleModel",
            "description_width": "initial",
            "_view_module": "@jupyter-widgets/base",
            "_model_module_version": "1.5.0",
            "_view_count": null,
            "_view_module_version": "1.2.0",
            "bar_color": null,
            "_model_module": "@jupyter-widgets/controls"
          }
        },
        "507ba6447efe4f1791718d224201fa1b": {
          "model_module": "@jupyter-widgets/base",
          "model_name": "LayoutModel",
          "state": {
            "_view_name": "LayoutView",
            "grid_template_rows": null,
            "right": null,
            "justify_content": null,
            "_view_module": "@jupyter-widgets/base",
            "overflow": null,
            "_model_module_version": "1.2.0",
            "_view_count": null,
            "flex_flow": null,
            "width": null,
            "min_width": null,
            "border": null,
            "align_items": null,
            "bottom": null,
            "_model_module": "@jupyter-widgets/base",
            "top": null,
            "grid_column": null,
            "overflow_y": null,
            "overflow_x": null,
            "grid_auto_flow": null,
            "grid_area": null,
            "grid_template_columns": null,
            "flex": null,
            "_model_name": "LayoutModel",
            "justify_items": null,
            "grid_row": null,
            "max_height": null,
            "align_content": null,
            "visibility": null,
            "align_self": null,
            "height": null,
            "min_height": null,
            "padding": null,
            "grid_auto_rows": null,
            "grid_gap": null,
            "max_width": null,
            "order": null,
            "_view_module_version": "1.2.0",
            "grid_template_areas": null,
            "object_position": null,
            "object_fit": null,
            "grid_auto_columns": null,
            "margin": null,
            "display": null,
            "left": null
          }
        },
        "97d6cefb07154748a5427c76388d2135": {
          "model_module": "@jupyter-widgets/controls",
          "model_name": "DescriptionStyleModel",
          "state": {
            "_view_name": "StyleView",
            "_model_name": "DescriptionStyleModel",
            "description_width": "",
            "_view_module": "@jupyter-widgets/base",
            "_model_module_version": "1.5.0",
            "_view_count": null,
            "_view_module_version": "1.2.0",
            "_model_module": "@jupyter-widgets/controls"
          }
        },
        "7c1d42e353be4ecca8d6fe2427ac0c96": {
          "model_module": "@jupyter-widgets/base",
          "model_name": "LayoutModel",
          "state": {
            "_view_name": "LayoutView",
            "grid_template_rows": null,
            "right": null,
            "justify_content": null,
            "_view_module": "@jupyter-widgets/base",
            "overflow": null,
            "_model_module_version": "1.2.0",
            "_view_count": null,
            "flex_flow": null,
            "width": null,
            "min_width": null,
            "border": null,
            "align_items": null,
            "bottom": null,
            "_model_module": "@jupyter-widgets/base",
            "top": null,
            "grid_column": null,
            "overflow_y": null,
            "overflow_x": null,
            "grid_auto_flow": null,
            "grid_area": null,
            "grid_template_columns": null,
            "flex": null,
            "_model_name": "LayoutModel",
            "justify_items": null,
            "grid_row": null,
            "max_height": null,
            "align_content": null,
            "visibility": null,
            "align_self": null,
            "height": null,
            "min_height": null,
            "padding": null,
            "grid_auto_rows": null,
            "grid_gap": null,
            "max_width": null,
            "order": null,
            "_view_module_version": "1.2.0",
            "grid_template_areas": null,
            "object_position": null,
            "object_fit": null,
            "grid_auto_columns": null,
            "margin": null,
            "display": null,
            "left": null
          }
        },
        "63f3abea618a4daab8d8b68628bb7e72": {
          "model_module": "@jupyter-widgets/controls",
          "model_name": "HBoxModel",
          "state": {
            "_view_name": "HBoxView",
            "_dom_classes": [],
            "_model_name": "HBoxModel",
            "_view_module": "@jupyter-widgets/controls",
            "_model_module_version": "1.5.0",
            "_view_count": null,
            "_view_module_version": "1.5.0",
            "box_style": "",
            "layout": "IPY_MODEL_3f6e862eb5284128bcb16e2e52566bed",
            "_model_module": "@jupyter-widgets/controls",
            "children": [
              "IPY_MODEL_f1dc0eb9edbd4a95953c2a8bc805ed6c",
              "IPY_MODEL_3246c04c08104684ad6d49fb272682f8"
            ]
          }
        },
        "3f6e862eb5284128bcb16e2e52566bed": {
          "model_module": "@jupyter-widgets/base",
          "model_name": "LayoutModel",
          "state": {
            "_view_name": "LayoutView",
            "grid_template_rows": null,
            "right": null,
            "justify_content": null,
            "_view_module": "@jupyter-widgets/base",
            "overflow": null,
            "_model_module_version": "1.2.0",
            "_view_count": null,
            "flex_flow": null,
            "width": null,
            "min_width": null,
            "border": null,
            "align_items": null,
            "bottom": null,
            "_model_module": "@jupyter-widgets/base",
            "top": null,
            "grid_column": null,
            "overflow_y": null,
            "overflow_x": null,
            "grid_auto_flow": null,
            "grid_area": null,
            "grid_template_columns": null,
            "flex": null,
            "_model_name": "LayoutModel",
            "justify_items": null,
            "grid_row": null,
            "max_height": null,
            "align_content": null,
            "visibility": null,
            "align_self": null,
            "height": null,
            "min_height": null,
            "padding": null,
            "grid_auto_rows": null,
            "grid_gap": null,
            "max_width": null,
            "order": null,
            "_view_module_version": "1.2.0",
            "grid_template_areas": null,
            "object_position": null,
            "object_fit": null,
            "grid_auto_columns": null,
            "margin": null,
            "display": null,
            "left": null
          }
        },
        "f1dc0eb9edbd4a95953c2a8bc805ed6c": {
          "model_module": "@jupyter-widgets/controls",
          "model_name": "FloatProgressModel",
          "state": {
            "_view_name": "ProgressView",
            "style": "IPY_MODEL_817e1a759060419f9001c1dbaaacc872",
            "_dom_classes": [],
            "description": "100%",
            "_model_name": "FloatProgressModel",
            "bar_style": "success",
            "max": 20,
            "_view_module": "@jupyter-widgets/controls",
            "_model_module_version": "1.5.0",
            "value": 20,
            "_view_count": null,
            "_view_module_version": "1.5.0",
            "orientation": "horizontal",
            "min": 0,
            "description_tooltip": null,
            "_model_module": "@jupyter-widgets/controls",
            "layout": "IPY_MODEL_279c0c48befe4b508aa43de261227945"
          }
        },
        "3246c04c08104684ad6d49fb272682f8": {
          "model_module": "@jupyter-widgets/controls",
          "model_name": "HTMLModel",
          "state": {
            "_view_name": "HTMLView",
            "style": "IPY_MODEL_10df6be4c8c84664b31248d4946258c0",
            "_dom_classes": [],
            "description": "",
            "_model_name": "HTMLModel",
            "placeholder": "​",
            "_view_module": "@jupyter-widgets/controls",
            "_model_module_version": "1.5.0",
            "value": " 20/20 [01:57&lt;00:00,  5.88s/it]",
            "_view_count": null,
            "_view_module_version": "1.5.0",
            "description_tooltip": null,
            "_model_module": "@jupyter-widgets/controls",
            "layout": "IPY_MODEL_b99865e3a20c4f55809fddff563b611f"
          }
        },
        "817e1a759060419f9001c1dbaaacc872": {
          "model_module": "@jupyter-widgets/controls",
          "model_name": "ProgressStyleModel",
          "state": {
            "_view_name": "StyleView",
            "_model_name": "ProgressStyleModel",
            "description_width": "initial",
            "_view_module": "@jupyter-widgets/base",
            "_model_module_version": "1.5.0",
            "_view_count": null,
            "_view_module_version": "1.2.0",
            "bar_color": null,
            "_model_module": "@jupyter-widgets/controls"
          }
        },
        "279c0c48befe4b508aa43de261227945": {
          "model_module": "@jupyter-widgets/base",
          "model_name": "LayoutModel",
          "state": {
            "_view_name": "LayoutView",
            "grid_template_rows": null,
            "right": null,
            "justify_content": null,
            "_view_module": "@jupyter-widgets/base",
            "overflow": null,
            "_model_module_version": "1.2.0",
            "_view_count": null,
            "flex_flow": null,
            "width": null,
            "min_width": null,
            "border": null,
            "align_items": null,
            "bottom": null,
            "_model_module": "@jupyter-widgets/base",
            "top": null,
            "grid_column": null,
            "overflow_y": null,
            "overflow_x": null,
            "grid_auto_flow": null,
            "grid_area": null,
            "grid_template_columns": null,
            "flex": null,
            "_model_name": "LayoutModel",
            "justify_items": null,
            "grid_row": null,
            "max_height": null,
            "align_content": null,
            "visibility": null,
            "align_self": null,
            "height": null,
            "min_height": null,
            "padding": null,
            "grid_auto_rows": null,
            "grid_gap": null,
            "max_width": null,
            "order": null,
            "_view_module_version": "1.2.0",
            "grid_template_areas": null,
            "object_position": null,
            "object_fit": null,
            "grid_auto_columns": null,
            "margin": null,
            "display": null,
            "left": null
          }
        },
        "10df6be4c8c84664b31248d4946258c0": {
          "model_module": "@jupyter-widgets/controls",
          "model_name": "DescriptionStyleModel",
          "state": {
            "_view_name": "StyleView",
            "_model_name": "DescriptionStyleModel",
            "description_width": "",
            "_view_module": "@jupyter-widgets/base",
            "_model_module_version": "1.5.0",
            "_view_count": null,
            "_view_module_version": "1.2.0",
            "_model_module": "@jupyter-widgets/controls"
          }
        },
        "b99865e3a20c4f55809fddff563b611f": {
          "model_module": "@jupyter-widgets/base",
          "model_name": "LayoutModel",
          "state": {
            "_view_name": "LayoutView",
            "grid_template_rows": null,
            "right": null,
            "justify_content": null,
            "_view_module": "@jupyter-widgets/base",
            "overflow": null,
            "_model_module_version": "1.2.0",
            "_view_count": null,
            "flex_flow": null,
            "width": null,
            "min_width": null,
            "border": null,
            "align_items": null,
            "bottom": null,
            "_model_module": "@jupyter-widgets/base",
            "top": null,
            "grid_column": null,
            "overflow_y": null,
            "overflow_x": null,
            "grid_auto_flow": null,
            "grid_area": null,
            "grid_template_columns": null,
            "flex": null,
            "_model_name": "LayoutModel",
            "justify_items": null,
            "grid_row": null,
            "max_height": null,
            "align_content": null,
            "visibility": null,
            "align_self": null,
            "height": null,
            "min_height": null,
            "padding": null,
            "grid_auto_rows": null,
            "grid_gap": null,
            "max_width": null,
            "order": null,
            "_view_module_version": "1.2.0",
            "grid_template_areas": null,
            "object_position": null,
            "object_fit": null,
            "grid_auto_columns": null,
            "margin": null,
            "display": null,
            "left": null
          }
        },
        "927d2c4a74554d6f94d75a82b58234ec": {
          "model_module": "@jupyter-widgets/controls",
          "model_name": "HBoxModel",
          "state": {
            "_view_name": "HBoxView",
            "_dom_classes": [],
            "_model_name": "HBoxModel",
            "_view_module": "@jupyter-widgets/controls",
            "_model_module_version": "1.5.0",
            "_view_count": null,
            "_view_module_version": "1.5.0",
            "box_style": "",
            "layout": "IPY_MODEL_0e5c2973289a43d392145aadb82f1fdd",
            "_model_module": "@jupyter-widgets/controls",
            "children": [
              "IPY_MODEL_f7c04b06f8524e139175ee1cb20280dc",
              "IPY_MODEL_b81cbd18075d400fb6fdb97af731ce81"
            ]
          }
        },
        "0e5c2973289a43d392145aadb82f1fdd": {
          "model_module": "@jupyter-widgets/base",
          "model_name": "LayoutModel",
          "state": {
            "_view_name": "LayoutView",
            "grid_template_rows": null,
            "right": null,
            "justify_content": null,
            "_view_module": "@jupyter-widgets/base",
            "overflow": null,
            "_model_module_version": "1.2.0",
            "_view_count": null,
            "flex_flow": null,
            "width": null,
            "min_width": null,
            "border": null,
            "align_items": null,
            "bottom": null,
            "_model_module": "@jupyter-widgets/base",
            "top": null,
            "grid_column": null,
            "overflow_y": null,
            "overflow_x": null,
            "grid_auto_flow": null,
            "grid_area": null,
            "grid_template_columns": null,
            "flex": null,
            "_model_name": "LayoutModel",
            "justify_items": null,
            "grid_row": null,
            "max_height": null,
            "align_content": null,
            "visibility": null,
            "align_self": null,
            "height": null,
            "min_height": null,
            "padding": null,
            "grid_auto_rows": null,
            "grid_gap": null,
            "max_width": null,
            "order": null,
            "_view_module_version": "1.2.0",
            "grid_template_areas": null,
            "object_position": null,
            "object_fit": null,
            "grid_auto_columns": null,
            "margin": null,
            "display": null,
            "left": null
          }
        },
        "f7c04b06f8524e139175ee1cb20280dc": {
          "model_module": "@jupyter-widgets/controls",
          "model_name": "FloatProgressModel",
          "state": {
            "_view_name": "ProgressView",
            "style": "IPY_MODEL_d97c897376d84f28b5aca77c4d7b7ab3",
            "_dom_classes": [],
            "description": "100%",
            "_model_name": "FloatProgressModel",
            "bar_style": "success",
            "max": 20,
            "_view_module": "@jupyter-widgets/controls",
            "_model_module_version": "1.5.0",
            "value": 20,
            "_view_count": null,
            "_view_module_version": "1.5.0",
            "orientation": "horizontal",
            "min": 0,
            "description_tooltip": null,
            "_model_module": "@jupyter-widgets/controls",
            "layout": "IPY_MODEL_d6f966d07bea4a449da32b646caa5a93"
          }
        },
        "b81cbd18075d400fb6fdb97af731ce81": {
          "model_module": "@jupyter-widgets/controls",
          "model_name": "HTMLModel",
          "state": {
            "_view_name": "HTMLView",
            "style": "IPY_MODEL_7bea933679574a94b80ef77ee80f0960",
            "_dom_classes": [],
            "description": "",
            "_model_name": "HTMLModel",
            "placeholder": "​",
            "_view_module": "@jupyter-widgets/controls",
            "_model_module_version": "1.5.0",
            "value": " 20/20 [02:01&lt;00:00,  6.10s/it]",
            "_view_count": null,
            "_view_module_version": "1.5.0",
            "description_tooltip": null,
            "_model_module": "@jupyter-widgets/controls",
            "layout": "IPY_MODEL_c9b95b4930204fd582b1757669b41353"
          }
        },
        "d97c897376d84f28b5aca77c4d7b7ab3": {
          "model_module": "@jupyter-widgets/controls",
          "model_name": "ProgressStyleModel",
          "state": {
            "_view_name": "StyleView",
            "_model_name": "ProgressStyleModel",
            "description_width": "initial",
            "_view_module": "@jupyter-widgets/base",
            "_model_module_version": "1.5.0",
            "_view_count": null,
            "_view_module_version": "1.2.0",
            "bar_color": null,
            "_model_module": "@jupyter-widgets/controls"
          }
        },
        "d6f966d07bea4a449da32b646caa5a93": {
          "model_module": "@jupyter-widgets/base",
          "model_name": "LayoutModel",
          "state": {
            "_view_name": "LayoutView",
            "grid_template_rows": null,
            "right": null,
            "justify_content": null,
            "_view_module": "@jupyter-widgets/base",
            "overflow": null,
            "_model_module_version": "1.2.0",
            "_view_count": null,
            "flex_flow": null,
            "width": null,
            "min_width": null,
            "border": null,
            "align_items": null,
            "bottom": null,
            "_model_module": "@jupyter-widgets/base",
            "top": null,
            "grid_column": null,
            "overflow_y": null,
            "overflow_x": null,
            "grid_auto_flow": null,
            "grid_area": null,
            "grid_template_columns": null,
            "flex": null,
            "_model_name": "LayoutModel",
            "justify_items": null,
            "grid_row": null,
            "max_height": null,
            "align_content": null,
            "visibility": null,
            "align_self": null,
            "height": null,
            "min_height": null,
            "padding": null,
            "grid_auto_rows": null,
            "grid_gap": null,
            "max_width": null,
            "order": null,
            "_view_module_version": "1.2.0",
            "grid_template_areas": null,
            "object_position": null,
            "object_fit": null,
            "grid_auto_columns": null,
            "margin": null,
            "display": null,
            "left": null
          }
        },
        "7bea933679574a94b80ef77ee80f0960": {
          "model_module": "@jupyter-widgets/controls",
          "model_name": "DescriptionStyleModel",
          "state": {
            "_view_name": "StyleView",
            "_model_name": "DescriptionStyleModel",
            "description_width": "",
            "_view_module": "@jupyter-widgets/base",
            "_model_module_version": "1.5.0",
            "_view_count": null,
            "_view_module_version": "1.2.0",
            "_model_module": "@jupyter-widgets/controls"
          }
        },
        "c9b95b4930204fd582b1757669b41353": {
          "model_module": "@jupyter-widgets/base",
          "model_name": "LayoutModel",
          "state": {
            "_view_name": "LayoutView",
            "grid_template_rows": null,
            "right": null,
            "justify_content": null,
            "_view_module": "@jupyter-widgets/base",
            "overflow": null,
            "_model_module_version": "1.2.0",
            "_view_count": null,
            "flex_flow": null,
            "width": null,
            "min_width": null,
            "border": null,
            "align_items": null,
            "bottom": null,
            "_model_module": "@jupyter-widgets/base",
            "top": null,
            "grid_column": null,
            "overflow_y": null,
            "overflow_x": null,
            "grid_auto_flow": null,
            "grid_area": null,
            "grid_template_columns": null,
            "flex": null,
            "_model_name": "LayoutModel",
            "justify_items": null,
            "grid_row": null,
            "max_height": null,
            "align_content": null,
            "visibility": null,
            "align_self": null,
            "height": null,
            "min_height": null,
            "padding": null,
            "grid_auto_rows": null,
            "grid_gap": null,
            "max_width": null,
            "order": null,
            "_view_module_version": "1.2.0",
            "grid_template_areas": null,
            "object_position": null,
            "object_fit": null,
            "grid_auto_columns": null,
            "margin": null,
            "display": null,
            "left": null
          }
        },
        "ee3fc3ca55ca4b86b413135a852b7db0": {
          "model_module": "@jupyter-widgets/controls",
          "model_name": "HBoxModel",
          "state": {
            "_view_name": "HBoxView",
            "_dom_classes": [],
            "_model_name": "HBoxModel",
            "_view_module": "@jupyter-widgets/controls",
            "_model_module_version": "1.5.0",
            "_view_count": null,
            "_view_module_version": "1.5.0",
            "box_style": "",
            "layout": "IPY_MODEL_00073273a4174e3ca6d6ac15c0826f38",
            "_model_module": "@jupyter-widgets/controls",
            "children": [
              "IPY_MODEL_19fc473355f746d482b86dfa5896d721",
              "IPY_MODEL_c51a7fe6c90f40a48b6e8c0dfafebd27"
            ]
          }
        },
        "00073273a4174e3ca6d6ac15c0826f38": {
          "model_module": "@jupyter-widgets/base",
          "model_name": "LayoutModel",
          "state": {
            "_view_name": "LayoutView",
            "grid_template_rows": null,
            "right": null,
            "justify_content": null,
            "_view_module": "@jupyter-widgets/base",
            "overflow": null,
            "_model_module_version": "1.2.0",
            "_view_count": null,
            "flex_flow": null,
            "width": null,
            "min_width": null,
            "border": null,
            "align_items": null,
            "bottom": null,
            "_model_module": "@jupyter-widgets/base",
            "top": null,
            "grid_column": null,
            "overflow_y": null,
            "overflow_x": null,
            "grid_auto_flow": null,
            "grid_area": null,
            "grid_template_columns": null,
            "flex": null,
            "_model_name": "LayoutModel",
            "justify_items": null,
            "grid_row": null,
            "max_height": null,
            "align_content": null,
            "visibility": null,
            "align_self": null,
            "height": null,
            "min_height": null,
            "padding": null,
            "grid_auto_rows": null,
            "grid_gap": null,
            "max_width": null,
            "order": null,
            "_view_module_version": "1.2.0",
            "grid_template_areas": null,
            "object_position": null,
            "object_fit": null,
            "grid_auto_columns": null,
            "margin": null,
            "display": null,
            "left": null
          }
        },
        "19fc473355f746d482b86dfa5896d721": {
          "model_module": "@jupyter-widgets/controls",
          "model_name": "FloatProgressModel",
          "state": {
            "_view_name": "ProgressView",
            "style": "IPY_MODEL_8b500227a80b49af938f03bfee92e4e4",
            "_dom_classes": [],
            "description": "100%",
            "_model_name": "FloatProgressModel",
            "bar_style": "success",
            "max": 20,
            "_view_module": "@jupyter-widgets/controls",
            "_model_module_version": "1.5.0",
            "value": 20,
            "_view_count": null,
            "_view_module_version": "1.5.0",
            "orientation": "horizontal",
            "min": 0,
            "description_tooltip": null,
            "_model_module": "@jupyter-widgets/controls",
            "layout": "IPY_MODEL_d739c550aa2142869b9be44106e8bd09"
          }
        },
        "c51a7fe6c90f40a48b6e8c0dfafebd27": {
          "model_module": "@jupyter-widgets/controls",
          "model_name": "HTMLModel",
          "state": {
            "_view_name": "HTMLView",
            "style": "IPY_MODEL_b1658614639b4c0085080940fd2e2029",
            "_dom_classes": [],
            "description": "",
            "_model_name": "HTMLModel",
            "placeholder": "​",
            "_view_module": "@jupyter-widgets/controls",
            "_model_module_version": "1.5.0",
            "value": " 20/20 [01:56&lt;00:00,  5.85s/it]",
            "_view_count": null,
            "_view_module_version": "1.5.0",
            "description_tooltip": null,
            "_model_module": "@jupyter-widgets/controls",
            "layout": "IPY_MODEL_2dba515efe7e42efabdb2ecf7efbd4f9"
          }
        },
        "8b500227a80b49af938f03bfee92e4e4": {
          "model_module": "@jupyter-widgets/controls",
          "model_name": "ProgressStyleModel",
          "state": {
            "_view_name": "StyleView",
            "_model_name": "ProgressStyleModel",
            "description_width": "initial",
            "_view_module": "@jupyter-widgets/base",
            "_model_module_version": "1.5.0",
            "_view_count": null,
            "_view_module_version": "1.2.0",
            "bar_color": null,
            "_model_module": "@jupyter-widgets/controls"
          }
        },
        "d739c550aa2142869b9be44106e8bd09": {
          "model_module": "@jupyter-widgets/base",
          "model_name": "LayoutModel",
          "state": {
            "_view_name": "LayoutView",
            "grid_template_rows": null,
            "right": null,
            "justify_content": null,
            "_view_module": "@jupyter-widgets/base",
            "overflow": null,
            "_model_module_version": "1.2.0",
            "_view_count": null,
            "flex_flow": null,
            "width": null,
            "min_width": null,
            "border": null,
            "align_items": null,
            "bottom": null,
            "_model_module": "@jupyter-widgets/base",
            "top": null,
            "grid_column": null,
            "overflow_y": null,
            "overflow_x": null,
            "grid_auto_flow": null,
            "grid_area": null,
            "grid_template_columns": null,
            "flex": null,
            "_model_name": "LayoutModel",
            "justify_items": null,
            "grid_row": null,
            "max_height": null,
            "align_content": null,
            "visibility": null,
            "align_self": null,
            "height": null,
            "min_height": null,
            "padding": null,
            "grid_auto_rows": null,
            "grid_gap": null,
            "max_width": null,
            "order": null,
            "_view_module_version": "1.2.0",
            "grid_template_areas": null,
            "object_position": null,
            "object_fit": null,
            "grid_auto_columns": null,
            "margin": null,
            "display": null,
            "left": null
          }
        },
        "b1658614639b4c0085080940fd2e2029": {
          "model_module": "@jupyter-widgets/controls",
          "model_name": "DescriptionStyleModel",
          "state": {
            "_view_name": "StyleView",
            "_model_name": "DescriptionStyleModel",
            "description_width": "",
            "_view_module": "@jupyter-widgets/base",
            "_model_module_version": "1.5.0",
            "_view_count": null,
            "_view_module_version": "1.2.0",
            "_model_module": "@jupyter-widgets/controls"
          }
        },
        "2dba515efe7e42efabdb2ecf7efbd4f9": {
          "model_module": "@jupyter-widgets/base",
          "model_name": "LayoutModel",
          "state": {
            "_view_name": "LayoutView",
            "grid_template_rows": null,
            "right": null,
            "justify_content": null,
            "_view_module": "@jupyter-widgets/base",
            "overflow": null,
            "_model_module_version": "1.2.0",
            "_view_count": null,
            "flex_flow": null,
            "width": null,
            "min_width": null,
            "border": null,
            "align_items": null,
            "bottom": null,
            "_model_module": "@jupyter-widgets/base",
            "top": null,
            "grid_column": null,
            "overflow_y": null,
            "overflow_x": null,
            "grid_auto_flow": null,
            "grid_area": null,
            "grid_template_columns": null,
            "flex": null,
            "_model_name": "LayoutModel",
            "justify_items": null,
            "grid_row": null,
            "max_height": null,
            "align_content": null,
            "visibility": null,
            "align_self": null,
            "height": null,
            "min_height": null,
            "padding": null,
            "grid_auto_rows": null,
            "grid_gap": null,
            "max_width": null,
            "order": null,
            "_view_module_version": "1.2.0",
            "grid_template_areas": null,
            "object_position": null,
            "object_fit": null,
            "grid_auto_columns": null,
            "margin": null,
            "display": null,
            "left": null
          }
        }
      }
    }
  },
  "cells": [
    {
      "cell_type": "markdown",
      "metadata": {
        "id": "view-in-github",
        "colab_type": "text"
      },
      "source": [
        "<a href=\"https://colab.research.google.com/github/maglili/ai_cup-mango-cnn_base/blob/main/nn_crop_imbalance.ipynb\" target=\"_parent\"><img src=\"https://colab.research.google.com/assets/colab-badge.svg\" alt=\"Open In Colab\"/></a>"
      ]
    },
    {
      "cell_type": "markdown",
      "metadata": {
        "id": "v3vVEaPtzo3a"
      },
      "source": [
        "# Colab\r\n",
        "\r\n",
        "- 將 baseline 的下游從 svm 轉換為 nn。\r\n",
        "- 訓練練資料的正負資料集不平衡。\r\n",
        "- 圖片被裁切成數個小bbox"
      ]
    },
    {
      "cell_type": "code",
      "metadata": {
        "colab": {
          "base_uri": "https://localhost:8080/"
        },
        "id": "oGMVVcWJzbAi",
        "outputId": "da7708fc-6570-4bef-cc1c-c554ef7fbb3e"
      },
      "source": [
        "cd /content/drive/MyDrive/Projects/AI_CUP-Mango"
      ],
      "execution_count": 1,
      "outputs": [
        {
          "output_type": "stream",
          "text": [
            "/content/drive/MyDrive/Projects/AI_CUP-Mango\n"
          ],
          "name": "stdout"
        }
      ]
    },
    {
      "cell_type": "code",
      "metadata": {
        "colab": {
          "base_uri": "https://localhost:8080/",
          "height": 35
        },
        "id": "7PZhH4L_zgE6",
        "outputId": "bdeeb651-f4f2-41d6-9b4e-a7a1482716b6"
      },
      "source": [
        "pwd"
      ],
      "execution_count": 2,
      "outputs": [
        {
          "output_type": "execute_result",
          "data": {
            "application/vnd.google.colaboratory.intrinsic+json": {
              "type": "string"
            },
            "text/plain": [
              "'/content/drive/MyDrive/Projects/AI_CUP-Mango'"
            ]
          },
          "metadata": {
            "tags": []
          },
          "execution_count": 2
        }
      ]
    },
    {
      "cell_type": "markdown",
      "metadata": {
        "id": "mPSt5yHGzsjj"
      },
      "source": [
        "# Preparing data"
      ]
    },
    {
      "cell_type": "code",
      "metadata": {
        "id": "oYQWpqkZzKvX"
      },
      "source": [
        "import numpy as np\r\n",
        "from PIL import Image\r\n",
        "from tqdm.notebook import tqdm\r\n",
        "import pickle \r\n",
        "import matplotlib.pylab as plt # plot module\r\n",
        "\r\n",
        "from sklearn.utils import shuffle\r\n",
        "from sklearn.metrics import f1_score\r\n",
        "from sklearn import metrics\r\n",
        "\r\n",
        "import torch\r\n",
        "import torch.nn.functional as F\r\n",
        "from torch.utils.data import Dataset, DataLoader\r\n",
        "import torch.nn as nn\r\n",
        "from torchvision import transforms\r\n",
        "import torchvision.models as models"
      ],
      "execution_count": 3,
      "outputs": []
    },
    {
      "cell_type": "code",
      "metadata": {
        "colab": {
          "base_uri": "https://localhost:8080/"
        },
        "id": "tmeilzOhzTaS",
        "outputId": "0f96dc2b-11d5-437c-e382-232984dcc183"
      },
      "source": [
        "if torch.cuda.is_available():\r\n",
        "  device = torch.device('cuda:0')\r\n",
        "  print('GPU is avalible.')\r\n",
        "  print('Working on:', torch.cuda.get_device_name())\r\n",
        "else:\r\n",
        "  device = torch.device('cpu')\r\n",
        "  print('GPU is not avalible.')\r\n",
        "  print('Working on CPU')"
      ],
      "execution_count": 4,
      "outputs": [
        {
          "output_type": "stream",
          "text": [
            "GPU is avalible.\n",
            "Working on: Tesla T4\n"
          ],
          "name": "stdout"
        }
      ]
    },
    {
      "cell_type": "code",
      "metadata": {
        "id": "fmGwVE0blIwN"
      },
      "source": [
        "with open('/content/drive/MyDrive/Projects/AI_CUP-Mango/C2_TrainDev/processed_data/baseline_crop/train_feature.pkl', 'rb') as f:\r\n",
        "    train_feature = pickle.load(f)\r\n",
        "\r\n",
        "with open('/content/drive/MyDrive/Projects/AI_CUP-Mango/C2_TrainDev/processed_data/baseline_crop/dev_feature.pkl', 'rb') as f:\r\n",
        "    dev_feature = pickle.load(f)"
      ],
      "execution_count": 5,
      "outputs": []
    },
    {
      "cell_type": "code",
      "metadata": {
        "colab": {
          "base_uri": "https://localhost:8080/"
        },
        "id": "7A2E6Fe_uzum",
        "outputId": "88afd8ee-9ec1-4eb5-9006-4f252f4b0a23"
      },
      "source": [
        "print('len of train_feature:',len(train_feature))\r\n",
        "print('len of dev_feature:',len(dev_feature))"
      ],
      "execution_count": 6,
      "outputs": [
        {
          "output_type": "stream",
          "text": [
            "len of train_feature: 43370\n",
            "len of dev_feature: 6280\n"
          ],
          "name": "stdout"
        }
      ]
    },
    {
      "cell_type": "markdown",
      "metadata": {
        "id": "7g7mtvbPmm3m"
      },
      "source": [
        "## Spliting 5 stacks"
      ]
    },
    {
      "cell_type": "markdown",
      "metadata": {
        "id": "ruyaf4OLmst7"
      },
      "source": [
        "train data set"
      ]
    },
    {
      "cell_type": "code",
      "metadata": {
        "id": "PGYw9mdHmqyg"
      },
      "source": [
        "c0_pos = []\r\n",
        "c0_neg = []\r\n",
        "c1_pos = []\r\n",
        "c1_neg = []\r\n",
        "c2_pos = []\r\n",
        "c2_neg = []\r\n",
        "c3_pos = []\r\n",
        "c3_neg = []\r\n",
        "c4_pos = []\r\n",
        "c4_neg = []"
      ],
      "execution_count": 7,
      "outputs": []
    },
    {
      "cell_type": "code",
      "metadata": {
        "id": "jMDc_f3MvHii"
      },
      "source": [
        "for img, label in train_feature:\r\n",
        "    if label[0][0] == 1:\r\n",
        "        c0_pos.append((img, 1))\r\n",
        "    else:\r\n",
        "        c0_neg.append((img, 0))\r\n",
        "    \r\n",
        "    if label[0][1] == 1:\r\n",
        "        c1_pos.append((img, 1))\r\n",
        "    else:\r\n",
        "        c1_neg.append((img, 0))\r\n",
        "\r\n",
        "    if label[0][2] == 1:\r\n",
        "        c2_pos.append((img, 1))\r\n",
        "    else:\r\n",
        "        c2_neg.append((img, 0))\r\n",
        "        \r\n",
        "    if label[0][3] == 1:\r\n",
        "        c3_pos.append((img, 1))\r\n",
        "    else:\r\n",
        "        c3_neg.append((img, 0))\r\n",
        "        \r\n",
        "    if label[0][4] == 1:\r\n",
        "        c4_pos.append((img, 1))\r\n",
        "    else:\r\n",
        "        c4_neg.append((img, 0))"
      ],
      "execution_count": 8,
      "outputs": []
    },
    {
      "cell_type": "markdown",
      "metadata": {
        "id": "3JO-g_PvvMTm"
      },
      "source": [
        "Dev data set"
      ]
    },
    {
      "cell_type": "code",
      "metadata": {
        "id": "dlGzQKlZvLWq"
      },
      "source": [
        "c0_pos_dev = []\r\n",
        "c0_neg_dev = []\r\n",
        "c1_pos_dev = []\r\n",
        "c1_neg_dev = []\r\n",
        "c2_pos_dev = []\r\n",
        "c2_neg_dev = []\r\n",
        "c3_pos_dev = []\r\n",
        "c3_neg_dev = []\r\n",
        "c4_pos_dev = []\r\n",
        "c4_neg_dev = []"
      ],
      "execution_count": 9,
      "outputs": []
    },
    {
      "cell_type": "code",
      "metadata": {
        "id": "w42D9y5gvPVJ"
      },
      "source": [
        "for img, label in dev_feature:\r\n",
        "    if label[0][0] == 1:\r\n",
        "        c0_pos_dev.append((img, 1))\r\n",
        "    else:\r\n",
        "        c0_neg_dev.append((img, 0))\r\n",
        "    \r\n",
        "    if label[0][1] == 1:\r\n",
        "        c1_pos_dev.append((img, 1))\r\n",
        "    else:\r\n",
        "        c1_neg_dev.append((img, 0))\r\n",
        "\r\n",
        "    if label[0][2] == 1:\r\n",
        "        c2_pos_dev.append((img, 1))\r\n",
        "    else:\r\n",
        "        c2_neg_dev.append((img, 0))\r\n",
        "        \r\n",
        "    if label[0][3] == 1:\r\n",
        "        c3_pos_dev.append((img, 1))\r\n",
        "    else:\r\n",
        "        c3_neg_dev.append((img, 0))\r\n",
        "        \r\n",
        "    if label[0][4] == 1:\r\n",
        "        c4_pos_dev.append((img, 1))\r\n",
        "    else:\r\n",
        "        c4_neg_dev.append((img, 0))"
      ],
      "execution_count": 10,
      "outputs": []
    },
    {
      "cell_type": "code",
      "metadata": {
        "colab": {
          "base_uri": "https://localhost:8080/"
        },
        "id": "OtmK7E06vSJy",
        "outputId": "188e662c-404f-49cc-8fcd-e025ecfceb3e"
      },
      "source": [
        "print('Train:')\r\n",
        "print('c0: pos= {:<5}  neg= {:<5}  sum= {:<5}'.format(len(c0_pos), len(c0_neg), len(c0_pos)+len(c0_neg)))\r\n",
        "print('c1: pos= {:<5}  neg= {:<5}  sum= {:<5}'.format(len(c1_pos), len(c1_neg), len(c1_pos)+len(c1_neg)))\r\n",
        "print('c2: pos= {:<5}  neg= {:<5}  sum= {:<5}'.format(len(c2_pos), len(c2_neg), len(c2_pos)+len(c2_neg)))\r\n",
        "print('c3: pos= {:<5}  neg= {:<5}  sum= {:<5}'.format(len(c3_pos), len(c3_neg), len(c3_pos)+len(c3_neg)))\r\n",
        "print('c4: pos= {:<5}  neg= {:<5}  sum= {:<5}'.format(len(c4_pos), len(c4_neg), len(c4_pos)+len(c4_neg)))\r\n",
        "print()\r\n",
        "\r\n",
        "print('Dev:')\r\n",
        "print('c0: pos= {:<5}  neg= {:<5}  sum= {:<5}'.format(len(c0_pos_dev), len(c0_neg_dev), len(c0_pos_dev)+len(c0_neg_dev)))\r\n",
        "print('c1: pos= {:<5}  neg= {:<5}  sum= {:<5}'.format(len(c1_pos_dev), len(c1_neg_dev), len(c1_pos_dev)+len(c1_neg_dev)))\r\n",
        "print('c2: pos= {:<5}  neg= {:<5}  sum= {:<5}'.format(len(c2_pos_dev), len(c2_neg_dev), len(c2_pos_dev)+len(c2_neg_dev)))\r\n",
        "print('c3: pos= {:<5}  neg= {:<5}  sum= {:<5}'.format(len(c3_pos_dev), len(c3_neg_dev), len(c3_pos_dev)+len(c3_neg_dev)))\r\n",
        "print('c4: pos= {:<5}  neg= {:<5}  sum= {:<5}'.format(len(c4_pos_dev), len(c4_neg_dev), len(c4_pos_dev)+len(c4_neg_dev)))"
      ],
      "execution_count": 11,
      "outputs": [
        {
          "output_type": "stream",
          "text": [
            "Train:\n",
            "c0: pos= 2579   neg= 40791  sum= 43370\n",
            "c1: pos= 502    neg= 42868  sum= 43370\n",
            "c2: pos= 23587  neg= 19783  sum= 43370\n",
            "c3: pos= 15045  neg= 28325  sum= 43370\n",
            "c4: pos= 1657   neg= 41713  sum= 43370\n",
            "\n",
            "Dev:\n",
            "c0: pos= 391    neg= 5889   sum= 6280 \n",
            "c1: pos= 90     neg= 6190   sum= 6280 \n",
            "c2: pos= 3504   neg= 2776   sum= 6280 \n",
            "c3: pos= 1997   neg= 4283   sum= 6280 \n",
            "c4: pos= 298    neg= 5982   sum= 6280 \n"
          ],
          "name": "stdout"
        }
      ]
    },
    {
      "cell_type": "markdown",
      "metadata": {
        "id": "g0vAtfUrvViV"
      },
      "source": [
        "## Combining pos and net data"
      ]
    },
    {
      "cell_type": "code",
      "metadata": {
        "id": "ge7Q20wVvUBI"
      },
      "source": [
        "def data_list(pos_list, neg_list):\r\n",
        "    \"\"\"\r\n",
        "    把正負資料合併並打散後，輸出資料\r\n",
        "    \"\"\"\r\n",
        "    pos = pos_list\r\n",
        "    neg = neg_list\r\n",
        "    output = pos + neg        \r\n",
        "    output = shuffle(output, random_state=0)\r\n",
        "    return output"
      ],
      "execution_count": 13,
      "outputs": []
    },
    {
      "cell_type": "code",
      "metadata": {
        "id": "1efREcL3vkrf"
      },
      "source": [
        "c0 = data_list(c0_pos, c0_neg)\r\n",
        "c1 = data_list(c1_pos, c1_neg)\r\n",
        "c2 = data_list(c2_pos, c2_neg)\r\n",
        "c3 = data_list(c3_pos, c3_neg)\r\n",
        "c4 = data_list(c4_pos, c4_neg)\r\n",
        "\r\n",
        "c0_dev = data_list(c0_pos_dev, c0_neg_dev)\r\n",
        "c1_dev = data_list(c1_pos_dev, c1_neg_dev)\r\n",
        "c2_dev = data_list(c2_pos_dev, c2_neg_dev)\r\n",
        "c3_dev = data_list(c3_pos_dev, c3_neg_dev)\r\n",
        "c4_dev = data_list(c4_pos_dev, c4_neg_dev)"
      ],
      "execution_count": 14,
      "outputs": []
    },
    {
      "cell_type": "markdown",
      "metadata": {
        "id": "fYYnLGZwvsca"
      },
      "source": [
        "## Check label balance"
      ]
    },
    {
      "cell_type": "code",
      "metadata": {
        "id": "Fgc7qAVXvsBJ"
      },
      "source": [
        "def check_balance(data):\r\n",
        "    \"\"\"\r\n",
        "    檢查資料數量是否一致\r\n",
        "    \"\"\"\r\n",
        "    pos=0\r\n",
        "    neg=0\r\n",
        "    for i,j in data:\r\n",
        "        if j == 1:\r\n",
        "            pos += 1\r\n",
        "        else:\r\n",
        "            neg += 1\r\n",
        "    print('pos:',pos)\r\n",
        "    print('neg:',neg)\r\n",
        "    print('sum:',pos+neg)"
      ],
      "execution_count": 15,
      "outputs": []
    },
    {
      "cell_type": "code",
      "metadata": {
        "colab": {
          "base_uri": "https://localhost:8080/"
        },
        "id": "EwYu2YUDvxqO",
        "outputId": "dab565eb-7e2a-43d9-95ae-b83e3c2d4d70"
      },
      "source": [
        "print('Train:')\r\n",
        "print()\r\n",
        "for i in [c0, c1, c2, c3, c4]:\r\n",
        "    check_balance(i)\r\n",
        "    print('-'*10)"
      ],
      "execution_count": 16,
      "outputs": [
        {
          "output_type": "stream",
          "text": [
            "Train:\n",
            "\n",
            "pos: 2579\n",
            "neg: 40791\n",
            "sum: 43370\n",
            "----------\n",
            "pos: 502\n",
            "neg: 42868\n",
            "sum: 43370\n",
            "----------\n",
            "pos: 23587\n",
            "neg: 19783\n",
            "sum: 43370\n",
            "----------\n",
            "pos: 15045\n",
            "neg: 28325\n",
            "sum: 43370\n",
            "----------\n",
            "pos: 1657\n",
            "neg: 41713\n",
            "sum: 43370\n",
            "----------\n"
          ],
          "name": "stdout"
        }
      ]
    },
    {
      "cell_type": "code",
      "metadata": {
        "colab": {
          "base_uri": "https://localhost:8080/"
        },
        "id": "i5Z2Scohv0nH",
        "outputId": "d0baffe2-bd89-493c-fc00-d33f371a034c"
      },
      "source": [
        "print('Dev:')\r\n",
        "print()\r\n",
        "for i in [c0_dev, c1_dev, c2_dev, c3_dev, c4_dev]:\r\n",
        "    check_balance(i)\r\n",
        "    print('-'*10)"
      ],
      "execution_count": 17,
      "outputs": [
        {
          "output_type": "stream",
          "text": [
            "Dev:\n",
            "\n",
            "pos: 391\n",
            "neg: 5889\n",
            "sum: 6280\n",
            "----------\n",
            "pos: 90\n",
            "neg: 6190\n",
            "sum: 6280\n",
            "----------\n",
            "pos: 3504\n",
            "neg: 2776\n",
            "sum: 6280\n",
            "----------\n",
            "pos: 1997\n",
            "neg: 4283\n",
            "sum: 6280\n",
            "----------\n",
            "pos: 298\n",
            "neg: 5982\n",
            "sum: 6280\n",
            "----------\n"
          ],
          "name": "stdout"
        }
      ]
    },
    {
      "cell_type": "markdown",
      "metadata": {
        "id": "GrzoLupVv7zU"
      },
      "source": [
        "## Splitting features and labels"
      ]
    },
    {
      "cell_type": "code",
      "metadata": {
        "id": "xc1mlifAv7La"
      },
      "source": [
        "def split_x_y(data):\r\n",
        "    \"\"\"\r\n",
        "    把資料中的 feature 跟 label 分離\r\n",
        "    \"\"\"\r\n",
        "    X=[]\r\n",
        "    y=[]\r\n",
        "    for i,j in data:\r\n",
        "        X.append(i)\r\n",
        "        y.append(j)\r\n",
        "    return X,y"
      ],
      "execution_count": 18,
      "outputs": []
    },
    {
      "cell_type": "code",
      "metadata": {
        "id": "0W6DEYPFv-tF"
      },
      "source": [
        "c0_X, c0_y = split_x_y(c0)\r\n",
        "c1_X, c1_y = split_x_y(c1)\r\n",
        "c2_X, c2_y = split_x_y(c2)\r\n",
        "c3_X, c3_y = split_x_y(c3)\r\n",
        "c4_X, c4_y = split_x_y(c4)"
      ],
      "execution_count": 19,
      "outputs": []
    },
    {
      "cell_type": "code",
      "metadata": {
        "id": "a3oQ80nxwA6A"
      },
      "source": [
        "c0_X_dev, c0_y_dev = split_x_y(c0_dev)\r\n",
        "c1_X_dev, c1_y_dev = split_x_y(c1_dev)\r\n",
        "c2_X_dev, c2_y_dev = split_x_y(c2_dev)\r\n",
        "c3_X_dev, c3_y_dev = split_x_y(c3_dev)\r\n",
        "c4_X_dev, c4_y_dev = split_x_y(c4_dev)"
      ],
      "execution_count": 20,
      "outputs": []
    },
    {
      "cell_type": "markdown",
      "metadata": {
        "id": "pep-PzNb_U-g"
      },
      "source": [
        "## Function for calc metrics"
      ]
    },
    {
      "cell_type": "code",
      "metadata": {
        "id": "Jl1AO8KIzT_T"
      },
      "source": [
        "def calc_metrics(train=True):\r\n",
        "    if train:\r\n",
        "        (TP, FP, TN, FN) = useful_stuff['train_metric'][-1]\r\n",
        "        print('[Train]Total sample: {}'.format(TP+FP+TN+FN))\r\n",
        "    else:\r\n",
        "        (TP, FP, TN, FN) = useful_stuff['valid_metric'][-1]\r\n",
        "        print('[Dev]Total sample: {}'.format(TP+FP+TN+FN))\r\n",
        "\r\n",
        "    acc = (TP + TN) / (TP + FP + TN + FN)\r\n",
        "\r\n",
        "    recall = TP / (TP + FN) #召回率是在所有正樣本當中，能夠預測多少正樣本的比例\r\n",
        "    specificity = TN / (TN + FP) #特異度是在所有負樣本當中，能夠預測多少負樣本的比例\r\n",
        "\r\n",
        "    precision = TP / (TP + FP) #準確率為在所有預測為正樣本中，有多少為正樣本\r\n",
        "\r\n",
        "    f1 = (2 * recall * precision ) / (recall + precision) #F1-score則是兩者的調和平均數\r\n",
        "    mcc = ( TP*TN - FP*FN ) / np.sqrt( ((TP+FP)*(TP+FN)*(TN+FP)*(TN+FN)) )\r\n",
        "\r\n",
        "    print('TP:',TP)\r\n",
        "    print('FP:',FP)\r\n",
        "    print('TN:',TN)\r\n",
        "    print('FN:',FN)\r\n",
        "    print()\r\n",
        "    print('acc:', acc)\r\n",
        "    print('recall:', recall)\r\n",
        "    print('specificity:', specificity)\r\n",
        "    print('precision:', precision)\r\n",
        "    print('f1:',f1)\r\n",
        "    print('mcc:',mcc)"
      ],
      "execution_count": 41,
      "outputs": []
    },
    {
      "cell_type": "markdown",
      "metadata": {
        "id": "LQh1sMDaz_pK"
      },
      "source": [
        "# class 0"
      ]
    },
    {
      "cell_type": "markdown",
      "metadata": {
        "id": "ETPZjCd__dYT"
      },
      "source": [
        "## dataset"
      ]
    },
    {
      "cell_type": "code",
      "metadata": {
        "id": "byp8Vlrcz-li"
      },
      "source": [
        "class Data(Dataset):\r\n",
        "    def __init__(self, x_list, y_list):\r\n",
        "        self.x_list = x_list\r\n",
        "        self.y_list = y_list\r\n",
        "    \r\n",
        "    def __getitem__(self, idx):\r\n",
        "        x = torch.from_numpy(self.x_list[idx][0])\r\n",
        "        y = torch.tensor(self.y_list[idx])\r\n",
        "\r\n",
        "        return x, y\r\n",
        "\r\n",
        "    def __len__(self):\r\n",
        "        return len(self.x_list)"
      ],
      "execution_count": 25,
      "outputs": []
    },
    {
      "cell_type": "code",
      "metadata": {
        "id": "cig0RoXbivTI"
      },
      "source": [
        "train_set_c0 = Data(c0_X, c0_y)\r\n",
        "dev_set_c0 = Data(c0_X_dev, c0_y_dev)"
      ],
      "execution_count": 26,
      "outputs": []
    },
    {
      "cell_type": "markdown",
      "metadata": {
        "id": "Yhol5qo11yTL"
      },
      "source": [
        "## model"
      ]
    },
    {
      "cell_type": "markdown",
      "metadata": {
        "id": "2ORLqawP0whG"
      },
      "source": [
        "### Prepare"
      ]
    },
    {
      "cell_type": "code",
      "metadata": {
        "id": "Optk7jpJ3Lys"
      },
      "source": [
        " def train(model, train_loader, cv_loader, optimizer, N_train, N_test, epochs=20):\r\n",
        " \r\n",
        "    useful_stuff = {'train_cost':[], 'train_acc':[], 'valid_cost':[], 'valid_acc':[], 'train_metric':[], 'valid_metric':[]} \r\n",
        "\r\n",
        "    for epoch in tqdm(range(epochs)):\r\n",
        "        #training===========================================\r\n",
        "        model.train() # Switch to train mode\r\n",
        "        correct = 0\r\n",
        "        training_loss=[]\r\n",
        "        TP = FP = TN = FN = 0\r\n",
        "\r\n",
        "        for x, y in train_loader:\r\n",
        "            x, y = x.to(device), y.to(device)\r\n",
        "            optimizer.zero_grad()\r\n",
        "            z = model(x)\r\n",
        "            _, yhat = torch.max(z.data, 1)\r\n",
        "            correct += (yhat == y).sum().item()\r\n",
        "            loss = criterion(z, y)\r\n",
        "            loss.backward()\r\n",
        "            optimizer.step()\r\n",
        "            training_loss.append(loss.data.item())\r\n",
        "\r\n",
        "            # calu metric\r\n",
        "            TP += ((yhat == 1) & (y == 1)).sum().item()\r\n",
        "            FP += ((yhat == 1) & (y == 0)).sum().item()\r\n",
        "            TN += ((yhat == 0) & (y == 0)).sum().item()\r\n",
        "            FN += ((yhat == 0) & (y == 1)).sum().item()       \r\n",
        "\r\n",
        "        useful_stuff['train_cost'].append(np.mean(training_loss))\r\n",
        "        useful_stuff['train_acc'].append(correct / N_train)\r\n",
        "        useful_stuff['train_metric'].append((TP, FP, TN, FN))\r\n",
        "\r\n",
        "        print('[epoch {}]'.format(epoch))\r\n",
        "        print('train_acc:',correct / N_train)\r\n",
        "        print('train_loss:',np.mean(training_loss))\r\n",
        "        print()\r\n",
        "\r\n",
        "        #valid==================================================\r\n",
        "        model.eval() # Switch to train mode\r\n",
        "        correct = 0\r\n",
        "        cv_loss=[]\r\n",
        "        TP = FP = TN = FN = 0\r\n",
        "\r\n",
        "        with torch.no_grad():\r\n",
        "          for x_test, y_test in cv_loader:\r\n",
        "            x_test, y_test = x_test.to(device), y_test.to(device)\r\n",
        "            z = model(x_test)\r\n",
        "            _, yhat = torch.max(z.data, 1)\r\n",
        "            correct += (yhat == y_test).sum().item()\r\n",
        "            loss = criterion(z, y_test)         \r\n",
        "            cv_loss.append(loss.data.item())\r\n",
        "\r\n",
        "            # calu metric\r\n",
        "            TP += ((yhat == 1) & (y_test == 1)).sum().item()\r\n",
        "            FP += ((yhat == 1) & (y_test == 0)).sum().item()\r\n",
        "            TN += ((yhat == 0) & (y_test == 0)).sum().item()\r\n",
        "            FN += ((yhat == 0) & (y_test == 1)).sum().item() \r\n",
        "\r\n",
        "          useful_stuff['valid_cost'].append(np.mean(cv_loss))\r\n",
        "          useful_stuff['valid_acc'].append(correct / N_test)\r\n",
        "          useful_stuff['valid_metric'].append((TP, FP, TN, FN))\r\n",
        "\r\n",
        "        print('train_acc:',correct / N_test)\r\n",
        "        print('train_loss:',np.mean(np.mean(cv_loss)))\r\n",
        "        print('='*10)\r\n",
        "\r\n",
        "        scheduler.step(np.mean(cv_loss)) # learning rate scheduler <---------------------------------------------------------\r\n",
        "\r\n",
        "    return useful_stuff"
      ],
      "execution_count": 73,
      "outputs": []
    },
    {
      "cell_type": "code",
      "metadata": {
        "id": "b20utJOT1xo2"
      },
      "source": [
        "class Net(nn.Module):   \r\n",
        "    # Constructor\r\n",
        "    def __init__(self,neuron=100, p=0.1):\r\n",
        "        super(Net, self).__init__()\r\n",
        "        self.neuron=neuron\r\n",
        "        self.drop=p\r\n",
        "\r\n",
        "        self.step = nn.Sequential(\r\n",
        "            nn.Linear(2000, self.neuron),\r\n",
        "            nn.BatchNorm1d(self.neuron),\r\n",
        "            nn.ReLU(),\r\n",
        "            nn.Dropout(self.drop),\r\n",
        "\r\n",
        "            nn.Linear(self.neuron, self.neuron),\r\n",
        "            nn.BatchNorm1d(self.neuron),\r\n",
        "            nn.ReLU(),\r\n",
        "            nn.Dropout(self.drop),\r\n",
        "\r\n",
        "            nn.Linear(self.neuron, 2),           \r\n",
        "        )\r\n",
        "    def forward(self, x):\r\n",
        "        x = self.step(x)\r\n",
        "        return x"
      ],
      "execution_count": 74,
      "outputs": []
    },
    {
      "cell_type": "markdown",
      "metadata": {
        "id": "AR-n7K58bfVq"
      },
      "source": [
        "### Hpyer parameters"
      ]
    },
    {
      "cell_type": "code",
      "metadata": {
        "id": "3yVcLn5b5BsC"
      },
      "source": [
        "model_c0 = Net(neuron=100, p=0.2)\r\n",
        "model_c0.to(device);\r\n",
        "\r\n",
        "N_train = len(train_set_c0)\r\n",
        "N_test = len(dev_set_c0)\r\n",
        "\r\n",
        "weights = [1.0, 15.82]\r\n",
        "class_weights = torch.FloatTensor(weights).to(device)\r\n",
        "criterion = nn.CrossEntropyLoss(weight=class_weights)\r\n",
        "\r\n",
        "learning_rate = 0.0005\r\n",
        "optimizer = torch.optim.AdamW(model_c0.parameters(), lr=learning_rate, amsgrad=True)\r\n",
        "\r\n",
        "train_loader = DataLoader(train_set_c0, batch_size=32, shuffle=True)\r\n",
        "dev_loader = DataLoader(dev_set_c0, batch_size=64)\r\n",
        "\r\n",
        "scheduler = torch.optim.lr_scheduler.ReduceLROnPlateau(optimizer, 'min', patience=3, factor=0.1) # learning rate decay"
      ],
      "execution_count": 75,
      "outputs": []
    },
    {
      "cell_type": "markdown",
      "metadata": {
        "id": "4-XSqzbMbkx6"
      },
      "source": [
        "## training"
      ]
    },
    {
      "cell_type": "code",
      "metadata": {
        "colab": {
          "base_uri": "https://localhost:8080/",
          "height": 1000,
          "referenced_widgets": [
            "74cb8690b15c42ff9092a10c026558e6",
            "e3196989903e4b24ba785886da91e796",
            "a2df63a000e44d01ab811bb1abb2fdf0",
            "9038908ca47046d481a09ecce4350881",
            "59f8e07834184d11a16b2793678f7abd",
            "cff81b8e6faa49f48c1a3cf83d563cc2",
            "634ad0fad0bc43d39b2d64004e5535a7",
            "aa26384415bf45c4bf15a59c41a62777"
          ]
        },
        "id": "qRFmuV005ZQE",
        "outputId": "52e0205b-0a82-41e4-f34f-c9eef5dbc6b0"
      },
      "source": [
        "useful_stuff = train(model=model_c0, train_loader=train_loader, cv_loader=dev_loader, N_train=N_train, N_test=N_test, optimizer=optimizer, epochs=20)"
      ],
      "execution_count": 76,
      "outputs": [
        {
          "output_type": "display_data",
          "data": {
            "application/vnd.jupyter.widget-view+json": {
              "model_id": "74cb8690b15c42ff9092a10c026558e6",
              "version_minor": 0,
              "version_major": 2
            },
            "text/plain": [
              "HBox(children=(FloatProgress(value=0.0, max=20.0), HTML(value='')))"
            ]
          },
          "metadata": {
            "tags": []
          }
        },
        {
          "output_type": "stream",
          "text": [
            "[epoch 0]\n",
            "train_acc: 0.7906848051648605\n",
            "train_loss: 0.5069794545505075\n",
            "\n",
            "train_acc: 0.828343949044586\n",
            "train_loss: 0.45889090844477065\n",
            "==========\n",
            "[epoch 1]\n",
            "train_acc: 0.8231035277841826\n",
            "train_loss: 0.4592784795481547\n",
            "\n",
            "train_acc: 0.8498407643312101\n",
            "train_loss: 0.4147988500619175\n",
            "==========\n",
            "[epoch 2]\n",
            "train_acc: 0.8341480285911921\n",
            "train_loss: 0.4370427578357996\n",
            "\n",
            "train_acc: 0.8428343949044586\n",
            "train_loss: 0.4279720027639408\n",
            "==========\n",
            "[epoch 3]\n",
            "train_acc: 0.8384367074014296\n",
            "train_loss: 0.42213975676063414\n",
            "\n",
            "train_acc: 0.8576433121019108\n",
            "train_loss: 0.4083664956116917\n",
            "==========\n",
            "[epoch 4]\n",
            "train_acc: 0.8394973483975098\n",
            "train_loss: 0.4160907743031648\n",
            "\n",
            "train_acc: 0.8421974522292993\n",
            "train_loss: 0.3925143636838354\n",
            "==========\n",
            "[epoch 5]\n",
            "train_acc: 0.8413419414341711\n",
            "train_loss: 0.40705389283311755\n",
            "\n",
            "train_acc: 0.8243630573248407\n",
            "train_loss: 0.38725613448957\n",
            "==========\n",
            "[epoch 6]\n",
            "train_acc: 0.8488817154715241\n",
            "train_loss: 0.3987472969434254\n",
            "\n",
            "train_acc: 0.85\n",
            "train_loss: 0.3986917698022091\n",
            "==========\n",
            "[epoch 7]\n",
            "train_acc: 0.8472676965644454\n",
            "train_loss: 0.39061284224587906\n",
            "\n",
            "train_acc: 0.8383757961783439\n",
            "train_loss: 0.38474003142780727\n",
            "==========\n",
            "[epoch 8]\n",
            "train_acc: 0.854945815079548\n",
            "train_loss: 0.3790529466627006\n",
            "\n",
            "train_acc: 0.8718152866242038\n",
            "train_loss: 0.39571846284047524\n",
            "==========\n",
            "[epoch 9]\n",
            "train_acc: 0.8563753746829605\n",
            "train_loss: 0.3855995472773338\n",
            "\n",
            "train_acc: 0.8632165605095541\n",
            "train_loss: 0.3796247865515526\n",
            "==========\n",
            "[epoch 10]\n",
            "train_acc: 0.8591653216509108\n",
            "train_loss: 0.3714282849369499\n",
            "\n",
            "train_acc: 0.8756369426751592\n",
            "train_loss: 0.38533350825309753\n",
            "==========\n",
            "[epoch 11]\n",
            "train_acc: 0.8620013834447775\n",
            "train_loss: 0.3659960091070088\n",
            "\n",
            "train_acc: 0.8388535031847134\n",
            "train_loss: 0.38506755202707615\n",
            "==========\n",
            "[epoch 12]\n",
            "train_acc: 0.8623472446391515\n",
            "train_loss: 0.3587846738783571\n",
            "\n",
            "train_acc: 0.8601910828025477\n",
            "train_loss: 0.38078853901889587\n",
            "==========\n",
            "[epoch 13]\n",
            "train_acc: 0.8689647221581739\n",
            "train_loss: 0.34916732995427463\n",
            "\n",
            "train_acc: 0.8753184713375797\n",
            "train_loss: 0.38309830299230535\n",
            "==========\n",
            "[epoch 14]\n",
            "train_acc: 0.8737606640534932\n",
            "train_loss: 0.33398114753046393\n",
            "\n",
            "train_acc: 0.8648089171974522\n",
            "train_loss: 0.3706628019460524\n",
            "==========\n",
            "[epoch 15]\n",
            "train_acc: 0.8760664053493198\n",
            "train_loss: 0.32265686438828267\n",
            "\n",
            "train_acc: 0.8659235668789809\n",
            "train_loss: 0.3688515397635373\n",
            "==========\n",
            "[epoch 16]\n",
            "train_acc: 0.8775651371916071\n",
            "train_loss: 0.3193790738396676\n",
            "\n",
            "train_acc: 0.867515923566879\n",
            "train_loss: 0.36865621127865533\n",
            "==========\n",
            "[epoch 17]\n",
            "train_acc: 0.8796172469448927\n",
            "train_loss: 0.3111499103341131\n",
            "\n",
            "train_acc: 0.8654458598726115\n",
            "train_loss: 0.36983109220410837\n",
            "==========\n",
            "[epoch 18]\n",
            "train_acc: 0.8807931750057644\n",
            "train_loss: 0.3106356771349643\n",
            "\n",
            "train_acc: 0.8605095541401274\n",
            "train_loss: 0.3679816990789741\n",
            "==========\n",
            "[epoch 19]\n",
            "train_acc: 0.882499423564676\n",
            "train_loss: 0.306597456352505\n",
            "\n",
            "train_acc: 0.865764331210191\n",
            "train_loss: 0.36761200036665403\n",
            "==========\n",
            "\n"
          ],
          "name": "stdout"
        }
      ]
    },
    {
      "cell_type": "markdown",
      "metadata": {
        "id": "R8f1biQ5bnmq"
      },
      "source": [
        "## Learning Curve"
      ]
    },
    {
      "cell_type": "code",
      "metadata": {
        "colab": {
          "base_uri": "https://localhost:8080/",
          "height": 573
        },
        "id": "748u3sRe-cUG",
        "outputId": "bcc1ae30-7967-4090-8f94-343a8492e570"
      },
      "source": [
        "plt.plot(useful_stuff['train_acc'], label='train_acc')\r\n",
        "plt.plot(useful_stuff['valid_acc'], label='cv_acc')\r\n",
        "plt.title('train / valid  accuracy')\r\n",
        "plt.xlabel('epochs')\r\n",
        "plt.ylabel('acc')\r\n",
        "#axes = plt.gca()\r\n",
        "#axes.set_ylim([0.4, 1])\r\n",
        "plt.legend()\r\n",
        "plt.grid()\r\n",
        "plt.show()\r\n",
        "\r\n",
        "plt.plot(useful_stuff['train_cost'], label='train_cost')\r\n",
        "plt.plot(useful_stuff['valid_cost'], label='cv_acc')\r\n",
        "plt.title('train / valid  loss')\r\n",
        "plt.xlabel('epochs')\r\n",
        "plt.ylabel('loss')\r\n",
        "#axes = plt.gca()\r\n",
        "#axes.set_ylim([0, 1])\r\n",
        "plt.legend()\r\n",
        "plt.grid()\r\n",
        "plt.show()"
      ],
      "execution_count": 77,
      "outputs": [
        {
          "output_type": "display_data",
          "data": {
            "image/png": "[encoded data removed]",
            "text/plain": [
              "<Figure size 432x288 with 1 Axes>"
            ]
          },
          "metadata": {
            "tags": [],
            "needs_background": "light"
          }
        },
        {
          "output_type": "display_data",
          "data": {
            "image/png": "[encoded data removed]",
            "text/plain": [
              "<Figure size 432x288 with 1 Axes>"
            ]
          },
          "metadata": {
            "tags": [],
            "needs_background": "light"
          }
        }
      ]
    },
    {
      "cell_type": "code",
      "metadata": {
        "colab": {
          "base_uri": "https://localhost:8080/"
        },
        "id": "WQ-9lzbiY6fn",
        "outputId": "9d793beb-ec14-4660-bdc8-f432b11ac73b"
      },
      "source": [
        "calc_metrics()\r\n",
        "print('-'*20)\r\n",
        "print()\r\n",
        "calc_metrics(False)"
      ],
      "execution_count": 78,
      "outputs": [
        {
          "output_type": "stream",
          "text": [
            "[Train]Total sample: 43370\n",
            "TP: 2215\n",
            "FP: 4732\n",
            "TN: 36059\n",
            "FN: 364\n",
            "\n",
            "acc: 0.882499423564676\n",
            "recall: 0.8588600232648314\n",
            "specificity: 0.8839940182883479\n",
            "precision: 0.31884266589894916\n",
            "f1: 0.46504304010077685\n",
            "mcc: 0.47898821849918305\n",
            "--------------------\n",
            "\n",
            "[Dev]Total sample: 6280\n",
            "TP: 315\n",
            "FP: 767\n",
            "TN: 5122\n",
            "FN: 76\n",
            "\n",
            "acc: 0.865764331210191\n",
            "recall: 0.8056265984654731\n",
            "specificity: 0.869757174392936\n",
            "precision: 0.2911275415896488\n",
            "f1: 0.42769857433808556\n",
            "mcc: 0.4321435245629928\n"
          ],
          "name": "stdout"
        }
      ]
    },
    {
      "cell_type": "markdown",
      "metadata": {
        "id": "giETbnwO04DS"
      },
      "source": [
        "# class 1"
      ]
    },
    {
      "cell_type": "markdown",
      "metadata": {
        "id": "OZTyOAYLAWWB"
      },
      "source": [
        "## dataset"
      ]
    },
    {
      "cell_type": "code",
      "metadata": {
        "id": "9e4RFO2Z04DY"
      },
      "source": [
        "class Data(Dataset):\r\n",
        "    def __init__(self, x_list, y_list):\r\n",
        "        self.x_list = x_list\r\n",
        "        self.y_list = y_list\r\n",
        "    \r\n",
        "    def __getitem__(self, idx):\r\n",
        "        x = torch.from_numpy(self.x_list[idx][0])\r\n",
        "        y = torch.tensor(self.y_list[idx])\r\n",
        "\r\n",
        "        return x, y\r\n",
        "\r\n",
        "    def __len__(self):\r\n",
        "        return len(self.x_list)"
      ],
      "execution_count": 55,
      "outputs": []
    },
    {
      "cell_type": "code",
      "metadata": {
        "id": "NRnVqjgw04DZ"
      },
      "source": [
        "train_set_c1 = Data(c1_X, c1_y)\r\n",
        "dev_set_c1 = Data(c1_X_dev, c1_y_dev)"
      ],
      "execution_count": 56,
      "outputs": []
    },
    {
      "cell_type": "markdown",
      "metadata": {
        "id": "crWtKzpr04DZ"
      },
      "source": [
        "## model"
      ]
    },
    {
      "cell_type": "markdown",
      "metadata": {
        "id": "83f201BW04DZ"
      },
      "source": [
        "### Prepare"
      ]
    },
    {
      "cell_type": "code",
      "metadata": {
        "id": "7BGsDaQ004DZ"
      },
      "source": [
        " def train(model, train_loader, cv_loader, optimizer, N_train, N_test, epochs=20):\r\n",
        " \r\n",
        "    useful_stuff = {'train_cost':[], 'train_acc':[], 'valid_cost':[], 'valid_acc':[], 'train_metric':[], 'valid_metric':[]} \r\n",
        "\r\n",
        "    for epoch in tqdm(range(epochs)):\r\n",
        "        #training===========================================\r\n",
        "        model.train() # Switch to train mode\r\n",
        "        correct = 0\r\n",
        "        training_loss=[]\r\n",
        "        TP = FP = TN = FN = 0\r\n",
        "\r\n",
        "        for x, y in train_loader:\r\n",
        "            x, y = x.to(device), y.to(device)\r\n",
        "            optimizer.zero_grad()\r\n",
        "            z = model(x)\r\n",
        "            _, yhat = torch.max(z.data, 1)\r\n",
        "            correct += (yhat == y).sum().item()\r\n",
        "            loss = criterion(z, y)\r\n",
        "            loss.backward()\r\n",
        "            optimizer.step()\r\n",
        "            training_loss.append(loss.data.item())\r\n",
        "\r\n",
        "            # calu metric\r\n",
        "            TP += ((yhat == 1) & (y == 1)).sum().item()\r\n",
        "            FP += ((yhat == 1) & (y == 0)).sum().item()\r\n",
        "            TN += ((yhat == 0) & (y == 0)).sum().item()\r\n",
        "            FN += ((yhat == 0) & (y == 1)).sum().item()       \r\n",
        "\r\n",
        "        useful_stuff['train_cost'].append(np.mean(training_loss))\r\n",
        "        useful_stuff['train_acc'].append(correct / N_train)\r\n",
        "        useful_stuff['train_metric'].append((TP, FP, TN, FN))\r\n",
        "\r\n",
        "        print('[epoch {}]'.format(epoch))\r\n",
        "        print('train_acc:',correct / N_train)\r\n",
        "        print('train_loss:',np.mean(training_loss))\r\n",
        "        print()\r\n",
        "\r\n",
        "        #valid==================================================\r\n",
        "        model.eval() # Switch to train mode\r\n",
        "        correct = 0\r\n",
        "        cv_loss=[]\r\n",
        "        TP = FP = TN = FN = 0\r\n",
        "\r\n",
        "        with torch.no_grad():\r\n",
        "          for x_test, y_test in cv_loader:\r\n",
        "            x_test, y_test = x_test.to(device), y_test.to(device)\r\n",
        "            z = model(x_test)\r\n",
        "            _, yhat = torch.max(z.data, 1)\r\n",
        "            correct += (yhat == y_test).sum().item()\r\n",
        "            loss = criterion(z, y_test)         \r\n",
        "            cv_loss.append(loss.data.item())\r\n",
        "\r\n",
        "            # calu metric\r\n",
        "            TP += ((yhat == 1) & (y_test == 1)).sum().item()\r\n",
        "            FP += ((yhat == 1) & (y_test == 0)).sum().item()\r\n",
        "            TN += ((yhat == 0) & (y_test == 0)).sum().item()\r\n",
        "            FN += ((yhat == 0) & (y_test == 1)).sum().item() \r\n",
        "\r\n",
        "          useful_stuff['valid_cost'].append(np.mean(cv_loss))\r\n",
        "          useful_stuff['valid_acc'].append(correct / N_test)\r\n",
        "          useful_stuff['valid_metric'].append((TP, FP, TN, FN))\r\n",
        "\r\n",
        "        print('train_acc:',correct / N_test)\r\n",
        "        print('train_loss:',np.mean(np.mean(cv_loss)))\r\n",
        "        print('='*10)\r\n",
        "\r\n",
        "        scheduler.step(np.mean(cv_loss)) # learning rate scheduler <---------------------------------------------------------\r\n",
        "\r\n",
        "    return useful_stuff"
      ],
      "execution_count": 57,
      "outputs": []
    },
    {
      "cell_type": "code",
      "metadata": {
        "id": "O3yDFoeZ04Da"
      },
      "source": [
        "class Net(nn.Module):   \r\n",
        "    # Constructor\r\n",
        "    def __init__(self,neuron=100, p=0.1):\r\n",
        "        super(Net, self).__init__()\r\n",
        "        self.neuron=neuron\r\n",
        "        self.drop=p\r\n",
        "\r\n",
        "        self.step = nn.Sequential(\r\n",
        "            nn.Linear(2000, self.neuron),\r\n",
        "            nn.BatchNorm1d(self.neuron),\r\n",
        "            nn.ReLU(),\r\n",
        "            nn.Dropout(self.drop),\r\n",
        "\r\n",
        "            nn.Linear(self.neuron, self.neuron),\r\n",
        "            nn.BatchNorm1d(self.neuron),\r\n",
        "            nn.ReLU(),\r\n",
        "            nn.Dropout(self.drop),\r\n",
        "\r\n",
        "            nn.Linear(self.neuron, 2),           \r\n",
        "        )\r\n",
        "    def forward(self, x):\r\n",
        "        x = self.step(x)\r\n",
        "        return x"
      ],
      "execution_count": 58,
      "outputs": []
    },
    {
      "cell_type": "markdown",
      "metadata": {
        "id": "U34tmony04Da"
      },
      "source": [
        "### Hpyer parameters"
      ]
    },
    {
      "cell_type": "code",
      "metadata": {
        "id": "FtFyD_q204Da"
      },
      "source": [
        "model_c1 = Net(neuron=100, p=0.2)\r\n",
        "model_c1.to(device);\r\n",
        "\r\n",
        "N_train = len(train_set_c1)\r\n",
        "N_test = len(dev_set_c1)\r\n",
        "\r\n",
        "weights = [1.0, 85.39]\r\n",
        "class_weights = torch.FloatTensor(weights).to(device)\r\n",
        "criterion = nn.CrossEntropyLoss(weight=class_weights)\r\n",
        "\r\n",
        "learning_rate = 0.0005\r\n",
        "optimizer = torch.optim.AdamW(model_c1.parameters(), lr=learning_rate, amsgrad=True)\r\n",
        "\r\n",
        "train_loader = DataLoader(train_set_c1, batch_size=32, shuffle=True)\r\n",
        "dev_loader = DataLoader(dev_set_c1, batch_size=64)\r\n",
        "\r\n",
        "scheduler = torch.optim.lr_scheduler.ReduceLROnPlateau(optimizer, 'min', patience=3, factor=0.1) # learning rate decay"
      ],
      "execution_count": 69,
      "outputs": []
    },
    {
      "cell_type": "markdown",
      "metadata": {
        "id": "D5VSVJLW04Da"
      },
      "source": [
        "## training"
      ]
    },
    {
      "cell_type": "code",
      "metadata": {
        "colab": {
          "base_uri": "https://localhost:8080/",
          "height": 1000,
          "referenced_widgets": [
            "3e2756c7b714465185fe63c6376706aa",
            "69e4fa284e254c63b7ee65afe3967ead",
            "a2680038708049798b280e333c888a62",
            "7926da3dbbf84279978f473964388e5e",
            "ad20bddf8b8944e48769b289baa2c45d",
            "507ba6447efe4f1791718d224201fa1b",
            "97d6cefb07154748a5427c76388d2135",
            "7c1d42e353be4ecca8d6fe2427ac0c96"
          ]
        },
        "id": "2Tf7VYOY04Db",
        "outputId": "b14e5d3f-a1bd-481d-a153-6b8ea33fe174"
      },
      "source": [
        "useful_stuff = train(model=model_c1, train_loader=train_loader, cv_loader=dev_loader, N_train=N_train, N_test=N_test, optimizer=optimizer, epochs=20)"
      ],
      "execution_count": 70,
      "outputs": [
        {
          "output_type": "display_data",
          "data": {
            "application/vnd.jupyter.widget-view+json": {
              "model_id": "3e2756c7b714465185fe63c6376706aa",
              "version_minor": 0,
              "version_major": 2
            },
            "text/plain": [
              "HBox(children=(FloatProgress(value=0.0, max=20.0), HTML(value='')))"
            ]
          },
          "metadata": {
            "tags": []
          }
        },
        {
          "output_type": "stream",
          "text": [
            "[epoch 0]\n",
            "train_acc: 0.9413880562600876\n",
            "train_loss: 0.4773673896065152\n",
            "\n",
            "train_acc: 0.9296178343949044\n",
            "train_loss: 0.6291167213760241\n",
            "==========\n",
            "[epoch 1]\n",
            "train_acc: 0.9304818999308277\n",
            "train_loss: 0.4350581362151203\n",
            "\n",
            "train_acc: 0.881687898089172\n",
            "train_loss: 0.5871488331544279\n",
            "==========\n",
            "[epoch 2]\n",
            "train_acc: 0.9287525939589578\n",
            "train_loss: 0.4009187326033031\n",
            "\n",
            "train_acc: 0.9437898089171974\n",
            "train_loss: 0.6278741070718477\n",
            "==========\n",
            "[epoch 3]\n",
            "train_acc: 0.9313811390362001\n",
            "train_loss: 0.38632687797720455\n",
            "\n",
            "train_acc: 0.9450636942675159\n",
            "train_loss: 0.6003666011371998\n",
            "==========\n",
            "[epoch 4]\n",
            "train_acc: 0.9312197371454922\n",
            "train_loss: 0.3674205827463561\n",
            "\n",
            "train_acc: 0.9202229299363057\n",
            "train_loss: 0.6369244253093546\n",
            "==========\n",
            "[epoch 5]\n",
            "train_acc: 0.9316578279916994\n",
            "train_loss: 0.372729138583824\n",
            "\n",
            "train_acc: 0.9184713375796179\n",
            "train_loss: 0.629650325636671\n",
            "==========\n",
            "[epoch 6]\n",
            "train_acc: 0.9290062255014987\n",
            "train_loss: 0.33606861783933323\n",
            "\n",
            "train_acc: 0.9171974522292994\n",
            "train_loss: 0.5926472812589972\n",
            "==========\n",
            "[epoch 7]\n",
            "train_acc: 0.9353239566520637\n",
            "train_loss: 0.31860488568567247\n",
            "\n",
            "train_acc: 0.9272292993630573\n",
            "train_loss: 0.5994871638037942\n",
            "==========\n",
            "[epoch 8]\n",
            "train_acc: 0.9374452386442241\n",
            "train_loss: 0.31390247679147926\n",
            "\n",
            "train_acc: 0.9288216560509555\n",
            "train_loss: 0.606276792784532\n",
            "==========\n",
            "[epoch 9]\n",
            "train_acc: 0.9380216739681808\n",
            "train_loss: 0.30891813313352234\n",
            "\n",
            "train_acc: 0.9347133757961783\n",
            "train_loss: 0.6171112857533224\n",
            "==========\n",
            "[epoch 10]\n",
            "train_acc: 0.9357620474982707\n",
            "train_loss: 0.29881426152171553\n",
            "\n",
            "train_acc: 0.9197452229299363\n",
            "train_loss: 0.591044659641656\n",
            "==========\n",
            "[epoch 11]\n",
            "train_acc: 0.9354161863038967\n",
            "train_loss: 0.30089002864704545\n",
            "\n",
            "train_acc: 0.9337579617834395\n",
            "train_loss: 0.6101803784117554\n",
            "==========\n",
            "[epoch 12]\n",
            "train_acc: 0.9380216739681808\n",
            "train_loss: 0.3069845268167665\n",
            "\n",
            "train_acc: 0.9409235668789809\n",
            "train_loss: 0.6135339895733679\n",
            "==========\n",
            "[epoch 13]\n",
            "train_acc: 0.9384597648143879\n",
            "train_loss: 0.30167210412796885\n",
            "\n",
            "train_acc: 0.9339171974522293\n",
            "train_loss: 0.6164743403593699\n",
            "==========\n",
            "[epoch 14]\n",
            "train_acc: 0.9380908462070555\n",
            "train_loss: 0.31085840096438966\n",
            "\n",
            "train_acc: 0.9329617834394904\n",
            "train_loss: 0.5997535900184603\n",
            "==========\n",
            "[epoch 15]\n",
            "train_acc: 0.9388286834217201\n",
            "train_loss: 0.30386126360919186\n",
            "\n",
            "train_acc: 0.9390127388535032\n",
            "train_loss: 0.6316398707303134\n",
            "==========\n",
            "[epoch 16]\n",
            "train_acc: 0.9377219275997233\n",
            "train_loss: 0.2980367983979857\n",
            "\n",
            "train_acc: 0.9272292993630573\n",
            "train_loss: 0.5956003464231587\n",
            "==========\n",
            "[epoch 17]\n",
            "train_acc: 0.9385058796403044\n",
            "train_loss: 0.29617433705446816\n",
            "\n",
            "train_acc: 0.9218152866242039\n",
            "train_loss: 0.582374747202854\n",
            "==========\n",
            "[epoch 18]\n",
            "train_acc: 0.9373068941664745\n",
            "train_loss: 0.29984170420968953\n",
            "\n",
            "train_acc: 0.9305732484076433\n",
            "train_loss: 0.5996636784437931\n",
            "==========\n",
            "[epoch 19]\n",
            "train_acc: 0.9381600184459303\n",
            "train_loss: 0.3058375261921798\n",
            "\n",
            "train_acc: 0.938375796178344\n",
            "train_loss: 0.6350212148343674\n",
            "==========\n",
            "\n"
          ],
          "name": "stdout"
        }
      ]
    },
    {
      "cell_type": "markdown",
      "metadata": {
        "id": "UBAAaYtt04Db"
      },
      "source": [
        "## Learning Curve"
      ]
    },
    {
      "cell_type": "code",
      "metadata": {
        "colab": {
          "base_uri": "https://localhost:8080/",
          "height": 573
        },
        "id": "4NLyc4SV04Dd",
        "outputId": "af9fcdac-4d24-4a61-9c86-885a42b28ffd"
      },
      "source": [
        "plt.plot(useful_stuff['train_acc'], label='train_acc')\r\n",
        "plt.plot(useful_stuff['valid_acc'], label='cv_acc')\r\n",
        "plt.title('train / valid  accuracy')\r\n",
        "plt.xlabel('epochs')\r\n",
        "plt.ylabel('acc')\r\n",
        "#axes = plt.gca()\r\n",
        "#axes.set_ylim([0.4, 1])\r\n",
        "plt.legend()\r\n",
        "plt.grid()\r\n",
        "plt.show()\r\n",
        "\r\n",
        "plt.plot(useful_stuff['train_cost'], label='train_cost')\r\n",
        "plt.plot(useful_stuff['valid_cost'], label='cv_acc')\r\n",
        "plt.title('train / valid  loss')\r\n",
        "plt.xlabel('epochs')\r\n",
        "plt.ylabel('loss')\r\n",
        "#axes = plt.gca()\r\n",
        "#axes.set_ylim([0, 1])\r\n",
        "plt.legend()\r\n",
        "plt.grid()\r\n",
        "plt.show()"
      ],
      "execution_count": 71,
      "outputs": [
        {
          "output_type": "display_data",
          "data": {
            "image/png": "[encoded data removed]",
            "text/plain": [
              "<Figure size 432x288 with 1 Axes>"
            ]
          },
          "metadata": {
            "tags": [],
            "needs_background": "light"
          }
        },
        {
          "output_type": "display_data",
          "data": {
            "image/png": "[encoded data removed]",
            "text/plain": [
              "<Figure size 432x288 with 1 Axes>"
            ]
          },
          "metadata": {
            "tags": [],
            "needs_background": "light"
          }
        }
      ]
    },
    {
      "cell_type": "code",
      "metadata": {
        "colab": {
          "base_uri": "https://localhost:8080/"
        },
        "id": "qlBcEFjE04Dd",
        "outputId": "25fb3c90-f8fe-48f8-a83b-e3ce2643fa80"
      },
      "source": [
        "calc_metrics()\r\n",
        "print('-'*20)\r\n",
        "print()\r\n",
        "calc_metrics(False)"
      ],
      "execution_count": 72,
      "outputs": [
        {
          "output_type": "stream",
          "text": [
            "[Train]Total sample: 43370\n",
            "TP: 312\n",
            "FP: 2492\n",
            "TN: 40376\n",
            "FN: 190\n",
            "\n",
            "acc: 0.9381600184459303\n",
            "recall: 0.6215139442231076\n",
            "specificity: 0.9418680600914435\n",
            "precision: 0.11126961483594865\n",
            "f1: 0.18874773139745915\n",
            "mcc: 0.24504810157524395\n",
            "--------------------\n",
            "\n",
            "[Dev]Total sample: 6280\n",
            "TP: 33\n",
            "FP: 330\n",
            "TN: 5860\n",
            "FN: 57\n",
            "\n",
            "acc: 0.938375796178344\n",
            "recall: 0.36666666666666664\n",
            "specificity: 0.9466882067851373\n",
            "precision: 0.09090909090909091\n",
            "f1: 0.14569536423841062\n",
            "mcc: 0.15958752356776681\n"
          ],
          "name": "stdout"
        }
      ]
    },
    {
      "cell_type": "markdown",
      "metadata": {
        "id": "omNN3lXx7kjt"
      },
      "source": [
        "# class 2"
      ]
    },
    {
      "cell_type": "code",
      "metadata": {
        "id": "ejG2ac1C7kjw"
      },
      "source": [
        "class Data(Dataset):\r\n",
        "    def __init__(self, x_list, y_list):\r\n",
        "        self.x_list = x_list\r\n",
        "        self.y_list = y_list\r\n",
        "    \r\n",
        "    def __getitem__(self, idx):\r\n",
        "        x = torch.from_numpy(self.x_list[idx][0])\r\n",
        "        y = torch.tensor(self.y_list[idx])\r\n",
        "\r\n",
        "        return x, y\r\n",
        "\r\n",
        "    def __len__(self):\r\n",
        "        return len(self.x_list)"
      ],
      "execution_count": 79,
      "outputs": []
    },
    {
      "cell_type": "code",
      "metadata": {
        "id": "Dp8c_mcH7kjx"
      },
      "source": [
        "train_set_c2 = Data(c2_X, c2_y)\r\n",
        "dev_set_c2 = Data(c2_X_dev, c2_y_dev)"
      ],
      "execution_count": 80,
      "outputs": []
    },
    {
      "cell_type": "markdown",
      "metadata": {
        "id": "6YLk4jEY7kjx"
      },
      "source": [
        "## model"
      ]
    },
    {
      "cell_type": "markdown",
      "metadata": {
        "id": "uTHODMdQ7kjx"
      },
      "source": [
        "### Prepare"
      ]
    },
    {
      "cell_type": "code",
      "metadata": {
        "id": "GTbaPH-H7kjx"
      },
      "source": [
        " def train(model, train_loader, cv_loader, optimizer, N_train, N_test, epochs=20):\r\n",
        " \r\n",
        "    useful_stuff = {'train_cost':[], 'train_acc':[], 'valid_cost':[], 'valid_acc':[], 'train_metric':[], 'valid_metric':[]} \r\n",
        "\r\n",
        "    for epoch in tqdm(range(epochs)):\r\n",
        "        #training===========================================\r\n",
        "        model.train() # Switch to train mode\r\n",
        "        correct = 0\r\n",
        "        training_loss=[]\r\n",
        "        TP = FP = TN = FN = 0\r\n",
        "\r\n",
        "        for x, y in train_loader:\r\n",
        "            x, y = x.to(device), y.to(device)\r\n",
        "            optimizer.zero_grad()\r\n",
        "            z = model(x)\r\n",
        "            _, yhat = torch.max(z.data, 1)\r\n",
        "            correct += (yhat == y).sum().item()\r\n",
        "            loss = criterion(z, y)\r\n",
        "            loss.backward()\r\n",
        "            optimizer.step()\r\n",
        "            training_loss.append(loss.data.item())\r\n",
        "\r\n",
        "            # calu metric\r\n",
        "            TP += ((yhat == 1) & (y == 1)).sum().item()\r\n",
        "            FP += ((yhat == 1) & (y == 0)).sum().item()\r\n",
        "            TN += ((yhat == 0) & (y == 0)).sum().item()\r\n",
        "            FN += ((yhat == 0) & (y == 1)).sum().item()       \r\n",
        "\r\n",
        "        useful_stuff['train_cost'].append(np.mean(training_loss))\r\n",
        "        useful_stuff['train_acc'].append(correct / N_train)\r\n",
        "        useful_stuff['train_metric'].append((TP, FP, TN, FN))\r\n",
        "\r\n",
        "        print('[epoch {}]'.format(epoch))\r\n",
        "        print('train_acc:',correct / N_train)\r\n",
        "        print('train_loss:',np.mean(training_loss))\r\n",
        "        print()\r\n",
        "\r\n",
        "        #valid==================================================\r\n",
        "        model.eval() # Switch to train mode\r\n",
        "        correct = 0\r\n",
        "        cv_loss=[]\r\n",
        "        TP = FP = TN = FN = 0\r\n",
        "\r\n",
        "        with torch.no_grad():\r\n",
        "          for x_test, y_test in cv_loader:\r\n",
        "            x_test, y_test = x_test.to(device), y_test.to(device)\r\n",
        "            z = model(x_test)\r\n",
        "            _, yhat = torch.max(z.data, 1)\r\n",
        "            correct += (yhat == y_test).sum().item()\r\n",
        "            loss = criterion(z, y_test)         \r\n",
        "            cv_loss.append(loss.data.item())\r\n",
        "\r\n",
        "            # calu metric\r\n",
        "            TP += ((yhat == 1) & (y_test == 1)).sum().item()\r\n",
        "            FP += ((yhat == 1) & (y_test == 0)).sum().item()\r\n",
        "            TN += ((yhat == 0) & (y_test == 0)).sum().item()\r\n",
        "            FN += ((yhat == 0) & (y_test == 1)).sum().item() \r\n",
        "\r\n",
        "          useful_stuff['valid_cost'].append(np.mean(cv_loss))\r\n",
        "          useful_stuff['valid_acc'].append(correct / N_test)\r\n",
        "          useful_stuff['valid_metric'].append((TP, FP, TN, FN))\r\n",
        "\r\n",
        "        print('train_acc:',correct / N_test)\r\n",
        "        print('train_loss:',np.mean(np.mean(cv_loss)))\r\n",
        "        print('='*10)\r\n",
        "\r\n",
        "        scheduler.step(np.mean(cv_loss)) # learning rate scheduler <---------------------------------------------------------\r\n",
        "\r\n",
        "    return useful_stuff"
      ],
      "execution_count": 83,
      "outputs": []
    },
    {
      "cell_type": "code",
      "metadata": {
        "id": "xX0Upc057kjy"
      },
      "source": [
        "class Net(nn.Module):   \r\n",
        "    # Constructor\r\n",
        "    def __init__(self,neuron=100, p=0.1):\r\n",
        "        super(Net, self).__init__()\r\n",
        "        self.neuron=neuron\r\n",
        "        self.drop=p\r\n",
        "\r\n",
        "        self.step = nn.Sequential(\r\n",
        "            nn.Linear(2000, self.neuron),\r\n",
        "            nn.BatchNorm1d(self.neuron),\r\n",
        "            nn.ReLU(),\r\n",
        "            nn.Dropout(self.drop),\r\n",
        "\r\n",
        "            nn.Linear(self.neuron, self.neuron),\r\n",
        "            nn.BatchNorm1d(self.neuron),\r\n",
        "            nn.ReLU(),\r\n",
        "            nn.Dropout(self.drop),\r\n",
        "\r\n",
        "            nn.Linear(self.neuron, 2),           \r\n",
        "        )\r\n",
        "    def forward(self, x):\r\n",
        "        x = self.step(x)\r\n",
        "        return x"
      ],
      "execution_count": 84,
      "outputs": []
    },
    {
      "cell_type": "markdown",
      "metadata": {
        "id": "JsvLxG1b7kjy"
      },
      "source": [
        "### Hpyer parameters"
      ]
    },
    {
      "cell_type": "code",
      "metadata": {
        "id": "F5pY9Nhd7kjy"
      },
      "source": [
        "model_c2 = Net(neuron=100, p=0.2)\r\n",
        "model_c2.to(device);\r\n",
        "\r\n",
        "N_train = len(train_set_c2)\r\n",
        "N_test = len(dev_set_c2)\r\n",
        "\r\n",
        "weights = [1.192, 1.0]\r\n",
        "class_weights = torch.FloatTensor(weights).to(device)\r\n",
        "criterion = nn.CrossEntropyLoss(weight=class_weights)\r\n",
        "\r\n",
        "learning_rate = 0.0005\r\n",
        "optimizer = torch.optim.AdamW(model_c2.parameters(), lr=learning_rate, amsgrad=True)\r\n",
        "\r\n",
        "train_loader = DataLoader(train_set_c2, batch_size=32, shuffle=True)\r\n",
        "dev_loader = DataLoader(dev_set_c2, batch_size=64)\r\n",
        "\r\n",
        "scheduler = torch.optim.lr_scheduler.ReduceLROnPlateau(optimizer, 'min', patience=3, factor=0.1) # learning rate decay"
      ],
      "execution_count": 85,
      "outputs": []
    },
    {
      "cell_type": "markdown",
      "metadata": {
        "id": "pHEVxCeK7kjy"
      },
      "source": [
        "## training"
      ]
    },
    {
      "cell_type": "code",
      "metadata": {
        "colab": {
          "base_uri": "https://localhost:8080/",
          "height": 1000,
          "referenced_widgets": [
            "63f3abea618a4daab8d8b68628bb7e72",
            "3f6e862eb5284128bcb16e2e52566bed",
            "f1dc0eb9edbd4a95953c2a8bc805ed6c",
            "3246c04c08104684ad6d49fb272682f8",
            "817e1a759060419f9001c1dbaaacc872",
            "279c0c48befe4b508aa43de261227945",
            "10df6be4c8c84664b31248d4946258c0",
            "b99865e3a20c4f55809fddff563b611f"
          ]
        },
        "id": "wrr4xI7c7kjy",
        "outputId": "5a3cc960-a0a0-4831-ad18-051b7bda49b4"
      },
      "source": [
        "useful_stuff = train(model=model_c2, train_loader=train_loader, cv_loader=dev_loader, N_train=N_train, N_test=N_test, optimizer=optimizer, epochs=20)"
      ],
      "execution_count": 86,
      "outputs": [
        {
          "output_type": "display_data",
          "data": {
            "application/vnd.jupyter.widget-view+json": {
              "model_id": "63f3abea618a4daab8d8b68628bb7e72",
              "version_minor": 0,
              "version_major": 2
            },
            "text/plain": [
              "HBox(children=(FloatProgress(value=0.0, max=20.0), HTML(value='')))"
            ]
          },
          "metadata": {
            "tags": []
          }
        },
        {
          "output_type": "stream",
          "text": [
            "[epoch 0]\n",
            "train_acc: 0.8622319575743601\n",
            "train_loss: 0.3476854516880087\n",
            "\n",
            "train_acc: 0.8834394904458599\n",
            "train_loss: 0.3147687136825889\n",
            "==========\n",
            "[epoch 1]\n",
            "train_acc: 0.881023749135347\n",
            "train_loss: 0.31398347850921937\n",
            "\n",
            "train_acc: 0.8894904458598726\n",
            "train_loss: 0.2994983455147406\n",
            "==========\n",
            "[epoch 2]\n",
            "train_acc: 0.8842748443624625\n",
            "train_loss: 0.30272327905801016\n",
            "\n",
            "train_acc: 0.881687898089172\n",
            "train_loss: 0.3052602797144591\n",
            "==========\n",
            "[epoch 3]\n",
            "train_acc: 0.8872492506340789\n",
            "train_loss: 0.29784175426119547\n",
            "\n",
            "train_acc: 0.882484076433121\n",
            "train_loss: 0.30408776423545797\n",
            "==========\n",
            "[epoch 4]\n",
            "train_acc: 0.8885865805856583\n",
            "train_loss: 0.29319789930408857\n",
            "\n",
            "train_acc: 0.884235668789809\n",
            "train_loss: 0.30161886684822314\n",
            "==========\n",
            "[epoch 5]\n",
            "train_acc: 0.8896472215817385\n",
            "train_loss: 0.28935317558876533\n",
            "\n",
            "train_acc: 0.8949044585987261\n",
            "train_loss: 0.2904454454629108\n",
            "==========\n",
            "[epoch 6]\n",
            "train_acc: 0.8929213742218123\n",
            "train_loss: 0.2834942260136207\n",
            "\n",
            "train_acc: 0.8904458598726115\n",
            "train_loss: 0.29647566558736743\n",
            "==========\n",
            "[epoch 7]\n",
            "train_acc: 0.8943509338252248\n",
            "train_loss: 0.2811686579291887\n",
            "\n",
            "train_acc: 0.8899681528662421\n",
            "train_loss: 0.2912327108359096\n",
            "==========\n",
            "[epoch 8]\n",
            "train_acc: 0.8949043117362232\n",
            "train_loss: 0.2809088829586112\n",
            "\n",
            "train_acc: 0.8912420382165606\n",
            "train_loss: 0.2955390314261119\n",
            "==========\n",
            "[epoch 9]\n",
            "train_acc: 0.8950657136269311\n",
            "train_loss: 0.2779667033349606\n",
            "\n",
            "train_acc: 0.8947452229299363\n",
            "train_loss: 0.2936629731245715\n",
            "==========\n",
            "[epoch 10]\n",
            "train_acc: 0.8995388517408347\n",
            "train_loss: 0.2691517951335088\n",
            "\n",
            "train_acc: 0.8969745222929937\n",
            "train_loss: 0.2849932312965393\n",
            "==========\n",
            "[epoch 11]\n",
            "train_acc: 0.9003919760202905\n",
            "train_loss: 0.26421028150075215\n",
            "\n",
            "train_acc: 0.8980891719745223\n",
            "train_loss: 0.28481520908047453\n",
            "==========\n",
            "[epoch 12]\n",
            "train_acc: 0.9026054876642841\n",
            "train_loss: 0.2590856940202569\n",
            "\n",
            "train_acc: 0.8982484076433122\n",
            "train_loss: 0.2836206251322621\n",
            "==========\n",
            "[epoch 13]\n",
            "train_acc: 0.9030666359234494\n",
            "train_loss: 0.2595284148215544\n",
            "\n",
            "train_acc: 0.895063694267516\n",
            "train_loss: 0.28622822674235915\n",
            "==========\n",
            "[epoch 14]\n",
            "train_acc: 0.9011759280608715\n",
            "train_loss: 0.26168685820733906\n",
            "\n",
            "train_acc: 0.8977707006369426\n",
            "train_loss: 0.28470731835172636\n",
            "==========\n",
            "[epoch 15]\n",
            "train_acc: 0.9030666359234494\n",
            "train_loss: 0.2565070929329919\n",
            "\n",
            "train_acc: 0.8971337579617834\n",
            "train_loss: 0.28442705279648905\n",
            "==========\n",
            "[epoch 16]\n",
            "train_acc: 0.9043809084620705\n",
            "train_loss: 0.2546555918660619\n",
            "\n",
            "train_acc: 0.8953821656050955\n",
            "train_loss: 0.2870387486135117\n",
            "==========\n",
            "[epoch 17]\n",
            "train_acc: 0.904772884482361\n",
            "train_loss: 0.25459197423198315\n",
            "\n",
            "train_acc: 0.8982484076433122\n",
            "train_loss: 0.2825662763130785\n",
            "==========\n",
            "[epoch 18]\n",
            "train_acc: 0.9037814157251557\n",
            "train_loss: 0.2546488741209461\n",
            "\n",
            "train_acc: 0.8976114649681529\n",
            "train_loss: 0.28452404340108234\n",
            "==========\n",
            "[epoch 19]\n",
            "train_acc: 0.9041964491584045\n",
            "train_loss: 0.25348874599642635\n",
            "\n",
            "train_acc: 0.8972929936305732\n",
            "train_loss: 0.28323315038825525\n",
            "==========\n",
            "\n"
          ],
          "name": "stdout"
        }
      ]
    },
    {
      "cell_type": "markdown",
      "metadata": {
        "id": "jV7gJRYB7kjz"
      },
      "source": [
        "## Learning Curve"
      ]
    },
    {
      "cell_type": "code",
      "metadata": {
        "colab": {
          "base_uri": "https://localhost:8080/",
          "height": 573
        },
        "id": "xtT31Yoy7kjz",
        "outputId": "e24f3873-5fab-42ca-e1d2-8ab1b2af7fbe"
      },
      "source": [
        "plt.plot(useful_stuff['train_acc'], label='train_acc')\r\n",
        "plt.plot(useful_stuff['valid_acc'], label='cv_acc')\r\n",
        "plt.title('train / valid  accuracy')\r\n",
        "plt.xlabel('epochs')\r\n",
        "plt.ylabel('acc')\r\n",
        "#axes = plt.gca()\r\n",
        "#axes.set_ylim([0.4, 1])\r\n",
        "plt.legend()\r\n",
        "plt.grid()\r\n",
        "plt.show()\r\n",
        "\r\n",
        "plt.plot(useful_stuff['train_cost'], label='train_cost')\r\n",
        "plt.plot(useful_stuff['valid_cost'], label='cv_acc')\r\n",
        "plt.title('train / valid  loss')\r\n",
        "plt.xlabel('epochs')\r\n",
        "plt.ylabel('loss')\r\n",
        "#axes = plt.gca()\r\n",
        "#axes.set_ylim([0, 1])\r\n",
        "plt.legend()\r\n",
        "plt.grid()\r\n",
        "plt.show()"
      ],
      "execution_count": 87,
      "outputs": [
        {
          "output_type": "display_data",
          "data": {
            "image/png": "[encoded data removed]",
            "text/plain": [
              "<Figure size 432x288 with 1 Axes>"
            ]
          },
          "metadata": {
            "tags": [],
            "needs_background": "light"
          }
        },
        {
          "output_type": "display_data",
          "data": {
            "image/png": "[encoded data removed]",
            "text/plain": [
              "<Figure size 432x288 with 1 Axes>"
            ]
          },
          "metadata": {
            "tags": [],
            "needs_background": "light"
          }
        }
      ]
    },
    {
      "cell_type": "code",
      "metadata": {
        "colab": {
          "base_uri": "https://localhost:8080/"
        },
        "id": "vwfXVogs7kjz",
        "outputId": "f6ba64e6-d60e-4daf-804e-8a1ed3098719"
      },
      "source": [
        "calc_metrics()\r\n",
        "print('-'*20)\r\n",
        "print()\r\n",
        "calc_metrics(False)"
      ],
      "execution_count": 88,
      "outputs": [
        {
          "output_type": "stream",
          "text": [
            "[Train]Total sample: 43370\n",
            "TP: 22399\n",
            "FP: 2967\n",
            "TN: 16816\n",
            "FN: 1188\n",
            "\n",
            "acc: 0.9041964491584045\n",
            "recall: 0.9496332725653962\n",
            "specificity: 0.8500227468028105\n",
            "precision: 0.8830324055822755\n",
            "f1: 0.9151226686822054\n",
            "mcc: 0.8083047734767681\n",
            "--------------------\n",
            "\n",
            "[Dev]Total sample: 6280\n",
            "TP: 3338\n",
            "FP: 479\n",
            "TN: 2297\n",
            "FN: 166\n",
            "\n",
            "acc: 0.8972929936305732\n",
            "recall: 0.9526255707762558\n",
            "specificity: 0.827449567723343\n",
            "precision: 0.8745087765260676\n",
            "f1: 0.9118972817921049\n",
            "mcc: 0.7934780742283638\n"
          ],
          "name": "stdout"
        }
      ]
    },
    {
      "cell_type": "markdown",
      "metadata": {
        "id": "Yzmi1lNU8tUF"
      },
      "source": [
        "# class 3"
      ]
    },
    {
      "cell_type": "markdown",
      "metadata": {
        "id": "ztB921F7BFxk"
      },
      "source": [
        "## dataset"
      ]
    },
    {
      "cell_type": "code",
      "metadata": {
        "id": "BGD-2pkW8tUI"
      },
      "source": [
        "class Data(Dataset):\r\n",
        "    def __init__(self, x_list, y_list):\r\n",
        "        self.x_list = x_list\r\n",
        "        self.y_list = y_list\r\n",
        "    \r\n",
        "    def __getitem__(self, idx):\r\n",
        "        x = torch.from_numpy(self.x_list[idx][0])\r\n",
        "        y = torch.tensor(self.y_list[idx])\r\n",
        "\r\n",
        "        return x, y\r\n",
        "\r\n",
        "    def __len__(self):\r\n",
        "        return len(self.x_list)"
      ],
      "execution_count": 89,
      "outputs": []
    },
    {
      "cell_type": "code",
      "metadata": {
        "id": "dfZHSnbw8tUJ"
      },
      "source": [
        "train_set_c3 = Data(c3_X, c3_y)\r\n",
        "dev_set_c3 = Data(c3_X_dev, c3_y_dev)"
      ],
      "execution_count": 90,
      "outputs": []
    },
    {
      "cell_type": "markdown",
      "metadata": {
        "id": "oIODkY5N8tUJ"
      },
      "source": [
        "## model"
      ]
    },
    {
      "cell_type": "markdown",
      "metadata": {
        "id": "ObkoyfCr8tUJ"
      },
      "source": [
        "### Prepare"
      ]
    },
    {
      "cell_type": "code",
      "metadata": {
        "id": "0hAs_3Tl8tUJ"
      },
      "source": [
        " def train(model, train_loader, cv_loader, optimizer, N_train, N_test, epochs=20):\r\n",
        " \r\n",
        "    useful_stuff = {'train_cost':[], 'train_acc':[], 'valid_cost':[], 'valid_acc':[], 'train_metric':[], 'valid_metric':[]} \r\n",
        "\r\n",
        "    for epoch in tqdm(range(epochs)):\r\n",
        "        #training===========================================\r\n",
        "        model.train() # Switch to train mode\r\n",
        "        correct = 0\r\n",
        "        training_loss=[]\r\n",
        "        TP = FP = TN = FN = 0\r\n",
        "\r\n",
        "        for x, y in train_loader:\r\n",
        "            x, y = x.to(device), y.to(device)\r\n",
        "            optimizer.zero_grad()\r\n",
        "            z = model(x)\r\n",
        "            _, yhat = torch.max(z.data, 1)\r\n",
        "            correct += (yhat == y).sum().item()\r\n",
        "            loss = criterion(z, y)\r\n",
        "            loss.backward()\r\n",
        "            optimizer.step()\r\n",
        "            training_loss.append(loss.data.item())\r\n",
        "\r\n",
        "            # calu metric\r\n",
        "            TP += ((yhat == 1) & (y == 1)).sum().item()\r\n",
        "            FP += ((yhat == 1) & (y == 0)).sum().item()\r\n",
        "            TN += ((yhat == 0) & (y == 0)).sum().item()\r\n",
        "            FN += ((yhat == 0) & (y == 1)).sum().item()       \r\n",
        "\r\n",
        "        useful_stuff['train_cost'].append(np.mean(training_loss))\r\n",
        "        useful_stuff['train_acc'].append(correct / N_train)\r\n",
        "        useful_stuff['train_metric'].append((TP, FP, TN, FN))\r\n",
        "\r\n",
        "        print('[epoch {}]'.format(epoch))\r\n",
        "        print('train_acc:',correct / N_train)\r\n",
        "        print('train_loss:',np.mean(training_loss))\r\n",
        "        print()\r\n",
        "\r\n",
        "        #valid==================================================\r\n",
        "        model.eval() # Switch to train mode\r\n",
        "        correct = 0\r\n",
        "        cv_loss=[]\r\n",
        "        TP = FP = TN = FN = 0\r\n",
        "\r\n",
        "        with torch.no_grad():\r\n",
        "          for x_test, y_test in cv_loader:\r\n",
        "            x_test, y_test = x_test.to(device), y_test.to(device)\r\n",
        "            z = model(x_test)\r\n",
        "            _, yhat = torch.max(z.data, 1)\r\n",
        "            correct += (yhat == y_test).sum().item()\r\n",
        "            loss = criterion(z, y_test)         \r\n",
        "            cv_loss.append(loss.data.item())\r\n",
        "\r\n",
        "            # calu metric\r\n",
        "            TP += ((yhat == 1) & (y_test == 1)).sum().item()\r\n",
        "            FP += ((yhat == 1) & (y_test == 0)).sum().item()\r\n",
        "            TN += ((yhat == 0) & (y_test == 0)).sum().item()\r\n",
        "            FN += ((yhat == 0) & (y_test == 1)).sum().item() \r\n",
        "\r\n",
        "          useful_stuff['valid_cost'].append(np.mean(cv_loss))\r\n",
        "          useful_stuff['valid_acc'].append(correct / N_test)\r\n",
        "          useful_stuff['valid_metric'].append((TP, FP, TN, FN))\r\n",
        "\r\n",
        "        print('train_acc:',correct / N_test)\r\n",
        "        print('train_loss:',np.mean(np.mean(cv_loss)))\r\n",
        "        print('='*10)\r\n",
        "\r\n",
        "        scheduler.step(np.mean(cv_loss)) # learning rate scheduler <---------------------------------------------------------\r\n",
        "\r\n",
        "    return useful_stuff"
      ],
      "execution_count": 91,
      "outputs": []
    },
    {
      "cell_type": "code",
      "metadata": {
        "id": "tvEfVGKL8tUK"
      },
      "source": [
        "class Net(nn.Module):   \r\n",
        "    # Constructor\r\n",
        "    def __init__(self,neuron=100, p=0.1):\r\n",
        "        super(Net, self).__init__()\r\n",
        "        self.neuron=neuron\r\n",
        "        self.drop=p\r\n",
        "\r\n",
        "        self.step = nn.Sequential(\r\n",
        "            nn.Linear(2000, self.neuron),\r\n",
        "            nn.BatchNorm1d(self.neuron),\r\n",
        "            nn.ReLU(),\r\n",
        "            nn.Dropout(self.drop),\r\n",
        "\r\n",
        "            nn.Linear(self.neuron, self.neuron),\r\n",
        "            nn.BatchNorm1d(self.neuron),\r\n",
        "            nn.ReLU(),\r\n",
        "            nn.Dropout(self.drop),\r\n",
        "\r\n",
        "            nn.Linear(self.neuron, 2),           \r\n",
        "        )\r\n",
        "    def forward(self, x):\r\n",
        "        x = self.step(x)\r\n",
        "        return x"
      ],
      "execution_count": 92,
      "outputs": []
    },
    {
      "cell_type": "markdown",
      "metadata": {
        "id": "JizQ1yN78tUK"
      },
      "source": [
        "### Hpyer parameters"
      ]
    },
    {
      "cell_type": "code",
      "metadata": {
        "id": "Er43tGTI8tUK"
      },
      "source": [
        "model_c3 = Net(neuron=100, p=0.2)\r\n",
        "model_c3.to(device);\r\n",
        "\r\n",
        "N_train = len(train_set_c3)\r\n",
        "N_test = len(dev_set_c3)\r\n",
        "\r\n",
        "weights = [1, 1.882]\r\n",
        "class_weights = torch.FloatTensor(weights).to(device)\r\n",
        "criterion = nn.CrossEntropyLoss(weight=class_weights)\r\n",
        "\r\n",
        "learning_rate = 0.0005\r\n",
        "optimizer = torch.optim.AdamW(model_c3.parameters(), lr=learning_rate, amsgrad=True)\r\n",
        "\r\n",
        "train_loader = DataLoader(train_set_c3, batch_size=32, shuffle=True)\r\n",
        "dev_loader = DataLoader(dev_set_c3, batch_size=64)\r\n",
        "\r\n",
        "scheduler = torch.optim.lr_scheduler.ReduceLROnPlateau(optimizer, 'min', patience=3, factor=0.1) # learning rate decay"
      ],
      "execution_count": 93,
      "outputs": []
    },
    {
      "cell_type": "markdown",
      "metadata": {
        "id": "Wr94FxHP8tUK"
      },
      "source": [
        "## training"
      ]
    },
    {
      "cell_type": "code",
      "metadata": {
        "colab": {
          "base_uri": "https://localhost:8080/",
          "height": 1000,
          "referenced_widgets": [
            "927d2c4a74554d6f94d75a82b58234ec",
            "0e5c2973289a43d392145aadb82f1fdd",
            "f7c04b06f8524e139175ee1cb20280dc",
            "b81cbd18075d400fb6fdb97af731ce81",
            "d97c897376d84f28b5aca77c4d7b7ab3",
            "d6f966d07bea4a449da32b646caa5a93",
            "7bea933679574a94b80ef77ee80f0960",
            "c9b95b4930204fd582b1757669b41353"
          ]
        },
        "id": "r2GlOw9v8tUL",
        "outputId": "0231a2fa-c23b-4a7e-a606-1a233786df35"
      },
      "source": [
        "useful_stuff = train(model=model_c3, train_loader=train_loader, cv_loader=dev_loader, N_train=N_train, N_test=N_test, optimizer=optimizer, epochs=20)"
      ],
      "execution_count": 94,
      "outputs": [
        {
          "output_type": "display_data",
          "data": {
            "application/vnd.jupyter.widget-view+json": {
              "model_id": "927d2c4a74554d6f94d75a82b58234ec",
              "version_minor": 0,
              "version_major": 2
            },
            "text/plain": [
              "HBox(children=(FloatProgress(value=0.0, max=20.0), HTML(value='')))"
            ]
          },
          "metadata": {
            "tags": []
          }
        },
        {
          "output_type": "stream",
          "text": [
            "[epoch 0]\n",
            "train_acc: 0.9133502421028361\n",
            "train_loss: 0.2160763675841478\n",
            "\n",
            "train_acc: 0.939968152866242\n",
            "train_loss: 0.14000962480827414\n",
            "==========\n",
            "[epoch 1]\n",
            "train_acc: 0.9298362923679964\n",
            "train_loss: 0.1763341854543461\n",
            "\n",
            "train_acc: 0.9484076433121019\n",
            "train_loss: 0.12567349875138867\n",
            "==========\n",
            "[epoch 2]\n",
            "train_acc: 0.935877334563062\n",
            "train_loss: 0.16498883468151138\n",
            "\n",
            "train_acc: 0.9471337579617835\n",
            "train_loss: 0.12259483205700161\n",
            "==========\n",
            "[epoch 3]\n",
            "train_acc: 0.9371916071016831\n",
            "train_loss: 0.15985901034670638\n",
            "\n",
            "train_acc: 0.9512738853503184\n",
            "train_loss: 0.12467466052057165\n",
            "==========\n",
            "[epoch 4]\n",
            "train_acc: 0.9398201521789256\n",
            "train_loss: 0.15148927244305566\n",
            "\n",
            "train_acc: 0.9453821656050956\n",
            "train_loss: 0.11862994549852429\n",
            "==========\n",
            "[epoch 5]\n",
            "train_acc: 0.9419183767581277\n",
            "train_loss: 0.14576782073460212\n",
            "\n",
            "train_acc: 0.9514331210191083\n",
            "train_loss: 0.1169097593261136\n",
            "==========\n",
            "[epoch 6]\n",
            "train_acc: 0.9421489508877104\n",
            "train_loss: 0.14642323748549244\n",
            "\n",
            "train_acc: 0.9401273885350319\n",
            "train_loss: 0.12408068341513474\n",
            "==========\n",
            "[epoch 7]\n",
            "train_acc: 0.944800553377911\n",
            "train_loss: 0.14171701008014403\n",
            "\n",
            "train_acc: 0.9542993630573249\n",
            "train_loss: 0.11238840519629344\n",
            "==========\n",
            "[epoch 8]\n",
            "train_acc: 0.945146414572285\n",
            "train_loss: 0.13840292796772796\n",
            "\n",
            "train_acc: 0.9568471337579618\n",
            "train_loss: 0.1086233580447357\n",
            "==========\n",
            "[epoch 9]\n",
            "train_acc: 0.9468987779571132\n",
            "train_loss: 0.13520242231499657\n",
            "\n",
            "train_acc: 0.9609872611464968\n",
            "train_loss: 0.10376679478683556\n",
            "==========\n",
            "[epoch 10]\n",
            "train_acc: 0.9476827299976942\n",
            "train_loss: 0.13334858913872952\n",
            "\n",
            "train_acc: 0.950796178343949\n",
            "train_loss: 0.1123962632164058\n",
            "==========\n",
            "[epoch 11]\n",
            "train_acc: 0.947751902236569\n",
            "train_loss: 0.13112000156411005\n",
            "\n",
            "train_acc: 0.9544585987261146\n",
            "train_loss: 0.10863662456547973\n",
            "==========\n",
            "[epoch 12]\n",
            "train_acc: 0.948351394973484\n",
            "train_loss: 0.130411121258677\n",
            "\n",
            "train_acc: 0.9555732484076433\n",
            "train_loss: 0.10778363737644571\n",
            "==========\n",
            "[epoch 13]\n",
            "train_acc: 0.9503573899008532\n",
            "train_loss: 0.12603700150884029\n",
            "\n",
            "train_acc: 0.9562101910828026\n",
            "train_loss: 0.10871544104031843\n",
            "==========\n",
            "[epoch 14]\n",
            "train_acc: 0.9546691261240489\n",
            "train_loss: 0.11808943320450353\n",
            "\n",
            "train_acc: 0.9627388535031847\n",
            "train_loss: 0.10194744888900055\n",
            "==========\n",
            "[epoch 15]\n",
            "train_acc: 0.955199446622089\n",
            "train_loss: 0.11396505561613293\n",
            "\n",
            "train_acc: 0.961624203821656\n",
            "train_loss: 0.1000582269308242\n",
            "==========\n",
            "[epoch 16]\n",
            "train_acc: 0.9567212358773346\n",
            "train_loss: 0.11086946983813448\n",
            "\n",
            "train_acc: 0.9622611464968153\n",
            "train_loss: 0.09900485753373366\n",
            "==========\n",
            "[epoch 17]\n",
            "train_acc: 0.9565367765736684\n",
            "train_loss: 0.10965323245913823\n",
            "\n",
            "train_acc: 0.9638535031847134\n",
            "train_loss: 0.10276407534915089\n",
            "==========\n",
            "[epoch 18]\n",
            "train_acc: 0.9579893935900392\n",
            "train_loss: 0.10718103976587828\n",
            "\n",
            "train_acc: 0.9568471337579618\n",
            "train_loss: 0.10403157264521026\n",
            "==========\n",
            "[epoch 19]\n",
            "train_acc: 0.957366843440166\n",
            "train_loss: 0.10768501822744664\n",
            "\n",
            "train_acc: 0.9640127388535031\n",
            "train_loss: 0.09782353326715905\n",
            "==========\n",
            "\n"
          ],
          "name": "stdout"
        }
      ]
    },
    {
      "cell_type": "markdown",
      "metadata": {
        "id": "Wp9XAeQu8tUL"
      },
      "source": [
        "## Learning Curve"
      ]
    },
    {
      "cell_type": "code",
      "metadata": {
        "colab": {
          "base_uri": "https://localhost:8080/",
          "height": 573
        },
        "id": "xat00kIh8tUL",
        "outputId": "8d9d8f52-c2a6-4080-ab79-f6596dce37bb"
      },
      "source": [
        "plt.plot(useful_stuff['train_acc'], label='train_acc')\r\n",
        "plt.plot(useful_stuff['valid_acc'], label='cv_acc')\r\n",
        "plt.title('train / valid  accuracy')\r\n",
        "plt.xlabel('epochs')\r\n",
        "plt.ylabel('acc')\r\n",
        "#axes = plt.gca()\r\n",
        "#axes.set_ylim([0.4, 1])\r\n",
        "plt.legend()\r\n",
        "plt.grid()\r\n",
        "plt.show()\r\n",
        "\r\n",
        "plt.plot(useful_stuff['train_cost'], label='train_cost')\r\n",
        "plt.plot(useful_stuff['valid_cost'], label='cv_acc')\r\n",
        "plt.title('train / valid  loss')\r\n",
        "plt.xlabel('epochs')\r\n",
        "plt.ylabel('loss')\r\n",
        "#axes = plt.gca()\r\n",
        "#axes.set_ylim([0, 1])\r\n",
        "plt.legend()\r\n",
        "plt.grid()\r\n",
        "plt.show()"
      ],
      "execution_count": 95,
      "outputs": [
        {
          "output_type": "display_data",
          "data": {
            "image/png": "[encoded data removed]",
            "text/plain": [
              "<Figure size 432x288 with 1 Axes>"
            ]
          },
          "metadata": {
            "tags": [],
            "needs_background": "light"
          }
        },
        {
          "output_type": "display_data",
          "data": {
            "image/png": "[encoded data removed]",
            "text/plain": [
              "<Figure size 432x288 with 1 Axes>"
            ]
          },
          "metadata": {
            "tags": [],
            "needs_background": "light"
          }
        }
      ]
    },
    {
      "cell_type": "code",
      "metadata": {
        "colab": {
          "base_uri": "https://localhost:8080/"
        },
        "id": "2ZBvguqm8tUL",
        "outputId": "0434a70f-d4ca-4d25-8c54-e9e026de2dfa"
      },
      "source": [
        "calc_metrics()\r\n",
        "print('-'*20)\r\n",
        "print()\r\n",
        "calc_metrics(False)"
      ],
      "execution_count": 96,
      "outputs": [
        {
          "output_type": "stream",
          "text": [
            "[Train]Total sample: 43370\n",
            "TP: 14486\n",
            "FP: 1290\n",
            "TN: 27035\n",
            "FN: 559\n",
            "\n",
            "acc: 0.957366843440166\n",
            "recall: 0.9628447989365237\n",
            "specificity: 0.9544571932921447\n",
            "precision: 0.9182302231237323\n",
            "f1: 0.9400084358067552\n",
            "mcc: 0.9075856347319448\n",
            "--------------------\n",
            "\n",
            "[Dev]Total sample: 6280\n",
            "TP: 1916\n",
            "FP: 145\n",
            "TN: 4138\n",
            "FN: 81\n",
            "\n",
            "acc: 0.9640127388535031\n",
            "recall: 0.9594391587381071\n",
            "specificity: 0.9661452253093626\n",
            "precision: 0.9296458030082484\n",
            "f1: 0.9443075406604239\n",
            "mcc: 0.9179844611064691\n"
          ],
          "name": "stdout"
        }
      ]
    },
    {
      "cell_type": "markdown",
      "metadata": {
        "id": "cVViIZ1R9n81"
      },
      "source": [
        "# class 4"
      ]
    },
    {
      "cell_type": "markdown",
      "metadata": {
        "id": "-khot1HTBQ_F"
      },
      "source": [
        "## dataset"
      ]
    },
    {
      "cell_type": "code",
      "metadata": {
        "id": "970-wOhb9n84"
      },
      "source": [
        "class Data(Dataset):\r\n",
        "    def __init__(self, x_list, y_list):\r\n",
        "        self.x_list = x_list\r\n",
        "        self.y_list = y_list\r\n",
        "    \r\n",
        "    def __getitem__(self, idx):\r\n",
        "        x = torch.from_numpy(self.x_list[idx][0])\r\n",
        "        y = torch.tensor(self.y_list[idx])\r\n",
        "\r\n",
        "        return x, y\r\n",
        "\r\n",
        "    def __len__(self):\r\n",
        "        return len(self.x_list)"
      ],
      "execution_count": 97,
      "outputs": []
    },
    {
      "cell_type": "code",
      "metadata": {
        "id": "RC6O6ti29n85"
      },
      "source": [
        "train_set_c4 = Data(c4_X, c4_y)\r\n",
        "dev_set_c4 = Data(c4_X_dev, c4_y_dev)"
      ],
      "execution_count": 98,
      "outputs": []
    },
    {
      "cell_type": "markdown",
      "metadata": {
        "id": "DKt2ogIA9n85"
      },
      "source": [
        "## model"
      ]
    },
    {
      "cell_type": "markdown",
      "metadata": {
        "id": "IFfDF4wT9n86"
      },
      "source": [
        "### Prepare"
      ]
    },
    {
      "cell_type": "code",
      "metadata": {
        "id": "XPJXs_pg9n86"
      },
      "source": [
        " def train(model, train_loader, cv_loader, optimizer, N_train, N_test, epochs=20):\r\n",
        " \r\n",
        "    useful_stuff = {'train_cost':[], 'train_acc':[], 'valid_cost':[], 'valid_acc':[], 'train_metric':[], 'valid_metric':[]} \r\n",
        "\r\n",
        "    for epoch in tqdm(range(epochs)):\r\n",
        "        #training===========================================\r\n",
        "        model.train() # Switch to train mode\r\n",
        "        correct = 0\r\n",
        "        training_loss=[]\r\n",
        "        TP = FP = TN = FN = 0\r\n",
        "\r\n",
        "        for x, y in train_loader:\r\n",
        "            x, y = x.to(device), y.to(device)\r\n",
        "            optimizer.zero_grad()\r\n",
        "            z = model(x)\r\n",
        "            _, yhat = torch.max(z.data, 1)\r\n",
        "            correct += (yhat == y).sum().item()\r\n",
        "            loss = criterion(z, y)\r\n",
        "            loss.backward()\r\n",
        "            optimizer.step()\r\n",
        "            training_loss.append(loss.data.item())\r\n",
        "\r\n",
        "            # calu metric\r\n",
        "            TP += ((yhat == 1) & (y == 1)).sum().item()\r\n",
        "            FP += ((yhat == 1) & (y == 0)).sum().item()\r\n",
        "            TN += ((yhat == 0) & (y == 0)).sum().item()\r\n",
        "            FN += ((yhat == 0) & (y == 1)).sum().item()       \r\n",
        "\r\n",
        "        useful_stuff['train_cost'].append(np.mean(training_loss))\r\n",
        "        useful_stuff['train_acc'].append(correct / N_train)\r\n",
        "        useful_stuff['train_metric'].append((TP, FP, TN, FN))\r\n",
        "\r\n",
        "        print('[epoch {}]'.format(epoch))\r\n",
        "        print('train_acc:',correct / N_train)\r\n",
        "        print('train_loss:',np.mean(training_loss))\r\n",
        "        print()\r\n",
        "\r\n",
        "        #valid==================================================\r\n",
        "        model.eval() # Switch to train mode\r\n",
        "        correct = 0\r\n",
        "        cv_loss=[]\r\n",
        "        TP = FP = TN = FN = 0\r\n",
        "\r\n",
        "        with torch.no_grad():\r\n",
        "          for x_test, y_test in cv_loader:\r\n",
        "            x_test, y_test = x_test.to(device), y_test.to(device)\r\n",
        "            z = model(x_test)\r\n",
        "            _, yhat = torch.max(z.data, 1)\r\n",
        "            correct += (yhat == y_test).sum().item()\r\n",
        "            loss = criterion(z, y_test)         \r\n",
        "            cv_loss.append(loss.data.item())\r\n",
        "\r\n",
        "            # calu metric\r\n",
        "            TP += ((yhat == 1) & (y_test == 1)).sum().item()\r\n",
        "            FP += ((yhat == 1) & (y_test == 0)).sum().item()\r\n",
        "            TN += ((yhat == 0) & (y_test == 0)).sum().item()\r\n",
        "            FN += ((yhat == 0) & (y_test == 1)).sum().item() \r\n",
        "\r\n",
        "          useful_stuff['valid_cost'].append(np.mean(cv_loss))\r\n",
        "          useful_stuff['valid_acc'].append(correct / N_test)\r\n",
        "          useful_stuff['valid_metric'].append((TP, FP, TN, FN))\r\n",
        "\r\n",
        "        print('train_acc:',correct / N_test)\r\n",
        "        print('train_loss:',np.mean(np.mean(cv_loss)))\r\n",
        "        print('='*10)\r\n",
        "\r\n",
        "        scheduler.step(np.mean(cv_loss)) # learning rate scheduler <---------------------------------------------------------\r\n",
        "\r\n",
        "    return useful_stuff"
      ],
      "execution_count": 99,
      "outputs": []
    },
    {
      "cell_type": "code",
      "metadata": {
        "id": "TjvMkSnL9n86"
      },
      "source": [
        "class Net(nn.Module):   \r\n",
        "    # Constructor\r\n",
        "    def __init__(self,neuron=100, p=0.1):\r\n",
        "        super(Net, self).__init__()\r\n",
        "        self.neuron=neuron\r\n",
        "        self.drop=p\r\n",
        "\r\n",
        "        self.step = nn.Sequential(\r\n",
        "            nn.Linear(2000, self.neuron),\r\n",
        "            nn.BatchNorm1d(self.neuron),\r\n",
        "            nn.ReLU(),\r\n",
        "            nn.Dropout(self.drop),\r\n",
        "\r\n",
        "            nn.Linear(self.neuron, self.neuron),\r\n",
        "            nn.BatchNorm1d(self.neuron),\r\n",
        "            nn.ReLU(),\r\n",
        "            nn.Dropout(self.drop),\r\n",
        "\r\n",
        "            nn.Linear(self.neuron, 2),           \r\n",
        "        )\r\n",
        "    def forward(self, x):\r\n",
        "        x = self.step(x)\r\n",
        "        return x"
      ],
      "execution_count": 100,
      "outputs": []
    },
    {
      "cell_type": "markdown",
      "metadata": {
        "id": "Wf5RdAWz9n87"
      },
      "source": [
        "### Hpyer parameters"
      ]
    },
    {
      "cell_type": "code",
      "metadata": {
        "id": "FtC6bMpH9n87"
      },
      "source": [
        "model_c4 = Net(neuron=100, p=0.2)\r\n",
        "model_c4.to(device);\r\n",
        "\r\n",
        "N_train = len(train_set_c4)\r\n",
        "N_test = len(dev_set_c4)\r\n",
        "\r\n",
        "weights = [1, 25.17]\r\n",
        "class_weights = torch.FloatTensor(weights).to(device)\r\n",
        "criterion = nn.CrossEntropyLoss(weight=class_weights)\r\n",
        "\r\n",
        "learning_rate = 0.0005\r\n",
        "optimizer = torch.optim.AdamW(model_c4.parameters(), lr=learning_rate, amsgrad=True)\r\n",
        "\r\n",
        "train_loader = DataLoader(train_set_c4, batch_size=32, shuffle=True)\r\n",
        "dev_loader = DataLoader(dev_set_c4, batch_size=64)\r\n",
        "\r\n",
        "scheduler = torch.optim.lr_scheduler.ReduceLROnPlateau(optimizer, 'min', patience=3, factor=0.1) # learning rate decay"
      ],
      "execution_count": 101,
      "outputs": []
    },
    {
      "cell_type": "markdown",
      "metadata": {
        "id": "k04_WmB99n87"
      },
      "source": [
        "## training"
      ]
    },
    {
      "cell_type": "code",
      "metadata": {
        "colab": {
          "base_uri": "https://localhost:8080/",
          "height": 1000,
          "referenced_widgets": [
            "ee3fc3ca55ca4b86b413135a852b7db0",
            "00073273a4174e3ca6d6ac15c0826f38",
            "19fc473355f746d482b86dfa5896d721",
            "c51a7fe6c90f40a48b6e8c0dfafebd27",
            "8b500227a80b49af938f03bfee92e4e4",
            "d739c550aa2142869b9be44106e8bd09",
            "b1658614639b4c0085080940fd2e2029",
            "2dba515efe7e42efabdb2ecf7efbd4f9"
          ]
        },
        "id": "ozqFaPvB9n88",
        "outputId": "227be9bf-df6e-4072-f4cd-43ffc0b985ae"
      },
      "source": [
        "useful_stuff = train(model=model_c4, train_loader=train_loader, cv_loader=dev_loader, N_train=N_train, N_test=N_test, optimizer=optimizer, epochs=20)"
      ],
      "execution_count": 102,
      "outputs": [
        {
          "output_type": "display_data",
          "data": {
            "application/vnd.jupyter.widget-view+json": {
              "model_id": "ee3fc3ca55ca4b86b413135a852b7db0",
              "version_minor": 0,
              "version_major": 2
            },
            "text/plain": [
              "HBox(children=(FloatProgress(value=0.0, max=20.0), HTML(value='')))"
            ]
          },
          "metadata": {
            "tags": []
          }
        },
        {
          "output_type": "stream",
          "text": [
            "[epoch 0]\n",
            "train_acc: 0.7367535162554761\n",
            "train_loss: 0.5500034077373226\n",
            "\n",
            "train_acc: 0.7337579617834394\n",
            "train_loss: 0.5499578326037435\n",
            "==========\n",
            "[epoch 1]\n",
            "train_acc: 0.745238644224118\n",
            "train_loss: 0.5219023730441005\n",
            "\n",
            "train_acc: 0.6754777070063694\n",
            "train_loss: 0.537934939066569\n",
            "==========\n",
            "[epoch 2]\n",
            "train_acc: 0.7400046114825917\n",
            "train_loss: 0.5023989982265639\n",
            "\n",
            "train_acc: 0.7328025477707006\n",
            "train_loss: 0.5336866824313847\n",
            "==========\n",
            "[epoch 3]\n",
            "train_acc: 0.7524325570670971\n",
            "train_loss: 0.48197702873377324\n",
            "\n",
            "train_acc: 0.7017515923566879\n",
            "train_loss: 0.55989828269289\n",
            "==========\n",
            "[epoch 4]\n",
            "train_acc: 0.7530781646299285\n",
            "train_loss: 0.48679212041221187\n",
            "\n",
            "train_acc: 0.7308917197452229\n",
            "train_loss: 0.547485608494643\n",
            "==========\n",
            "[epoch 5]\n",
            "train_acc: 0.7617938667281531\n",
            "train_loss: 0.47941517203518774\n",
            "\n",
            "train_acc: 0.6821656050955414\n",
            "train_loss: 0.5172131458918253\n",
            "==========\n",
            "[epoch 6]\n",
            "train_acc: 0.758058565828914\n",
            "train_loss: 0.47595719839267675\n",
            "\n",
            "train_acc: 0.7203821656050955\n",
            "train_loss: 0.5151142487020204\n",
            "==========\n",
            "[epoch 7]\n",
            "train_acc: 0.7632925985704404\n",
            "train_loss: 0.47087297122650795\n",
            "\n",
            "train_acc: 0.7055732484076433\n",
            "train_loss: 0.5108067486623321\n",
            "==========\n",
            "[epoch 8]\n",
            "train_acc: 0.7676965644454692\n",
            "train_loss: 0.4633819732628213\n",
            "\n",
            "train_acc: 0.7300955414012739\n",
            "train_loss: 0.5186329655575029\n",
            "==========\n",
            "[epoch 9]\n",
            "train_acc: 0.7628545077242334\n",
            "train_loss: 0.4574511354256169\n",
            "\n",
            "train_acc: 0.7093949044585988\n",
            "train_loss: 0.5207816056831919\n",
            "==========\n",
            "[epoch 10]\n",
            "train_acc: 0.771224348628084\n",
            "train_loss: 0.4543041918635544\n",
            "\n",
            "train_acc: 0.668312101910828\n",
            "train_loss: 0.5058198124170303\n",
            "==========\n",
            "[epoch 11]\n",
            "train_acc: 0.7686880332026746\n",
            "train_loss: 0.453815470611715\n",
            "\n",
            "train_acc: 0.7345541401273885\n",
            "train_loss: 0.5281493174608307\n",
            "==========\n",
            "[epoch 12]\n",
            "train_acc: 0.7650910767811852\n",
            "train_loss: 0.45478020694139787\n",
            "\n",
            "train_acc: 0.6753184713375796\n",
            "train_loss: 0.5108976627540107\n",
            "==========\n",
            "[epoch 13]\n",
            "train_acc: 0.7715471524094997\n",
            "train_loss: 0.4513622279715749\n",
            "\n",
            "train_acc: 0.7856687898089172\n",
            "train_loss: 0.5479735403951972\n",
            "==========\n",
            "[epoch 14]\n",
            "train_acc: 0.7724002766889555\n",
            "train_loss: 0.4451170222487597\n",
            "\n",
            "train_acc: 0.76671974522293\n",
            "train_loss: 0.5329875711238745\n",
            "==========\n",
            "[epoch 15]\n",
            "train_acc: 0.7815540696333871\n",
            "train_loss: 0.43058070585483293\n",
            "\n",
            "train_acc: 0.7578025477707007\n",
            "train_loss: 0.5194242449872422\n",
            "==========\n",
            "[epoch 16]\n",
            "train_acc: 0.7885174083467835\n",
            "train_loss: 0.42390321744578424\n",
            "\n",
            "train_acc: 0.744108280254777\n",
            "train_loss: 0.5119466576913391\n",
            "==========\n",
            "[epoch 17]\n",
            "train_acc: 0.7869264468526631\n",
            "train_loss: 0.4182664873655391\n",
            "\n",
            "train_acc: 0.7632165605095541\n",
            "train_loss: 0.5280646675764912\n",
            "==========\n",
            "[epoch 18]\n",
            "train_acc: 0.788909384367074\n",
            "train_loss: 0.4193873279631841\n",
            "\n",
            "train_acc: 0.763375796178344\n",
            "train_loss: 0.5246398558821341\n",
            "==========\n",
            "[epoch 19]\n",
            "train_acc: 0.7937283836753516\n",
            "train_loss: 0.41605806178179816\n",
            "\n",
            "train_acc: 0.7617834394904459\n",
            "train_loss: 0.5227166901935231\n",
            "==========\n",
            "\n"
          ],
          "name": "stdout"
        }
      ]
    },
    {
      "cell_type": "markdown",
      "metadata": {
        "id": "jHC86jmG9n88"
      },
      "source": [
        "## Learning Curve"
      ]
    },
    {
      "cell_type": "code",
      "metadata": {
        "colab": {
          "base_uri": "https://localhost:8080/",
          "height": 573
        },
        "id": "Xs1ZV28G9n88",
        "outputId": "02f98739-7089-4628-f328-5d794c9b77f7"
      },
      "source": [
        "plt.plot(useful_stuff['train_acc'], label='train_acc')\r\n",
        "plt.plot(useful_stuff['valid_acc'], label='cv_acc')\r\n",
        "plt.title('train / valid  accuracy')\r\n",
        "plt.xlabel('epochs')\r\n",
        "plt.ylabel('acc')\r\n",
        "#axes = plt.gca()\r\n",
        "#axes.set_ylim([0.4, 1])\r\n",
        "plt.legend()\r\n",
        "plt.grid()\r\n",
        "plt.show()\r\n",
        "\r\n",
        "plt.plot(useful_stuff['train_cost'], label='train_cost')\r\n",
        "plt.plot(useful_stuff['valid_cost'], label='cv_acc')\r\n",
        "plt.title('train / valid  loss')\r\n",
        "plt.xlabel('epochs')\r\n",
        "plt.ylabel('loss')\r\n",
        "#axes = plt.gca()\r\n",
        "#axes.set_ylim([0, 1])\r\n",
        "plt.legend()\r\n",
        "plt.grid()\r\n",
        "plt.show()"
      ],
      "execution_count": 103,
      "outputs": [
        {
          "output_type": "display_data",
          "data": {
            "image/png": "[encoded data removed]",
            "text/plain": [
              "<Figure size 432x288 with 1 Axes>"
            ]
          },
          "metadata": {
            "tags": [],
            "needs_background": "light"
          }
        },
        {
          "output_type": "display_data",
          "data": {
            "image/png": "[encoded data removed]",
            "text/plain": [
              "<Figure size 432x288 with 1 Axes>"
            ]
          },
          "metadata": {
            "tags": [],
            "needs_background": "light"
          }
        }
      ]
    },
    {
      "cell_type": "code",
      "metadata": {
        "colab": {
          "base_uri": "https://localhost:8080/"
        },
        "id": "81RwIfx-9n89",
        "outputId": "e5394e98-6ded-49ae-d5d1-4c67f0186c58"
      },
      "source": [
        "calc_metrics()\r\n",
        "print('-'*20)\r\n",
        "print()\r\n",
        "calc_metrics(False)"
      ],
      "execution_count": 104,
      "outputs": [
        {
          "output_type": "stream",
          "text": [
            "[Train]Total sample: 43370\n",
            "TP: 1290\n",
            "FP: 8579\n",
            "TN: 33134\n",
            "FN: 367\n",
            "\n",
            "acc: 0.7937283836753516\n",
            "recall: 0.7785153892576946\n",
            "specificity: 0.7943327020353367\n",
            "precision: 0.13071233154321613\n",
            "f1: 0.2238417490890161\n",
            "mcc: 0.26192139636046863\n",
            "--------------------\n",
            "\n",
            "[Dev]Total sample: 6280\n",
            "TP: 213\n",
            "FP: 1411\n",
            "TN: 4571\n",
            "FN: 85\n",
            "\n",
            "acc: 0.7617834394904459\n",
            "recall: 0.714765100671141\n",
            "specificity: 0.7641257104647275\n",
            "precision: 0.1311576354679803\n",
            "f1: 0.22164412070759623\n",
            "mcc: 0.23252429809621114\n"
          ],
          "name": "stdout"
        }
      ]
    },
    {
      "cell_type": "markdown",
      "metadata": {
        "id": "p3v-P-sqBy7j"
      },
      "source": [
        "# Saving model"
      ]
    },
    {
      "cell_type": "code",
      "metadata": {
        "id": "SMgOcgYDB0tX"
      },
      "source": [
        "# torch.save(model_c0, './C2_TrainDev/model/nn-crop-imbalance/model_c0.pt')\r\n",
        "# torch.save(model_c1, './C2_TrainDev/model/nn-crop-imbalance/model_c1.pt')\r\n",
        "# torch.save(model_c2, './C2_TrainDev/model/nn-crop-imbalance/model_c2.pt')\r\n",
        "# torch.save(model_c3, './C2_TrainDev/model/nn-crop-imbalance/model_c3.pt')\r\n",
        "# torch.save(model_c4, './C2_TrainDev/model/nn-crop-imbalance/model_c4.pt')"
      ],
      "execution_count": 113,
      "outputs": []
    }
  ]
}