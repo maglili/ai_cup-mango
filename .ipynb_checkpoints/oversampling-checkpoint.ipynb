{
 "cells": [
  {
   "cell_type": "code",
   "execution_count": 1,
   "metadata": {},
   "outputs": [],
   "source": [
    "import os\n",
    "import numpy as np\n",
    "from PIL import Image\n",
    "from tqdm.notebook import tqdm\n",
    "import pickle \n",
    "import matplotlib.pylab as plt # plot module\n",
    "import pandas as pd\n",
    "\n",
    "from sklearn.utils import shuffle\n",
    "from sklearn.metrics import f1_score\n",
    "from sklearn import metrics\n",
    "\n",
    "import torch\n",
    "import torch.nn.functional as F\n",
    "from torch.utils.data import Dataset, DataLoader\n",
    "import torch.nn as nn\n",
    "from torchvision import transforms\n",
    "import torchvision.models as models"
   ]
  },
  {
   "cell_type": "code",
   "execution_count": 2,
   "metadata": {},
   "outputs": [
    {
     "name": "stdout",
     "output_type": "stream",
     "text": [
      "GPU is avalible.\n",
      "Working on: GeForce RTX 2060 SUPER\n"
     ]
    }
   ],
   "source": [
    "if torch.cuda.is_available():\n",
    "  device = torch.device('cuda:0')\n",
    "  print('GPU is avalible.')\n",
    "  print('Working on:', torch.cuda.get_device_name())\n",
    "else:\n",
    "  device = torch.device('cpu')\n",
    "  print('GPU is not avalible.')\n",
    "  print('Working on CPU')"
   ]
  },
  {
   "cell_type": "markdown",
   "metadata": {},
   "source": [
    "## Preparing data"
   ]
  },
  {
   "cell_type": "markdown",
   "metadata": {},
   "source": [
    "### Train"
   ]
  },
  {
   "cell_type": "code",
   "execution_count": 6,
   "metadata": {},
   "outputs": [
    {
     "name": "stdout",
     "output_type": "stream",
     "text": [
      "label: 43370\n",
      "image: 43370\n",
      "xmin: 43370\n",
      "ymin: 43370\n",
      "xmax: 43370\n",
      "ymax: 43370\n"
     ]
    }
   ],
   "source": [
    "import numpy as np\n",
    "label=[]\n",
    "image=[]\n",
    "xmin=[]\n",
    "ymin=[]\n",
    "xmax=[]\n",
    "ymax=[]\n",
    "\n",
    "with open(r'.\\C2_TrainDev\\train.csv', 'r', encoding='utf-8-sig') as fh:\n",
    "  for index,row in enumerate(fh):\n",
    "    row=row.strip()\n",
    "    row=row.split(',')\n",
    "    while True:\n",
    "      if '' in row:\n",
    "        row.remove('')\n",
    "      else:\n",
    "        break\n",
    "\n",
    "    while len(row) > 1:\n",
    "      xmin.append(float(row[1]))\n",
    "      ymin.append(float(row[2]))\n",
    "      xmax.append(float(row[3])+float(row[1]))\n",
    "      ymax.append(float(row[4])+float(row[2]))\n",
    "      label.append(row[5])\n",
    "      for idx in range(5):\n",
    "        row.remove(row[1]) \n",
    "      image.append(row[0])\n",
    "\n",
    "print('label:' ,len(label))\n",
    "print('image:' ,len(image))\n",
    "print('xmin:' ,len(xmin))\n",
    "print('ymin:' ,len(ymin))\n",
    "print('xmax:' ,len(xmax))\n",
    "print('ymax:' ,len(ymax))"
   ]
  },
  {
   "cell_type": "code",
   "execution_count": 7,
   "metadata": {},
   "outputs": [
    {
     "data": {
      "text/html": [
       "<div>\n",
       "<style scoped>\n",
       "    .dataframe tbody tr th:only-of-type {\n",
       "        vertical-align: middle;\n",
       "    }\n",
       "\n",
       "    .dataframe tbody tr th {\n",
       "        vertical-align: top;\n",
       "    }\n",
       "\n",
       "    .dataframe thead th {\n",
       "        text-align: right;\n",
       "    }\n",
       "</style>\n",
       "<table border=\"1\" class=\"dataframe\">\n",
       "  <thead>\n",
       "    <tr style=\"text-align: right;\">\n",
       "      <th></th>\n",
       "      <th>image</th>\n",
       "      <th>label</th>\n",
       "      <th>xmin</th>\n",
       "      <th>ymin</th>\n",
       "      <th>xmax</th>\n",
       "      <th>ymax</th>\n",
       "    </tr>\n",
       "  </thead>\n",
       "  <tbody>\n",
       "    <tr>\n",
       "      <th>0</th>\n",
       "      <td>38414.jpg</td>\n",
       "      <td>不良-機械傷害</td>\n",
       "      <td>46.0</td>\n",
       "      <td>146.0</td>\n",
       "      <td>622.0</td>\n",
       "      <td>720.0</td>\n",
       "    </tr>\n",
       "    <tr>\n",
       "      <th>1</th>\n",
       "      <td>03182.jpg</td>\n",
       "      <td>不良-機械傷害</td>\n",
       "      <td>581.0</td>\n",
       "      <td>277.0</td>\n",
       "      <td>678.0</td>\n",
       "      <td>370.0</td>\n",
       "    </tr>\n",
       "    <tr>\n",
       "      <th>2</th>\n",
       "      <td>29863.jpg</td>\n",
       "      <td>不良-機械傷害</td>\n",
       "      <td>514.0</td>\n",
       "      <td>538.0</td>\n",
       "      <td>631.0</td>\n",
       "      <td>682.0</td>\n",
       "    </tr>\n",
       "    <tr>\n",
       "      <th>3</th>\n",
       "      <td>17937.jpg</td>\n",
       "      <td>不良-機械傷害</td>\n",
       "      <td>658.0</td>\n",
       "      <td>263.0</td>\n",
       "      <td>717.0</td>\n",
       "      <td>337.0</td>\n",
       "    </tr>\n",
       "    <tr>\n",
       "      <th>4</th>\n",
       "      <td>17937.jpg</td>\n",
       "      <td>不良-著色不佳</td>\n",
       "      <td>374.0</td>\n",
       "      <td>243.0</td>\n",
       "      <td>983.0</td>\n",
       "      <td>577.0</td>\n",
       "    </tr>\n",
       "    <tr>\n",
       "      <th>...</th>\n",
       "      <td>...</td>\n",
       "      <td>...</td>\n",
       "      <td>...</td>\n",
       "      <td>...</td>\n",
       "      <td>...</td>\n",
       "      <td>...</td>\n",
       "    </tr>\n",
       "    <tr>\n",
       "      <th>43365</th>\n",
       "      <td>06815.jpg</td>\n",
       "      <td>不良-炭疽病</td>\n",
       "      <td>463.0</td>\n",
       "      <td>75.0</td>\n",
       "      <td>1172.0</td>\n",
       "      <td>543.0</td>\n",
       "    </tr>\n",
       "    <tr>\n",
       "      <th>43366</th>\n",
       "      <td>06815.jpg</td>\n",
       "      <td>不良-炭疽病</td>\n",
       "      <td>793.0</td>\n",
       "      <td>686.0</td>\n",
       "      <td>828.0</td>\n",
       "      <td>709.0</td>\n",
       "    </tr>\n",
       "    <tr>\n",
       "      <th>43367</th>\n",
       "      <td>06815.jpg</td>\n",
       "      <td>不良-炭疽病</td>\n",
       "      <td>535.0</td>\n",
       "      <td>540.0</td>\n",
       "      <td>579.0</td>\n",
       "      <td>568.0</td>\n",
       "    </tr>\n",
       "    <tr>\n",
       "      <th>43368</th>\n",
       "      <td>11562.jpg</td>\n",
       "      <td>不良-炭疽病</td>\n",
       "      <td>359.0</td>\n",
       "      <td>434.0</td>\n",
       "      <td>404.0</td>\n",
       "      <td>469.0</td>\n",
       "    </tr>\n",
       "    <tr>\n",
       "      <th>43369</th>\n",
       "      <td>11562.jpg</td>\n",
       "      <td>不良-炭疽病</td>\n",
       "      <td>579.0</td>\n",
       "      <td>149.0</td>\n",
       "      <td>638.0</td>\n",
       "      <td>175.0</td>\n",
       "    </tr>\n",
       "  </tbody>\n",
       "</table>\n",
       "<p>43370 rows × 6 columns</p>\n",
       "</div>"
      ],
      "text/plain": [
       "           image    label   xmin   ymin    xmax   ymax\n",
       "0      38414.jpg  不良-機械傷害   46.0  146.0   622.0  720.0\n",
       "1      03182.jpg  不良-機械傷害  581.0  277.0   678.0  370.0\n",
       "2      29863.jpg  不良-機械傷害  514.0  538.0   631.0  682.0\n",
       "3      17937.jpg  不良-機械傷害  658.0  263.0   717.0  337.0\n",
       "4      17937.jpg  不良-著色不佳  374.0  243.0   983.0  577.0\n",
       "...          ...      ...    ...    ...     ...    ...\n",
       "43365  06815.jpg   不良-炭疽病  463.0   75.0  1172.0  543.0\n",
       "43366  06815.jpg   不良-炭疽病  793.0  686.0   828.0  709.0\n",
       "43367  06815.jpg   不良-炭疽病  535.0  540.0   579.0  568.0\n",
       "43368  11562.jpg   不良-炭疽病  359.0  434.0   404.0  469.0\n",
       "43369  11562.jpg   不良-炭疽病  579.0  149.0   638.0  175.0\n",
       "\n",
       "[43370 rows x 6 columns]"
      ]
     },
     "execution_count": 7,
     "metadata": {},
     "output_type": "execute_result"
    }
   ],
   "source": [
    "traindf = pd.DataFrame({'image':image, 'label':label, 'xmin':xmin, 'ymin':ymin, 'xmax':xmax, 'ymax':ymax  })\n",
    "traindf"
   ]
  },
  {
   "cell_type": "code",
   "execution_count": 5,
   "metadata": {},
   "outputs": [
    {
     "data": {
      "application/vnd.jupyter.widget-view+json": {
       "model_id": "35341009af774623a82a8cc9083dea75",
       "version_major": 2,
       "version_minor": 0
      },
      "text/plain": [
       "HBox(children=(HTML(value=''), FloatProgress(value=1.0, bar_style='info', layout=Layout(width='20px'), max=1.0…"
      ]
     },
     "metadata": {},
     "output_type": "display_data"
    },
    {
     "name": "stdout",
     "output_type": "stream",
     "text": [
      "\n"
     ]
    }
   ],
   "source": [
    "# train_data = []\n",
    "\n",
    "# for idx,name in tqdm(enumerate(image)):\n",
    "    \n",
    "#     img_path = './C2_TrainDev/Train/'+ name\n",
    "    \n",
    "#     img = Image.open(img_path).convert(\"RGB\")\n",
    "    \n",
    "#     xmin_ = xmin[idx]\n",
    "#     ymin_ = ymin[idx]\n",
    "#     xmax_ = xmax[idx]\n",
    "#     ymax_ = ymax[idx]\n",
    "    \n",
    "#     crop_img = img.crop((xmin_, ymin_, xmax_, ymax_))\n",
    "    \n",
    "#     y = np.zeros(5)\n",
    "    \n",
    "#     if label[idx] == '不良-乳汁吸附':\n",
    "#         y[0] = 1\n",
    "        \n",
    "#     elif label[idx] == '不良-機械傷害':\n",
    "#         y[1] = 1\n",
    "        \n",
    "#     elif label[idx] == '不良-炭疽病':\n",
    "#         y[2] = 1\n",
    "        \n",
    "#     elif label[idx] == '不良-著色不佳':\n",
    "#         y[3] = 1\n",
    "        \n",
    "#     elif label[idx] == '不良-黑斑病':\n",
    "#         y[4] = 1\n",
    "    \n",
    "#     train_data.append((crop_img,y))"
   ]
  },
  {
   "cell_type": "code",
   "execution_count": 6,
   "metadata": {},
   "outputs": [],
   "source": [
    "# with open('./processed_data/train_data.pkl', 'wb') as f:\n",
    "#     pickle.dump(train_data, f)"
   ]
  },
  {
   "cell_type": "code",
   "execution_count": 3,
   "metadata": {},
   "outputs": [],
   "source": [
    "with open('./processed_data/train_data.pkl', 'rb') as f:\n",
    "    train_data = pickle.load(f)"
   ]
  },
  {
   "cell_type": "markdown",
   "metadata": {},
   "source": [
    "### Dev"
   ]
  },
  {
   "cell_type": "code",
   "execution_count": 8,
   "metadata": {},
   "outputs": [
    {
     "name": "stdout",
     "output_type": "stream",
     "text": [
      "label: 6280\n",
      "image: 6280\n",
      "xmin: 6280\n",
      "ymin: 6280\n",
      "xmax: 6280\n",
      "ymax: 6280\n"
     ]
    }
   ],
   "source": [
    "import numpy as np\n",
    "label=[]\n",
    "image=[]\n",
    "xmin=[]\n",
    "ymin=[]\n",
    "xmax=[]\n",
    "ymax=[]\n",
    "\n",
    "with open(r'.\\C2_TrainDev\\dev.csv', 'r', encoding='utf-8-sig') as fh:\n",
    "  for index,row in enumerate(fh):\n",
    "    row=row.strip()\n",
    "    row=row.split(',')\n",
    "    while True:\n",
    "      if '' in row:\n",
    "        row.remove('')\n",
    "      else:\n",
    "        break\n",
    "\n",
    "    while len(row) > 1:\n",
    "      xmin.append(float(row[1]))\n",
    "      ymin.append(float(row[2]))\n",
    "      xmax.append(float(row[3])+float(row[1]))\n",
    "      ymax.append(float(row[4])+float(row[2]))\n",
    "      label.append(row[5])\n",
    "      for idx in range(5):\n",
    "        row.remove(row[1]) \n",
    "      image.append(row[0])\n",
    "\n",
    "print('label:' ,len(label))\n",
    "print('image:' ,len(image))\n",
    "print('xmin:' ,len(xmin))\n",
    "print('ymin:' ,len(ymin))\n",
    "print('xmax:' ,len(xmax))\n",
    "print('ymax:' ,len(ymax))"
   ]
  },
  {
   "cell_type": "code",
   "execution_count": 9,
   "metadata": {},
   "outputs": [
    {
     "data": {
      "text/html": [
       "<div>\n",
       "<style scoped>\n",
       "    .dataframe tbody tr th:only-of-type {\n",
       "        vertical-align: middle;\n",
       "    }\n",
       "\n",
       "    .dataframe tbody tr th {\n",
       "        vertical-align: top;\n",
       "    }\n",
       "\n",
       "    .dataframe thead th {\n",
       "        text-align: right;\n",
       "    }\n",
       "</style>\n",
       "<table border=\"1\" class=\"dataframe\">\n",
       "  <thead>\n",
       "    <tr style=\"text-align: right;\">\n",
       "      <th></th>\n",
       "      <th>image</th>\n",
       "      <th>label</th>\n",
       "      <th>xmin</th>\n",
       "      <th>ymin</th>\n",
       "      <th>xmax</th>\n",
       "      <th>ymax</th>\n",
       "    </tr>\n",
       "  </thead>\n",
       "  <tbody>\n",
       "    <tr>\n",
       "      <th>0</th>\n",
       "      <td>26519.jpg</td>\n",
       "      <td>不良-機械傷害</td>\n",
       "      <td>559.0</td>\n",
       "      <td>772.0</td>\n",
       "      <td>792.0</td>\n",
       "      <td>1185.0</td>\n",
       "    </tr>\n",
       "    <tr>\n",
       "      <th>1</th>\n",
       "      <td>26519.jpg</td>\n",
       "      <td>不良-炭疽病</td>\n",
       "      <td>848.0</td>\n",
       "      <td>539.0</td>\n",
       "      <td>950.0</td>\n",
       "      <td>770.0</td>\n",
       "    </tr>\n",
       "    <tr>\n",
       "      <th>2</th>\n",
       "      <td>26519.jpg</td>\n",
       "      <td>不良-炭疽病</td>\n",
       "      <td>615.0</td>\n",
       "      <td>491.0</td>\n",
       "      <td>700.0</td>\n",
       "      <td>632.0</td>\n",
       "    </tr>\n",
       "    <tr>\n",
       "      <th>3</th>\n",
       "      <td>39995.jpg</td>\n",
       "      <td>不良-機械傷害</td>\n",
       "      <td>376.0</td>\n",
       "      <td>481.0</td>\n",
       "      <td>479.0</td>\n",
       "      <td>569.0</td>\n",
       "    </tr>\n",
       "    <tr>\n",
       "      <th>4</th>\n",
       "      <td>39995.jpg</td>\n",
       "      <td>不良-炭疽病</td>\n",
       "      <td>615.0</td>\n",
       "      <td>612.0</td>\n",
       "      <td>661.0</td>\n",
       "      <td>644.0</td>\n",
       "    </tr>\n",
       "    <tr>\n",
       "      <th>...</th>\n",
       "      <td>...</td>\n",
       "      <td>...</td>\n",
       "      <td>...</td>\n",
       "      <td>...</td>\n",
       "      <td>...</td>\n",
       "      <td>...</td>\n",
       "    </tr>\n",
       "    <tr>\n",
       "      <th>6275</th>\n",
       "      <td>37653.jpg</td>\n",
       "      <td>不良-著色不佳</td>\n",
       "      <td>140.0</td>\n",
       "      <td>553.0</td>\n",
       "      <td>1013.0</td>\n",
       "      <td>1429.0</td>\n",
       "    </tr>\n",
       "    <tr>\n",
       "      <th>6276</th>\n",
       "      <td>37653.jpg</td>\n",
       "      <td>不良-炭疽病</td>\n",
       "      <td>873.0</td>\n",
       "      <td>716.0</td>\n",
       "      <td>962.0</td>\n",
       "      <td>847.0</td>\n",
       "    </tr>\n",
       "    <tr>\n",
       "      <th>6277</th>\n",
       "      <td>37653.jpg</td>\n",
       "      <td>不良-炭疽病</td>\n",
       "      <td>890.0</td>\n",
       "      <td>598.0</td>\n",
       "      <td>918.0</td>\n",
       "      <td>678.0</td>\n",
       "    </tr>\n",
       "    <tr>\n",
       "      <th>6278</th>\n",
       "      <td>27894.jpg</td>\n",
       "      <td>不良-炭疽病</td>\n",
       "      <td>960.0</td>\n",
       "      <td>693.0</td>\n",
       "      <td>1027.0</td>\n",
       "      <td>750.0</td>\n",
       "    </tr>\n",
       "    <tr>\n",
       "      <th>6279</th>\n",
       "      <td>27894.jpg</td>\n",
       "      <td>不良-著色不佳</td>\n",
       "      <td>854.0</td>\n",
       "      <td>332.0</td>\n",
       "      <td>1237.0</td>\n",
       "      <td>871.0</td>\n",
       "    </tr>\n",
       "  </tbody>\n",
       "</table>\n",
       "<p>6280 rows × 6 columns</p>\n",
       "</div>"
      ],
      "text/plain": [
       "          image    label   xmin   ymin    xmax    ymax\n",
       "0     26519.jpg  不良-機械傷害  559.0  772.0   792.0  1185.0\n",
       "1     26519.jpg   不良-炭疽病  848.0  539.0   950.0   770.0\n",
       "2     26519.jpg   不良-炭疽病  615.0  491.0   700.0   632.0\n",
       "3     39995.jpg  不良-機械傷害  376.0  481.0   479.0   569.0\n",
       "4     39995.jpg   不良-炭疽病  615.0  612.0   661.0   644.0\n",
       "...         ...      ...    ...    ...     ...     ...\n",
       "6275  37653.jpg  不良-著色不佳  140.0  553.0  1013.0  1429.0\n",
       "6276  37653.jpg   不良-炭疽病  873.0  716.0   962.0   847.0\n",
       "6277  37653.jpg   不良-炭疽病  890.0  598.0   918.0   678.0\n",
       "6278  27894.jpg   不良-炭疽病  960.0  693.0  1027.0   750.0\n",
       "6279  27894.jpg  不良-著色不佳  854.0  332.0  1237.0   871.0\n",
       "\n",
       "[6280 rows x 6 columns]"
      ]
     },
     "execution_count": 9,
     "metadata": {},
     "output_type": "execute_result"
    }
   ],
   "source": [
    "validdf = pd.DataFrame({'image':image, 'label':label, 'xmin':xmin, 'ymin':ymin, 'xmax':xmax, 'ymax':ymax  })\n",
    "validdf"
   ]
  },
  {
   "cell_type": "code",
   "execution_count": null,
   "metadata": {},
   "outputs": [],
   "source": [
    "# dev_data = []\n",
    "\n",
    "# for idx,name in tqdm(enumerate(image)):\n",
    "#     img_path = './C2_TrainDev/Dev/'+ name\n",
    "    \n",
    "#     img = Image.open(img_path).convert(\"RGB\")\n",
    "    \n",
    "#     xmin_ = xmin[idx]\n",
    "#     ymin_ = ymin[idx]\n",
    "#     xmax_ = xmax[idx]\n",
    "#     ymax_ = ymax[idx]\n",
    "    \n",
    "#     crop_img = img.crop((xmin_, ymin_, xmax_, ymax_))\n",
    "    \n",
    "#     y = np.zeros(5)\n",
    "    \n",
    "#     if label[idx] == '不良-乳汁吸附':\n",
    "#         y[0] = 1\n",
    "        \n",
    "#     elif label[idx] == '不良-機械傷害':\n",
    "#         y[1] = 1\n",
    "        \n",
    "#     elif label[idx] == '不良-炭疽病':\n",
    "#         y[2] = 1\n",
    "        \n",
    "#     elif label[idx] == '不良-著色不佳':\n",
    "#         y[3] = 1\n",
    "        \n",
    "#     elif label[idx] == '不良-黑斑病':\n",
    "#         y[4] = 1\n",
    "    \n",
    "#     dev_data.append((crop_img,y))"
   ]
  },
  {
   "cell_type": "code",
   "execution_count": 10,
   "metadata": {},
   "outputs": [],
   "source": [
    "# with open('./processed_data/dev_data.pkl', 'wb') as f:\n",
    "#     pickle.dump(dev_data, f)"
   ]
  },
  {
   "cell_type": "code",
   "execution_count": 4,
   "metadata": {},
   "outputs": [],
   "source": [
    "with open('./processed_data/dev_data.pkl', 'rb') as f:\n",
    "    dev_data = pickle.load(f)"
   ]
  },
  {
   "cell_type": "markdown",
   "metadata": {},
   "source": [
    "## class 0 data - Spitting Pos and Neg data"
   ]
  },
  {
   "cell_type": "markdown",
   "metadata": {},
   "source": [
    "check amount of  data"
   ]
  },
  {
   "cell_type": "code",
   "execution_count": 10,
   "metadata": {},
   "outputs": [
    {
     "name": "stdout",
     "output_type": "stream",
     "text": [
      "c0 pos: 2579\n",
      "c0 neg: 40791\n",
      "sum:  43370\n"
     ]
    }
   ],
   "source": [
    "print('c0 pos:',len(traindf[traindf['label'] == '不良-乳汁吸附']))\n",
    "print('c0 neg:',len(traindf[traindf['label'] != '不良-乳汁吸附']))\n",
    "print('sum: ',len(traindf[traindf['label'] == '不良-乳汁吸附']) + len(traindf[traindf['label'] != '不良-乳汁吸附']))"
   ]
  },
  {
   "cell_type": "markdown",
   "metadata": {},
   "source": [
    "### train"
   ]
  },
  {
   "cell_type": "code",
   "execution_count": 11,
   "metadata": {},
   "outputs": [
    {
     "data": {
      "application/vnd.jupyter.widget-view+json": {
       "model_id": "9e8f058e959341e2898b3a04c094460e",
       "version_major": 2,
       "version_minor": 0
      },
      "text/plain": [
       "HBox(children=(HTML(value=''), FloatProgress(value=0.0, max=43370.0), HTML(value='')))"
      ]
     },
     "metadata": {},
     "output_type": "display_data"
    },
    {
     "name": "stdout",
     "output_type": "stream",
     "text": [
      "\n"
     ]
    }
   ],
   "source": [
    "c0_pos = []\n",
    "c0_neg = []\n",
    "\n",
    "for image, label in tqdm(train_data):\n",
    "    if label[0] == 1:\n",
    "        c0_pos.append((image, torch.tensor(1)))\n",
    "    else:\n",
    "        c0_neg.append((image, torch.tensor(0)))"
   ]
  },
  {
   "cell_type": "code",
   "execution_count": 12,
   "metadata": {},
   "outputs": [
    {
     "name": "stdout",
     "output_type": "stream",
     "text": [
      "c0 pos: 391\n",
      "c0 neg: 5889\n",
      "sum:  6280\n"
     ]
    }
   ],
   "source": [
    "print('c0 pos:',len(validdf[validdf['label'] == '不良-乳汁吸附']))\n",
    "print('c0 neg:',len(validdf[validdf['label'] != '不良-乳汁吸附']))\n",
    "print('sum: ',len(validdf[validdf['label'] == '不良-乳汁吸附']) + len(validdf[validdf['label'] != '不良-乳汁吸附']))"
   ]
  },
  {
   "cell_type": "markdown",
   "metadata": {},
   "source": [
    "### dev"
   ]
  },
  {
   "cell_type": "code",
   "execution_count": 13,
   "metadata": {},
   "outputs": [
    {
     "data": {
      "application/vnd.jupyter.widget-view+json": {
       "model_id": "f1b21285b35a459aab459dce2a273273",
       "version_major": 2,
       "version_minor": 0
      },
      "text/plain": [
       "HBox(children=(HTML(value=''), FloatProgress(value=0.0, max=6280.0), HTML(value='')))"
      ]
     },
     "metadata": {},
     "output_type": "display_data"
    },
    {
     "name": "stdout",
     "output_type": "stream",
     "text": [
      "\n"
     ]
    }
   ],
   "source": [
    "c0_pos_dev = []\n",
    "c0_neg_dev = []\n",
    "\n",
    "for image, label in tqdm(dev_data):\n",
    "    if label[0] == 1:\n",
    "        c0_pos_dev.append((image, torch.tensor(1)))\n",
    "    else:\n",
    "        c0_neg_dev.append((image, torch.tensor(0)))"
   ]
  },
  {
   "cell_type": "code",
   "execution_count": 14,
   "metadata": {},
   "outputs": [],
   "source": [
    "c0_dev = shuffle(c0_pos_dev + c0_neg_dev, random_state=0)"
   ]
  },
  {
   "cell_type": "markdown",
   "metadata": {},
   "source": [
    "## Increasing train data by different augmentation"
   ]
  },
  {
   "cell_type": "markdown",
   "metadata": {},
   "source": [
    "policy 1"
   ]
  },
  {
   "cell_type": "code",
   "execution_count": 15,
   "metadata": {},
   "outputs": [],
   "source": [
    "composed_1 = transforms.Compose([\n",
    "    transforms.Resize((224, 224)),\n",
    "    #transforms.RandomRotation(degrees=15),\n",
    "    #transforms.RandomHorizontalFlip(p=0.5),\n",
    "    transforms.ToTensor(),\n",
    "    transforms.Normalize(mean=[0.485,0.456,0.406],std=[0.229,0.224,0.225]),\n",
    "    #transforms.ToPILImage(),\n",
    "])"
   ]
  },
  {
   "cell_type": "code",
   "execution_count": 16,
   "metadata": {},
   "outputs": [],
   "source": [
    "c0_pos_1 = []\n",
    "for img, label in c0_pos:\n",
    "    img = composed_1(img)\n",
    "    c0_pos_1.append((img,label))"
   ]
  },
  {
   "cell_type": "markdown",
   "metadata": {},
   "source": [
    "policy 2"
   ]
  },
  {
   "cell_type": "code",
   "execution_count": 17,
   "metadata": {},
   "outputs": [],
   "source": [
    "composed_2 = transforms.Compose([\n",
    "    transforms.Resize((224, 224)),\n",
    "    transforms.RandomRotation(degrees=45),\n",
    "    #transforms.RandomHorizontalFlip(p=0.5),\n",
    "    transforms.ToTensor(),\n",
    "    transforms.Normalize(mean=[0.485,0.456,0.406],std=[0.229,0.224,0.225]),\n",
    "    #transforms.ToPILImage(),\n",
    "])"
   ]
  },
  {
   "cell_type": "code",
   "execution_count": 18,
   "metadata": {},
   "outputs": [],
   "source": [
    "c0_pos_2 = []\n",
    "for img, label in c0_pos:\n",
    "    img = composed_2(img)\n",
    "    c0_pos_2.append((img,label))"
   ]
  },
  {
   "cell_type": "markdown",
   "metadata": {},
   "source": [
    "policy 3"
   ]
  },
  {
   "cell_type": "code",
   "execution_count": 19,
   "metadata": {},
   "outputs": [],
   "source": [
    "composed_3 = transforms.Compose([\n",
    "    transforms.Resize((224, 224)),\n",
    "    transforms.RandomRotation(degrees=10),\n",
    "    transforms.RandomHorizontalFlip(p=1),\n",
    "    transforms.ToTensor(),\n",
    "    transforms.Normalize(mean=[0.485,0.456,0.406],std=[0.229,0.224,0.225]),\n",
    "    #transforms.ToPILImage(),\n",
    "])"
   ]
  },
  {
   "cell_type": "code",
   "execution_count": 20,
   "metadata": {},
   "outputs": [],
   "source": [
    "c0_pos_3 = []\n",
    "for img, label in c0_pos:\n",
    "    img = composed_3(img)\n",
    "    c0_pos_3.append((img,label))"
   ]
  },
  {
   "cell_type": "markdown",
   "metadata": {},
   "source": [
    "policy 4"
   ]
  },
  {
   "cell_type": "code",
   "execution_count": 21,
   "metadata": {},
   "outputs": [],
   "source": [
    "composed_4 = transforms.Compose([\n",
    "    transforms.Resize((224, 224)),\n",
    "    transforms.GaussianBlur(3,2),\n",
    "    transforms.ToTensor(),\n",
    "    transforms.Normalize(mean=[0.485,0.456,0.406],std=[0.229,0.224,0.225]),\n",
    "    #transforms.ToPILImage(),\n",
    "])"
   ]
  },
  {
   "cell_type": "code",
   "execution_count": 22,
   "metadata": {},
   "outputs": [],
   "source": [
    "c0_pos_4 = []\n",
    "for img, label in c0_pos:\n",
    "    img = composed_4(img)\n",
    "    c0_pos_4.append((img,label))"
   ]
  },
  {
   "cell_type": "markdown",
   "metadata": {},
   "source": [
    "policy 5"
   ]
  },
  {
   "cell_type": "code",
   "execution_count": 23,
   "metadata": {},
   "outputs": [],
   "source": [
    "composed_5 = transforms.Compose([\n",
    "    transforms.Resize((224, 224)),\n",
    "    transforms.RandomVerticalFlip(),\n",
    "    transforms.RandomAffine(20),\n",
    "    transforms.ToTensor(),\n",
    "    transforms.Normalize(mean=[0.485,0.456,0.406],std=[0.229,0.224,0.225]),\n",
    "    #transforms.ToPILImage(),\n",
    "])"
   ]
  },
  {
   "cell_type": "code",
   "execution_count": 24,
   "metadata": {},
   "outputs": [],
   "source": [
    "c0_pos_5 = []\n",
    "for img, label in c0_pos:\n",
    "    img = composed_5(img)\n",
    "    c0_pos_5.append((img,label))"
   ]
  },
  {
   "cell_type": "markdown",
   "metadata": {},
   "source": [
    "combine"
   ]
  },
  {
   "cell_type": "code",
   "execution_count": 25,
   "metadata": {},
   "outputs": [],
   "source": [
    "c0_pos_all = c0_pos_1 + c0_pos_2 + c0_pos_3 + c0_pos_4 + c0_pos_5"
   ]
  },
  {
   "cell_type": "code",
   "execution_count": 26,
   "metadata": {},
   "outputs": [],
   "source": [
    "# with open('./processed_data/c0_pos_all.pkl', 'wb') as f:\n",
    "#     pickle.dump(c0_pos_all, f)"
   ]
  },
  {
   "cell_type": "code",
   "execution_count": 15,
   "metadata": {},
   "outputs": [],
   "source": [
    "with open('./processed_data/c0_pos_all.pkl', 'rb') as f:\n",
    "    c0_pos_all = pickle.load(f)"
   ]
  },
  {
   "cell_type": "code",
   "execution_count": 16,
   "metadata": {},
   "outputs": [
    {
     "data": {
      "text/plain": [
       "12895"
      ]
     },
     "execution_count": 16,
     "metadata": {},
     "output_type": "execute_result"
    }
   ],
   "source": [
    "len(c0_pos_all)"
   ]
  },
  {
   "cell_type": "code",
   "execution_count": 17,
   "metadata": {},
   "outputs": [],
   "source": [
    "c0 = shuffle(c0_pos_all + c0_neg, random_state=0)"
   ]
  },
  {
   "cell_type": "code",
   "execution_count": 19,
   "metadata": {},
   "outputs": [
    {
     "data": {
      "text/plain": [
       "53686"
      ]
     },
     "execution_count": 19,
     "metadata": {},
     "output_type": "execute_result"
    }
   ],
   "source": [
    "len(c0)"
   ]
  },
  {
   "cell_type": "markdown",
   "metadata": {},
   "source": [
    "## Dataset"
   ]
  },
  {
   "cell_type": "markdown",
   "metadata": {},
   "source": [
    "### Train"
   ]
  },
  {
   "cell_type": "code",
   "execution_count": 20,
   "metadata": {},
   "outputs": [],
   "source": [
    "composed = transforms.Compose([\n",
    "    transforms.Resize((224, 224)),\n",
    "    #transforms.RandomRotation(degrees=10),\n",
    "    #transforms.RandomHorizontalFlip(p=1),\n",
    "    transforms.ToTensor(),\n",
    "    transforms.Normalize(mean=[0.485,0.456,0.406],std=[0.229,0.224,0.225]),\n",
    "    #transforms.ToPILImage(),\n",
    "])"
   ]
  },
  {
   "cell_type": "code",
   "execution_count": 21,
   "metadata": {},
   "outputs": [],
   "source": [
    "class C0_Data(Dataset):\n",
    "    def __init__(self, data_list, transform):\n",
    "        self.data_list = data_list\n",
    "        self.transform = transform\n",
    "\n",
    "    def __getitem__(self, idx):\n",
    "        img, y = self.data_list[idx]\n",
    "        if y == torch.tensor(0):\n",
    "            img = self.transform(img)\n",
    "        return img, y\n",
    "\n",
    "    def __len__(self):\n",
    "        return len(self.data_list)"
   ]
  },
  {
   "cell_type": "code",
   "execution_count": 22,
   "metadata": {},
   "outputs": [],
   "source": [
    "c0_dataset = C0_Data(c0, composed)"
   ]
  },
  {
   "cell_type": "code",
   "execution_count": 23,
   "metadata": {},
   "outputs": [
    {
     "data": {
      "text/plain": [
       "53686"
      ]
     },
     "execution_count": 23,
     "metadata": {},
     "output_type": "execute_result"
    }
   ],
   "source": [
    "len(c0_dataset)"
   ]
  },
  {
   "cell_type": "markdown",
   "metadata": {},
   "source": [
    "### Dev"
   ]
  },
  {
   "cell_type": "code",
   "execution_count": 24,
   "metadata": {},
   "outputs": [],
   "source": [
    "class C0_Data_dev(Dataset):\n",
    "    def __init__(self, data_list, transform):\n",
    "        self.data_list = data_list\n",
    "        self.transform = transform\n",
    "\n",
    "    def __getitem__(self, idx):\n",
    "        img, y = self.data_list[idx]\n",
    "        img = self.transform(img)\n",
    "        return img, y\n",
    "\n",
    "    def __len__(self):\n",
    "        return len(self.data_list)"
   ]
  },
  {
   "cell_type": "code",
   "execution_count": 25,
   "metadata": {},
   "outputs": [],
   "source": [
    "c0_dataset_dev = C0_Data_dev(c0_dev, composed)"
   ]
  },
  {
   "cell_type": "code",
   "execution_count": 26,
   "metadata": {},
   "outputs": [
    {
     "data": {
      "text/plain": [
       "6280"
      ]
     },
     "execution_count": 26,
     "metadata": {},
     "output_type": "execute_result"
    }
   ],
   "source": [
    "len(c0_dataset_dev)"
   ]
  },
  {
   "cell_type": "markdown",
   "metadata": {},
   "source": [
    "### Dataloader"
   ]
  },
  {
   "cell_type": "code",
   "execution_count": 27,
   "metadata": {},
   "outputs": [],
   "source": [
    "Train_loader = DataLoader(c0_dataset, batch_size=1)\n",
    "Dev_loader = DataLoader(c0_dataset_dev, batch_size=1)"
   ]
  },
  {
   "cell_type": "markdown",
   "metadata": {},
   "source": [
    "### model"
   ]
  },
  {
   "cell_type": "code",
   "execution_count": 28,
   "metadata": {},
   "outputs": [],
   "source": [
    "class Net(nn.Module):   \n",
    "    # Constructor\n",
    "    def __init__(self):\n",
    "        super(Net, self).__init__()\n",
    "        self.alexnet = models.alexnet(pretrained=True)\n",
    "        self.vgg16 = models.vgg16(pretrained=True)\n",
    "    def forward(self, x):\n",
    "        x1 = self.alexnet(x)\n",
    "        x2 = self.vgg16(x)\n",
    "        x = torch.cat((x1,x2),dim=1)\n",
    "        return x"
   ]
  },
  {
   "cell_type": "code",
   "execution_count": 29,
   "metadata": {},
   "outputs": [],
   "source": [
    "model = Net()\n",
    "model.to(device)\n",
    "model.eval();"
   ]
  },
  {
   "cell_type": "code",
   "execution_count": 30,
   "metadata": {},
   "outputs": [
    {
     "data": {
      "application/vnd.jupyter.widget-view+json": {
       "model_id": "d85ecd2c96b04e33bdd31b4dfef7628c",
       "version_major": 2,
       "version_minor": 0
      },
      "text/plain": [
       "HBox(children=(HTML(value=''), FloatProgress(value=0.0, max=53686.0), HTML(value='')))"
      ]
     },
     "metadata": {},
     "output_type": "display_data"
    },
    {
     "name": "stdout",
     "output_type": "stream",
     "text": [
      "\n"
     ]
    }
   ],
   "source": [
    "train_feature = []\n",
    "\n",
    "for image,label in tqdm(Train_loader):\n",
    "  image = image.to(device)\n",
    "  with torch.no_grad():\n",
    "    out = model(image).to('cpu').numpy()\n",
    "  train_feature.append((out,label))"
   ]
  },
  {
   "cell_type": "code",
   "execution_count": 31,
   "metadata": {},
   "outputs": [
    {
     "data": {
      "application/vnd.jupyter.widget-view+json": {
       "model_id": "f6552eea3ef54d27830d51b7c84af39e",
       "version_major": 2,
       "version_minor": 0
      },
      "text/plain": [
       "HBox(children=(HTML(value=''), FloatProgress(value=0.0, max=6280.0), HTML(value='')))"
      ]
     },
     "metadata": {},
     "output_type": "display_data"
    },
    {
     "name": "stdout",
     "output_type": "stream",
     "text": [
      "\n"
     ]
    }
   ],
   "source": [
    "dev_feature = []\n",
    "\n",
    "for image,label in tqdm(Dev_loader):\n",
    "  image = image.to(device)\n",
    "  with torch.no_grad():\n",
    "    out = model(image).to('cpu').numpy()\n",
    "  dev_feature.append((out,label))"
   ]
  },
  {
   "cell_type": "code",
   "execution_count": 41,
   "metadata": {},
   "outputs": [],
   "source": [
    "with open('./processed_data/train_feature.pkl', 'wb') as f:\n",
    "    pickle.dump(train_feature, f)\n",
    "\n",
    "with open('./processed_data/dev_feature.pkl', 'wb') as f:\n",
    "    pickle.dump(dev_feature, f)"
   ]
  },
  {
   "cell_type": "code",
   "execution_count": null,
   "metadata": {},
   "outputs": [],
   "source": []
  }
 ],
 "metadata": {
  "kernelspec": {
   "display_name": "Python 3",
   "language": "python",
   "name": "python3"
  },
  "language_info": {
   "codemirror_mode": {
    "name": "ipython",
    "version": 3
   },
   "file_extension": ".py",
   "mimetype": "text/x-python",
   "name": "python",
   "nbconvert_exporter": "python",
   "pygments_lexer": "ipython3",
   "version": "3.8.6"
  }
 },
 "nbformat": 4,
 "nbformat_minor": 4
}
