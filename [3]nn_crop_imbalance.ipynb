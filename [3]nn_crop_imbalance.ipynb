{
  "nbformat": 4,
  "nbformat_minor": 0,
  "metadata": {
    "colab": {
      "name": "nn-crop-imbalance.ipynb",
      "provenance": [],
      "collapsed_sections": [],
      "mount_file_id": "1xCLbWx93PCQx9p4KSS9guChAH8PyVj-f",
      "authorship_tag": "ABX9TyMOKFuESAtZc0++GG//J7XG",
      "include_colab_link": true
    },
    "kernelspec": {
      "name": "python3",
      "display_name": "Python 3"
    },
    "accelerator": "GPU",
    "widgets": {
      "application/vnd.jupyter.widget-state+json": {
        "f3bcf877052c405b887ab297d13aa3d7": {
          "model_module": "@jupyter-widgets/controls",
          "model_name": "HBoxModel",
          "state": {
            "_view_name": "HBoxView",
            "_dom_classes": [],
            "_model_name": "HBoxModel",
            "_view_module": "@jupyter-widgets/controls",
            "_model_module_version": "1.5.0",
            "_view_count": null,
            "_view_module_version": "1.5.0",
            "box_style": "",
            "layout": "IPY_MODEL_f683b241bd234600ac8df3d589680d4d",
            "_model_module": "@jupyter-widgets/controls",
            "children": [
              "IPY_MODEL_7efd8932f1ae4d2cb33f0be1a15f4034",
              "IPY_MODEL_0d52e20e46d34f6285f5a5f05d835d94"
            ]
          }
        },
        "f683b241bd234600ac8df3d589680d4d": {
          "model_module": "@jupyter-widgets/base",
          "model_name": "LayoutModel",
          "state": {
            "_view_name": "LayoutView",
            "grid_template_rows": null,
            "right": null,
            "justify_content": null,
            "_view_module": "@jupyter-widgets/base",
            "overflow": null,
            "_model_module_version": "1.2.0",
            "_view_count": null,
            "flex_flow": null,
            "width": null,
            "min_width": null,
            "border": null,
            "align_items": null,
            "bottom": null,
            "_model_module": "@jupyter-widgets/base",
            "top": null,
            "grid_column": null,
            "overflow_y": null,
            "overflow_x": null,
            "grid_auto_flow": null,
            "grid_area": null,
            "grid_template_columns": null,
            "flex": null,
            "_model_name": "LayoutModel",
            "justify_items": null,
            "grid_row": null,
            "max_height": null,
            "align_content": null,
            "visibility": null,
            "align_self": null,
            "height": null,
            "min_height": null,
            "padding": null,
            "grid_auto_rows": null,
            "grid_gap": null,
            "max_width": null,
            "order": null,
            "_view_module_version": "1.2.0",
            "grid_template_areas": null,
            "object_position": null,
            "object_fit": null,
            "grid_auto_columns": null,
            "margin": null,
            "display": null,
            "left": null
          }
        },
        "7efd8932f1ae4d2cb33f0be1a15f4034": {
          "model_module": "@jupyter-widgets/controls",
          "model_name": "FloatProgressModel",
          "state": {
            "_view_name": "ProgressView",
            "style": "IPY_MODEL_8f5d0faea38942fa8a6f9799f28b6ae7",
            "_dom_classes": [],
            "description": "100%",
            "_model_name": "FloatProgressModel",
            "bar_style": "success",
            "max": 40,
            "_view_module": "@jupyter-widgets/controls",
            "_model_module_version": "1.5.0",
            "value": 40,
            "_view_count": null,
            "_view_module_version": "1.5.0",
            "orientation": "horizontal",
            "min": 0,
            "description_tooltip": null,
            "_model_module": "@jupyter-widgets/controls",
            "layout": "IPY_MODEL_4e85036b3b7647ef8312967abd48a203"
          }
        },
        "0d52e20e46d34f6285f5a5f05d835d94": {
          "model_module": "@jupyter-widgets/controls",
          "model_name": "HTMLModel",
          "state": {
            "_view_name": "HTMLView",
            "style": "IPY_MODEL_26327531b60a425fab2f0b41f3fd8986",
            "_dom_classes": [],
            "description": "",
            "_model_name": "HTMLModel",
            "placeholder": "​",
            "_view_module": "@jupyter-widgets/controls",
            "_model_module_version": "1.5.0",
            "value": " 40/40 [05:16&lt;00:00,  7.91s/it]",
            "_view_count": null,
            "_view_module_version": "1.5.0",
            "description_tooltip": null,
            "_model_module": "@jupyter-widgets/controls",
            "layout": "IPY_MODEL_a0f738f5451c463e9446bac9a12af997"
          }
        },
        "8f5d0faea38942fa8a6f9799f28b6ae7": {
          "model_module": "@jupyter-widgets/controls",
          "model_name": "ProgressStyleModel",
          "state": {
            "_view_name": "StyleView",
            "_model_name": "ProgressStyleModel",
            "description_width": "initial",
            "_view_module": "@jupyter-widgets/base",
            "_model_module_version": "1.5.0",
            "_view_count": null,
            "_view_module_version": "1.2.0",
            "bar_color": null,
            "_model_module": "@jupyter-widgets/controls"
          }
        },
        "4e85036b3b7647ef8312967abd48a203": {
          "model_module": "@jupyter-widgets/base",
          "model_name": "LayoutModel",
          "state": {
            "_view_name": "LayoutView",
            "grid_template_rows": null,
            "right": null,
            "justify_content": null,
            "_view_module": "@jupyter-widgets/base",
            "overflow": null,
            "_model_module_version": "1.2.0",
            "_view_count": null,
            "flex_flow": null,
            "width": null,
            "min_width": null,
            "border": null,
            "align_items": null,
            "bottom": null,
            "_model_module": "@jupyter-widgets/base",
            "top": null,
            "grid_column": null,
            "overflow_y": null,
            "overflow_x": null,
            "grid_auto_flow": null,
            "grid_area": null,
            "grid_template_columns": null,
            "flex": null,
            "_model_name": "LayoutModel",
            "justify_items": null,
            "grid_row": null,
            "max_height": null,
            "align_content": null,
            "visibility": null,
            "align_self": null,
            "height": null,
            "min_height": null,
            "padding": null,
            "grid_auto_rows": null,
            "grid_gap": null,
            "max_width": null,
            "order": null,
            "_view_module_version": "1.2.0",
            "grid_template_areas": null,
            "object_position": null,
            "object_fit": null,
            "grid_auto_columns": null,
            "margin": null,
            "display": null,
            "left": null
          }
        },
        "26327531b60a425fab2f0b41f3fd8986": {
          "model_module": "@jupyter-widgets/controls",
          "model_name": "DescriptionStyleModel",
          "state": {
            "_view_name": "StyleView",
            "_model_name": "DescriptionStyleModel",
            "description_width": "",
            "_view_module": "@jupyter-widgets/base",
            "_model_module_version": "1.5.0",
            "_view_count": null,
            "_view_module_version": "1.2.0",
            "_model_module": "@jupyter-widgets/controls"
          }
        },
        "a0f738f5451c463e9446bac9a12af997": {
          "model_module": "@jupyter-widgets/base",
          "model_name": "LayoutModel",
          "state": {
            "_view_name": "LayoutView",
            "grid_template_rows": null,
            "right": null,
            "justify_content": null,
            "_view_module": "@jupyter-widgets/base",
            "overflow": null,
            "_model_module_version": "1.2.0",
            "_view_count": null,
            "flex_flow": null,
            "width": null,
            "min_width": null,
            "border": null,
            "align_items": null,
            "bottom": null,
            "_model_module": "@jupyter-widgets/base",
            "top": null,
            "grid_column": null,
            "overflow_y": null,
            "overflow_x": null,
            "grid_auto_flow": null,
            "grid_area": null,
            "grid_template_columns": null,
            "flex": null,
            "_model_name": "LayoutModel",
            "justify_items": null,
            "grid_row": null,
            "max_height": null,
            "align_content": null,
            "visibility": null,
            "align_self": null,
            "height": null,
            "min_height": null,
            "padding": null,
            "grid_auto_rows": null,
            "grid_gap": null,
            "max_width": null,
            "order": null,
            "_view_module_version": "1.2.0",
            "grid_template_areas": null,
            "object_position": null,
            "object_fit": null,
            "grid_auto_columns": null,
            "margin": null,
            "display": null,
            "left": null
          }
        },
        "58ff92cb8f404c25985e351e75dd35c0": {
          "model_module": "@jupyter-widgets/controls",
          "model_name": "HBoxModel",
          "state": {
            "_view_name": "HBoxView",
            "_dom_classes": [],
            "_model_name": "HBoxModel",
            "_view_module": "@jupyter-widgets/controls",
            "_model_module_version": "1.5.0",
            "_view_count": null,
            "_view_module_version": "1.5.0",
            "box_style": "",
            "layout": "IPY_MODEL_64d0adba586d4338abbc4d848451b265",
            "_model_module": "@jupyter-widgets/controls",
            "children": [
              "IPY_MODEL_5a6f23841a4b41d9a8e344231416c3ab",
              "IPY_MODEL_64e8b127620b4c8dbc35c5e61acafc05"
            ]
          }
        },
        "64d0adba586d4338abbc4d848451b265": {
          "model_module": "@jupyter-widgets/base",
          "model_name": "LayoutModel",
          "state": {
            "_view_name": "LayoutView",
            "grid_template_rows": null,
            "right": null,
            "justify_content": null,
            "_view_module": "@jupyter-widgets/base",
            "overflow": null,
            "_model_module_version": "1.2.0",
            "_view_count": null,
            "flex_flow": null,
            "width": null,
            "min_width": null,
            "border": null,
            "align_items": null,
            "bottom": null,
            "_model_module": "@jupyter-widgets/base",
            "top": null,
            "grid_column": null,
            "overflow_y": null,
            "overflow_x": null,
            "grid_auto_flow": null,
            "grid_area": null,
            "grid_template_columns": null,
            "flex": null,
            "_model_name": "LayoutModel",
            "justify_items": null,
            "grid_row": null,
            "max_height": null,
            "align_content": null,
            "visibility": null,
            "align_self": null,
            "height": null,
            "min_height": null,
            "padding": null,
            "grid_auto_rows": null,
            "grid_gap": null,
            "max_width": null,
            "order": null,
            "_view_module_version": "1.2.0",
            "grid_template_areas": null,
            "object_position": null,
            "object_fit": null,
            "grid_auto_columns": null,
            "margin": null,
            "display": null,
            "left": null
          }
        },
        "5a6f23841a4b41d9a8e344231416c3ab": {
          "model_module": "@jupyter-widgets/controls",
          "model_name": "FloatProgressModel",
          "state": {
            "_view_name": "ProgressView",
            "style": "IPY_MODEL_aafa05e70aea431a9b8a064ac7199a66",
            "_dom_classes": [],
            "description": "100%",
            "_model_name": "FloatProgressModel",
            "bar_style": "success",
            "max": 40,
            "_view_module": "@jupyter-widgets/controls",
            "_model_module_version": "1.5.0",
            "value": 40,
            "_view_count": null,
            "_view_module_version": "1.5.0",
            "orientation": "horizontal",
            "min": 0,
            "description_tooltip": null,
            "_model_module": "@jupyter-widgets/controls",
            "layout": "IPY_MODEL_599217d90d24450aa0c6e0e8e1b329a4"
          }
        },
        "64e8b127620b4c8dbc35c5e61acafc05": {
          "model_module": "@jupyter-widgets/controls",
          "model_name": "HTMLModel",
          "state": {
            "_view_name": "HTMLView",
            "style": "IPY_MODEL_bd993fd3522f48d1ae51741b03d8afe6",
            "_dom_classes": [],
            "description": "",
            "_model_name": "HTMLModel",
            "placeholder": "​",
            "_view_module": "@jupyter-widgets/controls",
            "_model_module_version": "1.5.0",
            "value": " 40/40 [10:12&lt;00:00, 15.32s/it]",
            "_view_count": null,
            "_view_module_version": "1.5.0",
            "description_tooltip": null,
            "_model_module": "@jupyter-widgets/controls",
            "layout": "IPY_MODEL_0033354ab51c44b7b605ac310c0efb22"
          }
        },
        "aafa05e70aea431a9b8a064ac7199a66": {
          "model_module": "@jupyter-widgets/controls",
          "model_name": "ProgressStyleModel",
          "state": {
            "_view_name": "StyleView",
            "_model_name": "ProgressStyleModel",
            "description_width": "initial",
            "_view_module": "@jupyter-widgets/base",
            "_model_module_version": "1.5.0",
            "_view_count": null,
            "_view_module_version": "1.2.0",
            "bar_color": null,
            "_model_module": "@jupyter-widgets/controls"
          }
        },
        "599217d90d24450aa0c6e0e8e1b329a4": {
          "model_module": "@jupyter-widgets/base",
          "model_name": "LayoutModel",
          "state": {
            "_view_name": "LayoutView",
            "grid_template_rows": null,
            "right": null,
            "justify_content": null,
            "_view_module": "@jupyter-widgets/base",
            "overflow": null,
            "_model_module_version": "1.2.0",
            "_view_count": null,
            "flex_flow": null,
            "width": null,
            "min_width": null,
            "border": null,
            "align_items": null,
            "bottom": null,
            "_model_module": "@jupyter-widgets/base",
            "top": null,
            "grid_column": null,
            "overflow_y": null,
            "overflow_x": null,
            "grid_auto_flow": null,
            "grid_area": null,
            "grid_template_columns": null,
            "flex": null,
            "_model_name": "LayoutModel",
            "justify_items": null,
            "grid_row": null,
            "max_height": null,
            "align_content": null,
            "visibility": null,
            "align_self": null,
            "height": null,
            "min_height": null,
            "padding": null,
            "grid_auto_rows": null,
            "grid_gap": null,
            "max_width": null,
            "order": null,
            "_view_module_version": "1.2.0",
            "grid_template_areas": null,
            "object_position": null,
            "object_fit": null,
            "grid_auto_columns": null,
            "margin": null,
            "display": null,
            "left": null
          }
        },
        "bd993fd3522f48d1ae51741b03d8afe6": {
          "model_module": "@jupyter-widgets/controls",
          "model_name": "DescriptionStyleModel",
          "state": {
            "_view_name": "StyleView",
            "_model_name": "DescriptionStyleModel",
            "description_width": "",
            "_view_module": "@jupyter-widgets/base",
            "_model_module_version": "1.5.0",
            "_view_count": null,
            "_view_module_version": "1.2.0",
            "_model_module": "@jupyter-widgets/controls"
          }
        },
        "0033354ab51c44b7b605ac310c0efb22": {
          "model_module": "@jupyter-widgets/base",
          "model_name": "LayoutModel",
          "state": {
            "_view_name": "LayoutView",
            "grid_template_rows": null,
            "right": null,
            "justify_content": null,
            "_view_module": "@jupyter-widgets/base",
            "overflow": null,
            "_model_module_version": "1.2.0",
            "_view_count": null,
            "flex_flow": null,
            "width": null,
            "min_width": null,
            "border": null,
            "align_items": null,
            "bottom": null,
            "_model_module": "@jupyter-widgets/base",
            "top": null,
            "grid_column": null,
            "overflow_y": null,
            "overflow_x": null,
            "grid_auto_flow": null,
            "grid_area": null,
            "grid_template_columns": null,
            "flex": null,
            "_model_name": "LayoutModel",
            "justify_items": null,
            "grid_row": null,
            "max_height": null,
            "align_content": null,
            "visibility": null,
            "align_self": null,
            "height": null,
            "min_height": null,
            "padding": null,
            "grid_auto_rows": null,
            "grid_gap": null,
            "max_width": null,
            "order": null,
            "_view_module_version": "1.2.0",
            "grid_template_areas": null,
            "object_position": null,
            "object_fit": null,
            "grid_auto_columns": null,
            "margin": null,
            "display": null,
            "left": null
          }
        },
        "e66bdc7cd6d44e90a1ddc547ad53f382": {
          "model_module": "@jupyter-widgets/controls",
          "model_name": "HBoxModel",
          "state": {
            "_view_name": "HBoxView",
            "_dom_classes": [],
            "_model_name": "HBoxModel",
            "_view_module": "@jupyter-widgets/controls",
            "_model_module_version": "1.5.0",
            "_view_count": null,
            "_view_module_version": "1.5.0",
            "box_style": "",
            "layout": "IPY_MODEL_28007259236c4560a4de050eb035c141",
            "_model_module": "@jupyter-widgets/controls",
            "children": [
              "IPY_MODEL_1bd225e1b1484f4d9b76d0b4bc7290fc",
              "IPY_MODEL_d00f2c094e7a460ab19248dbc755a308"
            ]
          }
        },
        "28007259236c4560a4de050eb035c141": {
          "model_module": "@jupyter-widgets/base",
          "model_name": "LayoutModel",
          "state": {
            "_view_name": "LayoutView",
            "grid_template_rows": null,
            "right": null,
            "justify_content": null,
            "_view_module": "@jupyter-widgets/base",
            "overflow": null,
            "_model_module_version": "1.2.0",
            "_view_count": null,
            "flex_flow": null,
            "width": null,
            "min_width": null,
            "border": null,
            "align_items": null,
            "bottom": null,
            "_model_module": "@jupyter-widgets/base",
            "top": null,
            "grid_column": null,
            "overflow_y": null,
            "overflow_x": null,
            "grid_auto_flow": null,
            "grid_area": null,
            "grid_template_columns": null,
            "flex": null,
            "_model_name": "LayoutModel",
            "justify_items": null,
            "grid_row": null,
            "max_height": null,
            "align_content": null,
            "visibility": null,
            "align_self": null,
            "height": null,
            "min_height": null,
            "padding": null,
            "grid_auto_rows": null,
            "grid_gap": null,
            "max_width": null,
            "order": null,
            "_view_module_version": "1.2.0",
            "grid_template_areas": null,
            "object_position": null,
            "object_fit": null,
            "grid_auto_columns": null,
            "margin": null,
            "display": null,
            "left": null
          }
        },
        "1bd225e1b1484f4d9b76d0b4bc7290fc": {
          "model_module": "@jupyter-widgets/controls",
          "model_name": "FloatProgressModel",
          "state": {
            "_view_name": "ProgressView",
            "style": "IPY_MODEL_a2cb2ec61753479d95dee3b6adf2d5e7",
            "_dom_classes": [],
            "description": "100%",
            "_model_name": "FloatProgressModel",
            "bar_style": "success",
            "max": 40,
            "_view_module": "@jupyter-widgets/controls",
            "_model_module_version": "1.5.0",
            "value": 40,
            "_view_count": null,
            "_view_module_version": "1.5.0",
            "orientation": "horizontal",
            "min": 0,
            "description_tooltip": null,
            "_model_module": "@jupyter-widgets/controls",
            "layout": "IPY_MODEL_2ddeaaab34e84000ba0ede41dfaf9f3a"
          }
        },
        "d00f2c094e7a460ab19248dbc755a308": {
          "model_module": "@jupyter-widgets/controls",
          "model_name": "HTMLModel",
          "state": {
            "_view_name": "HTMLView",
            "style": "IPY_MODEL_cbb0e98deab54f91972fec35dee96a87",
            "_dom_classes": [],
            "description": "",
            "_model_name": "HTMLModel",
            "placeholder": "​",
            "_view_module": "@jupyter-widgets/controls",
            "_model_module_version": "1.5.0",
            "value": " 40/40 [04:17&lt;00:00,  6.43s/it]",
            "_view_count": null,
            "_view_module_version": "1.5.0",
            "description_tooltip": null,
            "_model_module": "@jupyter-widgets/controls",
            "layout": "IPY_MODEL_5e5e4124a4cc450cb2eaa9578a79538a"
          }
        },
        "a2cb2ec61753479d95dee3b6adf2d5e7": {
          "model_module": "@jupyter-widgets/controls",
          "model_name": "ProgressStyleModel",
          "state": {
            "_view_name": "StyleView",
            "_model_name": "ProgressStyleModel",
            "description_width": "initial",
            "_view_module": "@jupyter-widgets/base",
            "_model_module_version": "1.5.0",
            "_view_count": null,
            "_view_module_version": "1.2.0",
            "bar_color": null,
            "_model_module": "@jupyter-widgets/controls"
          }
        },
        "2ddeaaab34e84000ba0ede41dfaf9f3a": {
          "model_module": "@jupyter-widgets/base",
          "model_name": "LayoutModel",
          "state": {
            "_view_name": "LayoutView",
            "grid_template_rows": null,
            "right": null,
            "justify_content": null,
            "_view_module": "@jupyter-widgets/base",
            "overflow": null,
            "_model_module_version": "1.2.0",
            "_view_count": null,
            "flex_flow": null,
            "width": null,
            "min_width": null,
            "border": null,
            "align_items": null,
            "bottom": null,
            "_model_module": "@jupyter-widgets/base",
            "top": null,
            "grid_column": null,
            "overflow_y": null,
            "overflow_x": null,
            "grid_auto_flow": null,
            "grid_area": null,
            "grid_template_columns": null,
            "flex": null,
            "_model_name": "LayoutModel",
            "justify_items": null,
            "grid_row": null,
            "max_height": null,
            "align_content": null,
            "visibility": null,
            "align_self": null,
            "height": null,
            "min_height": null,
            "padding": null,
            "grid_auto_rows": null,
            "grid_gap": null,
            "max_width": null,
            "order": null,
            "_view_module_version": "1.2.0",
            "grid_template_areas": null,
            "object_position": null,
            "object_fit": null,
            "grid_auto_columns": null,
            "margin": null,
            "display": null,
            "left": null
          }
        },
        "cbb0e98deab54f91972fec35dee96a87": {
          "model_module": "@jupyter-widgets/controls",
          "model_name": "DescriptionStyleModel",
          "state": {
            "_view_name": "StyleView",
            "_model_name": "DescriptionStyleModel",
            "description_width": "",
            "_view_module": "@jupyter-widgets/base",
            "_model_module_version": "1.5.0",
            "_view_count": null,
            "_view_module_version": "1.2.0",
            "_model_module": "@jupyter-widgets/controls"
          }
        },
        "5e5e4124a4cc450cb2eaa9578a79538a": {
          "model_module": "@jupyter-widgets/base",
          "model_name": "LayoutModel",
          "state": {
            "_view_name": "LayoutView",
            "grid_template_rows": null,
            "right": null,
            "justify_content": null,
            "_view_module": "@jupyter-widgets/base",
            "overflow": null,
            "_model_module_version": "1.2.0",
            "_view_count": null,
            "flex_flow": null,
            "width": null,
            "min_width": null,
            "border": null,
            "align_items": null,
            "bottom": null,
            "_model_module": "@jupyter-widgets/base",
            "top": null,
            "grid_column": null,
            "overflow_y": null,
            "overflow_x": null,
            "grid_auto_flow": null,
            "grid_area": null,
            "grid_template_columns": null,
            "flex": null,
            "_model_name": "LayoutModel",
            "justify_items": null,
            "grid_row": null,
            "max_height": null,
            "align_content": null,
            "visibility": null,
            "align_self": null,
            "height": null,
            "min_height": null,
            "padding": null,
            "grid_auto_rows": null,
            "grid_gap": null,
            "max_width": null,
            "order": null,
            "_view_module_version": "1.2.0",
            "grid_template_areas": null,
            "object_position": null,
            "object_fit": null,
            "grid_auto_columns": null,
            "margin": null,
            "display": null,
            "left": null
          }
        },
        "bf18921d5db54c3eb7c2f6569febb562": {
          "model_module": "@jupyter-widgets/controls",
          "model_name": "HBoxModel",
          "state": {
            "_view_name": "HBoxView",
            "_dom_classes": [],
            "_model_name": "HBoxModel",
            "_view_module": "@jupyter-widgets/controls",
            "_model_module_version": "1.5.0",
            "_view_count": null,
            "_view_module_version": "1.5.0",
            "box_style": "",
            "layout": "IPY_MODEL_e24729aa991441179f8b04b890df1fd9",
            "_model_module": "@jupyter-widgets/controls",
            "children": [
              "IPY_MODEL_ab734cff21ef41a690010170f0d96f82",
              "IPY_MODEL_08bd6437325341f59f3bc15e03f80686"
            ]
          }
        },
        "e24729aa991441179f8b04b890df1fd9": {
          "model_module": "@jupyter-widgets/base",
          "model_name": "LayoutModel",
          "state": {
            "_view_name": "LayoutView",
            "grid_template_rows": null,
            "right": null,
            "justify_content": null,
            "_view_module": "@jupyter-widgets/base",
            "overflow": null,
            "_model_module_version": "1.2.0",
            "_view_count": null,
            "flex_flow": null,
            "width": null,
            "min_width": null,
            "border": null,
            "align_items": null,
            "bottom": null,
            "_model_module": "@jupyter-widgets/base",
            "top": null,
            "grid_column": null,
            "overflow_y": null,
            "overflow_x": null,
            "grid_auto_flow": null,
            "grid_area": null,
            "grid_template_columns": null,
            "flex": null,
            "_model_name": "LayoutModel",
            "justify_items": null,
            "grid_row": null,
            "max_height": null,
            "align_content": null,
            "visibility": null,
            "align_self": null,
            "height": null,
            "min_height": null,
            "padding": null,
            "grid_auto_rows": null,
            "grid_gap": null,
            "max_width": null,
            "order": null,
            "_view_module_version": "1.2.0",
            "grid_template_areas": null,
            "object_position": null,
            "object_fit": null,
            "grid_auto_columns": null,
            "margin": null,
            "display": null,
            "left": null
          }
        },
        "ab734cff21ef41a690010170f0d96f82": {
          "model_module": "@jupyter-widgets/controls",
          "model_name": "FloatProgressModel",
          "state": {
            "_view_name": "ProgressView",
            "style": "IPY_MODEL_e4671ac9457f4b58a9fed441c062cb34",
            "_dom_classes": [],
            "description": "100%",
            "_model_name": "FloatProgressModel",
            "bar_style": "success",
            "max": 40,
            "_view_module": "@jupyter-widgets/controls",
            "_model_module_version": "1.5.0",
            "value": 40,
            "_view_count": null,
            "_view_module_version": "1.5.0",
            "orientation": "horizontal",
            "min": 0,
            "description_tooltip": null,
            "_model_module": "@jupyter-widgets/controls",
            "layout": "IPY_MODEL_734d9132bd344fa9afc4ab550b2897fa"
          }
        },
        "08bd6437325341f59f3bc15e03f80686": {
          "model_module": "@jupyter-widgets/controls",
          "model_name": "HTMLModel",
          "state": {
            "_view_name": "HTMLView",
            "style": "IPY_MODEL_505c86eb788f4462990b9de711346144",
            "_dom_classes": [],
            "description": "",
            "_model_name": "HTMLModel",
            "placeholder": "​",
            "_view_module": "@jupyter-widgets/controls",
            "_model_module_version": "1.5.0",
            "value": " 40/40 [04:14&lt;00:00,  6.35s/it]",
            "_view_count": null,
            "_view_module_version": "1.5.0",
            "description_tooltip": null,
            "_model_module": "@jupyter-widgets/controls",
            "layout": "IPY_MODEL_237a4a6111714851aa99046559275cfa"
          }
        },
        "e4671ac9457f4b58a9fed441c062cb34": {
          "model_module": "@jupyter-widgets/controls",
          "model_name": "ProgressStyleModel",
          "state": {
            "_view_name": "StyleView",
            "_model_name": "ProgressStyleModel",
            "description_width": "initial",
            "_view_module": "@jupyter-widgets/base",
            "_model_module_version": "1.5.0",
            "_view_count": null,
            "_view_module_version": "1.2.0",
            "bar_color": null,
            "_model_module": "@jupyter-widgets/controls"
          }
        },
        "734d9132bd344fa9afc4ab550b2897fa": {
          "model_module": "@jupyter-widgets/base",
          "model_name": "LayoutModel",
          "state": {
            "_view_name": "LayoutView",
            "grid_template_rows": null,
            "right": null,
            "justify_content": null,
            "_view_module": "@jupyter-widgets/base",
            "overflow": null,
            "_model_module_version": "1.2.0",
            "_view_count": null,
            "flex_flow": null,
            "width": null,
            "min_width": null,
            "border": null,
            "align_items": null,
            "bottom": null,
            "_model_module": "@jupyter-widgets/base",
            "top": null,
            "grid_column": null,
            "overflow_y": null,
            "overflow_x": null,
            "grid_auto_flow": null,
            "grid_area": null,
            "grid_template_columns": null,
            "flex": null,
            "_model_name": "LayoutModel",
            "justify_items": null,
            "grid_row": null,
            "max_height": null,
            "align_content": null,
            "visibility": null,
            "align_self": null,
            "height": null,
            "min_height": null,
            "padding": null,
            "grid_auto_rows": null,
            "grid_gap": null,
            "max_width": null,
            "order": null,
            "_view_module_version": "1.2.0",
            "grid_template_areas": null,
            "object_position": null,
            "object_fit": null,
            "grid_auto_columns": null,
            "margin": null,
            "display": null,
            "left": null
          }
        },
        "505c86eb788f4462990b9de711346144": {
          "model_module": "@jupyter-widgets/controls",
          "model_name": "DescriptionStyleModel",
          "state": {
            "_view_name": "StyleView",
            "_model_name": "DescriptionStyleModel",
            "description_width": "",
            "_view_module": "@jupyter-widgets/base",
            "_model_module_version": "1.5.0",
            "_view_count": null,
            "_view_module_version": "1.2.0",
            "_model_module": "@jupyter-widgets/controls"
          }
        },
        "237a4a6111714851aa99046559275cfa": {
          "model_module": "@jupyter-widgets/base",
          "model_name": "LayoutModel",
          "state": {
            "_view_name": "LayoutView",
            "grid_template_rows": null,
            "right": null,
            "justify_content": null,
            "_view_module": "@jupyter-widgets/base",
            "overflow": null,
            "_model_module_version": "1.2.0",
            "_view_count": null,
            "flex_flow": null,
            "width": null,
            "min_width": null,
            "border": null,
            "align_items": null,
            "bottom": null,
            "_model_module": "@jupyter-widgets/base",
            "top": null,
            "grid_column": null,
            "overflow_y": null,
            "overflow_x": null,
            "grid_auto_flow": null,
            "grid_area": null,
            "grid_template_columns": null,
            "flex": null,
            "_model_name": "LayoutModel",
            "justify_items": null,
            "grid_row": null,
            "max_height": null,
            "align_content": null,
            "visibility": null,
            "align_self": null,
            "height": null,
            "min_height": null,
            "padding": null,
            "grid_auto_rows": null,
            "grid_gap": null,
            "max_width": null,
            "order": null,
            "_view_module_version": "1.2.0",
            "grid_template_areas": null,
            "object_position": null,
            "object_fit": null,
            "grid_auto_columns": null,
            "margin": null,
            "display": null,
            "left": null
          }
        },
        "6b886600afcc4742969f30bf54feca6b": {
          "model_module": "@jupyter-widgets/controls",
          "model_name": "HBoxModel",
          "state": {
            "_view_name": "HBoxView",
            "_dom_classes": [],
            "_model_name": "HBoxModel",
            "_view_module": "@jupyter-widgets/controls",
            "_model_module_version": "1.5.0",
            "_view_count": null,
            "_view_module_version": "1.5.0",
            "box_style": "",
            "layout": "IPY_MODEL_de74dc46393f40b3a6abead7fd77f0f6",
            "_model_module": "@jupyter-widgets/controls",
            "children": [
              "IPY_MODEL_5fbcfda58bb347acaa52f995ccb9a099",
              "IPY_MODEL_9017ca657709453c9f31e0e0c31090bb"
            ]
          }
        },
        "de74dc46393f40b3a6abead7fd77f0f6": {
          "model_module": "@jupyter-widgets/base",
          "model_name": "LayoutModel",
          "state": {
            "_view_name": "LayoutView",
            "grid_template_rows": null,
            "right": null,
            "justify_content": null,
            "_view_module": "@jupyter-widgets/base",
            "overflow": null,
            "_model_module_version": "1.2.0",
            "_view_count": null,
            "flex_flow": null,
            "width": null,
            "min_width": null,
            "border": null,
            "align_items": null,
            "bottom": null,
            "_model_module": "@jupyter-widgets/base",
            "top": null,
            "grid_column": null,
            "overflow_y": null,
            "overflow_x": null,
            "grid_auto_flow": null,
            "grid_area": null,
            "grid_template_columns": null,
            "flex": null,
            "_model_name": "LayoutModel",
            "justify_items": null,
            "grid_row": null,
            "max_height": null,
            "align_content": null,
            "visibility": null,
            "align_self": null,
            "height": null,
            "min_height": null,
            "padding": null,
            "grid_auto_rows": null,
            "grid_gap": null,
            "max_width": null,
            "order": null,
            "_view_module_version": "1.2.0",
            "grid_template_areas": null,
            "object_position": null,
            "object_fit": null,
            "grid_auto_columns": null,
            "margin": null,
            "display": null,
            "left": null
          }
        },
        "5fbcfda58bb347acaa52f995ccb9a099": {
          "model_module": "@jupyter-widgets/controls",
          "model_name": "FloatProgressModel",
          "state": {
            "_view_name": "ProgressView",
            "style": "IPY_MODEL_bcaf1640dbcb450bbad22dacc29ca0a0",
            "_dom_classes": [],
            "description": "100%",
            "_model_name": "FloatProgressModel",
            "bar_style": "success",
            "max": 40,
            "_view_module": "@jupyter-widgets/controls",
            "_model_module_version": "1.5.0",
            "value": 40,
            "_view_count": null,
            "_view_module_version": "1.5.0",
            "orientation": "horizontal",
            "min": 0,
            "description_tooltip": null,
            "_model_module": "@jupyter-widgets/controls",
            "layout": "IPY_MODEL_ac1ed67ad2cc4e938b3be820c77a0fcf"
          }
        },
        "9017ca657709453c9f31e0e0c31090bb": {
          "model_module": "@jupyter-widgets/controls",
          "model_name": "HTMLModel",
          "state": {
            "_view_name": "HTMLView",
            "style": "IPY_MODEL_1df94a27e3734c49bf407a00bdfc06d9",
            "_dom_classes": [],
            "description": "",
            "_model_name": "HTMLModel",
            "placeholder": "​",
            "_view_module": "@jupyter-widgets/controls",
            "_model_module_version": "1.5.0",
            "value": " 40/40 [04:33&lt;00:00,  6.83s/it]",
            "_view_count": null,
            "_view_module_version": "1.5.0",
            "description_tooltip": null,
            "_model_module": "@jupyter-widgets/controls",
            "layout": "IPY_MODEL_6e65238ae744463f8b5634a465985c3b"
          }
        },
        "bcaf1640dbcb450bbad22dacc29ca0a0": {
          "model_module": "@jupyter-widgets/controls",
          "model_name": "ProgressStyleModel",
          "state": {
            "_view_name": "StyleView",
            "_model_name": "ProgressStyleModel",
            "description_width": "initial",
            "_view_module": "@jupyter-widgets/base",
            "_model_module_version": "1.5.0",
            "_view_count": null,
            "_view_module_version": "1.2.0",
            "bar_color": null,
            "_model_module": "@jupyter-widgets/controls"
          }
        },
        "ac1ed67ad2cc4e938b3be820c77a0fcf": {
          "model_module": "@jupyter-widgets/base",
          "model_name": "LayoutModel",
          "state": {
            "_view_name": "LayoutView",
            "grid_template_rows": null,
            "right": null,
            "justify_content": null,
            "_view_module": "@jupyter-widgets/base",
            "overflow": null,
            "_model_module_version": "1.2.0",
            "_view_count": null,
            "flex_flow": null,
            "width": null,
            "min_width": null,
            "border": null,
            "align_items": null,
            "bottom": null,
            "_model_module": "@jupyter-widgets/base",
            "top": null,
            "grid_column": null,
            "overflow_y": null,
            "overflow_x": null,
            "grid_auto_flow": null,
            "grid_area": null,
            "grid_template_columns": null,
            "flex": null,
            "_model_name": "LayoutModel",
            "justify_items": null,
            "grid_row": null,
            "max_height": null,
            "align_content": null,
            "visibility": null,
            "align_self": null,
            "height": null,
            "min_height": null,
            "padding": null,
            "grid_auto_rows": null,
            "grid_gap": null,
            "max_width": null,
            "order": null,
            "_view_module_version": "1.2.0",
            "grid_template_areas": null,
            "object_position": null,
            "object_fit": null,
            "grid_auto_columns": null,
            "margin": null,
            "display": null,
            "left": null
          }
        },
        "1df94a27e3734c49bf407a00bdfc06d9": {
          "model_module": "@jupyter-widgets/controls",
          "model_name": "DescriptionStyleModel",
          "state": {
            "_view_name": "StyleView",
            "_model_name": "DescriptionStyleModel",
            "description_width": "",
            "_view_module": "@jupyter-widgets/base",
            "_model_module_version": "1.5.0",
            "_view_count": null,
            "_view_module_version": "1.2.0",
            "_model_module": "@jupyter-widgets/controls"
          }
        },
        "6e65238ae744463f8b5634a465985c3b": {
          "model_module": "@jupyter-widgets/base",
          "model_name": "LayoutModel",
          "state": {
            "_view_name": "LayoutView",
            "grid_template_rows": null,
            "right": null,
            "justify_content": null,
            "_view_module": "@jupyter-widgets/base",
            "overflow": null,
            "_model_module_version": "1.2.0",
            "_view_count": null,
            "flex_flow": null,
            "width": null,
            "min_width": null,
            "border": null,
            "align_items": null,
            "bottom": null,
            "_model_module": "@jupyter-widgets/base",
            "top": null,
            "grid_column": null,
            "overflow_y": null,
            "overflow_x": null,
            "grid_auto_flow": null,
            "grid_area": null,
            "grid_template_columns": null,
            "flex": null,
            "_model_name": "LayoutModel",
            "justify_items": null,
            "grid_row": null,
            "max_height": null,
            "align_content": null,
            "visibility": null,
            "align_self": null,
            "height": null,
            "min_height": null,
            "padding": null,
            "grid_auto_rows": null,
            "grid_gap": null,
            "max_width": null,
            "order": null,
            "_view_module_version": "1.2.0",
            "grid_template_areas": null,
            "object_position": null,
            "object_fit": null,
            "grid_auto_columns": null,
            "margin": null,
            "display": null,
            "left": null
          }
        }
      }
    }
  },
  "cells": [
    {
      "cell_type": "markdown",
      "metadata": {
        "id": "view-in-github",
        "colab_type": "text"
      },
      "source": [
        "<a href=\"https://colab.research.google.com/github/maglili/ai_cup-mango-cnn_base/blob/main/nn_crop_imbalance.ipynb\" target=\"_parent\"><img src=\"https://colab.research.google.com/assets/colab-badge.svg\" alt=\"Open In Colab\"/></a>"
      ]
    },
    {
      "cell_type": "markdown",
      "metadata": {
        "id": "v3vVEaPtzo3a"
      },
      "source": [
        "# Colab\r\n",
        "\r\n",
        "- 將 baseline 的下游從 svm 轉換為 nn。\r\n",
        "- 訓練練資料的正負資料集不平衡。\r\n",
        "- 圖片被裁切成數個小bbox"
      ]
    },
    {
      "cell_type": "code",
      "metadata": {
        "colab": {
          "base_uri": "https://localhost:8080/"
        },
        "id": "oGMVVcWJzbAi",
        "outputId": "c19d7305-8687-4f63-dae7-942f65d65fac"
      },
      "source": [
        "cd /content/drive/MyDrive/Projects/AI_CUP-Mango"
      ],
      "execution_count": 1,
      "outputs": [
        {
          "output_type": "stream",
          "text": [
            "/content/drive/MyDrive/Projects/AI_CUP-Mango\n"
          ],
          "name": "stdout"
        }
      ]
    },
    {
      "cell_type": "code",
      "metadata": {
        "colab": {
          "base_uri": "https://localhost:8080/",
          "height": 35
        },
        "id": "7PZhH4L_zgE6",
        "outputId": "645ffac8-100a-42c9-b93a-af981f89cd7e"
      },
      "source": [
        "pwd"
      ],
      "execution_count": 2,
      "outputs": [
        {
          "output_type": "execute_result",
          "data": {
            "application/vnd.google.colaboratory.intrinsic+json": {
              "type": "string"
            },
            "text/plain": [
              "'/content/drive/MyDrive/Projects/AI_CUP-Mango'"
            ]
          },
          "metadata": {
            "tags": []
          },
          "execution_count": 2
        }
      ]
    },
    {
      "cell_type": "markdown",
      "metadata": {
        "id": "mPSt5yHGzsjj"
      },
      "source": [
        "# Preparing data"
      ]
    },
    {
      "cell_type": "code",
      "metadata": {
        "id": "oYQWpqkZzKvX"
      },
      "source": [
        "import numpy as np\r\n",
        "from PIL import Image\r\n",
        "from tqdm.notebook import tqdm\r\n",
        "import pickle \r\n",
        "import matplotlib.pylab as plt # plot module\r\n",
        "\r\n",
        "from sklearn.utils import shuffle\r\n",
        "from sklearn.metrics import f1_score\r\n",
        "from sklearn import metrics\r\n",
        "\r\n",
        "import torch\r\n",
        "import torch.nn.functional as F\r\n",
        "from torch.utils.data import Dataset, DataLoader\r\n",
        "import torch.nn as nn\r\n",
        "from torchvision import transforms\r\n",
        "import torchvision.models as models"
      ],
      "execution_count": 4,
      "outputs": []
    },
    {
      "cell_type": "code",
      "metadata": {
        "colab": {
          "base_uri": "https://localhost:8080/"
        },
        "id": "tmeilzOhzTaS",
        "outputId": "a58d2ccd-0626-4d25-92ec-dc932d45d07e"
      },
      "source": [
        "if torch.cuda.is_available():\r\n",
        "  device = torch.device('cuda:0')\r\n",
        "  print('GPU is avalible.')\r\n",
        "  print('Working on:', torch.cuda.get_device_name())\r\n",
        "else:\r\n",
        "  device = torch.device('cpu')\r\n",
        "  print('GPU is not avalible.')\r\n",
        "  print('Working on CPU')"
      ],
      "execution_count": 5,
      "outputs": [
        {
          "output_type": "stream",
          "text": [
            "GPU is avalible.\n",
            "Working on: Tesla T4\n"
          ],
          "name": "stdout"
        }
      ]
    },
    {
      "cell_type": "code",
      "metadata": {
        "id": "fmGwVE0blIwN"
      },
      "source": [
        "with open('/content/drive/MyDrive/Projects/AI_CUP-Mango/processed_data/baseline_crop/train_feature.pkl', 'rb') as f:\r\n",
        "    train_feature = pickle.load(f)\r\n",
        "\r\n",
        "with open('/content/drive/MyDrive/Projects/AI_CUP-Mango/processed_data/baseline_crop/dev_feature.pkl', 'rb') as f:\r\n",
        "    dev_feature = pickle.load(f)"
      ],
      "execution_count": 6,
      "outputs": []
    },
    {
      "cell_type": "code",
      "metadata": {
        "colab": {
          "base_uri": "https://localhost:8080/"
        },
        "id": "7A2E6Fe_uzum",
        "outputId": "5b10becc-4890-4fe8-ce48-f77c83d90f2f"
      },
      "source": [
        "print('len of train_feature:',len(train_feature))\r\n",
        "print('len of dev_feature:',len(dev_feature))"
      ],
      "execution_count": 7,
      "outputs": [
        {
          "output_type": "stream",
          "text": [
            "len of train_feature: 43370\n",
            "len of dev_feature: 6280\n"
          ],
          "name": "stdout"
        }
      ]
    },
    {
      "cell_type": "markdown",
      "metadata": {
        "id": "7g7mtvbPmm3m"
      },
      "source": [
        "## Spliting 5 stacks"
      ]
    },
    {
      "cell_type": "markdown",
      "metadata": {
        "id": "ruyaf4OLmst7"
      },
      "source": [
        "train data set"
      ]
    },
    {
      "cell_type": "code",
      "metadata": {
        "id": "PGYw9mdHmqyg"
      },
      "source": [
        "c0_pos = []\r\n",
        "c0_neg = []\r\n",
        "c1_pos = []\r\n",
        "c1_neg = []\r\n",
        "c2_pos = []\r\n",
        "c2_neg = []\r\n",
        "c3_pos = []\r\n",
        "c3_neg = []\r\n",
        "c4_pos = []\r\n",
        "c4_neg = []"
      ],
      "execution_count": 8,
      "outputs": []
    },
    {
      "cell_type": "code",
      "metadata": {
        "id": "jMDc_f3MvHii"
      },
      "source": [
        "for img, label in train_feature:\r\n",
        "    if label[0][0] == 1:\r\n",
        "        c0_pos.append((img, 1))\r\n",
        "    else:\r\n",
        "        c0_neg.append((img, 0))\r\n",
        "    \r\n",
        "    if label[0][1] == 1:\r\n",
        "        c1_pos.append((img, 1))\r\n",
        "    else:\r\n",
        "        c1_neg.append((img, 0))\r\n",
        "\r\n",
        "    if label[0][2] == 1:\r\n",
        "        c2_pos.append((img, 1))\r\n",
        "    else:\r\n",
        "        c2_neg.append((img, 0))\r\n",
        "        \r\n",
        "    if label[0][3] == 1:\r\n",
        "        c3_pos.append((img, 1))\r\n",
        "    else:\r\n",
        "        c3_neg.append((img, 0))\r\n",
        "        \r\n",
        "    if label[0][4] == 1:\r\n",
        "        c4_pos.append((img, 1))\r\n",
        "    else:\r\n",
        "        c4_neg.append((img, 0))"
      ],
      "execution_count": 9,
      "outputs": []
    },
    {
      "cell_type": "markdown",
      "metadata": {
        "id": "3JO-g_PvvMTm"
      },
      "source": [
        "Dev data set"
      ]
    },
    {
      "cell_type": "code",
      "metadata": {
        "id": "dlGzQKlZvLWq"
      },
      "source": [
        "c0_pos_dev = []\r\n",
        "c0_neg_dev = []\r\n",
        "c1_pos_dev = []\r\n",
        "c1_neg_dev = []\r\n",
        "c2_pos_dev = []\r\n",
        "c2_neg_dev = []\r\n",
        "c3_pos_dev = []\r\n",
        "c3_neg_dev = []\r\n",
        "c4_pos_dev = []\r\n",
        "c4_neg_dev = []"
      ],
      "execution_count": 10,
      "outputs": []
    },
    {
      "cell_type": "code",
      "metadata": {
        "id": "w42D9y5gvPVJ"
      },
      "source": [
        "for img, label in dev_feature:\r\n",
        "    if label[0][0] == 1:\r\n",
        "        c0_pos_dev.append((img, 1))\r\n",
        "    else:\r\n",
        "        c0_neg_dev.append((img, 0))\r\n",
        "    \r\n",
        "    if label[0][1] == 1:\r\n",
        "        c1_pos_dev.append((img, 1))\r\n",
        "    else:\r\n",
        "        c1_neg_dev.append((img, 0))\r\n",
        "\r\n",
        "    if label[0][2] == 1:\r\n",
        "        c2_pos_dev.append((img, 1))\r\n",
        "    else:\r\n",
        "        c2_neg_dev.append((img, 0))\r\n",
        "        \r\n",
        "    if label[0][3] == 1:\r\n",
        "        c3_pos_dev.append((img, 1))\r\n",
        "    else:\r\n",
        "        c3_neg_dev.append((img, 0))\r\n",
        "        \r\n",
        "    if label[0][4] == 1:\r\n",
        "        c4_pos_dev.append((img, 1))\r\n",
        "    else:\r\n",
        "        c4_neg_dev.append((img, 0))"
      ],
      "execution_count": 11,
      "outputs": []
    },
    {
      "cell_type": "code",
      "metadata": {
        "colab": {
          "base_uri": "https://localhost:8080/"
        },
        "id": "OtmK7E06vSJy",
        "outputId": "f589bf31-da9c-4087-d8ce-d5cc1c17bf28"
      },
      "source": [
        "print('Train:')\r\n",
        "print('c0: pos= {:<5}  neg= {:<5}  sum= {:<5}'.format(len(c0_pos), len(c0_neg), len(c0_pos)+len(c0_neg)))\r\n",
        "print('c1: pos= {:<5}  neg= {:<5}  sum= {:<5}'.format(len(c1_pos), len(c1_neg), len(c1_pos)+len(c1_neg)))\r\n",
        "print('c2: pos= {:<5}  neg= {:<5}  sum= {:<5}'.format(len(c2_pos), len(c2_neg), len(c2_pos)+len(c2_neg)))\r\n",
        "print('c3: pos= {:<5}  neg= {:<5}  sum= {:<5}'.format(len(c3_pos), len(c3_neg), len(c3_pos)+len(c3_neg)))\r\n",
        "print('c4: pos= {:<5}  neg= {:<5}  sum= {:<5}'.format(len(c4_pos), len(c4_neg), len(c4_pos)+len(c4_neg)))\r\n",
        "print()\r\n",
        "\r\n",
        "print('Dev:')\r\n",
        "print('c0: pos= {:<5}  neg= {:<5}  sum= {:<5}'.format(len(c0_pos_dev), len(c0_neg_dev), len(c0_pos_dev)+len(c0_neg_dev)))\r\n",
        "print('c1: pos= {:<5}  neg= {:<5}  sum= {:<5}'.format(len(c1_pos_dev), len(c1_neg_dev), len(c1_pos_dev)+len(c1_neg_dev)))\r\n",
        "print('c2: pos= {:<5}  neg= {:<5}  sum= {:<5}'.format(len(c2_pos_dev), len(c2_neg_dev), len(c2_pos_dev)+len(c2_neg_dev)))\r\n",
        "print('c3: pos= {:<5}  neg= {:<5}  sum= {:<5}'.format(len(c3_pos_dev), len(c3_neg_dev), len(c3_pos_dev)+len(c3_neg_dev)))\r\n",
        "print('c4: pos= {:<5}  neg= {:<5}  sum= {:<5}'.format(len(c4_pos_dev), len(c4_neg_dev), len(c4_pos_dev)+len(c4_neg_dev)))"
      ],
      "execution_count": 12,
      "outputs": [
        {
          "output_type": "stream",
          "text": [
            "Train:\n",
            "c0: pos= 2579   neg= 40791  sum= 43370\n",
            "c1: pos= 502    neg= 42868  sum= 43370\n",
            "c2: pos= 23587  neg= 19783  sum= 43370\n",
            "c3: pos= 15045  neg= 28325  sum= 43370\n",
            "c4: pos= 1657   neg= 41713  sum= 43370\n",
            "\n",
            "Dev:\n",
            "c0: pos= 391    neg= 5889   sum= 6280 \n",
            "c1: pos= 90     neg= 6190   sum= 6280 \n",
            "c2: pos= 3504   neg= 2776   sum= 6280 \n",
            "c3: pos= 1997   neg= 4283   sum= 6280 \n",
            "c4: pos= 298    neg= 5982   sum= 6280 \n"
          ],
          "name": "stdout"
        }
      ]
    },
    {
      "cell_type": "markdown",
      "metadata": {
        "id": "g0vAtfUrvViV"
      },
      "source": [
        "## Combining pos and net data"
      ]
    },
    {
      "cell_type": "code",
      "metadata": {
        "id": "ge7Q20wVvUBI"
      },
      "source": [
        "def data_list(pos_list, neg_list):\r\n",
        "    \"\"\"\r\n",
        "    把正負資料合併並打散後，輸出資料\r\n",
        "    \"\"\"\r\n",
        "    pos = pos_list\r\n",
        "    neg = neg_list\r\n",
        "    output = pos + neg        \r\n",
        "    output = shuffle(output, random_state=0)\r\n",
        "    return output"
      ],
      "execution_count": 13,
      "outputs": []
    },
    {
      "cell_type": "code",
      "metadata": {
        "id": "1efREcL3vkrf"
      },
      "source": [
        "c0 = data_list(c0_pos, c0_neg)\r\n",
        "c1 = data_list(c1_pos, c1_neg)\r\n",
        "c2 = data_list(c2_pos, c2_neg)\r\n",
        "c3 = data_list(c3_pos, c3_neg)\r\n",
        "c4 = data_list(c4_pos, c4_neg)\r\n",
        "\r\n",
        "c0_dev = data_list(c0_pos_dev, c0_neg_dev)\r\n",
        "c1_dev = data_list(c1_pos_dev, c1_neg_dev)\r\n",
        "c2_dev = data_list(c2_pos_dev, c2_neg_dev)\r\n",
        "c3_dev = data_list(c3_pos_dev, c3_neg_dev)\r\n",
        "c4_dev = data_list(c4_pos_dev, c4_neg_dev)"
      ],
      "execution_count": 14,
      "outputs": []
    },
    {
      "cell_type": "markdown",
      "metadata": {
        "id": "fYYnLGZwvsca"
      },
      "source": [
        "## Check label balance"
      ]
    },
    {
      "cell_type": "code",
      "metadata": {
        "id": "Fgc7qAVXvsBJ"
      },
      "source": [
        "def check_balance(data):\r\n",
        "    \"\"\"\r\n",
        "    檢查資料數量是否一致\r\n",
        "    \"\"\"\r\n",
        "    pos=0\r\n",
        "    neg=0\r\n",
        "    for i,j in data:\r\n",
        "        if j == 1:\r\n",
        "            pos += 1\r\n",
        "        else:\r\n",
        "            neg += 1\r\n",
        "    print('pos:',pos)\r\n",
        "    print('neg:',neg)\r\n",
        "    print('sum:',pos+neg)"
      ],
      "execution_count": 15,
      "outputs": []
    },
    {
      "cell_type": "code",
      "metadata": {
        "colab": {
          "base_uri": "https://localhost:8080/"
        },
        "id": "EwYu2YUDvxqO",
        "outputId": "a197e842-a5c9-4ccd-cd3d-6a1b3255d884"
      },
      "source": [
        "print('Train:')\r\n",
        "print()\r\n",
        "for i in [c0, c1, c2, c3, c4]:\r\n",
        "    check_balance(i)\r\n",
        "    print('-'*10)"
      ],
      "execution_count": 16,
      "outputs": [
        {
          "output_type": "stream",
          "text": [
            "Train:\n",
            "\n",
            "pos: 2579\n",
            "neg: 40791\n",
            "sum: 43370\n",
            "----------\n",
            "pos: 502\n",
            "neg: 42868\n",
            "sum: 43370\n",
            "----------\n",
            "pos: 23587\n",
            "neg: 19783\n",
            "sum: 43370\n",
            "----------\n",
            "pos: 15045\n",
            "neg: 28325\n",
            "sum: 43370\n",
            "----------\n",
            "pos: 1657\n",
            "neg: 41713\n",
            "sum: 43370\n",
            "----------\n"
          ],
          "name": "stdout"
        }
      ]
    },
    {
      "cell_type": "code",
      "metadata": {
        "colab": {
          "base_uri": "https://localhost:8080/"
        },
        "id": "i5Z2Scohv0nH",
        "outputId": "0faa1544-fe86-47bc-f1ba-29db275a9791"
      },
      "source": [
        "print('Dev:')\r\n",
        "print()\r\n",
        "for i in [c0_dev, c1_dev, c2_dev, c3_dev, c4_dev]:\r\n",
        "    check_balance(i)\r\n",
        "    print('-'*10)"
      ],
      "execution_count": 17,
      "outputs": [
        {
          "output_type": "stream",
          "text": [
            "Dev:\n",
            "\n",
            "pos: 391\n",
            "neg: 5889\n",
            "sum: 6280\n",
            "----------\n",
            "pos: 90\n",
            "neg: 6190\n",
            "sum: 6280\n",
            "----------\n",
            "pos: 3504\n",
            "neg: 2776\n",
            "sum: 6280\n",
            "----------\n",
            "pos: 1997\n",
            "neg: 4283\n",
            "sum: 6280\n",
            "----------\n",
            "pos: 298\n",
            "neg: 5982\n",
            "sum: 6280\n",
            "----------\n"
          ],
          "name": "stdout"
        }
      ]
    },
    {
      "cell_type": "markdown",
      "metadata": {
        "id": "GrzoLupVv7zU"
      },
      "source": [
        "## Splitting features and labels"
      ]
    },
    {
      "cell_type": "code",
      "metadata": {
        "id": "xc1mlifAv7La"
      },
      "source": [
        "def split_x_y(data):\r\n",
        "    \"\"\"\r\n",
        "    把資料中的 feature 跟 label 分離\r\n",
        "    \"\"\"\r\n",
        "    X=[]\r\n",
        "    y=[]\r\n",
        "    for i,j in data:\r\n",
        "        X.append(i)\r\n",
        "        y.append(j)\r\n",
        "    return X,y"
      ],
      "execution_count": 18,
      "outputs": []
    },
    {
      "cell_type": "code",
      "metadata": {
        "id": "0W6DEYPFv-tF"
      },
      "source": [
        "c0_X, c0_y = split_x_y(c0)\r\n",
        "c1_X, c1_y = split_x_y(c1)\r\n",
        "c2_X, c2_y = split_x_y(c2)\r\n",
        "c3_X, c3_y = split_x_y(c3)\r\n",
        "c4_X, c4_y = split_x_y(c4)"
      ],
      "execution_count": 19,
      "outputs": []
    },
    {
      "cell_type": "code",
      "metadata": {
        "id": "a3oQ80nxwA6A"
      },
      "source": [
        "c0_X_dev, c0_y_dev = split_x_y(c0_dev)\r\n",
        "c1_X_dev, c1_y_dev = split_x_y(c1_dev)\r\n",
        "c2_X_dev, c2_y_dev = split_x_y(c2_dev)\r\n",
        "c3_X_dev, c3_y_dev = split_x_y(c3_dev)\r\n",
        "c4_X_dev, c4_y_dev = split_x_y(c4_dev)"
      ],
      "execution_count": 20,
      "outputs": []
    },
    {
      "cell_type": "markdown",
      "metadata": {
        "id": "pep-PzNb_U-g"
      },
      "source": [
        "## Function for calc metrics"
      ]
    },
    {
      "cell_type": "code",
      "metadata": {
        "id": "Jl1AO8KIzT_T"
      },
      "source": [
        "def calc_metrics(train=True):\r\n",
        "    if train:\r\n",
        "        (TP, FP, TN, FN) = useful_stuff['train_metric'][-1]\r\n",
        "        print('[Train]Total sample: {}'.format(TP+FP+TN+FN))\r\n",
        "    else:\r\n",
        "        (TP, FP, TN, FN) = useful_stuff['valid_metric'][-1]\r\n",
        "        print('[Dev]Total sample: {}'.format(TP+FP+TN+FN))\r\n",
        "\r\n",
        "    acc = (TP + TN) / (TP + FP + TN + FN)\r\n",
        "\r\n",
        "    recall = TP / (TP + FN) #召回率是在所有正樣本當中，能夠預測多少正樣本的比例\r\n",
        "    specificity = TN / (TN + FP) #特異度是在所有負樣本當中，能夠預測多少負樣本的比例\r\n",
        "\r\n",
        "    precision = TP / (TP + FP) #準確率為在所有預測為正樣本中，有多少為正樣本\r\n",
        "\r\n",
        "    f1 = (2 * recall * precision ) / (recall + precision) #F1-score則是兩者的調和平均數\r\n",
        "    mcc = ( TP*TN - FP*FN ) / np.sqrt( ((TP+FP)*(TP+FN)*(TN+FP)*(TN+FN)) )\r\n",
        "\r\n",
        "    print('TP:',TP)\r\n",
        "    print('FP:',FP)\r\n",
        "    print('TN:',TN)\r\n",
        "    print('FN:',FN)\r\n",
        "    print()\r\n",
        "    print('acc:', acc)\r\n",
        "    print('recall:', recall)\r\n",
        "    print('specificity:', specificity)\r\n",
        "    print('precision:', precision)\r\n",
        "    print('f1:',f1)\r\n",
        "    print('mcc:',mcc)"
      ],
      "execution_count": 21,
      "outputs": []
    },
    {
      "cell_type": "markdown",
      "metadata": {
        "id": "LQh1sMDaz_pK"
      },
      "source": [
        "# class 0"
      ]
    },
    {
      "cell_type": "markdown",
      "metadata": {
        "id": "ETPZjCd__dYT"
      },
      "source": [
        "## dataset"
      ]
    },
    {
      "cell_type": "code",
      "metadata": {
        "id": "byp8Vlrcz-li"
      },
      "source": [
        "class Data(Dataset):\r\n",
        "    def __init__(self, x_list, y_list):\r\n",
        "        self.x_list = x_list\r\n",
        "        self.y_list = y_list\r\n",
        "    \r\n",
        "    def __getitem__(self, idx):\r\n",
        "        x = torch.from_numpy(self.x_list[idx][0])\r\n",
        "        y = torch.tensor(self.y_list[idx])\r\n",
        "\r\n",
        "        return x, y\r\n",
        "\r\n",
        "    def __len__(self):\r\n",
        "        return len(self.x_list)"
      ],
      "execution_count": 22,
      "outputs": []
    },
    {
      "cell_type": "code",
      "metadata": {
        "id": "cig0RoXbivTI"
      },
      "source": [
        "train_set_c0 = Data(c0_X, c0_y)\r\n",
        "dev_set_c0 = Data(c0_X_dev, c0_y_dev)"
      ],
      "execution_count": 23,
      "outputs": []
    },
    {
      "cell_type": "markdown",
      "metadata": {
        "id": "Yhol5qo11yTL"
      },
      "source": [
        "## model"
      ]
    },
    {
      "cell_type": "markdown",
      "metadata": {
        "id": "2ORLqawP0whG"
      },
      "source": [
        "### Prepare"
      ]
    },
    {
      "cell_type": "code",
      "metadata": {
        "id": "Optk7jpJ3Lys"
      },
      "source": [
        " def train(model, train_loader, cv_loader, optimizer, N_train, N_test, epochs=20):\r\n",
        " \r\n",
        "    useful_stuff = {'train_cost':[], 'train_acc':[], 'valid_cost':[], 'valid_acc':[], 'train_metric':[], 'valid_metric':[]} \r\n",
        "\r\n",
        "    for epoch in tqdm(range(epochs)):\r\n",
        "        #training===========================================\r\n",
        "        model.train() # Switch to train mode\r\n",
        "        correct = 0\r\n",
        "        training_loss=[]\r\n",
        "        TP = FP = TN = FN = 0\r\n",
        "\r\n",
        "        for x, y in train_loader:\r\n",
        "            x, y = x.to(device), y.to(device)\r\n",
        "            optimizer.zero_grad()\r\n",
        "            z = model(x)\r\n",
        "            _, yhat = torch.max(z.data, 1)\r\n",
        "            correct += (yhat == y).sum().item()\r\n",
        "            loss = criterion(z, y)\r\n",
        "            loss.backward()\r\n",
        "            optimizer.step()\r\n",
        "            training_loss.append(loss.data.item())\r\n",
        "\r\n",
        "            # calu metric\r\n",
        "            TP += ((yhat == 1) & (y == 1)).sum().item()\r\n",
        "            FP += ((yhat == 1) & (y == 0)).sum().item()\r\n",
        "            TN += ((yhat == 0) & (y == 0)).sum().item()\r\n",
        "            FN += ((yhat == 0) & (y == 1)).sum().item()       \r\n",
        "\r\n",
        "        useful_stuff['train_cost'].append(np.mean(training_loss))\r\n",
        "        useful_stuff['train_acc'].append(correct / N_train)\r\n",
        "        useful_stuff['train_metric'].append((TP, FP, TN, FN))\r\n",
        "\r\n",
        "        #print('[epoch {}]'.format(epoch))\r\n",
        "        #print('train_acc:',correct / N_train)\r\n",
        "        #print('train_loss:',np.mean(training_loss))\r\n",
        "        #print()\r\n",
        "\r\n",
        "        #valid==================================================\r\n",
        "        model.eval() # Switch to train mode\r\n",
        "        correct = 0\r\n",
        "        cv_loss=[]\r\n",
        "        TP = FP = TN = FN = 0\r\n",
        "\r\n",
        "        with torch.no_grad():\r\n",
        "          for x_test, y_test in cv_loader:\r\n",
        "            x_test, y_test = x_test.to(device), y_test.to(device)\r\n",
        "            z = model(x_test)\r\n",
        "            _, yhat = torch.max(z.data, 1)\r\n",
        "            correct += (yhat == y_test).sum().item()\r\n",
        "            loss = criterion(z, y_test)         \r\n",
        "            cv_loss.append(loss.data.item())\r\n",
        "\r\n",
        "            # calu metric\r\n",
        "            TP += ((yhat == 1) & (y_test == 1)).sum().item()\r\n",
        "            FP += ((yhat == 1) & (y_test == 0)).sum().item()\r\n",
        "            TN += ((yhat == 0) & (y_test == 0)).sum().item()\r\n",
        "            FN += ((yhat == 0) & (y_test == 1)).sum().item() \r\n",
        "\r\n",
        "          useful_stuff['valid_cost'].append(np.mean(cv_loss))\r\n",
        "          useful_stuff['valid_acc'].append(correct / N_test)\r\n",
        "          useful_stuff['valid_metric'].append((TP, FP, TN, FN))\r\n",
        "\r\n",
        "        #print('train_acc:',correct / N_test)\r\n",
        "        #print('train_loss:',np.mean(np.mean(cv_loss)))\r\n",
        "        #print('='*10)\r\n",
        "\r\n",
        "        scheduler.step(np.mean(cv_loss)) # learning rate scheduler <---------------------------------------------------------\r\n",
        "\r\n",
        "    return useful_stuff"
      ],
      "execution_count": 27,
      "outputs": []
    },
    {
      "cell_type": "code",
      "metadata": {
        "id": "b20utJOT1xo2"
      },
      "source": [
        "class Net(nn.Module):   \r\n",
        "    # Constructor\r\n",
        "    def __init__(self,neuron=100, p=0.1):\r\n",
        "        super(Net, self).__init__()\r\n",
        "        self.neuron=neuron\r\n",
        "        self.drop=p\r\n",
        "\r\n",
        "        self.step = nn.Sequential(\r\n",
        "            nn.Linear(2000, self.neuron),\r\n",
        "            nn.BatchNorm1d(self.neuron),\r\n",
        "            nn.ReLU(),\r\n",
        "            nn.Dropout(self.drop),\r\n",
        "\r\n",
        "            nn.Linear(self.neuron, self.neuron),\r\n",
        "            nn.BatchNorm1d(self.neuron),\r\n",
        "            nn.ReLU(),\r\n",
        "            nn.Dropout(self.drop),\r\n",
        "\r\n",
        "            nn.Linear(self.neuron, 2),           \r\n",
        "        )\r\n",
        "    def forward(self, x):\r\n",
        "        x = self.step(x)\r\n",
        "        return x"
      ],
      "execution_count": 25,
      "outputs": []
    },
    {
      "cell_type": "markdown",
      "metadata": {
        "id": "AR-n7K58bfVq"
      },
      "source": [
        "### Hpyer parameters"
      ]
    },
    {
      "cell_type": "code",
      "metadata": {
        "id": "3yVcLn5b5BsC"
      },
      "source": [
        "model_c0 = Net(neuron=100, p=0.2)\r\n",
        "model_c0.to(device);\r\n",
        "\r\n",
        "N_train = len(train_set_c0)\r\n",
        "N_test = len(dev_set_c0)\r\n",
        "\r\n",
        "weights = [1.0, 15.82]\r\n",
        "class_weights = torch.FloatTensor(weights).to(device)\r\n",
        "criterion = nn.CrossEntropyLoss(weight=class_weights)\r\n",
        "\r\n",
        "learning_rate = 0.0005\r\n",
        "optimizer = torch.optim.AdamW(model_c0.parameters(), lr=learning_rate, amsgrad=True)\r\n",
        "\r\n",
        "train_loader = DataLoader(train_set_c0, batch_size=32, shuffle=True)\r\n",
        "dev_loader = DataLoader(dev_set_c0, batch_size=64)\r\n",
        "\r\n",
        "scheduler = torch.optim.lr_scheduler.ReduceLROnPlateau(optimizer, 'min', patience=5, factor=0.1) # learning rate decay"
      ],
      "execution_count": 30,
      "outputs": []
    },
    {
      "cell_type": "markdown",
      "metadata": {
        "id": "4-XSqzbMbkx6"
      },
      "source": [
        "## training"
      ]
    },
    {
      "cell_type": "code",
      "metadata": {
        "colab": {
          "base_uri": "https://localhost:8080/",
          "height": 66,
          "referenced_widgets": [
            "f3bcf877052c405b887ab297d13aa3d7",
            "f683b241bd234600ac8df3d589680d4d",
            "7efd8932f1ae4d2cb33f0be1a15f4034",
            "0d52e20e46d34f6285f5a5f05d835d94",
            "8f5d0faea38942fa8a6f9799f28b6ae7",
            "4e85036b3b7647ef8312967abd48a203",
            "26327531b60a425fab2f0b41f3fd8986",
            "a0f738f5451c463e9446bac9a12af997"
          ]
        },
        "id": "qRFmuV005ZQE",
        "outputId": "9dbc02b6-aba0-49a4-bd61-9af24dcb38b0"
      },
      "source": [
        "useful_stuff = train(model=model_c0, train_loader=train_loader, cv_loader=dev_loader, N_train=N_train, N_test=N_test, optimizer=optimizer, epochs=40)"
      ],
      "execution_count": 31,
      "outputs": [
        {
          "output_type": "display_data",
          "data": {
            "application/vnd.jupyter.widget-view+json": {
              "model_id": "f3bcf877052c405b887ab297d13aa3d7",
              "version_minor": 0,
              "version_major": 2
            },
            "text/plain": [
              "HBox(children=(FloatProgress(value=0.0, max=40.0), HTML(value='')))"
            ]
          },
          "metadata": {
            "tags": []
          }
        },
        {
          "output_type": "stream",
          "text": [
            "\n"
          ],
          "name": "stdout"
        }
      ]
    },
    {
      "cell_type": "code",
      "metadata": {
        "id": "dIJCrsWz3WSj"
      },
      "source": [
        "torch.save(model_c0, './model/nn-crop-imbalance/model_c0.pt')"
      ],
      "execution_count": 34,
      "outputs": []
    },
    {
      "cell_type": "markdown",
      "metadata": {
        "id": "R8f1biQ5bnmq"
      },
      "source": [
        "## Learning Curve"
      ]
    },
    {
      "cell_type": "code",
      "metadata": {
        "colab": {
          "base_uri": "https://localhost:8080/",
          "height": 573
        },
        "id": "748u3sRe-cUG",
        "outputId": "639b54f2-dc89-47a8-e021-509eb21988d6"
      },
      "source": [
        "plt.plot(useful_stuff['train_acc'], label='train_acc')\r\n",
        "plt.plot(useful_stuff['valid_acc'], label='cv_acc')\r\n",
        "plt.title('train / valid  accuracy')\r\n",
        "plt.xlabel('epochs')\r\n",
        "plt.ylabel('acc')\r\n",
        "#axes = plt.gca()\r\n",
        "#axes.set_ylim([0.4, 1])\r\n",
        "plt.legend()\r\n",
        "plt.grid()\r\n",
        "plt.show()\r\n",
        "\r\n",
        "plt.plot(useful_stuff['train_cost'], label='train_cost')\r\n",
        "plt.plot(useful_stuff['valid_cost'], label='cv_acc')\r\n",
        "plt.title('train / valid  loss')\r\n",
        "plt.xlabel('epochs')\r\n",
        "plt.ylabel('loss')\r\n",
        "#axes = plt.gca()\r\n",
        "#axes.set_ylim([0, 1])\r\n",
        "plt.legend()\r\n",
        "plt.grid()\r\n",
        "plt.show()"
      ],
      "execution_count": 32,
      "outputs": [
        {
          "output_type": "display_data",
          "data": {
            "image/png": "[encoded data removed]",
            "text/plain": [
              "<Figure size 432x288 with 1 Axes>"
            ]
          },
          "metadata": {
            "tags": [],
            "needs_background": "light"
          }
        },
        {
          "output_type": "display_data",
          "data": {
            "image/png": "[encoded data removed]",
            "text/plain": [
              "<Figure size 432x288 with 1 Axes>"
            ]
          },
          "metadata": {
            "tags": [],
            "needs_background": "light"
          }
        }
      ]
    },
    {
      "cell_type": "code",
      "metadata": {
        "colab": {
          "base_uri": "https://localhost:8080/"
        },
        "id": "WQ-9lzbiY6fn",
        "outputId": "4c99d32a-b004-4bbb-bf4b-3b8dedf53111"
      },
      "source": [
        "calc_metrics()\r\n",
        "print('-'*20)\r\n",
        "print()\r\n",
        "calc_metrics(False)"
      ],
      "execution_count": 33,
      "outputs": [
        {
          "output_type": "stream",
          "text": [
            "[Train]Total sample: 43370\n",
            "TP: 2211\n",
            "FP: 4578\n",
            "TN: 36213\n",
            "FN: 368\n",
            "\n",
            "acc: 0.885958035508416\n",
            "recall: 0.8573090345094998\n",
            "specificity: 0.8877693608884313\n",
            "precision: 0.3256738842244808\n",
            "f1: 0.47203245089666956\n",
            "mcc: 0.4849300830133259\n",
            "--------------------\n",
            "\n",
            "[Dev]Total sample: 6280\n",
            "TP: 300\n",
            "FP: 587\n",
            "TN: 5302\n",
            "FN: 91\n",
            "\n",
            "acc: 0.8920382165605095\n",
            "recall: 0.7672634271099744\n",
            "specificity: 0.9003226354219732\n",
            "precision: 0.3382187147688839\n",
            "f1: 0.4694835680751174\n",
            "mcc: 0.4631689068807475\n"
          ],
          "name": "stdout"
        }
      ]
    },
    {
      "cell_type": "markdown",
      "metadata": {
        "id": "giETbnwO04DS"
      },
      "source": [
        "# class 1"
      ]
    },
    {
      "cell_type": "markdown",
      "metadata": {
        "id": "OZTyOAYLAWWB"
      },
      "source": [
        "## dataset"
      ]
    },
    {
      "cell_type": "code",
      "metadata": {
        "id": "9e4RFO2Z04DY"
      },
      "source": [
        "class Data(Dataset):\r\n",
        "    def __init__(self, x_list, y_list):\r\n",
        "        self.x_list = x_list\r\n",
        "        self.y_list = y_list\r\n",
        "    \r\n",
        "    def __getitem__(self, idx):\r\n",
        "        x = torch.from_numpy(self.x_list[idx][0])\r\n",
        "        y = torch.tensor(self.y_list[idx])\r\n",
        "\r\n",
        "        return x, y\r\n",
        "\r\n",
        "    def __len__(self):\r\n",
        "        return len(self.x_list)"
      ],
      "execution_count": 35,
      "outputs": []
    },
    {
      "cell_type": "code",
      "metadata": {
        "id": "NRnVqjgw04DZ"
      },
      "source": [
        "train_set_c1 = Data(c1_X, c1_y)\r\n",
        "dev_set_c1 = Data(c1_X_dev, c1_y_dev)"
      ],
      "execution_count": 36,
      "outputs": []
    },
    {
      "cell_type": "markdown",
      "metadata": {
        "id": "crWtKzpr04DZ"
      },
      "source": [
        "## model"
      ]
    },
    {
      "cell_type": "markdown",
      "metadata": {
        "id": "83f201BW04DZ"
      },
      "source": [
        "### Prepare"
      ]
    },
    {
      "cell_type": "code",
      "metadata": {
        "id": "7BGsDaQ004DZ"
      },
      "source": [
        " def train(model, train_loader, cv_loader, optimizer, N_train, N_test, epochs=20):\r\n",
        " \r\n",
        "    useful_stuff = {'train_cost':[], 'train_acc':[], 'valid_cost':[], 'valid_acc':[], 'train_metric':[], 'valid_metric':[]} \r\n",
        "\r\n",
        "    for epoch in tqdm(range(epochs)):\r\n",
        "        #training===========================================\r\n",
        "        model.train() # Switch to train mode\r\n",
        "        correct = 0\r\n",
        "        training_loss=[]\r\n",
        "        TP = FP = TN = FN = 0\r\n",
        "\r\n",
        "        for x, y in train_loader:\r\n",
        "            x, y = x.to(device), y.to(device)\r\n",
        "            optimizer.zero_grad()\r\n",
        "            z = model(x)\r\n",
        "            _, yhat = torch.max(z.data, 1)\r\n",
        "            correct += (yhat == y).sum().item()\r\n",
        "            loss = criterion(z, y)\r\n",
        "            loss.backward()\r\n",
        "            optimizer.step()\r\n",
        "            training_loss.append(loss.data.item())\r\n",
        "\r\n",
        "            # calu metric\r\n",
        "            TP += ((yhat == 1) & (y == 1)).sum().item()\r\n",
        "            FP += ((yhat == 1) & (y == 0)).sum().item()\r\n",
        "            TN += ((yhat == 0) & (y == 0)).sum().item()\r\n",
        "            FN += ((yhat == 0) & (y == 1)).sum().item()       \r\n",
        "\r\n",
        "        useful_stuff['train_cost'].append(np.mean(training_loss))\r\n",
        "        useful_stuff['train_acc'].append(correct / N_train)\r\n",
        "        useful_stuff['train_metric'].append((TP, FP, TN, FN))\r\n",
        "\r\n",
        "        #print('[epoch {}]'.format(epoch))\r\n",
        "        #print('train_acc:',correct / N_train)\r\n",
        "        #print('train_loss:',np.mean(training_loss))\r\n",
        "        #print()\r\n",
        "\r\n",
        "        #valid==================================================\r\n",
        "        model.eval() # Switch to train mode\r\n",
        "        correct = 0\r\n",
        "        cv_loss=[]\r\n",
        "        TP = FP = TN = FN = 0\r\n",
        "\r\n",
        "        with torch.no_grad():\r\n",
        "          for x_test, y_test in cv_loader:\r\n",
        "            x_test, y_test = x_test.to(device), y_test.to(device)\r\n",
        "            z = model(x_test)\r\n",
        "            _, yhat = torch.max(z.data, 1)\r\n",
        "            correct += (yhat == y_test).sum().item()\r\n",
        "            loss = criterion(z, y_test)         \r\n",
        "            cv_loss.append(loss.data.item())\r\n",
        "\r\n",
        "            # calu metric\r\n",
        "            TP += ((yhat == 1) & (y_test == 1)).sum().item()\r\n",
        "            FP += ((yhat == 1) & (y_test == 0)).sum().item()\r\n",
        "            TN += ((yhat == 0) & (y_test == 0)).sum().item()\r\n",
        "            FN += ((yhat == 0) & (y_test == 1)).sum().item() \r\n",
        "\r\n",
        "          useful_stuff['valid_cost'].append(np.mean(cv_loss))\r\n",
        "          useful_stuff['valid_acc'].append(correct / N_test)\r\n",
        "          useful_stuff['valid_metric'].append((TP, FP, TN, FN))\r\n",
        "\r\n",
        "        #print('train_acc:',correct / N_test)\r\n",
        "        #print('train_loss:',np.mean(np.mean(cv_loss)))\r\n",
        "        #print('='*10)\r\n",
        "\r\n",
        "        scheduler.step(np.mean(cv_loss)) # learning rate scheduler <---------------------------------------------------------\r\n",
        "\r\n",
        "    return useful_stuff"
      ],
      "execution_count": 39,
      "outputs": []
    },
    {
      "cell_type": "code",
      "metadata": {
        "id": "O3yDFoeZ04Da"
      },
      "source": [
        "class Net(nn.Module):   \r\n",
        "    # Constructor\r\n",
        "    def __init__(self,neuron=100, p=0.1):\r\n",
        "        super(Net, self).__init__()\r\n",
        "        self.neuron=neuron\r\n",
        "        self.drop=p\r\n",
        "\r\n",
        "        self.step = nn.Sequential(\r\n",
        "            nn.Linear(2000, self.neuron),\r\n",
        "            nn.BatchNorm1d(self.neuron),\r\n",
        "            nn.ReLU(),\r\n",
        "            nn.Dropout(self.drop),\r\n",
        "\r\n",
        "            nn.Linear(self.neuron, self.neuron),\r\n",
        "            nn.BatchNorm1d(self.neuron),\r\n",
        "            nn.ReLU(),\r\n",
        "            nn.Dropout(self.drop),\r\n",
        "\r\n",
        "            nn.Linear(self.neuron, 2),           \r\n",
        "        )\r\n",
        "    def forward(self, x):\r\n",
        "        x = self.step(x)\r\n",
        "        return x"
      ],
      "execution_count": 40,
      "outputs": []
    },
    {
      "cell_type": "markdown",
      "metadata": {
        "id": "U34tmony04Da"
      },
      "source": [
        "### Hpyer parameters"
      ]
    },
    {
      "cell_type": "code",
      "metadata": {
        "id": "FtFyD_q204Da"
      },
      "source": [
        "model_c1 = Net(neuron=100, p=0.2)\r\n",
        "model_c1.to(device);\r\n",
        "\r\n",
        "N_train = len(train_set_c1)\r\n",
        "N_test = len(dev_set_c1)\r\n",
        "\r\n",
        "weights = [1.0, 85.39]\r\n",
        "class_weights = torch.FloatTensor(weights).to(device)\r\n",
        "criterion = nn.CrossEntropyLoss(weight=class_weights)\r\n",
        "\r\n",
        "learning_rate = 0.0005\r\n",
        "optimizer = torch.optim.AdamW(model_c1.parameters(), lr=learning_rate, amsgrad=True)\r\n",
        "\r\n",
        "train_loader = DataLoader(train_set_c1, batch_size=32, shuffle=True)\r\n",
        "dev_loader = DataLoader(dev_set_c1, batch_size=64)\r\n",
        "\r\n",
        "scheduler = torch.optim.lr_scheduler.ReduceLROnPlateau(optimizer, 'min', patience=4, factor=0.1) # learning rate decay"
      ],
      "execution_count": 42,
      "outputs": []
    },
    {
      "cell_type": "markdown",
      "metadata": {
        "id": "D5VSVJLW04Da"
      },
      "source": [
        "## training"
      ]
    },
    {
      "cell_type": "code",
      "metadata": {
        "colab": {
          "base_uri": "https://localhost:8080/",
          "height": 66,
          "referenced_widgets": [
            "58ff92cb8f404c25985e351e75dd35c0",
            "64d0adba586d4338abbc4d848451b265",
            "5a6f23841a4b41d9a8e344231416c3ab",
            "64e8b127620b4c8dbc35c5e61acafc05",
            "aafa05e70aea431a9b8a064ac7199a66",
            "599217d90d24450aa0c6e0e8e1b329a4",
            "bd993fd3522f48d1ae51741b03d8afe6",
            "0033354ab51c44b7b605ac310c0efb22"
          ]
        },
        "id": "2Tf7VYOY04Db",
        "outputId": "e1073eb6-4dd8-4deb-836a-c29b0fcfe8d1"
      },
      "source": [
        "useful_stuff = train(model=model_c1, train_loader=train_loader, cv_loader=dev_loader, N_train=N_train, N_test=N_test, optimizer=optimizer, epochs=40)"
      ],
      "execution_count": 43,
      "outputs": [
        {
          "output_type": "display_data",
          "data": {
            "application/vnd.jupyter.widget-view+json": {
              "model_id": "58ff92cb8f404c25985e351e75dd35c0",
              "version_minor": 0,
              "version_major": 2
            },
            "text/plain": [
              "HBox(children=(FloatProgress(value=0.0, max=40.0), HTML(value='')))"
            ]
          },
          "metadata": {
            "tags": []
          }
        },
        {
          "output_type": "stream",
          "text": [
            "\n"
          ],
          "name": "stdout"
        }
      ]
    },
    {
      "cell_type": "code",
      "metadata": {
        "id": "0bmx6Ky26Rr0"
      },
      "source": [
        "torch.save(model_c1, './model/nn-crop-imbalance/model_c1.pt')"
      ],
      "execution_count": 46,
      "outputs": []
    },
    {
      "cell_type": "markdown",
      "metadata": {
        "id": "UBAAaYtt04Db"
      },
      "source": [
        "## Learning Curve"
      ]
    },
    {
      "cell_type": "code",
      "metadata": {
        "colab": {
          "base_uri": "https://localhost:8080/",
          "height": 573
        },
        "id": "4NLyc4SV04Dd",
        "outputId": "19edbec4-d8cd-4ff5-8cd0-f245c5f59a4b"
      },
      "source": [
        "plt.plot(useful_stuff['train_acc'], label='train_acc')\r\n",
        "plt.plot(useful_stuff['valid_acc'], label='cv_acc')\r\n",
        "plt.title('train / valid  accuracy')\r\n",
        "plt.xlabel('epochs')\r\n",
        "plt.ylabel('acc')\r\n",
        "#axes = plt.gca()\r\n",
        "#axes.set_ylim([0.4, 1])\r\n",
        "plt.legend()\r\n",
        "plt.grid()\r\n",
        "plt.show()\r\n",
        "\r\n",
        "plt.plot(useful_stuff['train_cost'], label='train_cost')\r\n",
        "plt.plot(useful_stuff['valid_cost'], label='cv_acc')\r\n",
        "plt.title('train / valid  loss')\r\n",
        "plt.xlabel('epochs')\r\n",
        "plt.ylabel('loss')\r\n",
        "#axes = plt.gca()\r\n",
        "#axes.set_ylim([0, 1])\r\n",
        "plt.legend()\r\n",
        "plt.grid()\r\n",
        "plt.show()"
      ],
      "execution_count": 44,
      "outputs": [
        {
          "output_type": "display_data",
          "data": {
            "image/png": "[encoded data removed]",
            "text/plain": [
              "<Figure size 432x288 with 1 Axes>"
            ]
          },
          "metadata": {
            "tags": [],
            "needs_background": "light"
          }
        },
        {
          "output_type": "display_data",
          "data": {
            "image/png": "[encoded data removed]",
            "text/plain": [
              "<Figure size 432x288 with 1 Axes>"
            ]
          },
          "metadata": {
            "tags": [],
            "needs_background": "light"
          }
        }
      ]
    },
    {
      "cell_type": "code",
      "metadata": {
        "colab": {
          "base_uri": "https://localhost:8080/"
        },
        "id": "qlBcEFjE04Dd",
        "outputId": "7e39e1b5-dd1c-434c-ed1a-c3d753779ebd"
      },
      "source": [
        "calc_metrics()\r\n",
        "print('-'*20)\r\n",
        "print()\r\n",
        "calc_metrics(False)"
      ],
      "execution_count": 45,
      "outputs": [
        {
          "output_type": "stream",
          "text": [
            "[Train]Total sample: 43370\n",
            "TP: 364\n",
            "FP: 2327\n",
            "TN: 40541\n",
            "FN: 138\n",
            "\n",
            "acc: 0.9431634770578741\n",
            "recall: 0.7250996015936255\n",
            "specificity: 0.9457170850051321\n",
            "precision: 0.13526570048309178\n",
            "f1: 0.22799874725963043\n",
            "mcc: 0.29742696790916384\n",
            "--------------------\n",
            "\n",
            "[Dev]Total sample: 6280\n",
            "TP: 43\n",
            "FP: 334\n",
            "TN: 5856\n",
            "FN: 47\n",
            "\n",
            "acc: 0.9393312101910828\n",
            "recall: 0.4777777777777778\n",
            "specificity: 0.9460420032310177\n",
            "precision: 0.11405835543766578\n",
            "f1: 0.18415417558886507\n",
            "mcc: 0.21205120038107228\n"
          ],
          "name": "stdout"
        }
      ]
    },
    {
      "cell_type": "markdown",
      "metadata": {
        "id": "omNN3lXx7kjt"
      },
      "source": [
        "# class 2"
      ]
    },
    {
      "cell_type": "code",
      "metadata": {
        "id": "ejG2ac1C7kjw"
      },
      "source": [
        "class Data(Dataset):\r\n",
        "    def __init__(self, x_list, y_list):\r\n",
        "        self.x_list = x_list\r\n",
        "        self.y_list = y_list\r\n",
        "    \r\n",
        "    def __getitem__(self, idx):\r\n",
        "        x = torch.from_numpy(self.x_list[idx][0])\r\n",
        "        y = torch.tensor(self.y_list[idx])\r\n",
        "\r\n",
        "        return x, y\r\n",
        "\r\n",
        "    def __len__(self):\r\n",
        "        return len(self.x_list)"
      ],
      "execution_count": 47,
      "outputs": []
    },
    {
      "cell_type": "code",
      "metadata": {
        "id": "Dp8c_mcH7kjx"
      },
      "source": [
        "train_set_c2 = Data(c2_X, c2_y)\r\n",
        "dev_set_c2 = Data(c2_X_dev, c2_y_dev)"
      ],
      "execution_count": 48,
      "outputs": []
    },
    {
      "cell_type": "markdown",
      "metadata": {
        "id": "6YLk4jEY7kjx"
      },
      "source": [
        "## model"
      ]
    },
    {
      "cell_type": "markdown",
      "metadata": {
        "id": "uTHODMdQ7kjx"
      },
      "source": [
        "### Prepare"
      ]
    },
    {
      "cell_type": "code",
      "metadata": {
        "id": "GTbaPH-H7kjx"
      },
      "source": [
        " def train(model, train_loader, cv_loader, optimizer, N_train, N_test, epochs=20):\r\n",
        " \r\n",
        "    useful_stuff = {'train_cost':[], 'train_acc':[], 'valid_cost':[], 'valid_acc':[], 'train_metric':[], 'valid_metric':[]} \r\n",
        "\r\n",
        "    for epoch in tqdm(range(epochs)):\r\n",
        "        #training===========================================\r\n",
        "        model.train() # Switch to train mode\r\n",
        "        correct = 0\r\n",
        "        training_loss=[]\r\n",
        "        TP = FP = TN = FN = 0\r\n",
        "\r\n",
        "        for x, y in train_loader:\r\n",
        "            x, y = x.to(device), y.to(device)\r\n",
        "            optimizer.zero_grad()\r\n",
        "            z = model(x)\r\n",
        "            _, yhat = torch.max(z.data, 1)\r\n",
        "            correct += (yhat == y).sum().item()\r\n",
        "            loss = criterion(z, y)\r\n",
        "            loss.backward()\r\n",
        "            optimizer.step()\r\n",
        "            training_loss.append(loss.data.item())\r\n",
        "\r\n",
        "            # calu metric\r\n",
        "            TP += ((yhat == 1) & (y == 1)).sum().item()\r\n",
        "            FP += ((yhat == 1) & (y == 0)).sum().item()\r\n",
        "            TN += ((yhat == 0) & (y == 0)).sum().item()\r\n",
        "            FN += ((yhat == 0) & (y == 1)).sum().item()       \r\n",
        "\r\n",
        "        useful_stuff['train_cost'].append(np.mean(training_loss))\r\n",
        "        useful_stuff['train_acc'].append(correct / N_train)\r\n",
        "        useful_stuff['train_metric'].append((TP, FP, TN, FN))\r\n",
        "\r\n",
        "        #print('[epoch {}]'.format(epoch))\r\n",
        "        #print('train_acc:',correct / N_train)\r\n",
        "        #print('train_loss:',np.mean(training_loss))\r\n",
        "        #print()\r\n",
        "\r\n",
        "        #valid==================================================\r\n",
        "        model.eval() # Switch to train mode\r\n",
        "        correct = 0\r\n",
        "        cv_loss=[]\r\n",
        "        TP = FP = TN = FN = 0\r\n",
        "\r\n",
        "        with torch.no_grad():\r\n",
        "          for x_test, y_test in cv_loader:\r\n",
        "            x_test, y_test = x_test.to(device), y_test.to(device)\r\n",
        "            z = model(x_test)\r\n",
        "            _, yhat = torch.max(z.data, 1)\r\n",
        "            correct += (yhat == y_test).sum().item()\r\n",
        "            loss = criterion(z, y_test)         \r\n",
        "            cv_loss.append(loss.data.item())\r\n",
        "\r\n",
        "            # calu metric\r\n",
        "            TP += ((yhat == 1) & (y_test == 1)).sum().item()\r\n",
        "            FP += ((yhat == 1) & (y_test == 0)).sum().item()\r\n",
        "            TN += ((yhat == 0) & (y_test == 0)).sum().item()\r\n",
        "            FN += ((yhat == 0) & (y_test == 1)).sum().item() \r\n",
        "\r\n",
        "          useful_stuff['valid_cost'].append(np.mean(cv_loss))\r\n",
        "          useful_stuff['valid_acc'].append(correct / N_test)\r\n",
        "          useful_stuff['valid_metric'].append((TP, FP, TN, FN))\r\n",
        "\r\n",
        "        #print('train_acc:',correct / N_test)\r\n",
        "        #print('train_loss:',np.mean(np.mean(cv_loss)))\r\n",
        "        #print('='*10)\r\n",
        "\r\n",
        "        scheduler.step(np.mean(cv_loss)) # learning rate scheduler <---------------------------------------------------------\r\n",
        "\r\n",
        "    return useful_stuff"
      ],
      "execution_count": 50,
      "outputs": []
    },
    {
      "cell_type": "code",
      "metadata": {
        "id": "xX0Upc057kjy"
      },
      "source": [
        "class Net(nn.Module):   \r\n",
        "    # Constructor\r\n",
        "    def __init__(self,neuron=100, p=0.1):\r\n",
        "        super(Net, self).__init__()\r\n",
        "        self.neuron=neuron\r\n",
        "        self.drop=p\r\n",
        "\r\n",
        "        self.step = nn.Sequential(\r\n",
        "            nn.Linear(2000, self.neuron),\r\n",
        "            nn.BatchNorm1d(self.neuron),\r\n",
        "            nn.ReLU(),\r\n",
        "            nn.Dropout(self.drop),\r\n",
        "\r\n",
        "            nn.Linear(self.neuron, self.neuron),\r\n",
        "            nn.BatchNorm1d(self.neuron),\r\n",
        "            nn.ReLU(),\r\n",
        "            nn.Dropout(self.drop),\r\n",
        "\r\n",
        "            nn.Linear(self.neuron, 2),           \r\n",
        "        )\r\n",
        "    def forward(self, x):\r\n",
        "        x = self.step(x)\r\n",
        "        return x"
      ],
      "execution_count": 51,
      "outputs": []
    },
    {
      "cell_type": "markdown",
      "metadata": {
        "id": "JsvLxG1b7kjy"
      },
      "source": [
        "### Hpyer parameters"
      ]
    },
    {
      "cell_type": "code",
      "metadata": {
        "id": "F5pY9Nhd7kjy"
      },
      "source": [
        "model_c2 = Net(neuron=100, p=0.2)\r\n",
        "model_c2.to(device);\r\n",
        "\r\n",
        "N_train = len(train_set_c2)\r\n",
        "N_test = len(dev_set_c2)\r\n",
        "\r\n",
        "weights = [1.192, 1.0]\r\n",
        "class_weights = torch.FloatTensor(weights).to(device)\r\n",
        "criterion = nn.CrossEntropyLoss(weight=class_weights)\r\n",
        "\r\n",
        "learning_rate = 0.0005\r\n",
        "optimizer = torch.optim.AdamW(model_c2.parameters(), lr=learning_rate, amsgrad=True)\r\n",
        "\r\n",
        "train_loader = DataLoader(train_set_c2, batch_size=32, shuffle=True)\r\n",
        "dev_loader = DataLoader(dev_set_c2, batch_size=64)\r\n",
        "\r\n",
        "scheduler = torch.optim.lr_scheduler.ReduceLROnPlateau(optimizer, 'min', patience=4, factor=0.1) # learning rate decay"
      ],
      "execution_count": 52,
      "outputs": []
    },
    {
      "cell_type": "markdown",
      "metadata": {
        "id": "pHEVxCeK7kjy"
      },
      "source": [
        "## training"
      ]
    },
    {
      "cell_type": "code",
      "metadata": {
        "colab": {
          "base_uri": "https://localhost:8080/",
          "height": 66,
          "referenced_widgets": [
            "e66bdc7cd6d44e90a1ddc547ad53f382",
            "28007259236c4560a4de050eb035c141",
            "1bd225e1b1484f4d9b76d0b4bc7290fc",
            "d00f2c094e7a460ab19248dbc755a308",
            "a2cb2ec61753479d95dee3b6adf2d5e7",
            "2ddeaaab34e84000ba0ede41dfaf9f3a",
            "cbb0e98deab54f91972fec35dee96a87",
            "5e5e4124a4cc450cb2eaa9578a79538a"
          ]
        },
        "id": "wrr4xI7c7kjy",
        "outputId": "710e8725-b963-42aa-c5fd-5a1c1264677b"
      },
      "source": [
        "useful_stuff = train(model=model_c2, train_loader=train_loader, cv_loader=dev_loader, N_train=N_train, N_test=N_test, optimizer=optimizer, epochs=40)"
      ],
      "execution_count": 53,
      "outputs": [
        {
          "output_type": "display_data",
          "data": {
            "application/vnd.jupyter.widget-view+json": {
              "model_id": "e66bdc7cd6d44e90a1ddc547ad53f382",
              "version_minor": 0,
              "version_major": 2
            },
            "text/plain": [
              "HBox(children=(FloatProgress(value=0.0, max=40.0), HTML(value='')))"
            ]
          },
          "metadata": {
            "tags": []
          }
        },
        {
          "output_type": "stream",
          "text": [
            "\n"
          ],
          "name": "stdout"
        }
      ]
    },
    {
      "cell_type": "code",
      "metadata": {
        "id": "V_qqfuNg7u1k"
      },
      "source": [
        "torch.save(model_c2, './model/nn-crop-imbalance/model_c2.pt')"
      ],
      "execution_count": 56,
      "outputs": []
    },
    {
      "cell_type": "markdown",
      "metadata": {
        "id": "jV7gJRYB7kjz"
      },
      "source": [
        "## Learning Curve"
      ]
    },
    {
      "cell_type": "code",
      "metadata": {
        "colab": {
          "base_uri": "https://localhost:8080/",
          "height": 573
        },
        "id": "xtT31Yoy7kjz",
        "outputId": "df195319-bf59-4614-fa43-5c7ea6056841"
      },
      "source": [
        "plt.plot(useful_stuff['train_acc'], label='train_acc')\r\n",
        "plt.plot(useful_stuff['valid_acc'], label='cv_acc')\r\n",
        "plt.title('train / valid  accuracy')\r\n",
        "plt.xlabel('epochs')\r\n",
        "plt.ylabel('acc')\r\n",
        "#axes = plt.gca()\r\n",
        "#axes.set_ylim([0.4, 1])\r\n",
        "plt.legend()\r\n",
        "plt.grid()\r\n",
        "plt.show()\r\n",
        "\r\n",
        "plt.plot(useful_stuff['train_cost'], label='train_cost')\r\n",
        "plt.plot(useful_stuff['valid_cost'], label='cv_acc')\r\n",
        "plt.title('train / valid  loss')\r\n",
        "plt.xlabel('epochs')\r\n",
        "plt.ylabel('loss')\r\n",
        "#axes = plt.gca()\r\n",
        "#axes.set_ylim([0, 1])\r\n",
        "plt.legend()\r\n",
        "plt.grid()\r\n",
        "plt.show()"
      ],
      "execution_count": 54,
      "outputs": [
        {
          "output_type": "display_data",
          "data": {
            "image/png": "[encoded data removed]",
            "text/plain": [
              "<Figure size 432x288 with 1 Axes>"
            ]
          },
          "metadata": {
            "tags": [],
            "needs_background": "light"
          }
        },
        {
          "output_type": "display_data",
          "data": {
            "image/png": "[encoded data removed]",
            "text/plain": [
              "<Figure size 432x288 with 1 Axes>"
            ]
          },
          "metadata": {
            "tags": [],
            "needs_background": "light"
          }
        }
      ]
    },
    {
      "cell_type": "code",
      "metadata": {
        "colab": {
          "base_uri": "https://localhost:8080/"
        },
        "id": "vwfXVogs7kjz",
        "outputId": "78f40200-58bc-4cd3-d827-8698b55e43ed"
      },
      "source": [
        "calc_metrics()\r\n",
        "print('-'*20)\r\n",
        "print()\r\n",
        "calc_metrics(False)"
      ],
      "execution_count": 55,
      "outputs": [
        {
          "output_type": "stream",
          "text": [
            "[Train]Total sample: 43370\n",
            "TP: 22456\n",
            "FP: 2844\n",
            "TN: 16939\n",
            "FN: 1131\n",
            "\n",
            "acc: 0.9083467834908924\n",
            "recall: 0.952049857972612\n",
            "specificity: 0.8562402062376788\n",
            "precision: 0.8875889328063241\n",
            "f1: 0.9186900402970115\n",
            "mcc: 0.8166017992398801\n",
            "--------------------\n",
            "\n",
            "[Dev]Total sample: 6280\n",
            "TP: 3349\n",
            "FP: 496\n",
            "TN: 2280\n",
            "FN: 155\n",
            "\n",
            "acc: 0.8963375796178344\n",
            "recall: 0.9557648401826484\n",
            "specificity: 0.8213256484149856\n",
            "precision: 0.871001300390117\n",
            "f1: 0.9114165192543202\n",
            "mcc: 0.7920739278013277\n"
          ],
          "name": "stdout"
        }
      ]
    },
    {
      "cell_type": "markdown",
      "metadata": {
        "id": "Yzmi1lNU8tUF"
      },
      "source": [
        "# class 3"
      ]
    },
    {
      "cell_type": "markdown",
      "metadata": {
        "id": "ztB921F7BFxk"
      },
      "source": [
        "## dataset"
      ]
    },
    {
      "cell_type": "code",
      "metadata": {
        "id": "BGD-2pkW8tUI"
      },
      "source": [
        "class Data(Dataset):\r\n",
        "    def __init__(self, x_list, y_list):\r\n",
        "        self.x_list = x_list\r\n",
        "        self.y_list = y_list\r\n",
        "    \r\n",
        "    def __getitem__(self, idx):\r\n",
        "        x = torch.from_numpy(self.x_list[idx][0])\r\n",
        "        y = torch.tensor(self.y_list[idx])\r\n",
        "\r\n",
        "        return x, y\r\n",
        "\r\n",
        "    def __len__(self):\r\n",
        "        return len(self.x_list)"
      ],
      "execution_count": 57,
      "outputs": []
    },
    {
      "cell_type": "code",
      "metadata": {
        "id": "dfZHSnbw8tUJ"
      },
      "source": [
        "train_set_c3 = Data(c3_X, c3_y)\r\n",
        "dev_set_c3 = Data(c3_X_dev, c3_y_dev)"
      ],
      "execution_count": 58,
      "outputs": []
    },
    {
      "cell_type": "markdown",
      "metadata": {
        "id": "oIODkY5N8tUJ"
      },
      "source": [
        "## model"
      ]
    },
    {
      "cell_type": "markdown",
      "metadata": {
        "id": "ObkoyfCr8tUJ"
      },
      "source": [
        "### Prepare"
      ]
    },
    {
      "cell_type": "code",
      "metadata": {
        "id": "0hAs_3Tl8tUJ"
      },
      "source": [
        " def train(model, train_loader, cv_loader, optimizer, N_train, N_test, epochs=20):\r\n",
        " \r\n",
        "    useful_stuff = {'train_cost':[], 'train_acc':[], 'valid_cost':[], 'valid_acc':[], 'train_metric':[], 'valid_metric':[]} \r\n",
        "\r\n",
        "    for epoch in tqdm(range(epochs)):\r\n",
        "        #training===========================================\r\n",
        "        model.train() # Switch to train mode\r\n",
        "        correct = 0\r\n",
        "        training_loss=[]\r\n",
        "        TP = FP = TN = FN = 0\r\n",
        "\r\n",
        "        for x, y in train_loader:\r\n",
        "            x, y = x.to(device), y.to(device)\r\n",
        "            optimizer.zero_grad()\r\n",
        "            z = model(x)\r\n",
        "            _, yhat = torch.max(z.data, 1)\r\n",
        "            correct += (yhat == y).sum().item()\r\n",
        "            loss = criterion(z, y)\r\n",
        "            loss.backward()\r\n",
        "            optimizer.step()\r\n",
        "            training_loss.append(loss.data.item())\r\n",
        "\r\n",
        "            # calu metric\r\n",
        "            TP += ((yhat == 1) & (y == 1)).sum().item()\r\n",
        "            FP += ((yhat == 1) & (y == 0)).sum().item()\r\n",
        "            TN += ((yhat == 0) & (y == 0)).sum().item()\r\n",
        "            FN += ((yhat == 0) & (y == 1)).sum().item()       \r\n",
        "\r\n",
        "        useful_stuff['train_cost'].append(np.mean(training_loss))\r\n",
        "        useful_stuff['train_acc'].append(correct / N_train)\r\n",
        "        useful_stuff['train_metric'].append((TP, FP, TN, FN))\r\n",
        "\r\n",
        "        #print('[epoch {}]'.format(epoch))\r\n",
        "        #print('train_acc:',correct / N_train)\r\n",
        "        #print('train_loss:',np.mean(training_loss))\r\n",
        "        #print()\r\n",
        "\r\n",
        "        #valid==================================================\r\n",
        "        model.eval() # Switch to train mode\r\n",
        "        correct = 0\r\n",
        "        cv_loss=[]\r\n",
        "        TP = FP = TN = FN = 0\r\n",
        "\r\n",
        "        with torch.no_grad():\r\n",
        "          for x_test, y_test in cv_loader:\r\n",
        "            x_test, y_test = x_test.to(device), y_test.to(device)\r\n",
        "            z = model(x_test)\r\n",
        "            _, yhat = torch.max(z.data, 1)\r\n",
        "            correct += (yhat == y_test).sum().item()\r\n",
        "            loss = criterion(z, y_test)         \r\n",
        "            cv_loss.append(loss.data.item())\r\n",
        "\r\n",
        "            # calu metric\r\n",
        "            TP += ((yhat == 1) & (y_test == 1)).sum().item()\r\n",
        "            FP += ((yhat == 1) & (y_test == 0)).sum().item()\r\n",
        "            TN += ((yhat == 0) & (y_test == 0)).sum().item()\r\n",
        "            FN += ((yhat == 0) & (y_test == 1)).sum().item() \r\n",
        "\r\n",
        "          useful_stuff['valid_cost'].append(np.mean(cv_loss))\r\n",
        "          useful_stuff['valid_acc'].append(correct / N_test)\r\n",
        "          useful_stuff['valid_metric'].append((TP, FP, TN, FN))\r\n",
        "\r\n",
        "        #print('train_acc:',correct / N_test)\r\n",
        "        #print('train_loss:',np.mean(np.mean(cv_loss)))\r\n",
        "        #print('='*10)\r\n",
        "\r\n",
        "        scheduler.step(np.mean(cv_loss)) # learning rate scheduler <---------------------------------------------------------\r\n",
        "\r\n",
        "    return useful_stuff"
      ],
      "execution_count": 61,
      "outputs": []
    },
    {
      "cell_type": "code",
      "metadata": {
        "id": "tvEfVGKL8tUK"
      },
      "source": [
        "class Net(nn.Module):   \r\n",
        "    # Constructor\r\n",
        "    def __init__(self,neuron=100, p=0.1):\r\n",
        "        super(Net, self).__init__()\r\n",
        "        self.neuron=neuron\r\n",
        "        self.drop=p\r\n",
        "\r\n",
        "        self.step = nn.Sequential(\r\n",
        "            nn.Linear(2000, self.neuron),\r\n",
        "            nn.BatchNorm1d(self.neuron),\r\n",
        "            nn.ReLU(),\r\n",
        "            nn.Dropout(self.drop),\r\n",
        "\r\n",
        "            nn.Linear(self.neuron, self.neuron),\r\n",
        "            nn.BatchNorm1d(self.neuron),\r\n",
        "            nn.ReLU(),\r\n",
        "            nn.Dropout(self.drop),\r\n",
        "\r\n",
        "            nn.Linear(self.neuron, 2),           \r\n",
        "        )\r\n",
        "    def forward(self, x):\r\n",
        "        x = self.step(x)\r\n",
        "        return x"
      ],
      "execution_count": 62,
      "outputs": []
    },
    {
      "cell_type": "markdown",
      "metadata": {
        "id": "JizQ1yN78tUK"
      },
      "source": [
        "### Hpyer parameters"
      ]
    },
    {
      "cell_type": "code",
      "metadata": {
        "id": "Er43tGTI8tUK"
      },
      "source": [
        "model_c3 = Net(neuron=100, p=0.2)\r\n",
        "model_c3.to(device);\r\n",
        "\r\n",
        "N_train = len(train_set_c3)\r\n",
        "N_test = len(dev_set_c3)\r\n",
        "\r\n",
        "weights = [1, 1.882]\r\n",
        "class_weights = torch.FloatTensor(weights).to(device)\r\n",
        "criterion = nn.CrossEntropyLoss(weight=class_weights)\r\n",
        "\r\n",
        "learning_rate = 0.0005\r\n",
        "optimizer = torch.optim.AdamW(model_c3.parameters(), lr=learning_rate, amsgrad=True)\r\n",
        "\r\n",
        "train_loader = DataLoader(train_set_c3, batch_size=32, shuffle=True)\r\n",
        "dev_loader = DataLoader(dev_set_c3, batch_size=64)\r\n",
        "\r\n",
        "scheduler = torch.optim.lr_scheduler.ReduceLROnPlateau(optimizer, 'min', patience=4, factor=0.1) # learning rate decay"
      ],
      "execution_count": 63,
      "outputs": []
    },
    {
      "cell_type": "markdown",
      "metadata": {
        "id": "Wr94FxHP8tUK"
      },
      "source": [
        "## training"
      ]
    },
    {
      "cell_type": "code",
      "metadata": {
        "colab": {
          "base_uri": "https://localhost:8080/",
          "height": 66,
          "referenced_widgets": [
            "bf18921d5db54c3eb7c2f6569febb562",
            "e24729aa991441179f8b04b890df1fd9",
            "ab734cff21ef41a690010170f0d96f82",
            "08bd6437325341f59f3bc15e03f80686",
            "e4671ac9457f4b58a9fed441c062cb34",
            "734d9132bd344fa9afc4ab550b2897fa",
            "505c86eb788f4462990b9de711346144",
            "237a4a6111714851aa99046559275cfa"
          ]
        },
        "id": "r2GlOw9v8tUL",
        "outputId": "a4acac45-3c71-4d48-958c-2a136527305c"
      },
      "source": [
        "useful_stuff = train(model=model_c3, train_loader=train_loader, cv_loader=dev_loader, N_train=N_train, N_test=N_test, optimizer=optimizer, epochs=40)"
      ],
      "execution_count": 64,
      "outputs": [
        {
          "output_type": "display_data",
          "data": {
            "application/vnd.jupyter.widget-view+json": {
              "model_id": "bf18921d5db54c3eb7c2f6569febb562",
              "version_minor": 0,
              "version_major": 2
            },
            "text/plain": [
              "HBox(children=(FloatProgress(value=0.0, max=40.0), HTML(value='')))"
            ]
          },
          "metadata": {
            "tags": []
          }
        },
        {
          "output_type": "stream",
          "text": [
            "\n"
          ],
          "name": "stdout"
        }
      ]
    },
    {
      "cell_type": "code",
      "metadata": {
        "id": "3_aQ-_rj9Cmu"
      },
      "source": [
        "torch.save(model_c3, './model/nn-crop-imbalance/model_c3.pt')"
      ],
      "execution_count": 67,
      "outputs": []
    },
    {
      "cell_type": "markdown",
      "metadata": {
        "id": "Wp9XAeQu8tUL"
      },
      "source": [
        "## Learning Curve"
      ]
    },
    {
      "cell_type": "code",
      "metadata": {
        "colab": {
          "base_uri": "https://localhost:8080/",
          "height": 573
        },
        "id": "xat00kIh8tUL",
        "outputId": "d4600dd9-65bd-409b-f62c-4fa48caa8412"
      },
      "source": [
        "plt.plot(useful_stuff['train_acc'], label='train_acc')\r\n",
        "plt.plot(useful_stuff['valid_acc'], label='cv_acc')\r\n",
        "plt.title('train / valid  accuracy')\r\n",
        "plt.xlabel('epochs')\r\n",
        "plt.ylabel('acc')\r\n",
        "#axes = plt.gca()\r\n",
        "#axes.set_ylim([0.4, 1])\r\n",
        "plt.legend()\r\n",
        "plt.grid()\r\n",
        "plt.show()\r\n",
        "\r\n",
        "plt.plot(useful_stuff['train_cost'], label='train_cost')\r\n",
        "plt.plot(useful_stuff['valid_cost'], label='cv_acc')\r\n",
        "plt.title('train / valid  loss')\r\n",
        "plt.xlabel('epochs')\r\n",
        "plt.ylabel('loss')\r\n",
        "#axes = plt.gca()\r\n",
        "#axes.set_ylim([0, 1])\r\n",
        "plt.legend()\r\n",
        "plt.grid()\r\n",
        "plt.show()"
      ],
      "execution_count": 65,
      "outputs": [
        {
          "output_type": "display_data",
          "data": {
            "image/png": "[encoded data removed]",
            "text/plain": [
              "<Figure size 432x288 with 1 Axes>"
            ]
          },
          "metadata": {
            "tags": [],
            "needs_background": "light"
          }
        },
        {
          "output_type": "display_data",
          "data": {
            "image/png": "[encoded data removed]",
            "text/plain": [
              "<Figure size 432x288 with 1 Axes>"
            ]
          },
          "metadata": {
            "tags": [],
            "needs_background": "light"
          }
        }
      ]
    },
    {
      "cell_type": "code",
      "metadata": {
        "colab": {
          "base_uri": "https://localhost:8080/"
        },
        "id": "2ZBvguqm8tUL",
        "outputId": "5821ba94-8f14-42fa-c877-3c58179c7d7a"
      },
      "source": [
        "calc_metrics()\r\n",
        "print('-'*20)\r\n",
        "print()\r\n",
        "calc_metrics(False)"
      ],
      "execution_count": 66,
      "outputs": [
        {
          "output_type": "stream",
          "text": [
            "[Train]Total sample: 43370\n",
            "TP: 14553\n",
            "FP: 1130\n",
            "TN: 27195\n",
            "FN: 492\n",
            "\n",
            "acc: 0.9626008761816924\n",
            "recall: 0.9672981056829512\n",
            "specificity: 0.9601059135039718\n",
            "precision: 0.927947459032073\n",
            "f1: 0.9472142671179381\n",
            "mcc: 0.9187503286272641\n",
            "--------------------\n",
            "\n",
            "[Dev]Total sample: 6280\n",
            "TP: 1912\n",
            "FP: 139\n",
            "TN: 4144\n",
            "FN: 85\n",
            "\n",
            "acc: 0.9643312101910828\n",
            "recall: 0.957436154231347\n",
            "specificity: 0.9675461125379407\n",
            "precision: 0.932228181374939\n",
            "f1: 0.9446640316205532\n",
            "mcc: 0.918533084374695\n"
          ],
          "name": "stdout"
        }
      ]
    },
    {
      "cell_type": "markdown",
      "metadata": {
        "id": "cVViIZ1R9n81"
      },
      "source": [
        "# class 4"
      ]
    },
    {
      "cell_type": "markdown",
      "metadata": {
        "id": "-khot1HTBQ_F"
      },
      "source": [
        "## dataset"
      ]
    },
    {
      "cell_type": "code",
      "metadata": {
        "id": "970-wOhb9n84"
      },
      "source": [
        "class Data(Dataset):\r\n",
        "    def __init__(self, x_list, y_list):\r\n",
        "        self.x_list = x_list\r\n",
        "        self.y_list = y_list\r\n",
        "    \r\n",
        "    def __getitem__(self, idx):\r\n",
        "        x = torch.from_numpy(self.x_list[idx][0])\r\n",
        "        y = torch.tensor(self.y_list[idx])\r\n",
        "\r\n",
        "        return x, y\r\n",
        "\r\n",
        "    def __len__(self):\r\n",
        "        return len(self.x_list)"
      ],
      "execution_count": 68,
      "outputs": []
    },
    {
      "cell_type": "code",
      "metadata": {
        "id": "RC6O6ti29n85"
      },
      "source": [
        "train_set_c4 = Data(c4_X, c4_y)\r\n",
        "dev_set_c4 = Data(c4_X_dev, c4_y_dev)"
      ],
      "execution_count": 69,
      "outputs": []
    },
    {
      "cell_type": "markdown",
      "metadata": {
        "id": "DKt2ogIA9n85"
      },
      "source": [
        "## model"
      ]
    },
    {
      "cell_type": "markdown",
      "metadata": {
        "id": "IFfDF4wT9n86"
      },
      "source": [
        "### Prepare"
      ]
    },
    {
      "cell_type": "code",
      "metadata": {
        "id": "XPJXs_pg9n86"
      },
      "source": [
        " def train(model, train_loader, cv_loader, optimizer, N_train, N_test, epochs=20):\r\n",
        " \r\n",
        "    useful_stuff = {'train_cost':[], 'train_acc':[], 'valid_cost':[], 'valid_acc':[], 'train_metric':[], 'valid_metric':[]} \r\n",
        "\r\n",
        "    for epoch in tqdm(range(epochs)):\r\n",
        "        #training===========================================\r\n",
        "        model.train() # Switch to train mode\r\n",
        "        correct = 0\r\n",
        "        training_loss=[]\r\n",
        "        TP = FP = TN = FN = 0\r\n",
        "\r\n",
        "        for x, y in train_loader:\r\n",
        "            x, y = x.to(device), y.to(device)\r\n",
        "            optimizer.zero_grad()\r\n",
        "            z = model(x)\r\n",
        "            _, yhat = torch.max(z.data, 1)\r\n",
        "            correct += (yhat == y).sum().item()\r\n",
        "            loss = criterion(z, y)\r\n",
        "            loss.backward()\r\n",
        "            optimizer.step()\r\n",
        "            training_loss.append(loss.data.item())\r\n",
        "\r\n",
        "            # calu metric\r\n",
        "            TP += ((yhat == 1) & (y == 1)).sum().item()\r\n",
        "            FP += ((yhat == 1) & (y == 0)).sum().item()\r\n",
        "            TN += ((yhat == 0) & (y == 0)).sum().item()\r\n",
        "            FN += ((yhat == 0) & (y == 1)).sum().item()       \r\n",
        "\r\n",
        "        useful_stuff['train_cost'].append(np.mean(training_loss))\r\n",
        "        useful_stuff['train_acc'].append(correct / N_train)\r\n",
        "        useful_stuff['train_metric'].append((TP, FP, TN, FN))\r\n",
        "\r\n",
        "        #print('[epoch {}]'.format(epoch))\r\n",
        "        #print('train_acc:',correct / N_train)\r\n",
        "        #print('train_loss:',np.mean(training_loss))\r\n",
        "        #print()\r\n",
        "\r\n",
        "        #valid==================================================\r\n",
        "        model.eval() # Switch to train mode\r\n",
        "        correct = 0\r\n",
        "        cv_loss=[]\r\n",
        "        TP = FP = TN = FN = 0\r\n",
        "\r\n",
        "        with torch.no_grad():\r\n",
        "          for x_test, y_test in cv_loader:\r\n",
        "            x_test, y_test = x_test.to(device), y_test.to(device)\r\n",
        "            z = model(x_test)\r\n",
        "            _, yhat = torch.max(z.data, 1)\r\n",
        "            correct += (yhat == y_test).sum().item()\r\n",
        "            loss = criterion(z, y_test)         \r\n",
        "            cv_loss.append(loss.data.item())\r\n",
        "\r\n",
        "            # calu metric\r\n",
        "            TP += ((yhat == 1) & (y_test == 1)).sum().item()\r\n",
        "            FP += ((yhat == 1) & (y_test == 0)).sum().item()\r\n",
        "            TN += ((yhat == 0) & (y_test == 0)).sum().item()\r\n",
        "            FN += ((yhat == 0) & (y_test == 1)).sum().item() \r\n",
        "\r\n",
        "          useful_stuff['valid_cost'].append(np.mean(cv_loss))\r\n",
        "          useful_stuff['valid_acc'].append(correct / N_test)\r\n",
        "          useful_stuff['valid_metric'].append((TP, FP, TN, FN))\r\n",
        "\r\n",
        "        #print('train_acc:',correct / N_test)\r\n",
        "        #print('train_loss:',np.mean(np.mean(cv_loss)))\r\n",
        "        #print('='*10)\r\n",
        "\r\n",
        "        scheduler.step(np.mean(cv_loss)) # learning rate scheduler <---------------------------------------------------------\r\n",
        "\r\n",
        "    return useful_stuff"
      ],
      "execution_count": 70,
      "outputs": []
    },
    {
      "cell_type": "code",
      "metadata": {
        "id": "TjvMkSnL9n86"
      },
      "source": [
        "class Net(nn.Module):   \r\n",
        "    # Constructor\r\n",
        "    def __init__(self,neuron=100, p=0.1):\r\n",
        "        super(Net, self).__init__()\r\n",
        "        self.neuron=neuron\r\n",
        "        self.drop=p\r\n",
        "\r\n",
        "        self.step = nn.Sequential(\r\n",
        "            nn.Linear(2000, self.neuron),\r\n",
        "            nn.BatchNorm1d(self.neuron),\r\n",
        "            nn.ReLU(),\r\n",
        "            nn.Dropout(self.drop),\r\n",
        "\r\n",
        "            nn.Linear(self.neuron, self.neuron),\r\n",
        "            nn.BatchNorm1d(self.neuron),\r\n",
        "            nn.ReLU(),\r\n",
        "            nn.Dropout(self.drop),\r\n",
        "\r\n",
        "            nn.Linear(self.neuron, 2),           \r\n",
        "        )\r\n",
        "    def forward(self, x):\r\n",
        "        x = self.step(x)\r\n",
        "        return x"
      ],
      "execution_count": 71,
      "outputs": []
    },
    {
      "cell_type": "markdown",
      "metadata": {
        "id": "Wf5RdAWz9n87"
      },
      "source": [
        "### Hpyer parameters"
      ]
    },
    {
      "cell_type": "code",
      "metadata": {
        "id": "FtC6bMpH9n87"
      },
      "source": [
        "model_c4 = Net(neuron=100, p=0.2)\r\n",
        "model_c4.to(device);\r\n",
        "\r\n",
        "N_train = len(train_set_c4)\r\n",
        "N_test = len(dev_set_c4)\r\n",
        "\r\n",
        "weights = [1, 25.17]\r\n",
        "class_weights = torch.FloatTensor(weights).to(device)\r\n",
        "criterion = nn.CrossEntropyLoss(weight=class_weights)\r\n",
        "\r\n",
        "learning_rate = 0.0005\r\n",
        "optimizer = torch.optim.AdamW(model_c4.parameters(), lr=learning_rate, amsgrad=True)\r\n",
        "\r\n",
        "train_loader = DataLoader(train_set_c4, batch_size=32, shuffle=True)\r\n",
        "dev_loader = DataLoader(dev_set_c4, batch_size=64)\r\n",
        "\r\n",
        "scheduler = torch.optim.lr_scheduler.ReduceLROnPlateau(optimizer, 'min', patience=4, factor=0.1) # learning rate decay"
      ],
      "execution_count": 73,
      "outputs": []
    },
    {
      "cell_type": "markdown",
      "metadata": {
        "id": "k04_WmB99n87"
      },
      "source": [
        "## training"
      ]
    },
    {
      "cell_type": "code",
      "metadata": {
        "colab": {
          "base_uri": "https://localhost:8080/",
          "height": 66,
          "referenced_widgets": [
            "6b886600afcc4742969f30bf54feca6b",
            "de74dc46393f40b3a6abead7fd77f0f6",
            "5fbcfda58bb347acaa52f995ccb9a099",
            "9017ca657709453c9f31e0e0c31090bb",
            "bcaf1640dbcb450bbad22dacc29ca0a0",
            "ac1ed67ad2cc4e938b3be820c77a0fcf",
            "1df94a27e3734c49bf407a00bdfc06d9",
            "6e65238ae744463f8b5634a465985c3b"
          ]
        },
        "id": "ozqFaPvB9n88",
        "outputId": "b0112d16-4db1-4076-a101-6657bdbc1f2b"
      },
      "source": [
        "useful_stuff = train(model=model_c4, train_loader=train_loader, cv_loader=dev_loader, N_train=N_train, N_test=N_test, optimizer=optimizer, epochs=40)"
      ],
      "execution_count": 74,
      "outputs": [
        {
          "output_type": "display_data",
          "data": {
            "application/vnd.jupyter.widget-view+json": {
              "model_id": "6b886600afcc4742969f30bf54feca6b",
              "version_minor": 0,
              "version_major": 2
            },
            "text/plain": [
              "HBox(children=(FloatProgress(value=0.0, max=40.0), HTML(value='')))"
            ]
          },
          "metadata": {
            "tags": []
          }
        },
        {
          "output_type": "stream",
          "text": [
            "\n"
          ],
          "name": "stdout"
        }
      ]
    },
    {
      "cell_type": "code",
      "metadata": {
        "id": "tyLCb1lm-tyi"
      },
      "source": [
        "torch.save(model_c4, './model/nn-crop-imbalance/model_c4.pt')"
      ],
      "execution_count": 77,
      "outputs": []
    },
    {
      "cell_type": "markdown",
      "metadata": {
        "id": "jHC86jmG9n88"
      },
      "source": [
        "## Learning Curve"
      ]
    },
    {
      "cell_type": "code",
      "metadata": {
        "colab": {
          "base_uri": "https://localhost:8080/",
          "height": 573
        },
        "id": "Xs1ZV28G9n88",
        "outputId": "5889b98e-f7ed-48ab-818a-6db1bc1edb35"
      },
      "source": [
        "plt.plot(useful_stuff['train_acc'], label='train_acc')\r\n",
        "plt.plot(useful_stuff['valid_acc'], label='cv_acc')\r\n",
        "plt.title('train / valid  accuracy')\r\n",
        "plt.xlabel('epochs')\r\n",
        "plt.ylabel('acc')\r\n",
        "#axes = plt.gca()\r\n",
        "#axes.set_ylim([0.4, 1])\r\n",
        "plt.legend()\r\n",
        "plt.grid()\r\n",
        "plt.show()\r\n",
        "\r\n",
        "plt.plot(useful_stuff['train_cost'], label='train_cost')\r\n",
        "plt.plot(useful_stuff['valid_cost'], label='cv_acc')\r\n",
        "plt.title('train / valid  loss')\r\n",
        "plt.xlabel('epochs')\r\n",
        "plt.ylabel('loss')\r\n",
        "#axes = plt.gca()\r\n",
        "#axes.set_ylim([0, 1])\r\n",
        "plt.legend()\r\n",
        "plt.grid()\r\n",
        "plt.show()"
      ],
      "execution_count": 75,
      "outputs": [
        {
          "output_type": "display_data",
          "data": {
            "image/png": "[encoded data removed]",
            "text/plain": [
              "<Figure size 432x288 with 1 Axes>"
            ]
          },
          "metadata": {
            "tags": [],
            "needs_background": "light"
          }
        },
        {
          "output_type": "display_data",
          "data": {
            "image/png": "[encoded data removed]",
            "text/plain": [
              "<Figure size 432x288 with 1 Axes>"
            ]
          },
          "metadata": {
            "tags": [],
            "needs_background": "light"
          }
        }
      ]
    },
    {
      "cell_type": "code",
      "metadata": {
        "colab": {
          "base_uri": "https://localhost:8080/"
        },
        "id": "81RwIfx-9n89",
        "outputId": "033b439d-f648-42ba-e4c2-4f442ade5388"
      },
      "source": [
        "calc_metrics()\r\n",
        "print('-'*20)\r\n",
        "print()\r\n",
        "calc_metrics(False)"
      ],
      "execution_count": 76,
      "outputs": [
        {
          "output_type": "stream",
          "text": [
            "[Train]Total sample: 43370\n",
            "TP: 1322\n",
            "FP: 8524\n",
            "TN: 33189\n",
            "FN: 335\n",
            "\n",
            "acc: 0.7957343786027208\n",
            "recall: 0.7978273989136995\n",
            "specificity: 0.7956512358257618\n",
            "precision: 0.13426772293317082\n",
            "f1: 0.2298530818047466\n",
            "mcc: 0.27157777392842364\n",
            "--------------------\n",
            "\n",
            "[Dev]Total sample: 6280\n",
            "TP: 218\n",
            "FP: 1448\n",
            "TN: 4534\n",
            "FN: 80\n",
            "\n",
            "acc: 0.756687898089172\n",
            "recall: 0.7315436241610739\n",
            "specificity: 0.7579404881310599\n",
            "precision: 0.13085234093637454\n",
            "f1: 0.2219959266802444\n",
            "mcc: 0.23571848587594973\n"
          ],
          "name": "stdout"
        }
      ]
    },
    {
      "cell_type": "markdown",
      "metadata": {
        "id": "p3v-P-sqBy7j"
      },
      "source": [
        "# Saving model"
      ]
    },
    {
      "cell_type": "code",
      "metadata": {
        "id": "SMgOcgYDB0tX"
      },
      "source": [
        "# torch.save(model_c0, './C2_TrainDev/model/nn-crop-imbalance/model_c0.pt')\r\n",
        "# torch.save(model_c1, './C2_TrainDev/model/nn-crop-imbalance/model_c1.pt')\r\n",
        "# torch.save(model_c2, './C2_TrainDev/model/nn-crop-imbalance/model_c2.pt')\r\n",
        "# torch.save(model_c3, './C2_TrainDev/model/nn-crop-imbalance/model_c3.pt')\r\n",
        "# torch.save(model_c4, './C2_TrainDev/model/nn-crop-imbalance/model_c4.pt')"
      ],
      "execution_count": null,
      "outputs": []
    }
  ]
}