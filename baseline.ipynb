{
 "cells": [
  {
   "cell_type": "markdown",
   "metadata": {},
   "source": [
    "# baseline"
   ]
  },
  {
   "cell_type": "code",
   "execution_count": 1,
   "metadata": {},
   "outputs": [],
   "source": [
    "import pickle\n",
    "import numpy as np\n",
    "\n",
    "from sklearn.svm import SVC\n",
    "from sklearn.metrics import f1_score\n",
    "from sklearn.pipeline import Pipeline\n",
    "from sklearn.preprocessing import StandardScaler\n",
    "from sklearn.feature_selection import SelectPercentile"
   ]
  },
  {
   "cell_type": "markdown",
   "metadata": {},
   "source": [
    "## Loading data"
   ]
  },
  {
   "cell_type": "code",
   "execution_count": 2,
   "metadata": {},
   "outputs": [],
   "source": [
    "Training_data = dict()\n",
    "Dev_data = dict()\n",
    "\n",
    "for i in ['c0', 'c1', 'c2', 'c3', 'c4']:\n",
    "    with open('./C2_TrainDev/processed_data/baseline/train/'+i+'_X.pkl', 'rb') as f:\n",
    "        Training_data[i+'_X'] = pickle.load(f)\n",
    "\n",
    "    with open('./C2_TrainDev/processed_data/baseline/train/'+i+'_y.pkl', 'rb') as f:\n",
    "        Training_data[i+'_y'] = pickle.load(f)\n",
    "\n",
    "    with open('./C2_TrainDev/processed_data/baseline/dev/'+i+'_X_dev.pkl', 'rb') as f:\n",
    "        Dev_data[i+'_X_dev'] = pickle.load(f)\n",
    "\n",
    "    with open('./C2_TrainDev/processed_data/baseline/dev/'+i+'_y_dev.pkl', 'rb') as f:\n",
    "        Dev_data[i+'_y_dev'] = pickle.load(f)"
   ]
  },
  {
   "cell_type": "markdown",
   "metadata": {},
   "source": [
    "## change dimension to fit svm"
   ]
  },
  {
   "cell_type": "code",
   "execution_count": 3,
   "metadata": {},
   "outputs": [],
   "source": [
    "for data in ['c0_X','c1_X','c2_X','c3_X','c4_X']:\n",
    "    list_ = Training_data[data]\n",
    "    for i,j in enumerate(list_):\n",
    "        list_[i] = np.squeeze(j)\n",
    "    Training_data[data] = list_\n",
    "        \n",
    "for data in ['c0_X_dev','c1_X_dev','c2_X_dev','c3_X_dev','c4_X_dev']:   \n",
    "    list_ = Dev_data[data]\n",
    "    for i,j in enumerate(list_):\n",
    "        list_[i] = np.squeeze(j)\n",
    "    Dev_data[data] = list_"
   ]
  },
  {
   "cell_type": "code",
   "execution_count": 4,
   "metadata": {},
   "outputs": [],
   "source": [
    "for data in ['c0_y','c1_y','c2_y','c3_y','c4_y']:\n",
    "    list_ = Training_data[data]\n",
    "    list_ = np.array(list_)\n",
    "    Training_data[data] = list_\n",
    "    \n",
    "for data in ['c0_y_dev','c1_y_dev','c2_y_dev','c3_y_dev','c4_y_dev']:\n",
    "    list_ = Dev_data[data]\n",
    "    list_ = np.array(list_)\n",
    "    Dev_data[data] = list_"
   ]
  },
  {
   "cell_type": "markdown",
   "metadata": {},
   "source": [
    "## check the amount of data"
   ]
  },
  {
   "cell_type": "code",
   "execution_count": 5,
   "metadata": {},
   "outputs": [
    {
     "name": "stdout",
     "output_type": "stream",
     "text": [
      "train data\n",
      "\n",
      "[c0]\n",
      "X: 4244\n",
      "y: 4244\n",
      "--------------------\n",
      "[c1]\n",
      "X: 838\n",
      "y: 838\n",
      "--------------------\n",
      "[c2]\n",
      "X: 22978\n",
      "y: 22978\n",
      "--------------------\n",
      "[c3]\n",
      "X: 22506\n",
      "y: 22506\n",
      "--------------------\n",
      "[c4]\n",
      "X: 1906\n",
      "y: 1906\n",
      "--------------------\n"
     ]
    }
   ],
   "source": [
    "print('train data\\n')\n",
    "\n",
    "for i in ['c0', 'c1', 'c2', 'c3', 'c4']:\n",
    "    print('['+i+']')\n",
    "    print('X:',len(Training_data[i+'_X']))\n",
    "    print('y:',len(Training_data[i+'_y']))\n",
    "    print('-'*20)"
   ]
  },
  {
   "cell_type": "code",
   "execution_count": 6,
   "metadata": {},
   "outputs": [
    {
     "name": "stdout",
     "output_type": "stream",
     "text": [
      "Dev data\n",
      "\n",
      "[c0]\n",
      "X: 3681\n",
      "y: 3681\n",
      "--------------------\n",
      "[c1]\n",
      "X: 3681\n",
      "y: 3681\n",
      "--------------------\n",
      "[c2]\n",
      "X: 3681\n",
      "y: 3681\n",
      "--------------------\n",
      "[c3]\n",
      "X: 3681\n",
      "y: 3681\n",
      "--------------------\n",
      "[c4]\n",
      "X: 3681\n",
      "y: 3681\n",
      "--------------------\n"
     ]
    }
   ],
   "source": [
    "print('Dev data\\n')\n",
    "\n",
    "for i in ['c0', 'c1', 'c2', 'c3', 'c4']:\n",
    "    print('['+i+']')\n",
    "    print('X:',len(Dev_data[i+'_X_dev']))\n",
    "    print('y:',len(Dev_data[i+'_y_dev']))\n",
    "    print('-'*20)"
   ]
  },
  {
   "cell_type": "markdown",
   "metadata": {},
   "source": [
    "## SVM"
   ]
  },
  {
   "cell_type": "markdown",
   "metadata": {},
   "source": [
    "Definding svm model"
   ]
  },
  {
   "cell_type": "code",
   "execution_count": 7,
   "metadata": {},
   "outputs": [],
   "source": [
    "clf_0 = Pipeline([\n",
    "    ('anova', SelectPercentile(percentile=50)),\n",
    "    ('scaler', StandardScaler()),\n",
    "    ('svc',SVC(C=1.0, kernel='linear', class_weight='balanced'))\n",
    "])\n",
    "#===================================================================\n",
    "clf_1 = Pipeline([\n",
    "    ('anova', SelectPercentile(percentile=10)),\n",
    "    ('scaler', StandardScaler()),\n",
    "    ('svc',SVC(C=0.1, kernel='linear', class_weight='balanced'))\n",
    "])\n",
    "#===================================================================\n",
    "clf_2 = Pipeline([\n",
    "    ('anova', SelectPercentile(percentile=20)),\n",
    "    ('scaler', StandardScaler()),\n",
    "    ('svc',SVC(C=0.1, kernel='linear', class_weight='balanced'))\n",
    "])\n",
    "#===================================================================\n",
    "clf_3 = Pipeline([\n",
    "    ('anova', SelectPercentile(percentile=10)),\n",
    "    ('scaler', StandardScaler()),\n",
    "    ('svc',SVC(C=0.1, kernel='linear', class_weight='balanced'))\n",
    "])\n",
    "#===================================================================\n",
    "clf_4 = Pipeline([\n",
    "    ('anova', SelectPercentile(percentile=20)),\n",
    "    ('scaler', StandardScaler()),\n",
    "    ('svc',SVC(C=1.0, kernel='linear', class_weight='balanced'))\n",
    "])"
   ]
  },
  {
   "cell_type": "markdown",
   "metadata": {},
   "source": [
    "calc metrics"
   ]
  },
  {
   "cell_type": "code",
   "execution_count": 8,
   "metadata": {},
   "outputs": [],
   "source": [
    "def perf_measure(y_actual, y_pred):\n",
    "    \"\"\"\n",
    "    計算metric\n",
    "    \"\"\"\n",
    "    TP = 0\n",
    "    FP = 0\n",
    "    TN = 0\n",
    "    FN = 0\n",
    "\n",
    "    for i in range(len(y_pred)): \n",
    "        if y_actual[i]==y_pred[i]==1:\n",
    "           TP += 1\n",
    "        if y_pred[i]==1 and y_actual[i]!=y_pred[i]:\n",
    "           FP += 1\n",
    "        if y_actual[i]==y_pred[i]==0:\n",
    "           TN += 1\n",
    "        if y_pred[i]==0 and y_actual[i]!=y_pred[i]:\n",
    "           FN += 1\n",
    "    \n",
    "    precision = TP / (TP+FP)\n",
    "    recall = TP / (TP+FN)\n",
    "    f1 = 2 * precision * recall / (precision + recall)  \n",
    "    \n",
    "    print('TP:',TP)\n",
    "    print('FP:',FP)\n",
    "    print('TN:',TN)\n",
    "    print('FN:',FN)\n",
    "    print('total:',TP+FP+TN+FN)\n",
    "    print()\n",
    "    print('Acc:',(TP+TN)/(TP+FP+TN+FN))\n",
    "    print('Precision:',precision)\n",
    "    print('Recall:',recall)\n",
    "    print('F1:',f1)\n",
    "    \n",
    "    return (TP, FP, TN, FN, precision, recall, f1)"
   ]
  },
  {
   "cell_type": "markdown",
   "metadata": {},
   "source": [
    "### class 0 - 乳汁吸附"
   ]
  },
  {
   "cell_type": "code",
   "execution_count": 9,
   "metadata": {},
   "outputs": [
    {
     "name": "stdout",
     "output_type": "stream",
     "text": [
      "Wall time: 1min 11s\n"
     ]
    },
    {
     "data": {
      "text/plain": [
       "Pipeline(steps=[('anova', SelectPercentile(percentile=50)),\n",
       "                ('scaler', StandardScaler()),\n",
       "                ('svc', SVC(class_weight='balanced', kernel='linear'))])"
      ]
     },
     "execution_count": 9,
     "metadata": {},
     "output_type": "execute_result"
    }
   ],
   "source": [
    "%%time\n",
    "clf_0.fit(Training_data['c0_X'], Training_data['c0_y'])"
   ]
  },
  {
   "cell_type": "code",
   "execution_count": 10,
   "metadata": {},
   "outputs": [],
   "source": [
    "y_pred_0 = clf_0.predict(Dev_data['c0_X_dev'])\n",
    "score_0 = clf_0.score(Dev_data['c0_X_dev'], Dev_data['c0_y_dev'])\n",
    "f1_score_0 = f1_score(Dev_data['c0_y_dev'], y_pred_0)"
   ]
  },
  {
   "cell_type": "code",
   "execution_count": 11,
   "metadata": {},
   "outputs": [
    {
     "name": "stdout",
     "output_type": "stream",
     "text": [
      "class 0:\n",
      "----------\n",
      "mean acc: 0.6381418092909535\n",
      "f1 score: 0.2336018411967779\n"
     ]
    }
   ],
   "source": [
    "print('class 0:')\n",
    "print('-'*10)\n",
    "print('mean acc:', score_0)\n",
    "print('f1 score:', f1_score_0)"
   ]
  },
  {
   "cell_type": "code",
   "execution_count": 12,
   "metadata": {},
   "outputs": [
    {
     "name": "stdout",
     "output_type": "stream",
     "text": [
      "TP: 203\n",
      "FP: 1227\n",
      "TN: 2146\n",
      "FN: 105\n",
      "total: 3681\n",
      "\n",
      "Acc: 0.6381418092909535\n",
      "Precision: 0.14195804195804196\n",
      "Recall: 0.6590909090909091\n",
      "F1: 0.2336018411967779\n"
     ]
    }
   ],
   "source": [
    "(TP, FP, TN, FN, precision, recall, f1) = perf_measure(Dev_data['c0_y_dev'], y_pred_0)"
   ]
  },
  {
   "cell_type": "markdown",
   "metadata": {},
   "source": [
    "### class 1 - 機械傷害"
   ]
  },
  {
   "cell_type": "code",
   "execution_count": 13,
   "metadata": {},
   "outputs": [
    {
     "name": "stdout",
     "output_type": "stream",
     "text": [
      "Wall time: 160 ms\n"
     ]
    },
    {
     "data": {
      "text/plain": [
       "Pipeline(steps=[('anova', SelectPercentile()), ('scaler', StandardScaler()),\n",
       "                ('svc', SVC(C=0.1, class_weight='balanced', kernel='linear'))])"
      ]
     },
     "execution_count": 13,
     "metadata": {},
     "output_type": "execute_result"
    }
   ],
   "source": [
    "%%time\n",
    "clf_1.fit(Training_data['c1_X'], Training_data['c1_y'])"
   ]
  },
  {
   "cell_type": "code",
   "execution_count": 14,
   "metadata": {},
   "outputs": [],
   "source": [
    "y_pred_1 = clf_1.predict(Dev_data['c1_X_dev'])\n",
    "score_1 = clf_1.score(Dev_data['c1_X_dev'], Dev_data['c1_y_dev'])\n",
    "f1_score_1 = f1_score(Dev_data['c1_y_dev'], y_pred_1)"
   ]
  },
  {
   "cell_type": "code",
   "execution_count": 15,
   "metadata": {},
   "outputs": [
    {
     "name": "stdout",
     "output_type": "stream",
     "text": [
      "class 1:\n",
      "----------\n",
      "mean acc: 0.6837815810920945\n",
      "f1 score: 0.039603960396039604\n"
     ]
    }
   ],
   "source": [
    "print('class 1:')\n",
    "print('-'*10)\n",
    "print('mean acc:', score_1)\n",
    "print('f1 score:', f1_score_1)"
   ]
  },
  {
   "cell_type": "code",
   "execution_count": 16,
   "metadata": {},
   "outputs": [
    {
     "name": "stdout",
     "output_type": "stream",
     "text": [
      "TP: 24\n",
      "FP: 1128\n",
      "TN: 2493\n",
      "FN: 36\n",
      "total: 3681\n",
      "\n",
      "Acc: 0.6837815810920945\n",
      "Precision: 0.020833333333333332\n",
      "Recall: 0.4\n",
      "F1: 0.039603960396039604\n"
     ]
    }
   ],
   "source": [
    "(TP, FP, TN, FN, precision, recall, f1) = perf_measure(Dev_data['c1_y_dev'], y_pred_1)"
   ]
  },
  {
   "cell_type": "markdown",
   "metadata": {},
   "source": [
    "### class 2 - 炭疽病"
   ]
  },
  {
   "cell_type": "code",
   "execution_count": 17,
   "metadata": {},
   "outputs": [
    {
     "name": "stdout",
     "output_type": "stream",
     "text": [
      "Wall time: 8min 46s\n"
     ]
    },
    {
     "data": {
      "text/plain": [
       "Pipeline(steps=[('anova', SelectPercentile(percentile=20)),\n",
       "                ('scaler', StandardScaler()),\n",
       "                ('svc', SVC(C=0.1, class_weight='balanced', kernel='linear'))])"
      ]
     },
     "execution_count": 17,
     "metadata": {},
     "output_type": "execute_result"
    }
   ],
   "source": [
    "%%time\n",
    "clf_2.fit(Training_data['c2_X'], Training_data['c2_y'])"
   ]
  },
  {
   "cell_type": "code",
   "execution_count": 18,
   "metadata": {},
   "outputs": [],
   "source": [
    "y_pred_2 = clf_2.predict(Dev_data['c2_X_dev'])\n",
    "score_2 = clf_2.score(Dev_data['c2_X_dev'], Dev_data['c2_y_dev'])\n",
    "f1_score_2 = f1_score(Dev_data['c2_y_dev'], y_pred_2)"
   ]
  },
  {
   "cell_type": "code",
   "execution_count": 19,
   "metadata": {},
   "outputs": [
    {
     "name": "stdout",
     "output_type": "stream",
     "text": [
      "class 2:\n",
      "----------\n",
      "mean acc: 0.7571312143439283\n",
      "f1 score: 0.746742209631728\n"
     ]
    }
   ],
   "source": [
    "print('class 2:')\n",
    "print('-'*10)\n",
    "print('mean acc:', score_2)\n",
    "print('f1 score:', f1_score_2)"
   ]
  },
  {
   "cell_type": "code",
   "execution_count": 20,
   "metadata": {},
   "outputs": [
    {
     "name": "stdout",
     "output_type": "stream",
     "text": [
      "TP: 1318\n",
      "FP: 447\n",
      "TN: 1469\n",
      "FN: 447\n",
      "total: 3681\n",
      "\n",
      "Acc: 0.7571312143439283\n",
      "Precision: 0.746742209631728\n",
      "Recall: 0.746742209631728\n",
      "F1: 0.746742209631728\n"
     ]
    }
   ],
   "source": [
    "(TP, FP, TN, FN, precision, recall, f1) = perf_measure(Dev_data['c2_y_dev'], y_pred_2)"
   ]
  },
  {
   "cell_type": "markdown",
   "metadata": {},
   "source": [
    "### class 3 - 著色不佳"
   ]
  },
  {
   "cell_type": "code",
   "execution_count": 21,
   "metadata": {},
   "outputs": [
    {
     "name": "stdout",
     "output_type": "stream",
     "text": [
      "Wall time: 2min 46s\n"
     ]
    },
    {
     "data": {
      "text/plain": [
       "Pipeline(steps=[('anova', SelectPercentile()), ('scaler', StandardScaler()),\n",
       "                ('svc', SVC(C=0.1, class_weight='balanced', kernel='linear'))])"
      ]
     },
     "execution_count": 21,
     "metadata": {},
     "output_type": "execute_result"
    }
   ],
   "source": [
    "%%time\n",
    "clf_3.fit(Training_data['c3_X'], Training_data['c3_y'])"
   ]
  },
  {
   "cell_type": "code",
   "execution_count": 22,
   "metadata": {},
   "outputs": [],
   "source": [
    "y_pred_3 = clf_3.predict(Dev_data['c3_X_dev'])\n",
    "score_3 = clf_3.score(Dev_data['c3_X_dev'], Dev_data['c3_y_dev'])\n",
    "f1_score_3 = f1_score(Dev_data['c3_y_dev'], y_pred_3)"
   ]
  },
  {
   "cell_type": "code",
   "execution_count": 23,
   "metadata": {},
   "outputs": [
    {
     "name": "stdout",
     "output_type": "stream",
     "text": [
      "class 3:\n",
      "----------\n",
      "mean acc: 0.76093452866069\n",
      "f1 score: 0.7709526288391463\n"
     ]
    }
   ],
   "source": [
    "print('class 3:')\n",
    "print('-'*10)\n",
    "print('mean acc:', score_3)\n",
    "print('f1 score:', f1_score_3)"
   ]
  },
  {
   "cell_type": "code",
   "execution_count": 24,
   "metadata": {},
   "outputs": [
    {
     "name": "stdout",
     "output_type": "stream",
     "text": [
      "TP: 1481\n",
      "FP: 423\n",
      "TN: 1320\n",
      "FN: 457\n",
      "total: 3681\n",
      "\n",
      "Acc: 0.76093452866069\n",
      "Precision: 0.7778361344537815\n",
      "Recall: 0.7641898864809081\n",
      "F1: 0.7709526288391463\n"
     ]
    }
   ],
   "source": [
    "(TP, FP, TN, FN, precision, recall, f1) = perf_measure(Dev_data['c3_y_dev'], y_pred_3)"
   ]
  },
  {
   "cell_type": "markdown",
   "metadata": {},
   "source": [
    "### class 4 - 黑斑病"
   ]
  },
  {
   "cell_type": "code",
   "execution_count": 25,
   "metadata": {},
   "outputs": [
    {
     "name": "stdout",
     "output_type": "stream",
     "text": [
      "Wall time: 3.16 s\n"
     ]
    },
    {
     "data": {
      "text/plain": [
       "Pipeline(steps=[('anova', SelectPercentile(percentile=20)),\n",
       "                ('scaler', StandardScaler()),\n",
       "                ('svc', SVC(class_weight='balanced', kernel='linear'))])"
      ]
     },
     "execution_count": 25,
     "metadata": {},
     "output_type": "execute_result"
    }
   ],
   "source": [
    "%%time\n",
    "clf_4.fit(Training_data['c4_X'], Training_data['c4_y'])"
   ]
  },
  {
   "cell_type": "code",
   "execution_count": 26,
   "metadata": {},
   "outputs": [],
   "source": [
    "y_pred_4 = clf_4.predict(Dev_data['c4_X_dev'])\n",
    "score_4 = clf_4.score(Dev_data['c4_X_dev'], Dev_data['c4_y_dev'])\n",
    "f1_score_4 = f1_score(Dev_data['c4_y_dev'], y_pred_4)"
   ]
  },
  {
   "cell_type": "code",
   "execution_count": 27,
   "metadata": {},
   "outputs": [
    {
     "name": "stdout",
     "output_type": "stream",
     "text": [
      "class 4:\n",
      "----------\n",
      "mean acc: 0.700081499592502\n",
      "f1 score: 0.19533527696793002\n"
     ]
    }
   ],
   "source": [
    "print('class 4:')\n",
    "print('-'*10)\n",
    "print('mean acc:', score_4)\n",
    "print('f1 score:', f1_score_4)"
   ]
  },
  {
   "cell_type": "code",
   "execution_count": 28,
   "metadata": {},
   "outputs": [
    {
     "name": "stdout",
     "output_type": "stream",
     "text": [
      "TP: 134\n",
      "FP: 1068\n",
      "TN: 2443\n",
      "FN: 36\n",
      "total: 3681\n",
      "\n",
      "Acc: 0.700081499592502\n",
      "Precision: 0.11148086522462562\n",
      "Recall: 0.788235294117647\n",
      "F1: 0.19533527696793002\n"
     ]
    }
   ],
   "source": [
    "(TP, FP, TN, FN, precision, recall, f1) = perf_measure(Dev_data['c4_y_dev'], y_pred_4)"
   ]
  },
  {
   "cell_type": "markdown",
   "metadata": {},
   "source": [
    "## f1 score"
   ]
  },
  {
   "cell_type": "code",
   "execution_count": 29,
   "metadata": {},
   "outputs": [
    {
     "name": "stdout",
     "output_type": "stream",
     "text": [
      "Marco f1: 0.39724718340632437\n"
     ]
    }
   ],
   "source": [
    "print('Marco f1:',np.mean([f1_score_0, f1_score_1, f1_score_2, f1_score_3, f1_score_4]))"
   ]
  },
  {
   "cell_type": "markdown",
   "metadata": {},
   "source": [
    "## save, load model\n",
    "\n",
    "**load the model from disk exapmle:**\n",
    "```python\n",
    "loaded_model = pickle.load(open(filename, 'rb'))\n",
    "result = loaded_model.score(X_test, Y_test)\n",
    "print(result)\n",
    "```"
   ]
  },
  {
   "cell_type": "markdown",
   "metadata": {},
   "source": [
    "save"
   ]
  },
  {
   "cell_type": "code",
   "execution_count": 59,
   "metadata": {},
   "outputs": [],
   "source": [
    "filename = './C2_TrainDev/model/baseline/clf_0.pkl'\n",
    "pickle.dump(clf_0, open(filename, 'wb'))\n",
    "\n",
    "filename = './C2_TrainDev/model/baseline/clf_1.pkl'\n",
    "pickle.dump(clf_1, open(filename, 'wb'))\n",
    "\n",
    "filename = './C2_TrainDev/model/baseline/clf_2.pkl'\n",
    "pickle.dump(clf_2, open(filename, 'wb'))\n",
    "\n",
    "filename = './C2_TrainDev/model/baseline/clf_3.pkl'\n",
    "pickle.dump(clf_3, open(filename, 'wb'))\n",
    "\n",
    "filename = './C2_TrainDev/model/baseline/clf_4.pkl'\n",
    "pickle.dump(clf_4, open(filename, 'wb'))"
   ]
  },
  {
   "cell_type": "markdown",
   "metadata": {},
   "source": [
    "load"
   ]
  },
  {
   "cell_type": "code",
   "execution_count": 8,
   "metadata": {},
   "outputs": [],
   "source": [
    "clf_0 = pickle.load(open('./C2_TrainDev/model/baseline/clf_0.pkl', 'rb'))\n",
    "clf_1 = pickle.load(open('./C2_TrainDev/model/baseline/clf_1.pkl', 'rb'))\n",
    "clf_2 = pickle.load(open('./C2_TrainDev/model/baseline/clf_2.pkl', 'rb'))\n",
    "clf_3 = pickle.load(open('./C2_TrainDev/model/baseline/clf_3.pkl', 'rb'))\n",
    "clf_4 = pickle.load(open('./C2_TrainDev/model/baseline/clf_4.pkl', 'rb'))"
   ]
  },
  {
   "cell_type": "code",
   "execution_count": null,
   "metadata": {},
   "outputs": [],
   "source": []
  }
 ],
 "metadata": {
  "kernelspec": {
   "display_name": "Python 3",
   "language": "python",
   "name": "python3"
  },
  "language_info": {
   "codemirror_mode": {
    "name": "ipython",
    "version": 3
   },
   "file_extension": ".py",
   "mimetype": "text/x-python",
   "name": "python",
   "nbconvert_exporter": "python",
   "pygments_lexer": "ipython3",
   "version": "3.8.6"
  }
 },
 "nbformat": 4,
 "nbformat_minor": 4
}
