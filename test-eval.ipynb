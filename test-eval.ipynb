{
  "nbformat": 4,
  "nbformat_minor": 0,
  "metadata": {
    "accelerator": "GPU",
    "colab": {
      "name": "eval_test.ipynb",
      "provenance": [],
      "collapsed_sections": [],
      "authorship_tag": "ABX9TyM47lMtUX3mUKLaGgZb0MrW",
      "include_colab_link": true
    },
    "kernelspec": {
      "display_name": "Python 3",
      "name": "python3"
    }
  },
  "cells": [
    {
      "cell_type": "markdown",
      "metadata": {
        "id": "view-in-github",
        "colab_type": "text"
      },
      "source": [
        "<a href=\"https://colab.research.google.com/github/maglili/ai_cup-mango-cnn_base/blob/main/eval_test.ipynb\" target=\"_parent\"><img src=\"https://colab.research.google.com/assets/colab-badge.svg\" alt=\"Open In Colab\"/></a>"
      ]
    },
    {
      "cell_type": "markdown",
      "metadata": {
        "id": "0Vb2tJ48Eycv"
      },
      "source": [
        "# colab"
      ]
    },
    {
      "cell_type": "code",
      "metadata": {
        "colab": {
          "base_uri": "https://localhost:8080/"
        },
        "id": "IfwSSG-__76e",
        "outputId": "f21463ec-86c4-4c4a-b790-79d958e3febe"
      },
      "source": [
        "cd /content/drive/MyDrive/Projects/AI_CUP-Mango"
      ],
      "execution_count": 3,
      "outputs": [
        {
          "output_type": "stream",
          "text": [
            "/content/drive/MyDrive/Projects/AI_CUP-Mango\n"
          ],
          "name": "stdout"
        }
      ]
    },
    {
      "cell_type": "code",
      "metadata": {
        "colab": {
          "base_uri": "https://localhost:8080/",
          "height": 35
        },
        "id": "7G3VG1MA_9OZ",
        "outputId": "50dd4894-48e4-4bd9-a92b-56e24d8701b6"
      },
      "source": [
        "pwd"
      ],
      "execution_count": 4,
      "outputs": [
        {
          "output_type": "execute_result",
          "data": {
            "application/vnd.google.colaboratory.intrinsic+json": {
              "type": "string"
            },
            "text/plain": [
              "'/content/drive/MyDrive/Projects/AI_CUP-Mango'"
            ]
          },
          "metadata": {
            "tags": []
          },
          "execution_count": 4
        }
      ]
    },
    {
      "cell_type": "markdown",
      "metadata": {
        "id": "8SX00JYOE16n"
      },
      "source": [
        "# Loading test data"
      ]
    },
    {
      "cell_type": "code",
      "metadata": {
        "id": "A8d_vCg__h_z"
      },
      "source": [
        "import numpy as np\r\n",
        "from PIL import Image\r\n",
        "from tqdm.notebook import tqdm\r\n",
        "import pickle \r\n",
        "import matplotlib.pylab as plt # plot module\r\n",
        "import pandas as pd\r\n",
        "\r\n",
        "import torch\r\n",
        "from torch.utils.data import Dataset, DataLoader\r\n",
        "import torch.nn as nn\r\n",
        "from torchvision import transforms"
      ],
      "execution_count": 73,
      "outputs": []
    },
    {
      "cell_type": "code",
      "metadata": {
        "colab": {
          "base_uri": "https://localhost:8080/"
        },
        "id": "jj0zskwe__23",
        "outputId": "6344ce78-a491-449c-fe07-4b9af680ea7c"
      },
      "source": [
        "if torch.cuda.is_available():\r\n",
        "  device = torch.device('cuda:0')\r\n",
        "  print('GPU is avalible.')\r\n",
        "  print('Working on:', torch.cuda.get_device_name())\r\n",
        "else:\r\n",
        "  device = torch.device('cpu')\r\n",
        "  print('GPU is not avalible.')\r\n",
        "  print('Working on CPU')"
      ],
      "execution_count": 5,
      "outputs": [
        {
          "output_type": "stream",
          "text": [
            "GPU is avalible.\n",
            "Working on: Tesla T4\n"
          ],
          "name": "stdout"
        }
      ]
    },
    {
      "cell_type": "code",
      "metadata": {
        "id": "wo8Pe9jQAzzt"
      },
      "source": [
        "with open('./processed_data/baseline_crop/test_feature.pkl', 'rb') as f:\r\n",
        "    test_feature = pickle.load(f)"
      ],
      "execution_count": 6,
      "outputs": []
    },
    {
      "cell_type": "markdown",
      "metadata": {
        "id": "JHkOEmobBBs3"
      },
      "source": [
        "## dataset"
      ]
    },
    {
      "cell_type": "code",
      "metadata": {
        "id": "TcVxkHxdA6Ro"
      },
      "source": [
        "class Data(Dataset):\r\n",
        "    def __init__(self, x_list):\r\n",
        "        self.x_list = x_list\r\n",
        "    \r\n",
        "    def __getitem__(self, idx):\r\n",
        "        x = self.x_list[idx][0]\r\n",
        "        return x\r\n",
        "\r\n",
        "    def __len__(self):\r\n",
        "        return len(self.x_list)"
      ],
      "execution_count": 15,
      "outputs": []
    },
    {
      "cell_type": "code",
      "metadata": {
        "id": "1TN9MxC3BIaa"
      },
      "source": [
        "test_set = Data(test_feature)"
      ],
      "execution_count": 21,
      "outputs": []
    },
    {
      "cell_type": "code",
      "metadata": {
        "colab": {
          "base_uri": "https://localhost:8080/"
        },
        "id": "82Xqz5MsBSWt",
        "outputId": "3a3fffd1-29e1-458a-fc50-1edac85075b5"
      },
      "source": [
        "len(test_set)"
      ],
      "execution_count": 22,
      "outputs": [
        {
          "output_type": "execute_result",
          "data": {
            "text/plain": [
              "7363"
            ]
          },
          "metadata": {
            "tags": []
          },
          "execution_count": 22
        }
      ]
    },
    {
      "cell_type": "code",
      "metadata": {
        "id": "1jeMlKz_CCwt"
      },
      "source": [
        "class Net(nn.Module):   \r\n",
        "    # Constructor\r\n",
        "    def __init__(self,neuron=100, p=0.1):\r\n",
        "        super(Net, self).__init__()\r\n",
        "        self.neuron=neuron\r\n",
        "        self.drop=p\r\n",
        "\r\n",
        "        self.step = nn.Sequential(\r\n",
        "            nn.Linear(2000, self.neuron),\r\n",
        "            nn.BatchNorm1d(self.neuron),\r\n",
        "            nn.ReLU(),\r\n",
        "            nn.Dropout(self.drop),\r\n",
        "\r\n",
        "            nn.Linear(self.neuron, self.neuron),\r\n",
        "            nn.BatchNorm1d(self.neuron),\r\n",
        "            nn.ReLU(),\r\n",
        "            nn.Dropout(self.drop),\r\n",
        "\r\n",
        "            nn.Linear(self.neuron, 2),           \r\n",
        "        )\r\n",
        "    def forward(self, x):\r\n",
        "        x = self.step(x)\r\n",
        "        return x"
      ],
      "execution_count": 103,
      "outputs": []
    },
    {
      "cell_type": "code",
      "metadata": {
        "id": "BYgJ_cHCDEVq"
      },
      "source": [
        "model = Net()"
      ],
      "execution_count": 104,
      "outputs": []
    },
    {
      "cell_type": "markdown",
      "metadata": {
        "id": "V0xwtwuDE_Px"
      },
      "source": [
        "## c0 model"
      ]
    },
    {
      "cell_type": "code",
      "metadata": {
        "id": "EQdRSvvrBTHX"
      },
      "source": [
        "test_loader = DataLoader(test_set, batch_size=1)"
      ],
      "execution_count": 107,
      "outputs": []
    },
    {
      "cell_type": "code",
      "metadata": {
        "colab": {
          "base_uri": "https://localhost:8080/"
        },
        "id": "JTZ2M6NdBsQH",
        "outputId": "e37cd59d-2d89-4364-d013-0ec8c104879d"
      },
      "source": [
        "# Model class must be defined somewhere\r\n",
        "model = torch.load('/content/drive/MyDrive/Projects/AI_CUP-Mango/model/nn-crop-imbalance/model_c0.pt')\r\n",
        "model.eval()\r\n",
        "model.to(device)"
      ],
      "execution_count": 108,
      "outputs": [
        {
          "output_type": "execute_result",
          "data": {
            "text/plain": [
              "Net(\n",
              "  (step): Sequential(\n",
              "    (0): Linear(in_features=2000, out_features=100, bias=True)\n",
              "    (1): BatchNorm1d(100, eps=1e-05, momentum=0.1, affine=True, track_running_stats=True)\n",
              "    (2): ReLU()\n",
              "    (3): Dropout(p=0.2, inplace=False)\n",
              "    (4): Linear(in_features=100, out_features=100, bias=True)\n",
              "    (5): BatchNorm1d(100, eps=1e-05, momentum=0.1, affine=True, track_running_stats=True)\n",
              "    (6): ReLU()\n",
              "    (7): Dropout(p=0.2, inplace=False)\n",
              "    (8): Linear(in_features=100, out_features=2, bias=True)\n",
              "  )\n",
              ")"
            ]
          },
          "metadata": {
            "tags": []
          },
          "execution_count": 108
        }
      ]
    },
    {
      "cell_type": "markdown",
      "metadata": {
        "id": "p_khBalPFBAv"
      },
      "source": [
        "### predict"
      ]
    },
    {
      "cell_type": "code",
      "metadata": {
        "id": "7rZmSUfpDQ9c"
      },
      "source": [
        "with torch.no_grad():\r\n",
        "    pred_c0 = []\r\n",
        "    for x in test_loader:\r\n",
        "        x = x.to(device)\r\n",
        "        z = model(x)\r\n",
        "        _, yhat = torch.max(z.data, 1)\r\n",
        "        pred_c0.append(yhat.item())"
      ],
      "execution_count": 109,
      "outputs": []
    },
    {
      "cell_type": "code",
      "metadata": {
        "colab": {
          "base_uri": "https://localhost:8080/"
        },
        "id": "s__xryZlDkeu",
        "outputId": "f2c02f43-13d0-48a4-a92f-6175c010c102"
      },
      "source": [
        "len(pred_c0)"
      ],
      "execution_count": 110,
      "outputs": [
        {
          "output_type": "execute_result",
          "data": {
            "text/plain": [
              "7363"
            ]
          },
          "metadata": {
            "tags": []
          },
          "execution_count": 110
        }
      ]
    },
    {
      "cell_type": "code",
      "metadata": {
        "colab": {
          "base_uri": "https://localhost:8080/"
        },
        "id": "_uf7DK9tEuX_",
        "outputId": "8429634b-62bb-46e5-bc90-9a9171ad9585"
      },
      "source": [
        "pred_c0[:5]"
      ],
      "execution_count": 111,
      "outputs": [
        {
          "output_type": "execute_result",
          "data": {
            "text/plain": [
              "[0, 0, 0, 0, 1]"
            ]
          },
          "metadata": {
            "tags": []
          },
          "execution_count": 111
        }
      ]
    },
    {
      "cell_type": "markdown",
      "metadata": {
        "id": "_0L0oxsnFJnW"
      },
      "source": [
        "## c1 model"
      ]
    },
    {
      "cell_type": "code",
      "metadata": {
        "id": "7PC-LAJvH6c8"
      },
      "source": [
        "test_loader = DataLoader(test_set, batch_size=1)"
      ],
      "execution_count": 112,
      "outputs": []
    },
    {
      "cell_type": "code",
      "metadata": {
        "colab": {
          "base_uri": "https://localhost:8080/"
        },
        "id": "qj-6wJbyFJnb",
        "outputId": "16877716-ccea-4474-c5e0-679cd806ef8d"
      },
      "source": [
        "# Model class must be defined somewhere\r\n",
        "model = torch.load('/content/drive/MyDrive/Projects/AI_CUP-Mango/model/nn-crop-imbalance/model_c1.pt')\r\n",
        "model.eval()\r\n",
        "model.to(device)"
      ],
      "execution_count": 113,
      "outputs": [
        {
          "output_type": "execute_result",
          "data": {
            "text/plain": [
              "Net(\n",
              "  (step): Sequential(\n",
              "    (0): Linear(in_features=2000, out_features=100, bias=True)\n",
              "    (1): BatchNorm1d(100, eps=1e-05, momentum=0.1, affine=True, track_running_stats=True)\n",
              "    (2): ReLU()\n",
              "    (3): Dropout(p=0.2, inplace=False)\n",
              "    (4): Linear(in_features=100, out_features=100, bias=True)\n",
              "    (5): BatchNorm1d(100, eps=1e-05, momentum=0.1, affine=True, track_running_stats=True)\n",
              "    (6): ReLU()\n",
              "    (7): Dropout(p=0.2, inplace=False)\n",
              "    (8): Linear(in_features=100, out_features=2, bias=True)\n",
              "  )\n",
              ")"
            ]
          },
          "metadata": {
            "tags": []
          },
          "execution_count": 113
        }
      ]
    },
    {
      "cell_type": "markdown",
      "metadata": {
        "id": "4Rxh7lwfFJnc"
      },
      "source": [
        "### predict"
      ]
    },
    {
      "cell_type": "code",
      "metadata": {
        "id": "C_xLK57pFJnc"
      },
      "source": [
        "with torch.no_grad():\r\n",
        "    pred_c1 = []\r\n",
        "    for x in test_loader:\r\n",
        "        x = x.to(device)\r\n",
        "        z = model(x)\r\n",
        "        _, yhat = torch.max(z.data, 1)\r\n",
        "        pred_c1.append(yhat.item())"
      ],
      "execution_count": 114,
      "outputs": []
    },
    {
      "cell_type": "code",
      "metadata": {
        "colab": {
          "base_uri": "https://localhost:8080/"
        },
        "id": "369BQK1uFJnc",
        "outputId": "073b1e47-1dec-4892-94e9-9e1dfb010845"
      },
      "source": [
        "len(pred_c1)"
      ],
      "execution_count": 115,
      "outputs": [
        {
          "output_type": "execute_result",
          "data": {
            "text/plain": [
              "7363"
            ]
          },
          "metadata": {
            "tags": []
          },
          "execution_count": 115
        }
      ]
    },
    {
      "cell_type": "code",
      "metadata": {
        "colab": {
          "base_uri": "https://localhost:8080/"
        },
        "id": "Ma3gABwWFJnd",
        "outputId": "43821b22-dc28-4deb-e3c3-b322340a4ce4"
      },
      "source": [
        "pred_c1[:5]"
      ],
      "execution_count": 116,
      "outputs": [
        {
          "output_type": "execute_result",
          "data": {
            "text/plain": [
              "[0, 0, 0, 0, 0]"
            ]
          },
          "metadata": {
            "tags": []
          },
          "execution_count": 116
        }
      ]
    },
    {
      "cell_type": "markdown",
      "metadata": {
        "id": "tMohXYwhFggN"
      },
      "source": [
        "## c2 model"
      ]
    },
    {
      "cell_type": "code",
      "metadata": {
        "id": "t_B5SzTrIONn"
      },
      "source": [
        "test_loader = DataLoader(test_set, batch_size=1)"
      ],
      "execution_count": 117,
      "outputs": []
    },
    {
      "cell_type": "code",
      "metadata": {
        "colab": {
          "base_uri": "https://localhost:8080/"
        },
        "id": "7AK7RXy3FggT",
        "outputId": "f5f2eaad-1870-4972-8833-7fa58a24e1ab"
      },
      "source": [
        "# Model class must be defined somewhere\r\n",
        "model = torch.load('/content/drive/MyDrive/Projects/AI_CUP-Mango/model/nn-crop-imbalance/model_c2.pt')\r\n",
        "model.eval()\r\n",
        "model.to(device)"
      ],
      "execution_count": 118,
      "outputs": [
        {
          "output_type": "execute_result",
          "data": {
            "text/plain": [
              "Net(\n",
              "  (step): Sequential(\n",
              "    (0): Linear(in_features=2000, out_features=100, bias=True)\n",
              "    (1): BatchNorm1d(100, eps=1e-05, momentum=0.1, affine=True, track_running_stats=True)\n",
              "    (2): ReLU()\n",
              "    (3): Dropout(p=0.2, inplace=False)\n",
              "    (4): Linear(in_features=100, out_features=100, bias=True)\n",
              "    (5): BatchNorm1d(100, eps=1e-05, momentum=0.1, affine=True, track_running_stats=True)\n",
              "    (6): ReLU()\n",
              "    (7): Dropout(p=0.2, inplace=False)\n",
              "    (8): Linear(in_features=100, out_features=2, bias=True)\n",
              "  )\n",
              ")"
            ]
          },
          "metadata": {
            "tags": []
          },
          "execution_count": 118
        }
      ]
    },
    {
      "cell_type": "markdown",
      "metadata": {
        "id": "aoO8MDyVFggT"
      },
      "source": [
        "### predict"
      ]
    },
    {
      "cell_type": "code",
      "metadata": {
        "id": "vXgIxwMRFggT"
      },
      "source": [
        "with torch.no_grad():\r\n",
        "    pred_c2 = []\r\n",
        "    for x in test_loader:\r\n",
        "        x = x.to(device)\r\n",
        "        z = model(x)\r\n",
        "        _, yhat = torch.max(z.data, 1)\r\n",
        "        pred_c2.append(yhat.item())"
      ],
      "execution_count": 119,
      "outputs": []
    },
    {
      "cell_type": "code",
      "metadata": {
        "colab": {
          "base_uri": "https://localhost:8080/"
        },
        "id": "KYj7Su4PFggT",
        "outputId": "b29d93bf-cbc7-4b24-d31d-92b590fc3ab0"
      },
      "source": [
        "len(pred_c2)"
      ],
      "execution_count": 120,
      "outputs": [
        {
          "output_type": "execute_result",
          "data": {
            "text/plain": [
              "7363"
            ]
          },
          "metadata": {
            "tags": []
          },
          "execution_count": 120
        }
      ]
    },
    {
      "cell_type": "code",
      "metadata": {
        "colab": {
          "base_uri": "https://localhost:8080/"
        },
        "id": "NWoxI8OSFggU",
        "outputId": "7a1957d2-6f34-4f18-ccc9-78a835877c88"
      },
      "source": [
        "pred_c2[:5]"
      ],
      "execution_count": 121,
      "outputs": [
        {
          "output_type": "execute_result",
          "data": {
            "text/plain": [
              "[0, 0, 0, 0, 0]"
            ]
          },
          "metadata": {
            "tags": []
          },
          "execution_count": 121
        }
      ]
    },
    {
      "cell_type": "markdown",
      "metadata": {
        "id": "w4N82AgpFpHt"
      },
      "source": [
        "## c3 model"
      ]
    },
    {
      "cell_type": "code",
      "metadata": {
        "id": "HbjumpfUISvc"
      },
      "source": [
        "test_loader = DataLoader(test_set, batch_size=1)"
      ],
      "execution_count": 122,
      "outputs": []
    },
    {
      "cell_type": "code",
      "metadata": {
        "colab": {
          "base_uri": "https://localhost:8080/"
        },
        "id": "NZjplNFgFpHt",
        "outputId": "8d74ea16-f354-4fa6-ce10-cb38b1bcbfce"
      },
      "source": [
        "# Model class must be defined somewhere\r\n",
        "model = torch.load('/content/drive/MyDrive/Projects/AI_CUP-Mango/model/nn-crop-imbalance/model_c3.pt')\r\n",
        "model.eval()\r\n",
        "model.to(device)"
      ],
      "execution_count": 123,
      "outputs": [
        {
          "output_type": "execute_result",
          "data": {
            "text/plain": [
              "Net(\n",
              "  (step): Sequential(\n",
              "    (0): Linear(in_features=2000, out_features=100, bias=True)\n",
              "    (1): BatchNorm1d(100, eps=1e-05, momentum=0.1, affine=True, track_running_stats=True)\n",
              "    (2): ReLU()\n",
              "    (3): Dropout(p=0.2, inplace=False)\n",
              "    (4): Linear(in_features=100, out_features=100, bias=True)\n",
              "    (5): BatchNorm1d(100, eps=1e-05, momentum=0.1, affine=True, track_running_stats=True)\n",
              "    (6): ReLU()\n",
              "    (7): Dropout(p=0.2, inplace=False)\n",
              "    (8): Linear(in_features=100, out_features=2, bias=True)\n",
              "  )\n",
              ")"
            ]
          },
          "metadata": {
            "tags": []
          },
          "execution_count": 123
        }
      ]
    },
    {
      "cell_type": "markdown",
      "metadata": {
        "id": "7znAzN2wFpHu"
      },
      "source": [
        "### predict"
      ]
    },
    {
      "cell_type": "code",
      "metadata": {
        "id": "vV6fsenCFpHu"
      },
      "source": [
        "with torch.no_grad():\r\n",
        "    pred_c3 = []\r\n",
        "    for x in test_loader:\r\n",
        "        x = x.to(device)\r\n",
        "        z = model(x)\r\n",
        "        _, yhat = torch.max(z.data, 1)\r\n",
        "        pred_c3.append(yhat.item())"
      ],
      "execution_count": 124,
      "outputs": []
    },
    {
      "cell_type": "code",
      "metadata": {
        "colab": {
          "base_uri": "https://localhost:8080/"
        },
        "id": "ROtp47N2FpHu",
        "outputId": "384e8338-dfb4-42c8-c8be-fbce8078f998"
      },
      "source": [
        "len(pred_c3)"
      ],
      "execution_count": 125,
      "outputs": [
        {
          "output_type": "execute_result",
          "data": {
            "text/plain": [
              "7363"
            ]
          },
          "metadata": {
            "tags": []
          },
          "execution_count": 125
        }
      ]
    },
    {
      "cell_type": "code",
      "metadata": {
        "colab": {
          "base_uri": "https://localhost:8080/"
        },
        "id": "YKdIC7vjFpHu",
        "outputId": "4b493551-6b64-4565-ce1d-7a3cf1509ed9"
      },
      "source": [
        "pred_c3[:5]"
      ],
      "execution_count": 126,
      "outputs": [
        {
          "output_type": "execute_result",
          "data": {
            "text/plain": [
              "[1, 1, 1, 1, 1]"
            ]
          },
          "metadata": {
            "tags": []
          },
          "execution_count": 126
        }
      ]
    },
    {
      "cell_type": "markdown",
      "metadata": {
        "id": "hvVjpbYPF6C1"
      },
      "source": [
        "## c4 model"
      ]
    },
    {
      "cell_type": "code",
      "metadata": {
        "id": "ky6w2fZnIXRJ"
      },
      "source": [
        "test_loader = DataLoader(test_set, batch_size=1)"
      ],
      "execution_count": 127,
      "outputs": []
    },
    {
      "cell_type": "code",
      "metadata": {
        "colab": {
          "base_uri": "https://localhost:8080/"
        },
        "id": "juFBgiV6F6C2",
        "outputId": "331cbc6a-6b93-4fe6-fa9b-56de7429e1c0"
      },
      "source": [
        "# Model class must be defined somewhere\r\n",
        "model = torch.load('/content/drive/MyDrive/Projects/AI_CUP-Mango/model/nn-crop-imbalance/model_c4.pt')\r\n",
        "model.eval()\r\n",
        "model.to(device)"
      ],
      "execution_count": 128,
      "outputs": [
        {
          "output_type": "execute_result",
          "data": {
            "text/plain": [
              "Net(\n",
              "  (step): Sequential(\n",
              "    (0): Linear(in_features=2000, out_features=100, bias=True)\n",
              "    (1): BatchNorm1d(100, eps=1e-05, momentum=0.1, affine=True, track_running_stats=True)\n",
              "    (2): ReLU()\n",
              "    (3): Dropout(p=0.2, inplace=False)\n",
              "    (4): Linear(in_features=100, out_features=100, bias=True)\n",
              "    (5): BatchNorm1d(100, eps=1e-05, momentum=0.1, affine=True, track_running_stats=True)\n",
              "    (6): ReLU()\n",
              "    (7): Dropout(p=0.2, inplace=False)\n",
              "    (8): Linear(in_features=100, out_features=2, bias=True)\n",
              "  )\n",
              ")"
            ]
          },
          "metadata": {
            "tags": []
          },
          "execution_count": 128
        }
      ]
    },
    {
      "cell_type": "markdown",
      "metadata": {
        "id": "UUY4hPkRF6C2"
      },
      "source": [
        "### predict"
      ]
    },
    {
      "cell_type": "code",
      "metadata": {
        "id": "VXXwhGkjF6C2"
      },
      "source": [
        "with torch.no_grad():\r\n",
        "    pred_c4 = []\r\n",
        "    for x in test_loader:\r\n",
        "        x = x.to(device)\r\n",
        "        z = model(x)\r\n",
        "        _, yhat = torch.max(z.data, 1)\r\n",
        "        pred_c4.append(yhat.item())"
      ],
      "execution_count": 129,
      "outputs": []
    },
    {
      "cell_type": "code",
      "metadata": {
        "colab": {
          "base_uri": "https://localhost:8080/"
        },
        "id": "s9eFJIJxF6C2",
        "outputId": "efc16e2d-f378-4bca-fab8-79f727026a2a"
      },
      "source": [
        "len(pred_c4)"
      ],
      "execution_count": 130,
      "outputs": [
        {
          "output_type": "execute_result",
          "data": {
            "text/plain": [
              "7363"
            ]
          },
          "metadata": {
            "tags": []
          },
          "execution_count": 130
        }
      ]
    },
    {
      "cell_type": "code",
      "metadata": {
        "colab": {
          "base_uri": "https://localhost:8080/"
        },
        "id": "Psh7EaNVF6C2",
        "outputId": "ecff1f14-3605-482b-b5cb-3969adee5532"
      },
      "source": [
        "pred_c4[:5]"
      ],
      "execution_count": 131,
      "outputs": [
        {
          "output_type": "execute_result",
          "data": {
            "text/plain": [
              "[0, 0, 0, 0, 0]"
            ]
          },
          "metadata": {
            "tags": []
          },
          "execution_count": 131
        }
      ]
    },
    {
      "cell_type": "markdown",
      "metadata": {
        "id": "y7tDAn9vGH5D"
      },
      "source": [
        "# output"
      ]
    },
    {
      "cell_type": "code",
      "metadata": {
        "colab": {
          "base_uri": "https://localhost:8080/",
          "height": 195
        },
        "id": "tiN9d5GIGBjV",
        "outputId": "e73cdc11-64a0-453a-ea91-2dc4b1890e8a"
      },
      "source": [
        "df = pd.read_csv('./C2_TrainDev/Test_mangoXYWH.csv')\r\n",
        "df.head()"
      ],
      "execution_count": 132,
      "outputs": [
        {
          "output_type": "execute_result",
          "data": {
            "text/html": [
              "<div>\n",
              "<style scoped>\n",
              "    .dataframe tbody tr th:only-of-type {\n",
              "        vertical-align: middle;\n",
              "    }\n",
              "\n",
              "    .dataframe tbody tr th {\n",
              "        vertical-align: top;\n",
              "    }\n",
              "\n",
              "    .dataframe thead th {\n",
              "        text-align: right;\n",
              "    }\n",
              "</style>\n",
              "<table border=\"1\" class=\"dataframe\">\n",
              "  <thead>\n",
              "    <tr style=\"text-align: right;\">\n",
              "      <th></th>\n",
              "      <th>image_id</th>\n",
              "      <th>x</th>\n",
              "      <th>y</th>\n",
              "      <th>w</th>\n",
              "      <th>h</th>\n",
              "    </tr>\n",
              "  </thead>\n",
              "  <tbody>\n",
              "    <tr>\n",
              "      <th>0</th>\n",
              "      <td>39983.jpg</td>\n",
              "      <td>189</td>\n",
              "      <td>64</td>\n",
              "      <td>1078</td>\n",
              "      <td>793</td>\n",
              "    </tr>\n",
              "    <tr>\n",
              "      <th>1</th>\n",
              "      <td>12525.jpg</td>\n",
              "      <td>176</td>\n",
              "      <td>110</td>\n",
              "      <td>1067</td>\n",
              "      <td>818</td>\n",
              "    </tr>\n",
              "    <tr>\n",
              "      <th>2</th>\n",
              "      <td>22134.jpg</td>\n",
              "      <td>301</td>\n",
              "      <td>140</td>\n",
              "      <td>949</td>\n",
              "      <td>681</td>\n",
              "    </tr>\n",
              "    <tr>\n",
              "      <th>3</th>\n",
              "      <td>07679.jpg</td>\n",
              "      <td>300</td>\n",
              "      <td>45</td>\n",
              "      <td>868</td>\n",
              "      <td>652</td>\n",
              "    </tr>\n",
              "    <tr>\n",
              "      <th>4</th>\n",
              "      <td>25561.jpg</td>\n",
              "      <td>289</td>\n",
              "      <td>77</td>\n",
              "      <td>851</td>\n",
              "      <td>610</td>\n",
              "    </tr>\n",
              "  </tbody>\n",
              "</table>\n",
              "</div>"
            ],
            "text/plain": [
              "    image_id    x    y     w    h\n",
              "0  39983.jpg  189   64  1078  793\n",
              "1  12525.jpg  176  110  1067  818\n",
              "2  22134.jpg  301  140   949  681\n",
              "3  07679.jpg  300   45   868  652\n",
              "4  25561.jpg  289   77   851  610"
            ]
          },
          "metadata": {
            "tags": []
          },
          "execution_count": 132
        }
      ]
    },
    {
      "cell_type": "code",
      "metadata": {
        "colab": {
          "base_uri": "https://localhost:8080/"
        },
        "id": "Ib8tsboDG08E",
        "outputId": "233d0c7d-b57a-4134-9ec7-8ab455e90092"
      },
      "source": [
        "image_id = df['image_id']\r\n",
        "image_id"
      ],
      "execution_count": 133,
      "outputs": [
        {
          "output_type": "execute_result",
          "data": {
            "text/plain": [
              "0       39983.jpg\n",
              "1       12525.jpg\n",
              "2       22134.jpg\n",
              "3       07679.jpg\n",
              "4       25561.jpg\n",
              "          ...    \n",
              "7358    33011.jpg\n",
              "7359    36756.jpg\n",
              "7360    48839.jpg\n",
              "7361    47534.jpg\n",
              "7362    38243.jpg\n",
              "Name: image_id, Length: 7363, dtype: object"
            ]
          },
          "metadata": {
            "tags": []
          },
          "execution_count": 133
        }
      ]
    },
    {
      "cell_type": "code",
      "metadata": {
        "id": "PW8MYvXoG4vt"
      },
      "source": [
        "image_id_list = image_id.to_list()"
      ],
      "execution_count": 134,
      "outputs": []
    },
    {
      "cell_type": "code",
      "metadata": {
        "colab": {
          "base_uri": "https://localhost:8080/",
          "height": 402
        },
        "id": "O97rHmCJHIzW",
        "outputId": "912337ba-072b-4c2d-f307-802b9bd17208"
      },
      "source": [
        "out_df = pd.DataFrame({'image_id':image_id_list, 'D1':pred_c0, 'D2':pred_c1, 'D3':pred_c2, 'D4':pred_c3, 'D5':pred_c4})\r\n",
        "out_df"
      ],
      "execution_count": 136,
      "outputs": [
        {
          "output_type": "execute_result",
          "data": {
            "text/html": [
              "<div>\n",
              "<style scoped>\n",
              "    .dataframe tbody tr th:only-of-type {\n",
              "        vertical-align: middle;\n",
              "    }\n",
              "\n",
              "    .dataframe tbody tr th {\n",
              "        vertical-align: top;\n",
              "    }\n",
              "\n",
              "    .dataframe thead th {\n",
              "        text-align: right;\n",
              "    }\n",
              "</style>\n",
              "<table border=\"1\" class=\"dataframe\">\n",
              "  <thead>\n",
              "    <tr style=\"text-align: right;\">\n",
              "      <th></th>\n",
              "      <th>image_id</th>\n",
              "      <th>D1</th>\n",
              "      <th>D2</th>\n",
              "      <th>D3</th>\n",
              "      <th>D4</th>\n",
              "      <th>D5</th>\n",
              "    </tr>\n",
              "  </thead>\n",
              "  <tbody>\n",
              "    <tr>\n",
              "      <th>0</th>\n",
              "      <td>39983.jpg</td>\n",
              "      <td>0</td>\n",
              "      <td>0</td>\n",
              "      <td>0</td>\n",
              "      <td>1</td>\n",
              "      <td>0</td>\n",
              "    </tr>\n",
              "    <tr>\n",
              "      <th>1</th>\n",
              "      <td>12525.jpg</td>\n",
              "      <td>0</td>\n",
              "      <td>0</td>\n",
              "      <td>0</td>\n",
              "      <td>1</td>\n",
              "      <td>0</td>\n",
              "    </tr>\n",
              "    <tr>\n",
              "      <th>2</th>\n",
              "      <td>22134.jpg</td>\n",
              "      <td>0</td>\n",
              "      <td>0</td>\n",
              "      <td>0</td>\n",
              "      <td>1</td>\n",
              "      <td>0</td>\n",
              "    </tr>\n",
              "    <tr>\n",
              "      <th>3</th>\n",
              "      <td>07679.jpg</td>\n",
              "      <td>0</td>\n",
              "      <td>0</td>\n",
              "      <td>0</td>\n",
              "      <td>1</td>\n",
              "      <td>0</td>\n",
              "    </tr>\n",
              "    <tr>\n",
              "      <th>4</th>\n",
              "      <td>25561.jpg</td>\n",
              "      <td>1</td>\n",
              "      <td>0</td>\n",
              "      <td>0</td>\n",
              "      <td>1</td>\n",
              "      <td>0</td>\n",
              "    </tr>\n",
              "    <tr>\n",
              "      <th>...</th>\n",
              "      <td>...</td>\n",
              "      <td>...</td>\n",
              "      <td>...</td>\n",
              "      <td>...</td>\n",
              "      <td>...</td>\n",
              "      <td>...</td>\n",
              "    </tr>\n",
              "    <tr>\n",
              "      <th>7358</th>\n",
              "      <td>33011.jpg</td>\n",
              "      <td>0</td>\n",
              "      <td>0</td>\n",
              "      <td>0</td>\n",
              "      <td>1</td>\n",
              "      <td>0</td>\n",
              "    </tr>\n",
              "    <tr>\n",
              "      <th>7359</th>\n",
              "      <td>36756.jpg</td>\n",
              "      <td>0</td>\n",
              "      <td>0</td>\n",
              "      <td>0</td>\n",
              "      <td>1</td>\n",
              "      <td>0</td>\n",
              "    </tr>\n",
              "    <tr>\n",
              "      <th>7360</th>\n",
              "      <td>48839.jpg</td>\n",
              "      <td>0</td>\n",
              "      <td>1</td>\n",
              "      <td>0</td>\n",
              "      <td>1</td>\n",
              "      <td>0</td>\n",
              "    </tr>\n",
              "    <tr>\n",
              "      <th>7361</th>\n",
              "      <td>47534.jpg</td>\n",
              "      <td>0</td>\n",
              "      <td>1</td>\n",
              "      <td>0</td>\n",
              "      <td>0</td>\n",
              "      <td>0</td>\n",
              "    </tr>\n",
              "    <tr>\n",
              "      <th>7362</th>\n",
              "      <td>38243.jpg</td>\n",
              "      <td>0</td>\n",
              "      <td>0</td>\n",
              "      <td>0</td>\n",
              "      <td>1</td>\n",
              "      <td>0</td>\n",
              "    </tr>\n",
              "  </tbody>\n",
              "</table>\n",
              "<p>7363 rows × 6 columns</p>\n",
              "</div>"
            ],
            "text/plain": [
              "       image_id  D1  D2  D3  D4  D5\n",
              "0     39983.jpg   0   0   0   1   0\n",
              "1     12525.jpg   0   0   0   1   0\n",
              "2     22134.jpg   0   0   0   1   0\n",
              "3     07679.jpg   0   0   0   1   0\n",
              "4     25561.jpg   1   0   0   1   0\n",
              "...         ...  ..  ..  ..  ..  ..\n",
              "7358  33011.jpg   0   0   0   1   0\n",
              "7359  36756.jpg   0   0   0   1   0\n",
              "7360  48839.jpg   0   1   0   1   0\n",
              "7361  47534.jpg   0   1   0   0   0\n",
              "7362  38243.jpg   0   0   0   1   0\n",
              "\n",
              "[7363 rows x 6 columns]"
            ]
          },
          "metadata": {
            "tags": []
          },
          "execution_count": 136
        }
      ]
    },
    {
      "cell_type": "code",
      "metadata": {
        "id": "ylZEMB1kI3ZG"
      },
      "source": [
        "out_df.to_csv('output.csv',index=False)"
      ],
      "execution_count": 140,
      "outputs": []
    },
    {
      "cell_type": "code",
      "metadata": {
        "colab": {
          "base_uri": "https://localhost:8080/",
          "height": 35
        },
        "id": "l2EeERYfJNCR",
        "outputId": "4a99bab3-ba44-44b2-84c4-92eef7a050bc"
      },
      "source": [
        "pwd"
      ],
      "execution_count": 139,
      "outputs": [
        {
          "output_type": "execute_result",
          "data": {
            "application/vnd.google.colaboratory.intrinsic+json": {
              "type": "string"
            },
            "text/plain": [
              "'/content/drive/MyDrive/Projects/AI_CUP-Mango'"
            ]
          },
          "metadata": {
            "tags": []
          },
          "execution_count": 139
        }
      ]
    },
    {
      "cell_type": "code",
      "metadata": {
        "id": "zbYnJWG_JNaU"
      },
      "source": [
        ""
      ],
      "execution_count": null,
      "outputs": []
    }
  ]
}